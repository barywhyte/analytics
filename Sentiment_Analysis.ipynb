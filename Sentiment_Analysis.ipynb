{
  "nbformat": 4,
  "nbformat_minor": 0,
  "metadata": {
    "colab": {
      "name": "Sentiment Analysis",
      "version": "0.3.2",
      "provenance": [],
      "include_colab_link": true
    },
    "kernelspec": {
      "name": "python3",
      "display_name": "Python 3"
    }
  },
  "cells": [
    {
      "cell_type": "markdown",
      "metadata": {
        "id": "view-in-github",
        "colab_type": "text"
      },
      "source": [
        "<a href=\"https://colab.research.google.com/github/barywhyte/analytics/blob/master/Sentiment_Analysis.ipynb\" target=\"_parent\"><img src=\"https://colab.research.google.com/assets/colab-badge.svg\" alt=\"Open In Colab\"/></a>"
      ]
    },
    {
      "metadata": {
        "id": "0wauKEon9AYA",
        "colab_type": "code",
        "colab": {}
      },
      "cell_type": "code",
      "source": [
        "import pandas as pd\n",
        "import matplotlib.pyplot as plt\n",
        "import pickle\n",
        "import os\n",
        "import json\n",
        "from collections import Counter"
      ],
      "execution_count": 0,
      "outputs": []
    },
    {
      "metadata": {
        "id": "gZ4OaSUO9coQ",
        "colab_type": "code",
        "colab": {}
      },
      "cell_type": "code",
      "source": [
        "if not os.path.exists('secret_twitter_credentials.pk1'):\n",
        "    Twitter={}\n",
        "    Twitter['Consumer Key'] = 'xZVjdUsRKxXSrMf84aUmi2Z8r'\n",
        "    Twitter['Consumer Secret'] = '3eAePURpb6BGOCzgBgMDvTcfgHaRTGIVDKPfJtqW1wAXQ9bu4p'\n",
        "    Twitter['Access Token'] = '170752375-Ivr4rxs0bVFQY4PXPyKVTHtgVyWxydvZrCFVvuFI'\n",
        "    Twitter['Access Token Secret'] = 'Iw5qHRxGxDY7qtDT47aXgc6O0Ufo2UCddlLDkK5FOGoEz'\n",
        "    with open('secret_twitter_credentials_again.pk1', 'wb') as f:\n",
        "        pickle.dump(Twitter, f)\n",
        "else:\n",
        "    Twitter=pickle.load(open('secret_twitter_credentials.pk1', 'rb'))"
      ],
      "execution_count": 0,
      "outputs": []
    },
    {
      "metadata": {
        "id": "uBCpQpws9gwk",
        "colab_type": "code",
        "colab": {
          "base_uri": "https://localhost:8080/",
          "height": 34
        },
        "outputId": "cee21a8c-37c5-4eff-80d6-0cd8562a3b90"
      },
      "cell_type": "code",
      "source": [
        "#Install twitter package to interface with twitter API. Already installed\n",
        "pip install twitter"
      ],
      "execution_count": 13,
      "outputs": [
        {
          "output_type": "stream",
          "text": [
            "Requirement already satisfied: twitter in /usr/local/lib/python3.6/dist-packages (1.18.0)\n"
          ],
          "name": "stdout"
        }
      ]
    },
    {
      "metadata": {
        "id": "mbz9tE109mIx",
        "colab_type": "code",
        "colab": {
          "base_uri": "https://localhost:8080/",
          "height": 34
        },
        "outputId": "67d5158f-a3c2-4be5-e521-58924a953932"
      },
      "cell_type": "code",
      "source": [
        "import twitter\n",
        "\n",
        "authentication = twitter.oauth.OAuth(Twitter['Access Token'],\n",
        "                           Twitter['Access Token Secret'],\n",
        "                           Twitter['Consumer Key'],\n",
        "                           Twitter['Consumer Secret']\n",
        "                          )\n",
        "my_twitter_api = twitter.Twitter(auth=authentication)\n",
        "print(my_twitter_api)\n",
        "\n",
        "#Nothing to see here except that twitter_api is now a defined variable"
      ],
      "execution_count": 14,
      "outputs": [
        {
          "output_type": "stream",
          "text": [
            "<twitter.api.Twitter object at 0x7fa33f11d240>\n"
          ],
          "name": "stdout"
        }
      ]
    },
    {
      "metadata": {
        "id": "cPfVAAGd9sBQ",
        "colab_type": "code",
        "colab": {}
      },
      "cell_type": "code",
      "source": [
        "#WOEID Lookup makes it really easy to find Yahoo! WOEIDs for any location on Earth.\n",
        "#http://woeid.rosselliot.co.nz\n",
        "\n",
        "NIGERIA_WOE_ID = 23424908"
      ],
      "execution_count": 0,
      "outputs": []
    },
    {
      "metadata": {
        "id": "C8Bjcz639vhS",
        "colab_type": "code",
        "colab": {
          "base_uri": "https://localhost:8080/",
          "height": 4318
        },
        "outputId": "198d7af8-b6a8-4075-eeac-29588946e396"
      },
      "cell_type": "code",
      "source": [
        "nigeria_trends = my_twitter_api.trends.place(_id=NIGERIA_WOE_ID)\n",
        "nigeria_trends"
      ],
      "execution_count": 16,
      "outputs": [
        {
          "output_type": "execute_result",
          "data": {
            "text/plain": [
              "[{'as_of': '2019-04-08T08:03:38Z',\n",
              "  'created_at': '2019-04-08T07:57:28Z',\n",
              "  'locations': [{'name': 'Nigeria', 'woeid': 23424908}],\n",
              "  'trends': [{'name': '#MondayMotivation',\n",
              "    'promoted_content': None,\n",
              "    'query': '%23MondayMotivation',\n",
              "    'tweet_volume': 42841,\n",
              "    'url': 'http://twitter.com/search?q=%23MondayMotivation'},\n",
              "   {'name': '#mondaythoughts',\n",
              "    'promoted_content': None,\n",
              "    'query': '%23mondaythoughts',\n",
              "    'tweet_volume': None,\n",
              "    'url': 'http://twitter.com/search?q=%23mondaythoughts'},\n",
              "   {'name': '#MondayMorning',\n",
              "    'promoted_content': None,\n",
              "    'query': '%23MondayMorning',\n",
              "    'tweet_volume': None,\n",
              "    'url': 'http://twitter.com/search?q=%23MondayMorning'},\n",
              "   {'name': '#WrestleMania',\n",
              "    'promoted_content': None,\n",
              "    'query': '%23WrestleMania',\n",
              "    'tweet_volume': 1168286,\n",
              "    'url': 'http://twitter.com/search?q=%23WrestleMania'},\n",
              "   {'name': '#MaxBreakfast',\n",
              "    'promoted_content': None,\n",
              "    'query': '%23MaxBreakfast',\n",
              "    'tweet_volume': None,\n",
              "    'url': 'http://twitter.com/search?q=%23MaxBreakfast'},\n",
              "   {'name': 'Jamaican',\n",
              "    'promoted_content': None,\n",
              "    'query': 'Jamaican',\n",
              "    'tweet_volume': 11165,\n",
              "    'url': 'http://twitter.com/search?q=Jamaican'},\n",
              "   {'name': 'Ronda',\n",
              "    'promoted_content': None,\n",
              "    'query': 'Ronda',\n",
              "    'tweet_volume': 38707,\n",
              "    'url': 'http://twitter.com/search?q=Ronda'},\n",
              "   {'name': 'Kofi Kingston',\n",
              "    'promoted_content': None,\n",
              "    'query': '%22Kofi+Kingston%22',\n",
              "    'tweet_volume': 45997,\n",
              "    'url': 'http://twitter.com/search?q=%22Kofi+Kingston%22'},\n",
              "   {'name': 'Zamfara',\n",
              "    'promoted_content': None,\n",
              "    'query': 'Zamfara',\n",
              "    'tweet_volume': 69766,\n",
              "    'url': 'http://twitter.com/search?q=Zamfara'},\n",
              "   {'name': 'Everton',\n",
              "    'promoted_content': None,\n",
              "    'query': 'Everton',\n",
              "    'tweet_volume': 106040,\n",
              "    'url': 'http://twitter.com/search?q=Everton'},\n",
              "   {'name': 'Buhari',\n",
              "    'promoted_content': None,\n",
              "    'query': 'Buhari',\n",
              "    'tweet_volume': 44988,\n",
              "    'url': 'http://twitter.com/search?q=Buhari'},\n",
              "   {'name': 'Rwanda',\n",
              "    'promoted_content': None,\n",
              "    'query': 'Rwanda',\n",
              "    'tweet_volume': 92114,\n",
              "    'url': 'http://twitter.com/search?q=Rwanda'},\n",
              "   {'name': 'Arsenal',\n",
              "    'promoted_content': None,\n",
              "    'query': 'Arsenal',\n",
              "    'tweet_volume': 176012,\n",
              "    'url': 'http://twitter.com/search?q=Arsenal'},\n",
              "   {'name': 'Elneny',\n",
              "    'promoted_content': None,\n",
              "    'query': 'Elneny',\n",
              "    'tweet_volume': 15262,\n",
              "    'url': 'http://twitter.com/search?q=Elneny'},\n",
              "   {'name': 'Emery',\n",
              "    'promoted_content': None,\n",
              "    'query': 'Emery',\n",
              "    'tweet_volume': 15144,\n",
              "    'url': 'http://twitter.com/search?q=Emery'},\n",
              "   {'name': 'Seth Rollins',\n",
              "    'promoted_content': None,\n",
              "    'query': '%22Seth+Rollins%22',\n",
              "    'tweet_volume': 21354,\n",
              "    'url': 'http://twitter.com/search?q=%22Seth+Rollins%22'},\n",
              "   {'name': 'Yari',\n",
              "    'promoted_content': None,\n",
              "    'query': 'Yari',\n",
              "    'tweet_volume': 15290,\n",
              "    'url': 'http://twitter.com/search?q=Yari'},\n",
              "   {'name': 'Watford',\n",
              "    'promoted_content': None,\n",
              "    'query': 'Watford',\n",
              "    'tweet_volume': 58645,\n",
              "    'url': 'http://twitter.com/search?q=Watford'},\n",
              "   {'name': 'Kadaria',\n",
              "    'promoted_content': None,\n",
              "    'query': 'Kadaria',\n",
              "    'tweet_volume': None,\n",
              "    'url': 'http://twitter.com/search?q=Kadaria'},\n",
              "   {'name': 'Ozil',\n",
              "    'promoted_content': None,\n",
              "    'query': 'Ozil',\n",
              "    'tweet_volume': 15388,\n",
              "    'url': 'http://twitter.com/search?q=Ozil'},\n",
              "   {'name': 'Qatar',\n",
              "    'promoted_content': None,\n",
              "    'query': 'Qatar',\n",
              "    'tweet_volume': 26682,\n",
              "    'url': 'http://twitter.com/search?q=Qatar'},\n",
              "   {'name': 'jordan',\n",
              "    'promoted_content': None,\n",
              "    'query': 'jordan',\n",
              "    'tweet_volume': 112709,\n",
              "    'url': 'http://twitter.com/search?q=jordan'},\n",
              "   {'name': 'kodak',\n",
              "    'promoted_content': None,\n",
              "    'query': 'kodak',\n",
              "    'tweet_volume': 277579,\n",
              "    'url': 'http://twitter.com/search?q=kodak'},\n",
              "   {'name': 'oblak',\n",
              "    'promoted_content': None,\n",
              "    'query': 'oblak',\n",
              "    'tweet_volume': None,\n",
              "    'url': 'http://twitter.com/search?q=oblak'},\n",
              "   {'name': 'Guendouzi',\n",
              "    'promoted_content': None,\n",
              "    'query': 'Guendouzi',\n",
              "    'tweet_volume': None,\n",
              "    'url': 'http://twitter.com/search?q=Guendouzi'},\n",
              "   {'name': 'Jackie Chan',\n",
              "    'promoted_content': None,\n",
              "    'query': '%22Jackie+Chan%22',\n",
              "    'tweet_volume': 59176,\n",
              "    'url': 'http://twitter.com/search?q=%22Jackie+Chan%22'},\n",
              "   {'name': 'suarez',\n",
              "    'promoted_content': None,\n",
              "    'query': 'suarez',\n",
              "    'tweet_volume': 50399,\n",
              "    'url': 'http://twitter.com/search?q=suarez'},\n",
              "   {'name': 'Iwobi',\n",
              "    'promoted_content': None,\n",
              "    'query': 'Iwobi',\n",
              "    'tweet_volume': None,\n",
              "    'url': 'http://twitter.com/search?q=Iwobi'},\n",
              "   {'name': 'Mr President',\n",
              "    'promoted_content': None,\n",
              "    'query': '%22Mr+President%22',\n",
              "    'tweet_volume': 24997,\n",
              "    'url': 'http://twitter.com/search?q=%22Mr+President%22'},\n",
              "   {'name': 'Sokratis',\n",
              "    'promoted_content': None,\n",
              "    'query': 'Sokratis',\n",
              "    'tweet_volume': None,\n",
              "    'url': 'http://twitter.com/search?q=Sokratis'},\n",
              "   {'name': 'Leno',\n",
              "    'promoted_content': None,\n",
              "    'query': 'Leno',\n",
              "    'tweet_volume': None,\n",
              "    'url': 'http://twitter.com/search?q=Leno'},\n",
              "   {'name': 'Sai Baba',\n",
              "    'promoted_content': None,\n",
              "    'query': '%22Sai+Baba%22',\n",
              "    'tweet_volume': None,\n",
              "    'url': 'http://twitter.com/search?q=%22Sai+Baba%22'},\n",
              "   {'name': 'Unai',\n",
              "    'promoted_content': None,\n",
              "    'query': 'Unai',\n",
              "    'tweet_volume': 11349,\n",
              "    'url': 'http://twitter.com/search?q=Unai'},\n",
              "   {'name': 'Ramsey',\n",
              "    'promoted_content': None,\n",
              "    'query': 'Ramsey',\n",
              "    'tweet_volume': 15851,\n",
              "    'url': 'http://twitter.com/search?q=Ramsey'},\n",
              "   {'name': 'Xhaka',\n",
              "    'promoted_content': None,\n",
              "    'query': 'Xhaka',\n",
              "    'tweet_volume': None,\n",
              "    'url': 'http://twitter.com/search?q=Xhaka'},\n",
              "   {'name': '#JumiaEasterSale',\n",
              "    'promoted_content': None,\n",
              "    'query': '%23JumiaEasterSale',\n",
              "    'tweet_volume': None,\n",
              "    'url': 'http://twitter.com/search?q=%23JumiaEasterSale'},\n",
              "   {'name': '#AIM2019',\n",
              "    'promoted_content': None,\n",
              "    'query': '%23AIM2019',\n",
              "    'tweet_volume': None,\n",
              "    'url': 'http://twitter.com/search?q=%23AIM2019'},\n",
              "   {'name': '#EVEARS',\n",
              "    'promoted_content': None,\n",
              "    'query': '%23EVEARS',\n",
              "    'tweet_volume': 44480,\n",
              "    'url': 'http://twitter.com/search?q=%23EVEARS'},\n",
              "   {'name': '#WorldHealthDay',\n",
              "    'promoted_content': None,\n",
              "    'query': '%23WorldHealthDay',\n",
              "    'tweet_volume': 121896,\n",
              "    'url': 'http://twitter.com/search?q=%23WorldHealthDay'},\n",
              "   {'name': '#SundayService',\n",
              "    'promoted_content': None,\n",
              "    'query': '%23SundayService',\n",
              "    'tweet_volume': None,\n",
              "    'url': 'http://twitter.com/search?q=%23SundayService'},\n",
              "   {'name': '#WATWOL',\n",
              "    'promoted_content': None,\n",
              "    'query': '%23WATWOL',\n",
              "    'tweet_volume': 19775,\n",
              "    'url': 'http://twitter.com/search?q=%23WATWOL'},\n",
              "   {'name': '#FACup',\n",
              "    'promoted_content': None,\n",
              "    'query': '%23FACup',\n",
              "    'tweet_volume': 25289,\n",
              "    'url': 'http://twitter.com/search?q=%23FACup'},\n",
              "   {'name': '#HealthForAll',\n",
              "    'promoted_content': None,\n",
              "    'query': '%23HealthForAll',\n",
              "    'tweet_volume': 32945,\n",
              "    'url': 'http://twitter.com/search?q=%23HealthForAll'},\n",
              "   {'name': '#Kwibuka25',\n",
              "    'promoted_content': None,\n",
              "    'query': '%23Kwibuka25',\n",
              "    'tweet_volume': 46852,\n",
              "    'url': 'http://twitter.com/search?q=%23Kwibuka25'},\n",
              "   {'name': '#4thRepublic',\n",
              "    'promoted_content': None,\n",
              "    'query': '%234thRepublic',\n",
              "    'tweet_volume': None,\n",
              "    'url': 'http://twitter.com/search?q=%234thRepublic'},\n",
              "   {'name': '#healthisstress',\n",
              "    'promoted_content': None,\n",
              "    'query': '%23healthisstress',\n",
              "    'tweet_volume': None,\n",
              "    'url': 'http://twitter.com/search?q=%23healthisstress'},\n",
              "   {'name': '#chinesebystarprince',\n",
              "    'promoted_content': None,\n",
              "    'query': '%23chinesebystarprince',\n",
              "    'tweet_volume': None,\n",
              "    'url': 'http://twitter.com/search?q=%23chinesebystarprince'},\n",
              "   {'name': '#GTBankFoodDrink',\n",
              "    'promoted_content': None,\n",
              "    'query': '%23GTBankFoodDrink',\n",
              "    'tweet_volume': None,\n",
              "    'url': 'http://twitter.com/search?q=%23GTBankFoodDrink'},\n",
              "   {'name': '#KofiMania',\n",
              "    'promoted_content': None,\n",
              "    'query': '%23KofiMania',\n",
              "    'tweet_volume': 73704,\n",
              "    'url': 'http://twitter.com/search?q=%23KofiMania'},\n",
              "   {'name': '#Thanksgivingservice',\n",
              "    'promoted_content': None,\n",
              "    'query': '%23Thanksgivingservice',\n",
              "    'tweet_volume': None,\n",
              "    'url': 'http://twitter.com/search?q=%23Thanksgivingservice'}]}]"
            ]
          },
          "metadata": {
            "tags": []
          },
          "execution_count": 16
        }
      ]
    },
    {
      "metadata": {
        "id": "ErELN5Un92tP",
        "colab_type": "code",
        "colab": {
          "base_uri": "https://localhost:8080/",
          "height": 6239
        },
        "outputId": "8853ee03-92bb-4ee0-d16b-f5991688656f"
      },
      "cell_type": "code",
      "source": [
        "nigeria = (json.dumps(nigeria_trends, indent=2))\n",
        "\n",
        "print(type(nigeria_trends))\n",
        "print(type(nigeria))\n",
        "print(nigeria)"
      ],
      "execution_count": 9,
      "outputs": [
        {
          "output_type": "stream",
          "text": [
            "<class 'twitter.api.TwitterListResponse'>\n",
            "<class 'str'>\n",
            "[\n",
            "  {\n",
            "    \"trends\": [\n",
            "      {\n",
            "        \"name\": \"#MondayMotivation\",\n",
            "        \"url\": \"http://twitter.com/search?q=%23MondayMotivation\",\n",
            "        \"promoted_content\": null,\n",
            "        \"query\": \"%23MondayMotivation\",\n",
            "        \"tweet_volume\": 41870\n",
            "      },\n",
            "      {\n",
            "        \"name\": \"#mondaythoughts\",\n",
            "        \"url\": \"http://twitter.com/search?q=%23mondaythoughts\",\n",
            "        \"promoted_content\": null,\n",
            "        \"query\": \"%23mondaythoughts\",\n",
            "        \"tweet_volume\": null\n",
            "      },\n",
            "      {\n",
            "        \"name\": \"#MondayMorning\",\n",
            "        \"url\": \"http://twitter.com/search?q=%23MondayMorning\",\n",
            "        \"promoted_content\": null,\n",
            "        \"query\": \"%23MondayMorning\",\n",
            "        \"tweet_volume\": null\n",
            "      },\n",
            "      {\n",
            "        \"name\": \"#WrestleMania\",\n",
            "        \"url\": \"http://twitter.com/search?q=%23WrestleMania\",\n",
            "        \"promoted_content\": null,\n",
            "        \"query\": \"%23WrestleMania\",\n",
            "        \"tweet_volume\": 1167425\n",
            "      },\n",
            "      {\n",
            "        \"name\": \"#MaxBreakfast\",\n",
            "        \"url\": \"http://twitter.com/search?q=%23MaxBreakfast\",\n",
            "        \"promoted_content\": null,\n",
            "        \"query\": \"%23MaxBreakfast\",\n",
            "        \"tweet_volume\": null\n",
            "      },\n",
            "      {\n",
            "        \"name\": \"Jamaican\",\n",
            "        \"url\": \"http://twitter.com/search?q=Jamaican\",\n",
            "        \"promoted_content\": null,\n",
            "        \"query\": \"Jamaican\",\n",
            "        \"tweet_volume\": 11119\n",
            "      },\n",
            "      {\n",
            "        \"name\": \"Ronda\",\n",
            "        \"url\": \"http://twitter.com/search?q=Ronda\",\n",
            "        \"promoted_content\": null,\n",
            "        \"query\": \"Ronda\",\n",
            "        \"tweet_volume\": 38659\n",
            "      },\n",
            "      {\n",
            "        \"name\": \"Kofi Kingston\",\n",
            "        \"url\": \"http://twitter.com/search?q=%22Kofi+Kingston%22\",\n",
            "        \"promoted_content\": null,\n",
            "        \"query\": \"%22Kofi+Kingston%22\",\n",
            "        \"tweet_volume\": 45900\n",
            "      },\n",
            "      {\n",
            "        \"name\": \"Zamfara\",\n",
            "        \"url\": \"http://twitter.com/search?q=Zamfara\",\n",
            "        \"promoted_content\": null,\n",
            "        \"query\": \"Zamfara\",\n",
            "        \"tweet_volume\": 69596\n",
            "      },\n",
            "      {\n",
            "        \"name\": \"Everton\",\n",
            "        \"url\": \"http://twitter.com/search?q=Everton\",\n",
            "        \"promoted_content\": null,\n",
            "        \"query\": \"Everton\",\n",
            "        \"tweet_volume\": 105957\n",
            "      },\n",
            "      {\n",
            "        \"name\": \"Buhari\",\n",
            "        \"url\": \"http://twitter.com/search?q=Buhari\",\n",
            "        \"promoted_content\": null,\n",
            "        \"query\": \"Buhari\",\n",
            "        \"tweet_volume\": 44846\n",
            "      },\n",
            "      {\n",
            "        \"name\": \"Rwanda\",\n",
            "        \"url\": \"http://twitter.com/search?q=Rwanda\",\n",
            "        \"promoted_content\": null,\n",
            "        \"query\": \"Rwanda\",\n",
            "        \"tweet_volume\": 91876\n",
            "      },\n",
            "      {\n",
            "        \"name\": \"Arsenal\",\n",
            "        \"url\": \"http://twitter.com/search?q=Arsenal\",\n",
            "        \"promoted_content\": null,\n",
            "        \"query\": \"Arsenal\",\n",
            "        \"tweet_volume\": 175785\n",
            "      },\n",
            "      {\n",
            "        \"name\": \"Elneny\",\n",
            "        \"url\": \"http://twitter.com/search?q=Elneny\",\n",
            "        \"promoted_content\": null,\n",
            "        \"query\": \"Elneny\",\n",
            "        \"tweet_volume\": 15261\n",
            "      },\n",
            "      {\n",
            "        \"name\": \"Emery\",\n",
            "        \"url\": \"http://twitter.com/search?q=Emery\",\n",
            "        \"promoted_content\": null,\n",
            "        \"query\": \"Emery\",\n",
            "        \"tweet_volume\": 15120\n",
            "      },\n",
            "      {\n",
            "        \"name\": \"Seth Rollins\",\n",
            "        \"url\": \"http://twitter.com/search?q=%22Seth+Rollins%22\",\n",
            "        \"promoted_content\": null,\n",
            "        \"query\": \"%22Seth+Rollins%22\",\n",
            "        \"tweet_volume\": 21319\n",
            "      },\n",
            "      {\n",
            "        \"name\": \"Yari\",\n",
            "        \"url\": \"http://twitter.com/search?q=Yari\",\n",
            "        \"promoted_content\": null,\n",
            "        \"query\": \"Yari\",\n",
            "        \"tweet_volume\": 15229\n",
            "      },\n",
            "      {\n",
            "        \"name\": \"Watford\",\n",
            "        \"url\": \"http://twitter.com/search?q=Watford\",\n",
            "        \"promoted_content\": null,\n",
            "        \"query\": \"Watford\",\n",
            "        \"tweet_volume\": 58563\n",
            "      },\n",
            "      {\n",
            "        \"name\": \"Kadaria\",\n",
            "        \"url\": \"http://twitter.com/search?q=Kadaria\",\n",
            "        \"promoted_content\": null,\n",
            "        \"query\": \"Kadaria\",\n",
            "        \"tweet_volume\": null\n",
            "      },\n",
            "      {\n",
            "        \"name\": \"Ozil\",\n",
            "        \"url\": \"http://twitter.com/search?q=Ozil\",\n",
            "        \"promoted_content\": null,\n",
            "        \"query\": \"Ozil\",\n",
            "        \"tweet_volume\": 15367\n",
            "      },\n",
            "      {\n",
            "        \"name\": \"Qatar\",\n",
            "        \"url\": \"http://twitter.com/search?q=Qatar\",\n",
            "        \"promoted_content\": null,\n",
            "        \"query\": \"Qatar\",\n",
            "        \"tweet_volume\": 26595\n",
            "      },\n",
            "      {\n",
            "        \"name\": \"jordan\",\n",
            "        \"url\": \"http://twitter.com/search?q=jordan\",\n",
            "        \"promoted_content\": null,\n",
            "        \"query\": \"jordan\",\n",
            "        \"tweet_volume\": 112528\n",
            "      },\n",
            "      {\n",
            "        \"name\": \"kodak\",\n",
            "        \"url\": \"http://twitter.com/search?q=kodak\",\n",
            "        \"promoted_content\": null,\n",
            "        \"query\": \"kodak\",\n",
            "        \"tweet_volume\": 277372\n",
            "      },\n",
            "      {\n",
            "        \"name\": \"oblak\",\n",
            "        \"url\": \"http://twitter.com/search?q=oblak\",\n",
            "        \"promoted_content\": null,\n",
            "        \"query\": \"oblak\",\n",
            "        \"tweet_volume\": null\n",
            "      },\n",
            "      {\n",
            "        \"name\": \"Guendouzi\",\n",
            "        \"url\": \"http://twitter.com/search?q=Guendouzi\",\n",
            "        \"promoted_content\": null,\n",
            "        \"query\": \"Guendouzi\",\n",
            "        \"tweet_volume\": null\n",
            "      },\n",
            "      {\n",
            "        \"name\": \"Jackie Chan\",\n",
            "        \"url\": \"http://twitter.com/search?q=%22Jackie+Chan%22\",\n",
            "        \"promoted_content\": null,\n",
            "        \"query\": \"%22Jackie+Chan%22\",\n",
            "        \"tweet_volume\": 58986\n",
            "      },\n",
            "      {\n",
            "        \"name\": \"suarez\",\n",
            "        \"url\": \"http://twitter.com/search?q=suarez\",\n",
            "        \"promoted_content\": null,\n",
            "        \"query\": \"suarez\",\n",
            "        \"tweet_volume\": 50272\n",
            "      },\n",
            "      {\n",
            "        \"name\": \"Iwobi\",\n",
            "        \"url\": \"http://twitter.com/search?q=Iwobi\",\n",
            "        \"promoted_content\": null,\n",
            "        \"query\": \"Iwobi\",\n",
            "        \"tweet_volume\": null\n",
            "      },\n",
            "      {\n",
            "        \"name\": \"Mr President\",\n",
            "        \"url\": \"http://twitter.com/search?q=%22Mr+President%22\",\n",
            "        \"promoted_content\": null,\n",
            "        \"query\": \"%22Mr+President%22\",\n",
            "        \"tweet_volume\": 24959\n",
            "      },\n",
            "      {\n",
            "        \"name\": \"Sokratis\",\n",
            "        \"url\": \"http://twitter.com/search?q=Sokratis\",\n",
            "        \"promoted_content\": null,\n",
            "        \"query\": \"Sokratis\",\n",
            "        \"tweet_volume\": null\n",
            "      },\n",
            "      {\n",
            "        \"name\": \"Leno\",\n",
            "        \"url\": \"http://twitter.com/search?q=Leno\",\n",
            "        \"promoted_content\": null,\n",
            "        \"query\": \"Leno\",\n",
            "        \"tweet_volume\": null\n",
            "      },\n",
            "      {\n",
            "        \"name\": \"Sai Baba\",\n",
            "        \"url\": \"http://twitter.com/search?q=%22Sai+Baba%22\",\n",
            "        \"promoted_content\": null,\n",
            "        \"query\": \"%22Sai+Baba%22\",\n",
            "        \"tweet_volume\": null\n",
            "      },\n",
            "      {\n",
            "        \"name\": \"Unai\",\n",
            "        \"url\": \"http://twitter.com/search?q=Unai\",\n",
            "        \"promoted_content\": null,\n",
            "        \"query\": \"Unai\",\n",
            "        \"tweet_volume\": 11317\n",
            "      },\n",
            "      {\n",
            "        \"name\": \"Ramsey\",\n",
            "        \"url\": \"http://twitter.com/search?q=Ramsey\",\n",
            "        \"promoted_content\": null,\n",
            "        \"query\": \"Ramsey\",\n",
            "        \"tweet_volume\": 15845\n",
            "      },\n",
            "      {\n",
            "        \"name\": \"Xhaka\",\n",
            "        \"url\": \"http://twitter.com/search?q=Xhaka\",\n",
            "        \"promoted_content\": null,\n",
            "        \"query\": \"Xhaka\",\n",
            "        \"tweet_volume\": null\n",
            "      },\n",
            "      {\n",
            "        \"name\": \"#JumiaEasterSale\",\n",
            "        \"url\": \"http://twitter.com/search?q=%23JumiaEasterSale\",\n",
            "        \"promoted_content\": null,\n",
            "        \"query\": \"%23JumiaEasterSale\",\n",
            "        \"tweet_volume\": null\n",
            "      },\n",
            "      {\n",
            "        \"name\": \"#AIM2019\",\n",
            "        \"url\": \"http://twitter.com/search?q=%23AIM2019\",\n",
            "        \"promoted_content\": null,\n",
            "        \"query\": \"%23AIM2019\",\n",
            "        \"tweet_volume\": null\n",
            "      },\n",
            "      {\n",
            "        \"name\": \"#EVEARS\",\n",
            "        \"url\": \"http://twitter.com/search?q=%23EVEARS\",\n",
            "        \"promoted_content\": null,\n",
            "        \"query\": \"%23EVEARS\",\n",
            "        \"tweet_volume\": 44469\n",
            "      },\n",
            "      {\n",
            "        \"name\": \"#worldhealthday\",\n",
            "        \"url\": \"http://twitter.com/search?q=%23worldhealthday\",\n",
            "        \"promoted_content\": null,\n",
            "        \"query\": \"%23worldhealthday\",\n",
            "        \"tweet_volume\": 121686\n",
            "      },\n",
            "      {\n",
            "        \"name\": \"#SundayService\",\n",
            "        \"url\": \"http://twitter.com/search?q=%23SundayService\",\n",
            "        \"promoted_content\": null,\n",
            "        \"query\": \"%23SundayService\",\n",
            "        \"tweet_volume\": null\n",
            "      },\n",
            "      {\n",
            "        \"name\": \"#WATWOL\",\n",
            "        \"url\": \"http://twitter.com/search?q=%23WATWOL\",\n",
            "        \"promoted_content\": null,\n",
            "        \"query\": \"%23WATWOL\",\n",
            "        \"tweet_volume\": 19750\n",
            "      },\n",
            "      {\n",
            "        \"name\": \"#FACup\",\n",
            "        \"url\": \"http://twitter.com/search?q=%23FACup\",\n",
            "        \"promoted_content\": null,\n",
            "        \"query\": \"%23FACup\",\n",
            "        \"tweet_volume\": 25261\n",
            "      },\n",
            "      {\n",
            "        \"name\": \"#HealthForAll\",\n",
            "        \"url\": \"http://twitter.com/search?q=%23HealthForAll\",\n",
            "        \"promoted_content\": null,\n",
            "        \"query\": \"%23HealthForAll\",\n",
            "        \"tweet_volume\": 32879\n",
            "      },\n",
            "      {\n",
            "        \"name\": \"#Kwibuka25\",\n",
            "        \"url\": \"http://twitter.com/search?q=%23Kwibuka25\",\n",
            "        \"promoted_content\": null,\n",
            "        \"query\": \"%23Kwibuka25\",\n",
            "        \"tweet_volume\": 46735\n",
            "      },\n",
            "      {\n",
            "        \"name\": \"#4thRepublic\",\n",
            "        \"url\": \"http://twitter.com/search?q=%234thRepublic\",\n",
            "        \"promoted_content\": null,\n",
            "        \"query\": \"%234thRepublic\",\n",
            "        \"tweet_volume\": null\n",
            "      },\n",
            "      {\n",
            "        \"name\": \"#healthisstress\",\n",
            "        \"url\": \"http://twitter.com/search?q=%23healthisstress\",\n",
            "        \"promoted_content\": null,\n",
            "        \"query\": \"%23healthisstress\",\n",
            "        \"tweet_volume\": null\n",
            "      },\n",
            "      {\n",
            "        \"name\": \"#chinesebystarprince\",\n",
            "        \"url\": \"http://twitter.com/search?q=%23chinesebystarprince\",\n",
            "        \"promoted_content\": null,\n",
            "        \"query\": \"%23chinesebystarprince\",\n",
            "        \"tweet_volume\": null\n",
            "      },\n",
            "      {\n",
            "        \"name\": \"#GTBankFoodDrink\",\n",
            "        \"url\": \"http://twitter.com/search?q=%23GTBankFoodDrink\",\n",
            "        \"promoted_content\": null,\n",
            "        \"query\": \"%23GTBankFoodDrink\",\n",
            "        \"tweet_volume\": null\n",
            "      },\n",
            "      {\n",
            "        \"name\": \"#KofiMania\",\n",
            "        \"url\": \"http://twitter.com/search?q=%23KofiMania\",\n",
            "        \"promoted_content\": null,\n",
            "        \"query\": \"%23KofiMania\",\n",
            "        \"tweet_volume\": 73632\n",
            "      },\n",
            "      {\n",
            "        \"name\": \"#Thanksgivingservice\",\n",
            "        \"url\": \"http://twitter.com/search?q=%23Thanksgivingservice\",\n",
            "        \"promoted_content\": null,\n",
            "        \"query\": \"%23Thanksgivingservice\",\n",
            "        \"tweet_volume\": null\n",
            "      }\n",
            "    ],\n",
            "    \"as_of\": \"2019-04-08T08:01:30Z\",\n",
            "    \"created_at\": \"2019-04-08T07:52:23Z\",\n",
            "    \"locations\": [\n",
            "      {\n",
            "        \"name\": \"Nigeria\",\n",
            "        \"woeid\": 23424908\n",
            "      }\n",
            "    ]\n",
            "  }\n",
            "]\n"
          ],
          "name": "stdout"
        }
      ]
    },
    {
      "metadata": {
        "id": "-gxu6H_W9-xC",
        "colab_type": "code",
        "colab": {
          "base_uri": "https://localhost:8080/",
          "height": 34
        },
        "outputId": "5c7d4508-317c-4288-da76-99f4c55ef9ae"
      },
      "cell_type": "code",
      "source": [
        "topic = 'Nigeria'\n",
        "tweet_texts = []\n",
        "number = 100\n",
        "tweets = my_twitter_api.search.tweets(q = topic, count=number)\n",
        "tweets = (tweets['statuses'])\n",
        "for line in tweets:\n",
        "    tweet_texts.append(line['text'])\n",
        "\n",
        "len(tweet_texts)"
      ],
      "execution_count": 62,
      "outputs": [
        {
          "output_type": "execute_result",
          "data": {
            "text/plain": [
              "77"
            ]
          },
          "metadata": {
            "tags": []
          },
          "execution_count": 62
        }
      ]
    },
    {
      "metadata": {
        "id": "6ausvi6--OfI",
        "colab_type": "code",
        "colab": {
          "base_uri": "https://localhost:8080/",
          "height": 366
        },
        "outputId": "929d09c5-c278-4ea2-e5dd-08a4a27092e7"
      },
      "cell_type": "code",
      "source": [
        "hashtags_in = []\n",
        "for line in tweets:\n",
        "    hashtags_in.append(line['entities']['hashtags'])\n",
        "hashtags_in = [k for k in hashtags_in if k]\n",
        "hashtags_in_tweet = []\n",
        "for b in hashtags_in:\n",
        "    a = b[0]['text']\n",
        "    hashtags_in_tweet.append(a)\n",
        "for item in [hashtags_in_tweet]:\n",
        "    c = Counter(item)\n",
        "    hashtags_in_tweet = c.most_common()\n",
        "    \n",
        "    \n",
        "plt.figure(figsize=(10,5))\n",
        "for k, n in hashtags_in_tweet[:5]:\n",
        "   \n",
        "    plt.bar(k, height=n)\n",
        "    plt.ylabel('Frequency')\n",
        "    plt.xlabel('Top Hashtags')\n",
        "    plt.title('5 top hashtags')\n",
        "        \n",
        "plt.show()\n",
        "print(hashtags_in_tweet)"
      ],
      "execution_count": 18,
      "outputs": [
        {
          "output_type": "display_data",
          "data": {
            "image/png": "[encoded data removed]",
            "text/plain": [
              "<Figure size 720x360 with 1 Axes>"
            ]
          },
          "metadata": {
            "tags": []
          }
        },
        {
          "output_type": "stream",
          "text": [
            "[('O2OxygenApartments', 1), ('Nigeria', 1), ('NBAPlayoffs', 1), ('GlobalFoodCrises', 1)]\n"
          ],
          "name": "stdout"
        }
      ]
    },
    {
      "metadata": {
        "id": "FGln4L71-iLH",
        "colab_type": "code",
        "colab": {
          "base_uri": "https://localhost:8080/",
          "height": 102
        },
        "outputId": "df4ada96-53a3-4799-8045-aa7950bc000a"
      },
      "cell_type": "code",
      "source": [
        "screen_name_list = []\n",
        "for line in tweets:\n",
        "    names = line['entities']['user_mentions']\n",
        "    screen_name_list.append(names)\n",
        "screen_name_list = [x for x in screen_name_list if x]\n",
        "\n",
        "values = screen_name_list\n",
        "popular_names = []\n",
        "for b in values:\n",
        "    m = b[0]['screen_name']\n",
        "    popular_names.append(m)\n",
        "for item in [popular_names]:\n",
        "    c = Counter(item)\n",
        "    top_screen_names = (c.most_common()) \n",
        "top_screen_names[:5]"
      ],
      "execution_count": 19,
      "outputs": [
        {
          "output_type": "execute_result",
          "data": {
            "text/plain": [
              "[('renoomokri', 3),\n",
              " ('Tutsy22', 2),\n",
              " ('Omojuwa', 2),\n",
              " ('MrStanleyNwabia', 2),\n",
              " ('MassesDefender', 2)]"
            ]
          },
          "metadata": {
            "tags": []
          },
          "execution_count": 19
        }
      ]
    },
    {
      "metadata": {
        "id": "3-As6tOF-8QY",
        "colab_type": "code",
        "colab": {
          "base_uri": "https://localhost:8080/",
          "height": 349
        },
        "outputId": "f2f699af-61ae-492c-d5c4-a53a6dc47878"
      },
      "cell_type": "code",
      "source": [
        "\n",
        "plt.figure(figsize=(10,5))\n",
        "for k, n in top_screen_names[:5]:\n",
        "   \n",
        "    plt.bar(k, height=n)\n",
        "    plt.ylabel('Frequency')\n",
        "    plt.xlabel('Top Screen Names')\n",
        "    plt.title('5 Popular Screen Names')\n",
        "        \n",
        "plt.show()"
      ],
      "execution_count": 20,
      "outputs": [
        {
          "output_type": "display_data",
          "data": {
            "image/png": "[encoded data removed]",
            "text/plain": [
              "<Figure size 720x360 with 1 Axes>"
            ]
          },
          "metadata": {
            "tags": []
          }
        }
      ]
    },
    {
      "metadata": {
        "id": "w4IqnNi6OnSi",
        "colab_type": "text"
      },
      "cell_type": "markdown",
      "source": [
        "### Retrieving All Hashtags"
      ]
    },
    {
      "metadata": {
        "id": "6PZhD0XDNS5t",
        "colab_type": "code",
        "colab": {
          "base_uri": "https://localhost:8080/",
          "height": 54
        },
        "outputId": "618a24d5-909c-43e3-db1a-9779e89d94f6"
      },
      "cell_type": "code",
      "source": [
        "from collections import Counter\n",
        "number = 50\n",
        "all_hashtags = []\n",
        "for k in range(0,number):\n",
        "    myList = nigeria_trends[0]['trends'][k]['name']\n",
        "    all_hashtags.append(myList)\n",
        "print(all_hashtags)"
      ],
      "execution_count": 22,
      "outputs": [
        {
          "output_type": "stream",
          "text": [
            "['#MondayMotivation', '#mondaythoughts', '#MondayMorning', '#WrestleMania', '#MaxBreakfast', 'Jamaican', 'Ronda', 'Kofi Kingston', 'Zamfara', 'Everton', 'Buhari', 'Rwanda', 'Arsenal', 'Elneny', 'Emery', 'Seth Rollins', 'Yari', 'Watford', 'Kadaria', 'Ozil', 'Qatar', 'jordan', 'kodak', 'oblak', 'Guendouzi', 'Jackie Chan', 'suarez', 'Iwobi', 'Mr President', 'Sokratis', 'Leno', 'Sai Baba', 'Unai', 'Ramsey', 'Xhaka', '#JumiaEasterSale', '#AIM2019', '#EVEARS', '#WorldHealthDay', '#SundayService', '#WATWOL', '#FACup', '#HealthForAll', '#Kwibuka25', '#4thRepublic', '#healthisstress', '#chinesebystarprince', '#GTBankFoodDrink', '#KofiMania', '#Thanksgivingservice']\n"
          ],
          "name": "stdout"
        }
      ]
    },
    {
      "metadata": {
        "id": "l5aXy6QmNac_",
        "colab_type": "text"
      },
      "cell_type": "markdown",
      "source": [
        "### Generating tweet volumes in the last 24 hours"
      ]
    },
    {
      "metadata": {
        "id": "4Q7HSOe6_CPt",
        "colab_type": "code",
        "colab": {
          "base_uri": "https://localhost:8080/",
          "height": 71
        },
        "outputId": "fe5e862f-c405-4523-f849-f7b20a79f43b"
      },
      "cell_type": "code",
      "source": [
        "hashtag_volume = []\n",
        "number = 50\n",
        "for k in range(0, number):\n",
        "    myVolume = nigeria_trends[0]['trends'][k]['tweet_volume']\n",
        "    hashtag_volume.append(myVolume)\n",
        "print(hashtag_volume)\n",
        "len(hashtag_volume)"
      ],
      "execution_count": 21,
      "outputs": [
        {
          "output_type": "stream",
          "text": [
            "[42841, None, None, 1168286, None, 11165, 38707, 45997, 69766, 106040, 44988, 92114, 176012, 15262, 15144, 21354, 15290, 58645, None, 15388, 26682, 112709, 277579, None, None, 59176, 50399, None, 24997, None, None, None, 11349, 15851, None, None, None, 44480, 121896, None, 19775, 25289, 32945, 46852, None, None, None, None, 73704, None]\n"
          ],
          "name": "stdout"
        },
        {
          "output_type": "execute_result",
          "data": {
            "text/plain": [
              "50"
            ]
          },
          "metadata": {
            "tags": []
          },
          "execution_count": 21
        }
      ]
    },
    {
      "metadata": {
        "id": "T7-heWJdN1vf",
        "colab_type": "text"
      },
      "cell_type": "markdown",
      "source": [
        "### Convert lists hashtag_volume and popular_hashtags to Dataframe"
      ]
    },
    {
      "metadata": {
        "id": "8--NGzugOGol",
        "colab_type": "code",
        "colab": {
          "base_uri": "https://localhost:8080/",
          "height": 204
        },
        "outputId": "630acd47-37af-454f-a17a-5971544b59de"
      },
      "cell_type": "code",
      "source": [
        "frame1 = pd.DataFrame({'id' : range(0,len(all_hashtags)), 'Hashtags' : all_hashtags})\n",
        "frame2 = pd.DataFrame({'id' : range(0,len(all_hashtags)), 'Hashtag_Volume_in_the_last_24hours' : hashtag_volume})\n",
        "frame = pd.merge(frame1, frame2)\n",
        "del frame['id']\n",
        "frame = frame.dropna(axis=0)\n",
        "frame[:5]\n"
      ],
      "execution_count": 46,
      "outputs": [
        {
          "output_type": "execute_result",
          "data": {
            "text/html": [
              "<div>\n",
              "<style scoped>\n",
              "    .dataframe tbody tr th:only-of-type {\n",
              "        vertical-align: middle;\n",
              "    }\n",
              "\n",
              "    .dataframe tbody tr th {\n",
              "        vertical-align: top;\n",
              "    }\n",
              "\n",
              "    .dataframe thead th {\n",
              "        text-align: right;\n",
              "    }\n",
              "</style>\n",
              "<table border=\"1\" class=\"dataframe\">\n",
              "  <thead>\n",
              "    <tr style=\"text-align: right;\">\n",
              "      <th></th>\n",
              "      <th>Hashtags</th>\n",
              "      <th>Hashtag_Volume_in_the_last_24hours</th>\n",
              "    </tr>\n",
              "  </thead>\n",
              "  <tbody>\n",
              "    <tr>\n",
              "      <th>0</th>\n",
              "      <td>#MondayMotivation</td>\n",
              "      <td>42841.0</td>\n",
              "    </tr>\n",
              "    <tr>\n",
              "      <th>3</th>\n",
              "      <td>#WrestleMania</td>\n",
              "      <td>1168286.0</td>\n",
              "    </tr>\n",
              "    <tr>\n",
              "      <th>5</th>\n",
              "      <td>Jamaican</td>\n",
              "      <td>11165.0</td>\n",
              "    </tr>\n",
              "    <tr>\n",
              "      <th>6</th>\n",
              "      <td>Ronda</td>\n",
              "      <td>38707.0</td>\n",
              "    </tr>\n",
              "    <tr>\n",
              "      <th>7</th>\n",
              "      <td>Kofi Kingston</td>\n",
              "      <td>45997.0</td>\n",
              "    </tr>\n",
              "  </tbody>\n",
              "</table>\n",
              "</div>"
            ],
            "text/plain": [
              "            Hashtags  Hashtag_Volume_in_the_last_24hours\n",
              "0  #MondayMotivation                             42841.0\n",
              "3      #WrestleMania                           1168286.0\n",
              "5           Jamaican                             11165.0\n",
              "6              Ronda                             38707.0\n",
              "7      Kofi Kingston                             45997.0"
            ]
          },
          "metadata": {
            "tags": []
          },
          "execution_count": 46
        }
      ]
    },
    {
      "metadata": {
        "id": "vHHn5WiaUKP0",
        "colab_type": "code",
        "colab": {
          "base_uri": "https://localhost:8080/",
          "height": 455
        },
        "outputId": "4a25156d-afaf-4a9e-ab19-bd5e52eb45e0"
      },
      "cell_type": "code",
      "source": [
        "plt.figure(figsize=(15,15))\n",
        "\n",
        "frame.plot(kind='bar', x='Hashtags', y='Hashtag_Volume_in_the_last_24hours')\n",
        "\n",
        "plt.show()"
      ],
      "execution_count": 57,
      "outputs": [
        {
          "output_type": "display_data",
          "data": {
            "text/plain": [
              "<Figure size 1080x1080 with 0 Axes>"
            ]
          },
          "metadata": {
            "tags": []
          }
        },
        {
          "output_type": "display_data",
          "data": {
            "image/png": "[encoded data removed]",
            "text/plain": [
              "<Figure size 576x396 with 1 Axes>"
            ]
          },
          "metadata": {
            "tags": []
          }
        }
      ]
    },
    {
      "metadata": {
        "id": "hPQL5JbE_P0F",
        "colab_type": "text"
      },
      "cell_type": "markdown",
      "source": [
        "### This is the beginning of NLTK analysis on the tweet texts"
      ]
    },
    {
      "metadata": {
        "id": "mHRBq7rppF8N",
        "colab_type": "code",
        "colab": {}
      },
      "cell_type": "code",
      "source": [
        ""
      ],
      "execution_count": 0,
      "outputs": []
    }
  ]
}