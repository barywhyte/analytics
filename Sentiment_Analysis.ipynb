{
  "nbformat": 4,
  "nbformat_minor": 0,
  "metadata": {
    "colab": {
      "name": "Sentiment Analysis",
      "version": "0.3.2",
      "provenance": [],
      "include_colab_link": true
    },
    "kernelspec": {
      "name": "python3",
      "display_name": "Python 3"
    }
  },
  "cells": [
    {
      "cell_type": "markdown",
      "metadata": {
        "id": "view-in-github",
        "colab_type": "text"
      },
      "source": [
        "<a href=\"https://colab.research.google.com/github/barywhyte/analytics/blob/master/Sentiment_Analysis.ipynb\" target=\"_parent\"><img src=\"https://colab.research.google.com/assets/colab-badge.svg\" alt=\"Open In Colab\"/></a>"
      ]
    },
    {
      "metadata": {
        "id": "0wauKEon9AYA",
        "colab_type": "code",
        "colab": {}
      },
      "cell_type": "code",
      "source": [
        "import pandas as pd\n",
        "import matplotlib.pyplot as plt\n",
        "import pickle\n",
        "import os\n",
        "import json\n",
        "from collections import Counter"
      ],
      "execution_count": 0,
      "outputs": []
    },
    {
      "metadata": {
        "id": "gZ4OaSUO9coQ",
        "colab_type": "code",
        "colab": {}
      },
      "cell_type": "code",
      "source": [
        "if not os.path.exists('secret_twitter_credentials.pk1'):\n",
        "    Twitter={}\n",
        "    Twitter['Consumer Key'] = 'xZVjdUsRKxXSrMf84aUmi2Z8r'\n",
        "    Twitter['Consumer Secret'] = '3eAePURpb6BGOCzgBgMDvTcfgHaRTGIVDKPfJtqW1wAXQ9bu4p'\n",
        "    Twitter['Access Token'] = '170752375-Ivr4rxs0bVFQY4PXPyKVTHtgVyWxydvZrCFVvuFI'\n",
        "    Twitter['Access Token Secret'] = 'Iw5qHRxGxDY7qtDT47aXgc6O0Ufo2UCddlLDkK5FOGoEz'\n",
        "    with open('secret_twitter_credentials_again.pk1', 'wb') as f:\n",
        "        pickle.dump(Twitter, f)\n",
        "else:\n",
        "    Twitter=pickle.load(open('secret_twitter_credentials.pk1', 'rb'))"
      ],
      "execution_count": 0,
      "outputs": []
    },
    {
      "metadata": {
        "id": "uBCpQpws9gwk",
        "colab_type": "code",
        "outputId": "50c4bf06-dd8d-4ba3-d9dd-b30b6280c73a",
        "colab": {
          "base_uri": "https://localhost:8080/",
          "height": 34
        }
      },
      "cell_type": "code",
      "source": [
        "#Install twitter package to interface with twitter API. Already installed\n",
        "pip install twitter"
      ],
      "execution_count": 9,
      "outputs": [
        {
          "output_type": "stream",
          "text": [
            "Requirement already satisfied: twitter in /usr/local/lib/python3.6/dist-packages (1.18.0)\n"
          ],
          "name": "stdout"
        }
      ]
    },
    {
      "metadata": {
        "id": "mbz9tE109mIx",
        "colab_type": "code",
        "outputId": "62f34d13-8b46-4761-88b0-fcf2332b3a1a",
        "colab": {
          "base_uri": "https://localhost:8080/",
          "height": 34
        }
      },
      "cell_type": "code",
      "source": [
        "import twitter\n",
        "\n",
        "authentication = twitter.oauth.OAuth(Twitter['Access Token'],\n",
        "                           Twitter['Access Token Secret'],\n",
        "                           Twitter['Consumer Key'],\n",
        "                           Twitter['Consumer Secret']\n",
        "                          )\n",
        "my_twitter_api = twitter.Twitter(auth=authentication)\n",
        "print(my_twitter_api)\n",
        "\n",
        "#Nothing to see here except that twitter_api is now a defined variable"
      ],
      "execution_count": 10,
      "outputs": [
        {
          "output_type": "stream",
          "text": [
            "<twitter.api.Twitter object at 0x7f426e2a95f8>\n"
          ],
          "name": "stdout"
        }
      ]
    },
    {
      "metadata": {
        "id": "cPfVAAGd9sBQ",
        "colab_type": "code",
        "colab": {}
      },
      "cell_type": "code",
      "source": [
        "#WOEID Lookup makes it really easy to find Yahoo! WOEIDs for any location on Earth.\n",
        "#http://woeid.rosselliot.co.nz\n",
        "\n",
        "NIGERIA_WOE_ID = 23424908"
      ],
      "execution_count": 0,
      "outputs": []
    },
    {
      "metadata": {
        "id": "C8Bjcz639vhS",
        "colab_type": "code",
        "outputId": "8893587e-bfb8-4c88-82a9-261c6f281f93",
        "colab": {
          "base_uri": "https://localhost:8080/",
          "height": 4318
        }
      },
      "cell_type": "code",
      "source": [
        "nigeria_trends = my_twitter_api.trends.place(_id=NIGERIA_WOE_ID)\n",
        "nigeria_trends"
      ],
      "execution_count": 12,
      "outputs": [
        {
          "output_type": "execute_result",
          "data": {
            "text/plain": [
              "[{'as_of': '2019-04-09T08:40:42Z',\n",
              "  'created_at': '2019-04-09T08:34:54Z',\n",
              "  'locations': [{'name': 'Nigeria', 'woeid': 23424908}],\n",
              "  'trends': [{'name': '#NFFCShow',\n",
              "    'promoted_content': None,\n",
              "    'query': '%23NFFCShow',\n",
              "    'tweet_volume': None,\n",
              "    'url': 'http://twitter.com/search?q=%23NFFCShow'},\n",
              "   {'name': '#TuesdayThoughts',\n",
              "    'promoted_content': None,\n",
              "    'query': '%23TuesdayThoughts',\n",
              "    'tweet_volume': 27529,\n",
              "    'url': 'http://twitter.com/search?q=%23TuesdayThoughts'},\n",
              "   {'name': '#TuesdayMotivation',\n",
              "    'promoted_content': None,\n",
              "    'query': '%23TuesdayMotivation',\n",
              "    'tweet_volume': 11135,\n",
              "    'url': 'http://twitter.com/search?q=%23TuesdayMotivation'},\n",
              "   {'name': '#TuesdayMorning',\n",
              "    'promoted_content': None,\n",
              "    'query': '%23TuesdayMorning',\n",
              "    'tweet_volume': None,\n",
              "    'url': 'http://twitter.com/search?q=%23TuesdayMorning'},\n",
              "   {'name': '#WhereToGoCandiJess',\n",
              "    'promoted_content': None,\n",
              "    'query': '%23WhereToGoCandiJess',\n",
              "    'tweet_volume': None,\n",
              "    'url': 'http://twitter.com/search?q=%23WhereToGoCandiJess'},\n",
              "   {'name': 'Uncle Jimi',\n",
              "    'promoted_content': None,\n",
              "    'query': '%22Uncle+Jimi%22',\n",
              "    'tweet_volume': None,\n",
              "    'url': 'http://twitter.com/search?q=%22Uncle+Jimi%22'},\n",
              "   {'name': 'Two Nigerians',\n",
              "    'promoted_content': None,\n",
              "    'query': '%22Two+Nigerians%22',\n",
              "    'tweet_volume': None,\n",
              "    'url': 'http://twitter.com/search?q=%22Two+Nigerians%22'},\n",
              "   {'name': 'Hazard',\n",
              "    'promoted_content': None,\n",
              "    'query': 'Hazard',\n",
              "    'tweet_volume': 221856,\n",
              "    'url': 'http://twitter.com/search?q=Hazard'},\n",
              "   {'name': 'West Ham',\n",
              "    'promoted_content': None,\n",
              "    'query': '%22West+Ham%22',\n",
              "    'tweet_volume': 47123,\n",
              "    'url': 'http://twitter.com/search?q=%22West+Ham%22'},\n",
              "   {'name': 'Jamaican',\n",
              "    'promoted_content': None,\n",
              "    'query': 'Jamaican',\n",
              "    'tweet_volume': 16535,\n",
              "    'url': 'http://twitter.com/search?q=Jamaican'},\n",
              "   {'name': 'Zamfara',\n",
              "    'promoted_content': None,\n",
              "    'query': 'Zamfara',\n",
              "    'tweet_volume': 19702,\n",
              "    'url': 'http://twitter.com/search?q=Zamfara'},\n",
              "   {'name': 'Chelsea',\n",
              "    'promoted_content': None,\n",
              "    'query': 'Chelsea',\n",
              "    'tweet_volume': 121045,\n",
              "    'url': 'http://twitter.com/search?q=Chelsea'},\n",
              "   {'name': 'Man Utd and Barcelona',\n",
              "    'promoted_content': None,\n",
              "    'query': '%22Man+Utd+and+Barcelona%22',\n",
              "    'tweet_volume': None,\n",
              "    'url': 'http://twitter.com/search?q=%22Man+Utd+and+Barcelona%22'},\n",
              "   {'name': 'Eden',\n",
              "    'promoted_content': None,\n",
              "    'query': 'Eden',\n",
              "    'tweet_volume': 167563,\n",
              "    'url': 'http://twitter.com/search?q=Eden'},\n",
              "   {'name': 'Madrid',\n",
              "    'promoted_content': None,\n",
              "    'query': 'Madrid',\n",
              "    'tweet_volume': 170085,\n",
              "    'url': 'http://twitter.com/search?q=Madrid'},\n",
              "   {'name': 'Christian Chukwu',\n",
              "    'promoted_content': None,\n",
              "    'query': '%22Christian+Chukwu%22',\n",
              "    'tweet_volume': None,\n",
              "    'url': 'http://twitter.com/search?q=%22Christian+Chukwu%22'},\n",
              "   {'name': 'Dembele',\n",
              "    'promoted_content': None,\n",
              "    'query': 'Dembele',\n",
              "    'tweet_volume': None,\n",
              "    'url': 'http://twitter.com/search?q=Dembele'},\n",
              "   {'name': 'Rwanda',\n",
              "    'promoted_content': None,\n",
              "    'query': 'Rwanda',\n",
              "    'tweet_volume': 39704,\n",
              "    'url': 'http://twitter.com/search?q=Rwanda'},\n",
              "   {'name': 'triple h',\n",
              "    'promoted_content': None,\n",
              "    'query': '%22triple+h%22',\n",
              "    'tweet_volume': None,\n",
              "    'url': 'http://twitter.com/search?q=%22triple+h%22'},\n",
              "   {'name': 'Cersei',\n",
              "    'promoted_content': None,\n",
              "    'query': 'Cersei',\n",
              "    'tweet_volume': 24405,\n",
              "    'url': 'http://twitter.com/search?q=Cersei'},\n",
              "   {'name': 'akum',\n",
              "    'promoted_content': None,\n",
              "    'query': 'akum',\n",
              "    'tweet_volume': None,\n",
              "    'url': 'http://twitter.com/search?q=akum'},\n",
              "   {'name': 'Everton',\n",
              "    'promoted_content': None,\n",
              "    'query': 'Everton',\n",
              "    'tweet_volume': 19238,\n",
              "    'url': 'http://twitter.com/search?q=Everton'},\n",
              "   {'name': 'Suarez and Messi',\n",
              "    'promoted_content': None,\n",
              "    'query': '%22Suarez+and+Messi%22',\n",
              "    'tweet_volume': None,\n",
              "    'url': 'http://twitter.com/search?q=%22Suarez+and+Messi%22'},\n",
              "   {'name': 'Ndume',\n",
              "    'promoted_content': None,\n",
              "    'query': 'Ndume',\n",
              "    'tweet_volume': None,\n",
              "    'url': 'http://twitter.com/search?q=Ndume'},\n",
              "   {'name': 'Declan Rice',\n",
              "    'promoted_content': None,\n",
              "    'query': '%22Declan+Rice%22',\n",
              "    'tweet_volume': None,\n",
              "    'url': 'http://twitter.com/search?q=%22Declan+Rice%22'},\n",
              "   {'name': 'Higuain',\n",
              "    'promoted_content': None,\n",
              "    'query': 'Higuain',\n",
              "    'tweet_volume': 14468,\n",
              "    'url': 'http://twitter.com/search?q=Higuain'},\n",
              "   {'name': 'Hudson Odoi',\n",
              "    'promoted_content': None,\n",
              "    'query': '%22Hudson+Odoi%22',\n",
              "    'tweet_volume': 13116,\n",
              "    'url': 'http://twitter.com/search?q=%22Hudson+Odoi%22'},\n",
              "   {'name': 'Theon',\n",
              "    'promoted_content': None,\n",
              "    'query': 'Theon',\n",
              "    'tweet_volume': None,\n",
              "    'url': 'http://twitter.com/search?q=Theon'},\n",
              "   {'name': 'Luiz',\n",
              "    'promoted_content': None,\n",
              "    'query': 'Luiz',\n",
              "    'tweet_volume': 27977,\n",
              "    'url': 'http://twitter.com/search?q=Luiz'},\n",
              "   {'name': '#Wizkid',\n",
              "    'promoted_content': None,\n",
              "    'query': '%23Wizkid',\n",
              "    'tweet_volume': None,\n",
              "    'url': 'http://twitter.com/search?q=%23Wizkid'},\n",
              "   {'name': '#GMNSWithMannieAndTaymi',\n",
              "    'promoted_content': None,\n",
              "    'query': '%23GMNSWithMannieAndTaymi',\n",
              "    'tweet_volume': None,\n",
              "    'url': 'http://twitter.com/search?q=%23GMNSWithMannieAndTaymi'},\n",
              "   {'name': '#MaxBreakfast',\n",
              "    'promoted_content': None,\n",
              "    'query': '%23MaxBreakfast',\n",
              "    'tweet_volume': None,\n",
              "    'url': 'http://twitter.com/search?q=%23MaxBreakfast'},\n",
              "   {'name': '#CHEWHU',\n",
              "    'promoted_content': None,\n",
              "    'query': '%23CHEWHU',\n",
              "    'tweet_volume': 75057,\n",
              "    'url': 'http://twitter.com/search?q=%23CHEWHU'},\n",
              "   {'name': '#MondayMotivation',\n",
              "    'promoted_content': None,\n",
              "    'query': '%23MondayMotivation',\n",
              "    'tweet_volume': 203526,\n",
              "    'url': 'http://twitter.com/search?q=%23MondayMotivation'},\n",
              "   {'name': '#mondaythoughts',\n",
              "    'promoted_content': None,\n",
              "    'query': '%23mondaythoughts',\n",
              "    'tweet_volume': 33992,\n",
              "    'url': 'http://twitter.com/search?q=%23mondaythoughts'},\n",
              "   {'name': '#WrestleMania',\n",
              "    'promoted_content': None,\n",
              "    'query': '%23WrestleMania',\n",
              "    'tweet_volume': 172545,\n",
              "    'url': 'http://twitter.com/search?q=%23WrestleMania'},\n",
              "   {'name': '#mondaymorning',\n",
              "    'promoted_content': None,\n",
              "    'query': '%23mondaymorning',\n",
              "    'tweet_volume': 34240,\n",
              "    'url': 'http://twitter.com/search?q=%23mondaymorning'},\n",
              "   {'name': '#MakeItRed',\n",
              "    'promoted_content': None,\n",
              "    'query': '%23MakeItRed',\n",
              "    'tweet_volume': None,\n",
              "    'url': 'http://twitter.com/search?q=%23MakeItRed'},\n",
              "   {'name': '#kogiexplains',\n",
              "    'promoted_content': None,\n",
              "    'query': '%23kogiexplains',\n",
              "    'tweet_volume': None,\n",
              "    'url': 'http://twitter.com/search?q=%23kogiexplains'},\n",
              "   {'name': '#JumiaEasterSale',\n",
              "    'promoted_content': None,\n",
              "    'query': '%23JumiaEasterSale',\n",
              "    'tweet_volume': None,\n",
              "    'url': 'http://twitter.com/search?q=%23JumiaEasterSale'},\n",
              "   {'name': '#EVEARS',\n",
              "    'promoted_content': None,\n",
              "    'query': '%23EVEARS',\n",
              "    'tweet_volume': None,\n",
              "    'url': 'http://twitter.com/search?q=%23EVEARS'},\n",
              "   {'name': '#AskSeanTizzle',\n",
              "    'promoted_content': None,\n",
              "    'query': '%23AskSeanTizzle',\n",
              "    'tweet_volume': None,\n",
              "    'url': 'http://twitter.com/search?q=%23AskSeanTizzle'},\n",
              "   {'name': '#pmbindubai',\n",
              "    'promoted_content': None,\n",
              "    'query': '%23pmbindubai',\n",
              "    'tweet_volume': None,\n",
              "    'url': 'http://twitter.com/search?q=%23pmbindubai'},\n",
              "   {'name': '#AIM2019',\n",
              "    'promoted_content': None,\n",
              "    'query': '%23AIM2019',\n",
              "    'tweet_volume': None,\n",
              "    'url': 'http://twitter.com/search?q=%23AIM2019'},\n",
              "   {'name': '#OnAir',\n",
              "    'promoted_content': None,\n",
              "    'query': '%23OnAir',\n",
              "    'tweet_volume': None,\n",
              "    'url': 'http://twitter.com/search?q=%23OnAir'},\n",
              "   {'name': '#NoToDuduOsun',\n",
              "    'promoted_content': None,\n",
              "    'query': '%23NoToDuduOsun',\n",
              "    'tweet_volume': None,\n",
              "    'url': 'http://twitter.com/search?q=%23NoToDuduOsun'},\n",
              "   {'name': '#KTBFFH',\n",
              "    'promoted_content': None,\n",
              "    'query': '%23KTBFFH',\n",
              "    'tweet_volume': None,\n",
              "    'url': 'http://twitter.com/search?q=%23KTBFFH'},\n",
              "   {'name': '#AMAjoche',\n",
              "    'promoted_content': None,\n",
              "    'query': '%23AMAjoche',\n",
              "    'tweet_volume': None,\n",
              "    'url': 'http://twitter.com/search?q=%23AMAjoche'},\n",
              "   {'name': '#worldhealthday',\n",
              "    'promoted_content': None,\n",
              "    'query': '%23worldhealthday',\n",
              "    'tweet_volume': 21034,\n",
              "    'url': 'http://twitter.com/search?q=%23worldhealthday'},\n",
              "   {'name': '#motivationmonday',\n",
              "    'promoted_content': None,\n",
              "    'query': '%23motivationmonday',\n",
              "    'tweet_volume': 11237,\n",
              "    'url': 'http://twitter.com/search?q=%23motivationmonday'}]}]"
            ]
          },
          "metadata": {
            "tags": []
          },
          "execution_count": 12
        }
      ]
    },
    {
      "metadata": {
        "id": "ErELN5Un92tP",
        "colab_type": "code",
        "outputId": "e12a6aeb-56ce-429e-e7df-f718bb99f00a",
        "colab": {
          "base_uri": "https://localhost:8080/",
          "height": 6239
        }
      },
      "cell_type": "code",
      "source": [
        "nigeria = (json.dumps(nigeria_trends, indent=2))\n",
        "\n",
        "print(type(nigeria_trends))\n",
        "print(type(nigeria))\n",
        "print(nigeria)"
      ],
      "execution_count": 13,
      "outputs": [
        {
          "output_type": "stream",
          "text": [
            "<class 'twitter.api.TwitterListResponse'>\n",
            "<class 'str'>\n",
            "[\n",
            "  {\n",
            "    \"trends\": [\n",
            "      {\n",
            "        \"name\": \"#NFFCShow\",\n",
            "        \"url\": \"http://twitter.com/search?q=%23NFFCShow\",\n",
            "        \"promoted_content\": null,\n",
            "        \"query\": \"%23NFFCShow\",\n",
            "        \"tweet_volume\": null\n",
            "      },\n",
            "      {\n",
            "        \"name\": \"#TuesdayThoughts\",\n",
            "        \"url\": \"http://twitter.com/search?q=%23TuesdayThoughts\",\n",
            "        \"promoted_content\": null,\n",
            "        \"query\": \"%23TuesdayThoughts\",\n",
            "        \"tweet_volume\": 27529\n",
            "      },\n",
            "      {\n",
            "        \"name\": \"#TuesdayMotivation\",\n",
            "        \"url\": \"http://twitter.com/search?q=%23TuesdayMotivation\",\n",
            "        \"promoted_content\": null,\n",
            "        \"query\": \"%23TuesdayMotivation\",\n",
            "        \"tweet_volume\": 11135\n",
            "      },\n",
            "      {\n",
            "        \"name\": \"#TuesdayMorning\",\n",
            "        \"url\": \"http://twitter.com/search?q=%23TuesdayMorning\",\n",
            "        \"promoted_content\": null,\n",
            "        \"query\": \"%23TuesdayMorning\",\n",
            "        \"tweet_volume\": null\n",
            "      },\n",
            "      {\n",
            "        \"name\": \"#WhereToGoCandiJess\",\n",
            "        \"url\": \"http://twitter.com/search?q=%23WhereToGoCandiJess\",\n",
            "        \"promoted_content\": null,\n",
            "        \"query\": \"%23WhereToGoCandiJess\",\n",
            "        \"tweet_volume\": null\n",
            "      },\n",
            "      {\n",
            "        \"name\": \"Uncle Jimi\",\n",
            "        \"url\": \"http://twitter.com/search?q=%22Uncle+Jimi%22\",\n",
            "        \"promoted_content\": null,\n",
            "        \"query\": \"%22Uncle+Jimi%22\",\n",
            "        \"tweet_volume\": null\n",
            "      },\n",
            "      {\n",
            "        \"name\": \"Two Nigerians\",\n",
            "        \"url\": \"http://twitter.com/search?q=%22Two+Nigerians%22\",\n",
            "        \"promoted_content\": null,\n",
            "        \"query\": \"%22Two+Nigerians%22\",\n",
            "        \"tweet_volume\": null\n",
            "      },\n",
            "      {\n",
            "        \"name\": \"Hazard\",\n",
            "        \"url\": \"http://twitter.com/search?q=Hazard\",\n",
            "        \"promoted_content\": null,\n",
            "        \"query\": \"Hazard\",\n",
            "        \"tweet_volume\": 221856\n",
            "      },\n",
            "      {\n",
            "        \"name\": \"West Ham\",\n",
            "        \"url\": \"http://twitter.com/search?q=%22West+Ham%22\",\n",
            "        \"promoted_content\": null,\n",
            "        \"query\": \"%22West+Ham%22\",\n",
            "        \"tweet_volume\": 47123\n",
            "      },\n",
            "      {\n",
            "        \"name\": \"Jamaican\",\n",
            "        \"url\": \"http://twitter.com/search?q=Jamaican\",\n",
            "        \"promoted_content\": null,\n",
            "        \"query\": \"Jamaican\",\n",
            "        \"tweet_volume\": 16535\n",
            "      },\n",
            "      {\n",
            "        \"name\": \"Zamfara\",\n",
            "        \"url\": \"http://twitter.com/search?q=Zamfara\",\n",
            "        \"promoted_content\": null,\n",
            "        \"query\": \"Zamfara\",\n",
            "        \"tweet_volume\": 19702\n",
            "      },\n",
            "      {\n",
            "        \"name\": \"Chelsea\",\n",
            "        \"url\": \"http://twitter.com/search?q=Chelsea\",\n",
            "        \"promoted_content\": null,\n",
            "        \"query\": \"Chelsea\",\n",
            "        \"tweet_volume\": 121045\n",
            "      },\n",
            "      {\n",
            "        \"name\": \"Man Utd and Barcelona\",\n",
            "        \"url\": \"http://twitter.com/search?q=%22Man+Utd+and+Barcelona%22\",\n",
            "        \"promoted_content\": null,\n",
            "        \"query\": \"%22Man+Utd+and+Barcelona%22\",\n",
            "        \"tweet_volume\": null\n",
            "      },\n",
            "      {\n",
            "        \"name\": \"Eden\",\n",
            "        \"url\": \"http://twitter.com/search?q=Eden\",\n",
            "        \"promoted_content\": null,\n",
            "        \"query\": \"Eden\",\n",
            "        \"tweet_volume\": 167563\n",
            "      },\n",
            "      {\n",
            "        \"name\": \"Madrid\",\n",
            "        \"url\": \"http://twitter.com/search?q=Madrid\",\n",
            "        \"promoted_content\": null,\n",
            "        \"query\": \"Madrid\",\n",
            "        \"tweet_volume\": 170085\n",
            "      },\n",
            "      {\n",
            "        \"name\": \"Christian Chukwu\",\n",
            "        \"url\": \"http://twitter.com/search?q=%22Christian+Chukwu%22\",\n",
            "        \"promoted_content\": null,\n",
            "        \"query\": \"%22Christian+Chukwu%22\",\n",
            "        \"tweet_volume\": null\n",
            "      },\n",
            "      {\n",
            "        \"name\": \"Dembele\",\n",
            "        \"url\": \"http://twitter.com/search?q=Dembele\",\n",
            "        \"promoted_content\": null,\n",
            "        \"query\": \"Dembele\",\n",
            "        \"tweet_volume\": null\n",
            "      },\n",
            "      {\n",
            "        \"name\": \"Rwanda\",\n",
            "        \"url\": \"http://twitter.com/search?q=Rwanda\",\n",
            "        \"promoted_content\": null,\n",
            "        \"query\": \"Rwanda\",\n",
            "        \"tweet_volume\": 39704\n",
            "      },\n",
            "      {\n",
            "        \"name\": \"triple h\",\n",
            "        \"url\": \"http://twitter.com/search?q=%22triple+h%22\",\n",
            "        \"promoted_content\": null,\n",
            "        \"query\": \"%22triple+h%22\",\n",
            "        \"tweet_volume\": null\n",
            "      },\n",
            "      {\n",
            "        \"name\": \"Cersei\",\n",
            "        \"url\": \"http://twitter.com/search?q=Cersei\",\n",
            "        \"promoted_content\": null,\n",
            "        \"query\": \"Cersei\",\n",
            "        \"tweet_volume\": 24405\n",
            "      },\n",
            "      {\n",
            "        \"name\": \"akum\",\n",
            "        \"url\": \"http://twitter.com/search?q=akum\",\n",
            "        \"promoted_content\": null,\n",
            "        \"query\": \"akum\",\n",
            "        \"tweet_volume\": null\n",
            "      },\n",
            "      {\n",
            "        \"name\": \"Everton\",\n",
            "        \"url\": \"http://twitter.com/search?q=Everton\",\n",
            "        \"promoted_content\": null,\n",
            "        \"query\": \"Everton\",\n",
            "        \"tweet_volume\": 19238\n",
            "      },\n",
            "      {\n",
            "        \"name\": \"Suarez and Messi\",\n",
            "        \"url\": \"http://twitter.com/search?q=%22Suarez+and+Messi%22\",\n",
            "        \"promoted_content\": null,\n",
            "        \"query\": \"%22Suarez+and+Messi%22\",\n",
            "        \"tweet_volume\": null\n",
            "      },\n",
            "      {\n",
            "        \"name\": \"Ndume\",\n",
            "        \"url\": \"http://twitter.com/search?q=Ndume\",\n",
            "        \"promoted_content\": null,\n",
            "        \"query\": \"Ndume\",\n",
            "        \"tweet_volume\": null\n",
            "      },\n",
            "      {\n",
            "        \"name\": \"Declan Rice\",\n",
            "        \"url\": \"http://twitter.com/search?q=%22Declan+Rice%22\",\n",
            "        \"promoted_content\": null,\n",
            "        \"query\": \"%22Declan+Rice%22\",\n",
            "        \"tweet_volume\": null\n",
            "      },\n",
            "      {\n",
            "        \"name\": \"Higuain\",\n",
            "        \"url\": \"http://twitter.com/search?q=Higuain\",\n",
            "        \"promoted_content\": null,\n",
            "        \"query\": \"Higuain\",\n",
            "        \"tweet_volume\": 14468\n",
            "      },\n",
            "      {\n",
            "        \"name\": \"Hudson Odoi\",\n",
            "        \"url\": \"http://twitter.com/search?q=%22Hudson+Odoi%22\",\n",
            "        \"promoted_content\": null,\n",
            "        \"query\": \"%22Hudson+Odoi%22\",\n",
            "        \"tweet_volume\": 13116\n",
            "      },\n",
            "      {\n",
            "        \"name\": \"Theon\",\n",
            "        \"url\": \"http://twitter.com/search?q=Theon\",\n",
            "        \"promoted_content\": null,\n",
            "        \"query\": \"Theon\",\n",
            "        \"tweet_volume\": null\n",
            "      },\n",
            "      {\n",
            "        \"name\": \"Luiz\",\n",
            "        \"url\": \"http://twitter.com/search?q=Luiz\",\n",
            "        \"promoted_content\": null,\n",
            "        \"query\": \"Luiz\",\n",
            "        \"tweet_volume\": 27977\n",
            "      },\n",
            "      {\n",
            "        \"name\": \"#Wizkid\",\n",
            "        \"url\": \"http://twitter.com/search?q=%23Wizkid\",\n",
            "        \"promoted_content\": null,\n",
            "        \"query\": \"%23Wizkid\",\n",
            "        \"tweet_volume\": null\n",
            "      },\n",
            "      {\n",
            "        \"name\": \"#GMNSWithMannieAndTaymi\",\n",
            "        \"url\": \"http://twitter.com/search?q=%23GMNSWithMannieAndTaymi\",\n",
            "        \"promoted_content\": null,\n",
            "        \"query\": \"%23GMNSWithMannieAndTaymi\",\n",
            "        \"tweet_volume\": null\n",
            "      },\n",
            "      {\n",
            "        \"name\": \"#MaxBreakfast\",\n",
            "        \"url\": \"http://twitter.com/search?q=%23MaxBreakfast\",\n",
            "        \"promoted_content\": null,\n",
            "        \"query\": \"%23MaxBreakfast\",\n",
            "        \"tweet_volume\": null\n",
            "      },\n",
            "      {\n",
            "        \"name\": \"#CHEWHU\",\n",
            "        \"url\": \"http://twitter.com/search?q=%23CHEWHU\",\n",
            "        \"promoted_content\": null,\n",
            "        \"query\": \"%23CHEWHU\",\n",
            "        \"tweet_volume\": 75057\n",
            "      },\n",
            "      {\n",
            "        \"name\": \"#MondayMotivation\",\n",
            "        \"url\": \"http://twitter.com/search?q=%23MondayMotivation\",\n",
            "        \"promoted_content\": null,\n",
            "        \"query\": \"%23MondayMotivation\",\n",
            "        \"tweet_volume\": 203526\n",
            "      },\n",
            "      {\n",
            "        \"name\": \"#mondaythoughts\",\n",
            "        \"url\": \"http://twitter.com/search?q=%23mondaythoughts\",\n",
            "        \"promoted_content\": null,\n",
            "        \"query\": \"%23mondaythoughts\",\n",
            "        \"tweet_volume\": 33992\n",
            "      },\n",
            "      {\n",
            "        \"name\": \"#WrestleMania\",\n",
            "        \"url\": \"http://twitter.com/search?q=%23WrestleMania\",\n",
            "        \"promoted_content\": null,\n",
            "        \"query\": \"%23WrestleMania\",\n",
            "        \"tweet_volume\": 172545\n",
            "      },\n",
            "      {\n",
            "        \"name\": \"#mondaymorning\",\n",
            "        \"url\": \"http://twitter.com/search?q=%23mondaymorning\",\n",
            "        \"promoted_content\": null,\n",
            "        \"query\": \"%23mondaymorning\",\n",
            "        \"tweet_volume\": 34240\n",
            "      },\n",
            "      {\n",
            "        \"name\": \"#MakeItRed\",\n",
            "        \"url\": \"http://twitter.com/search?q=%23MakeItRed\",\n",
            "        \"promoted_content\": null,\n",
            "        \"query\": \"%23MakeItRed\",\n",
            "        \"tweet_volume\": null\n",
            "      },\n",
            "      {\n",
            "        \"name\": \"#kogiexplains\",\n",
            "        \"url\": \"http://twitter.com/search?q=%23kogiexplains\",\n",
            "        \"promoted_content\": null,\n",
            "        \"query\": \"%23kogiexplains\",\n",
            "        \"tweet_volume\": null\n",
            "      },\n",
            "      {\n",
            "        \"name\": \"#JumiaEasterSale\",\n",
            "        \"url\": \"http://twitter.com/search?q=%23JumiaEasterSale\",\n",
            "        \"promoted_content\": null,\n",
            "        \"query\": \"%23JumiaEasterSale\",\n",
            "        \"tweet_volume\": null\n",
            "      },\n",
            "      {\n",
            "        \"name\": \"#EVEARS\",\n",
            "        \"url\": \"http://twitter.com/search?q=%23EVEARS\",\n",
            "        \"promoted_content\": null,\n",
            "        \"query\": \"%23EVEARS\",\n",
            "        \"tweet_volume\": null\n",
            "      },\n",
            "      {\n",
            "        \"name\": \"#AskSeanTizzle\",\n",
            "        \"url\": \"http://twitter.com/search?q=%23AskSeanTizzle\",\n",
            "        \"promoted_content\": null,\n",
            "        \"query\": \"%23AskSeanTizzle\",\n",
            "        \"tweet_volume\": null\n",
            "      },\n",
            "      {\n",
            "        \"name\": \"#pmbindubai\",\n",
            "        \"url\": \"http://twitter.com/search?q=%23pmbindubai\",\n",
            "        \"promoted_content\": null,\n",
            "        \"query\": \"%23pmbindubai\",\n",
            "        \"tweet_volume\": null\n",
            "      },\n",
            "      {\n",
            "        \"name\": \"#AIM2019\",\n",
            "        \"url\": \"http://twitter.com/search?q=%23AIM2019\",\n",
            "        \"promoted_content\": null,\n",
            "        \"query\": \"%23AIM2019\",\n",
            "        \"tweet_volume\": null\n",
            "      },\n",
            "      {\n",
            "        \"name\": \"#OnAir\",\n",
            "        \"url\": \"http://twitter.com/search?q=%23OnAir\",\n",
            "        \"promoted_content\": null,\n",
            "        \"query\": \"%23OnAir\",\n",
            "        \"tweet_volume\": null\n",
            "      },\n",
            "      {\n",
            "        \"name\": \"#NoToDuduOsun\",\n",
            "        \"url\": \"http://twitter.com/search?q=%23NoToDuduOsun\",\n",
            "        \"promoted_content\": null,\n",
            "        \"query\": \"%23NoToDuduOsun\",\n",
            "        \"tweet_volume\": null\n",
            "      },\n",
            "      {\n",
            "        \"name\": \"#KTBFFH\",\n",
            "        \"url\": \"http://twitter.com/search?q=%23KTBFFH\",\n",
            "        \"promoted_content\": null,\n",
            "        \"query\": \"%23KTBFFH\",\n",
            "        \"tweet_volume\": null\n",
            "      },\n",
            "      {\n",
            "        \"name\": \"#AMAjoche\",\n",
            "        \"url\": \"http://twitter.com/search?q=%23AMAjoche\",\n",
            "        \"promoted_content\": null,\n",
            "        \"query\": \"%23AMAjoche\",\n",
            "        \"tweet_volume\": null\n",
            "      },\n",
            "      {\n",
            "        \"name\": \"#worldhealthday\",\n",
            "        \"url\": \"http://twitter.com/search?q=%23worldhealthday\",\n",
            "        \"promoted_content\": null,\n",
            "        \"query\": \"%23worldhealthday\",\n",
            "        \"tweet_volume\": 21034\n",
            "      },\n",
            "      {\n",
            "        \"name\": \"#motivationmonday\",\n",
            "        \"url\": \"http://twitter.com/search?q=%23motivationmonday\",\n",
            "        \"promoted_content\": null,\n",
            "        \"query\": \"%23motivationmonday\",\n",
            "        \"tweet_volume\": 11237\n",
            "      }\n",
            "    ],\n",
            "    \"as_of\": \"2019-04-09T08:40:42Z\",\n",
            "    \"created_at\": \"2019-04-09T08:34:54Z\",\n",
            "    \"locations\": [\n",
            "      {\n",
            "        \"name\": \"Nigeria\",\n",
            "        \"woeid\": 23424908\n",
            "      }\n",
            "    ]\n",
            "  }\n",
            "]\n"
          ],
          "name": "stdout"
        }
      ]
    },
    {
      "metadata": {
        "id": "-gxu6H_W9-xC",
        "colab_type": "code",
        "outputId": "1b371182-fda9-4048-b47c-bae301de3301",
        "colab": {
          "base_uri": "https://localhost:8080/",
          "height": 34
        }
      },
      "cell_type": "code",
      "source": [
        "topic = 'Nigeria'\n",
        "tweet_texts = []\n",
        "number = 100\n",
        "tweets = my_twitter_api.search.tweets(q = topic, count=number)\n",
        "tweets = (tweets['statuses'])\n",
        "for line in tweets:\n",
        "    tweet_texts.append(line['text'])\n",
        "\n",
        "len(tweet_texts)"
      ],
      "execution_count": 14,
      "outputs": [
        {
          "output_type": "execute_result",
          "data": {
            "text/plain": [
              "87"
            ]
          },
          "metadata": {
            "tags": []
          },
          "execution_count": 14
        }
      ]
    },
    {
      "metadata": {
        "id": "6ausvi6--OfI",
        "colab_type": "code",
        "outputId": "c9bccd47-691e-4cfa-a37d-a9ff43a960b7",
        "colab": {
          "base_uri": "https://localhost:8080/",
          "height": 386
        }
      },
      "cell_type": "code",
      "source": [
        "hashtags_in = []\n",
        "for line in tweets:\n",
        "    hashtags_in.append(line['entities']['hashtags'])\n",
        "hashtags_in = [k for k in hashtags_in if k]\n",
        "hashtags_in_tweet = []\n",
        "for b in hashtags_in:\n",
        "    a = b[0]['text']\n",
        "    hashtags_in_tweet.append(a)\n",
        "for item in [hashtags_in_tweet]:\n",
        "    c = Counter(item)\n",
        "    hashtags_in_tweet = c.most_common()\n",
        "    \n",
        "    \n",
        "plt.figure(figsize=(10,5))\n",
        "for k, n in hashtags_in_tweet[:5]:\n",
        "   \n",
        "    plt.bar(k, height=n)\n",
        "    plt.ylabel('Frequency')\n",
        "    plt.xlabel('Top Hashtags')\n",
        "    plt.title('5 top hashtags')\n",
        "        \n",
        "plt.show()\n",
        "print(hashtags_in_tweet)"
      ],
      "execution_count": 15,
      "outputs": [
        {
          "output_type": "display_data",
          "data": {
            "image/png": "[encoded data removed]",
            "text/plain": [
              "<Figure size 720x360 with 1 Axes>"
            ]
          },
          "metadata": {
            "tags": []
          }
        },
        {
          "output_type": "stream",
          "text": [
            "[('Nigeria', 7), ('Nationalbusiness', 2), ('Zenith', 1), ('BokoHaram', 1), ('NP', 1), ('Selbstmordanschlag', 1), ('fvckyouchallenge', 1), ('JKIA', 1), ('Ghosn', 1), ('design', 1), ('Wizkid', 1), ('Piracy', 1), ('Bangladesh', 1), ('morning', 1), ('IBMag', 1), ('Kaduna', 1), ('internetshutdowns', 1), ('telecom', 1), ('TravelTuesday', 1), ('betterdays', 1), ('Africa', 1), ('Muhammed', 1), ('ACJA_NG', 1)]\n"
          ],
          "name": "stdout"
        }
      ]
    },
    {
      "metadata": {
        "id": "FGln4L71-iLH",
        "colab_type": "code",
        "outputId": "8e0621bb-5d2c-4d06-deca-489209a0c503",
        "colab": {
          "base_uri": "https://localhost:8080/",
          "height": 102
        }
      },
      "cell_type": "code",
      "source": [
        "screen_name_list = []\n",
        "for line in tweets:\n",
        "    names = line['entities']['user_mentions']\n",
        "    screen_name_list.append(names)\n",
        "screen_name_list = [x for x in screen_name_list if x]\n",
        "\n",
        "values = screen_name_list\n",
        "popular_names = []\n",
        "for b in values:\n",
        "    m = b[0]['screen_name']\n",
        "    popular_names.append(m)\n",
        "for item in [popular_names]:\n",
        "    c = Counter(item)\n",
        "    top_screen_names = (c.most_common()) \n",
        "top_screen_names[:5]"
      ],
      "execution_count": 16,
      "outputs": [
        {
          "output_type": "execute_result",
          "data": {
            "text/plain": [
              "[('TheCityBizNews', 3),\n",
              " ('PTV_NG', 3),\n",
              " ('OgbeniDipo', 3),\n",
              " ('ovieali', 3),\n",
              " ('EhviOg', 3)]"
            ]
          },
          "metadata": {
            "tags": []
          },
          "execution_count": 16
        }
      ]
    },
    {
      "metadata": {
        "id": "3-As6tOF-8QY",
        "colab_type": "code",
        "outputId": "7d909203-e1a4-4172-b9dc-2dcc6713e95b",
        "colab": {
          "base_uri": "https://localhost:8080/",
          "height": 349
        }
      },
      "cell_type": "code",
      "source": [
        "\n",
        "plt.figure(figsize=(10,5))\n",
        "for k, n in top_screen_names[:5]:\n",
        "   \n",
        "    plt.bar(k, height=n)\n",
        "    plt.ylabel('Frequency')\n",
        "    plt.xlabel('Top Screen Names')\n",
        "    plt.title('5 Popular Screen Names')\n",
        "        \n",
        "plt.show()"
      ],
      "execution_count": 17,
      "outputs": [
        {
          "output_type": "display_data",
          "data": {
            "image/png": "[encoded data removed]",
            "text/plain": [
              "<Figure size 720x360 with 1 Axes>"
            ]
          },
          "metadata": {
            "tags": []
          }
        }
      ]
    },
    {
      "metadata": {
        "id": "w4IqnNi6OnSi",
        "colab_type": "text"
      },
      "cell_type": "markdown",
      "source": [
        "### Retrieving All Hashtags"
      ]
    },
    {
      "metadata": {
        "id": "6PZhD0XDNS5t",
        "colab_type": "code",
        "outputId": "1b0f1a46-0a22-475d-8c1e-1a9930a38676",
        "colab": {
          "base_uri": "https://localhost:8080/",
          "height": 54
        }
      },
      "cell_type": "code",
      "source": [
        "from collections import Counter\n",
        "number = 50\n",
        "all_hashtags = []\n",
        "for k in range(0,number):\n",
        "    myList = nigeria_trends[0]['trends'][k]['name']\n",
        "    all_hashtags.append(myList)\n",
        "print(all_hashtags)"
      ],
      "execution_count": 18,
      "outputs": [
        {
          "output_type": "stream",
          "text": [
            "['#NFFCShow', '#TuesdayThoughts', '#TuesdayMotivation', '#TuesdayMorning', '#WhereToGoCandiJess', 'Uncle Jimi', 'Two Nigerians', 'Hazard', 'West Ham', 'Jamaican', 'Zamfara', 'Chelsea', 'Man Utd and Barcelona', 'Eden', 'Madrid', 'Christian Chukwu', 'Dembele', 'Rwanda', 'triple h', 'Cersei', 'akum', 'Everton', 'Suarez and Messi', 'Ndume', 'Declan Rice', 'Higuain', 'Hudson Odoi', 'Theon', 'Luiz', '#Wizkid', '#GMNSWithMannieAndTaymi', '#MaxBreakfast', '#CHEWHU', '#MondayMotivation', '#mondaythoughts', '#WrestleMania', '#mondaymorning', '#MakeItRed', '#kogiexplains', '#JumiaEasterSale', '#EVEARS', '#AskSeanTizzle', '#pmbindubai', '#AIM2019', '#OnAir', '#NoToDuduOsun', '#KTBFFH', '#AMAjoche', '#worldhealthday', '#motivationmonday']\n"
          ],
          "name": "stdout"
        }
      ]
    },
    {
      "metadata": {
        "id": "l5aXy6QmNac_",
        "colab_type": "text"
      },
      "cell_type": "markdown",
      "source": [
        "### Generating tweet volumes in the last 24 hours"
      ]
    },
    {
      "metadata": {
        "id": "4Q7HSOe6_CPt",
        "colab_type": "code",
        "outputId": "ee1622a9-8b9b-4b4a-c3e9-549418ed1381",
        "colab": {
          "base_uri": "https://localhost:8080/",
          "height": 71
        }
      },
      "cell_type": "code",
      "source": [
        "hashtag_volume = []\n",
        "number = 50\n",
        "for k in range(0, number):\n",
        "    myVolume = nigeria_trends[0]['trends'][k]['tweet_volume']\n",
        "    hashtag_volume.append(myVolume)\n",
        "print(hashtag_volume)\n",
        "len(hashtag_volume)"
      ],
      "execution_count": 19,
      "outputs": [
        {
          "output_type": "stream",
          "text": [
            "[None, 27529, 11135, None, None, None, None, 221856, 47123, 16535, 19702, 121045, None, 167563, 170085, None, None, 39704, None, 24405, None, 19238, None, None, None, 14468, 13116, None, 27977, None, None, None, 75057, 203526, 33992, 172545, 34240, None, None, None, None, None, None, None, None, None, None, None, 21034, 11237]\n"
          ],
          "name": "stdout"
        },
        {
          "output_type": "execute_result",
          "data": {
            "text/plain": [
              "50"
            ]
          },
          "metadata": {
            "tags": []
          },
          "execution_count": 19
        }
      ]
    },
    {
      "metadata": {
        "id": "T7-heWJdN1vf",
        "colab_type": "text"
      },
      "cell_type": "markdown",
      "source": [
        "### Convert lists hashtag_volume and popular_hashtags to Dataframe"
      ]
    },
    {
      "metadata": {
        "id": "8--NGzugOGol",
        "colab_type": "code",
        "outputId": "d33eebe6-096f-4d76-8918-58ac6e7cae60",
        "colab": {
          "base_uri": "https://localhost:8080/",
          "height": 204
        }
      },
      "cell_type": "code",
      "source": [
        "frame1 = pd.DataFrame({'id' : range(0,len(all_hashtags)), 'Hashtags' : all_hashtags})\n",
        "frame2 = pd.DataFrame({'id' : range(0,len(all_hashtags)), 'Hashtag_Volume_in_the_last_24hours' : hashtag_volume})\n",
        "frame = pd.merge(frame1, frame2)\n",
        "del frame['id']\n",
        "frame = frame.dropna(axis=0)\n",
        "frame[:5]\n"
      ],
      "execution_count": 20,
      "outputs": [
        {
          "output_type": "execute_result",
          "data": {
            "text/html": [
              "<div>\n",
              "<style scoped>\n",
              "    .dataframe tbody tr th:only-of-type {\n",
              "        vertical-align: middle;\n",
              "    }\n",
              "\n",
              "    .dataframe tbody tr th {\n",
              "        vertical-align: top;\n",
              "    }\n",
              "\n",
              "    .dataframe thead th {\n",
              "        text-align: right;\n",
              "    }\n",
              "</style>\n",
              "<table border=\"1\" class=\"dataframe\">\n",
              "  <thead>\n",
              "    <tr style=\"text-align: right;\">\n",
              "      <th></th>\n",
              "      <th>Hashtags</th>\n",
              "      <th>Hashtag_Volume_in_the_last_24hours</th>\n",
              "    </tr>\n",
              "  </thead>\n",
              "  <tbody>\n",
              "    <tr>\n",
              "      <th>1</th>\n",
              "      <td>#TuesdayThoughts</td>\n",
              "      <td>27529.0</td>\n",
              "    </tr>\n",
              "    <tr>\n",
              "      <th>2</th>\n",
              "      <td>#TuesdayMotivation</td>\n",
              "      <td>11135.0</td>\n",
              "    </tr>\n",
              "    <tr>\n",
              "      <th>7</th>\n",
              "      <td>Hazard</td>\n",
              "      <td>221856.0</td>\n",
              "    </tr>\n",
              "    <tr>\n",
              "      <th>8</th>\n",
              "      <td>West Ham</td>\n",
              "      <td>47123.0</td>\n",
              "    </tr>\n",
              "    <tr>\n",
              "      <th>9</th>\n",
              "      <td>Jamaican</td>\n",
              "      <td>16535.0</td>\n",
              "    </tr>\n",
              "  </tbody>\n",
              "</table>\n",
              "</div>"
            ],
            "text/plain": [
              "             Hashtags  Hashtag_Volume_in_the_last_24hours\n",
              "1    #TuesdayThoughts                             27529.0\n",
              "2  #TuesdayMotivation                             11135.0\n",
              "7              Hazard                            221856.0\n",
              "8            West Ham                             47123.0\n",
              "9            Jamaican                             16535.0"
            ]
          },
          "metadata": {
            "tags": []
          },
          "execution_count": 20
        }
      ]
    },
    {
      "metadata": {
        "id": "vHHn5WiaUKP0",
        "colab_type": "code",
        "outputId": "803dc177-91c5-4ed6-d81a-553ad35d5394",
        "colab": {
          "base_uri": "https://localhost:8080/",
          "height": 458
        }
      },
      "cell_type": "code",
      "source": [
        "plt.figure(figsize=(15,15))\n",
        "\n",
        "frame.plot(kind='bar', x='Hashtags', y='Hashtag_Volume_in_the_last_24hours')\n",
        "frame = frame.sort_values('Hashtag_Volume_in_the_last_24hours', ascending=True)\n",
        "\n",
        "plt.show()"
      ],
      "execution_count": 23,
      "outputs": [
        {
          "output_type": "display_data",
          "data": {
            "text/plain": [
              "<Figure size 1080x1080 with 0 Axes>"
            ]
          },
          "metadata": {
            "tags": []
          }
        },
        {
          "output_type": "display_data",
          "data": {
            "image/png": "[encoded data removed]",
            "text/plain": [
              "<Figure size 576x396 with 1 Axes>"
            ]
          },
          "metadata": {
            "tags": []
          }
        }
      ]
    },
    {
      "metadata": {
        "id": "hPQL5JbE_P0F",
        "colab_type": "text"
      },
      "cell_type": "markdown",
      "source": [
        "### This is the beginning of NLTK analysis on the tweet texts"
      ]
    },
    {
      "metadata": {
        "id": "mHRBq7rppF8N",
        "colab_type": "code",
        "colab": {}
      },
      "cell_type": "code",
      "source": [
        ""
      ],
      "execution_count": 0,
      "outputs": []
    }
  ]
}