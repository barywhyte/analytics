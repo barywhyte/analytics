{
  "nbformat": 4,
  "nbformat_minor": 0,
  "metadata": {
    "colab": {
      "name": "A/B Testing and Machine Learning.ipynb",
      "version": "0.3.2",
      "provenance": [],
      "collapsed_sections": [],
      "include_colab_link": true
    },
    "kernelspec": {
      "name": "python3",
      "display_name": "Python 3"
    }
  },
  "cells": [
    {
      "cell_type": "markdown",
      "metadata": {
        "id": "view-in-github",
        "colab_type": "text"
      },
      "source": [
        "<a href=\"https://colab.research.google.com/github/barywhyte/analytics/blob/master/A_B_Testing_and_Machine_Learning.ipynb\" target=\"_parent\"><img src=\"https://colab.research.google.com/assets/colab-badge.svg\" alt=\"Open In Colab\"/></a>"
      ]
    },
    {
      "cell_type": "markdown",
      "metadata": {
        "id": "Yu2vbF5yBYF9",
        "colab_type": "text"
      },
      "source": [
        "# Project Hypothesis A/B Testing "
      ]
    },
    {
      "cell_type": "code",
      "metadata": {
        "id": "22lxCZASuo5B",
        "colab_type": "code",
        "colab": {}
      },
      "source": [
        "# import important libraries\n",
        "import pandas as pd\n",
        "import numpy as np\n",
        "import matplotlib.pyplot as plt\n",
        "import seaborn as sns\n",
        "from math import sqrt\n",
        "from scipy.stats import norm\n",
        "from sklearn.utils import shuffle\n",
        "from sklearn.model_selection import train_test_split\n",
        "from sklearn.linear_model import LinearRegression\n",
        "from sklearn.model_selection import cross_val_score\n",
        "import warnings\n",
        "def ignore_warn(*args, **kwargs):\n",
        "    pass\n",
        "warnings.warn = ignore_warn   #ignore warnings from sklearn and seaborn"
      ],
      "execution_count": 0,
      "outputs": []
    },
    {
      "cell_type": "markdown",
      "metadata": {
        "id": "0A9z0j-FCcwO",
        "colab_type": "text"
      },
      "source": [
        "### Load Data from Github"
      ]
    },
    {
      "cell_type": "code",
      "metadata": {
        "id": "hvUzqGDYxpE6",
        "colab_type": "code",
        "colab": {}
      },
      "source": [
        "data = pd.ExcelFile(\"https://github.com/10acad/piq2019/blob/master/data/UdacityABtesting.xlsx?raw=true\")\n",
        "control = pd.read_excel(data, 'Control')\n",
        "experiment = pd.read_excel(data, 'Experiment')"
      ],
      "execution_count": 0,
      "outputs": []
    },
    {
      "cell_type": "markdown",
      "metadata": {
        "id": "7QuExKOhClCC",
        "colab_type": "text"
      },
      "source": [
        "### Examine Data"
      ]
    },
    {
      "cell_type": "code",
      "metadata": {
        "id": "kLyXCV77xvpy",
        "colab_type": "code",
        "outputId": "b74ea937-6da1-4c2e-8b14-19c36e62a17f",
        "colab": {
          "base_uri": "https://localhost:8080/",
          "height": 197
        }
      },
      "source": [
        "control.head()"
      ],
      "execution_count": 524,
      "outputs": [
        {
          "output_type": "execute_result",
          "data": {
            "text/html": [
              "<div>\n",
              "<style scoped>\n",
              "    .dataframe tbody tr th:only-of-type {\n",
              "        vertical-align: middle;\n",
              "    }\n",
              "\n",
              "    .dataframe tbody tr th {\n",
              "        vertical-align: top;\n",
              "    }\n",
              "\n",
              "    .dataframe thead th {\n",
              "        text-align: right;\n",
              "    }\n",
              "</style>\n",
              "<table border=\"1\" class=\"dataframe\">\n",
              "  <thead>\n",
              "    <tr style=\"text-align: right;\">\n",
              "      <th></th>\n",
              "      <th>Date</th>\n",
              "      <th>Pageviews</th>\n",
              "      <th>Clicks</th>\n",
              "      <th>Enrollments</th>\n",
              "      <th>Payments</th>\n",
              "    </tr>\n",
              "  </thead>\n",
              "  <tbody>\n",
              "    <tr>\n",
              "      <th>0</th>\n",
              "      <td>Sat, Oct 11</td>\n",
              "      <td>7723</td>\n",
              "      <td>687</td>\n",
              "      <td>134.0</td>\n",
              "      <td>70.0</td>\n",
              "    </tr>\n",
              "    <tr>\n",
              "      <th>1</th>\n",
              "      <td>Sun, Oct 12</td>\n",
              "      <td>9102</td>\n",
              "      <td>779</td>\n",
              "      <td>147.0</td>\n",
              "      <td>70.0</td>\n",
              "    </tr>\n",
              "    <tr>\n",
              "      <th>2</th>\n",
              "      <td>Mon, Oct 13</td>\n",
              "      <td>10511</td>\n",
              "      <td>909</td>\n",
              "      <td>167.0</td>\n",
              "      <td>95.0</td>\n",
              "    </tr>\n",
              "    <tr>\n",
              "      <th>3</th>\n",
              "      <td>Tue, Oct 14</td>\n",
              "      <td>9871</td>\n",
              "      <td>836</td>\n",
              "      <td>156.0</td>\n",
              "      <td>105.0</td>\n",
              "    </tr>\n",
              "    <tr>\n",
              "      <th>4</th>\n",
              "      <td>Wed, Oct 15</td>\n",
              "      <td>10014</td>\n",
              "      <td>837</td>\n",
              "      <td>163.0</td>\n",
              "      <td>64.0</td>\n",
              "    </tr>\n",
              "  </tbody>\n",
              "</table>\n",
              "</div>"
            ],
            "text/plain": [
              "          Date  Pageviews  Clicks  Enrollments  Payments\n",
              "0  Sat, Oct 11       7723     687        134.0      70.0\n",
              "1  Sun, Oct 12       9102     779        147.0      70.0\n",
              "2  Mon, Oct 13      10511     909        167.0      95.0\n",
              "3  Tue, Oct 14       9871     836        156.0     105.0\n",
              "4  Wed, Oct 15      10014     837        163.0      64.0"
            ]
          },
          "metadata": {
            "tags": []
          },
          "execution_count": 524
        }
      ]
    },
    {
      "cell_type": "code",
      "metadata": {
        "id": "mL5g0Yqdxwpx",
        "colab_type": "code",
        "outputId": "88fde3d6-0c4b-45d9-add5-ca77d6c134c6",
        "colab": {
          "base_uri": "https://localhost:8080/",
          "height": 197
        }
      },
      "source": [
        "experiment.head()"
      ],
      "execution_count": 525,
      "outputs": [
        {
          "output_type": "execute_result",
          "data": {
            "text/html": [
              "<div>\n",
              "<style scoped>\n",
              "    .dataframe tbody tr th:only-of-type {\n",
              "        vertical-align: middle;\n",
              "    }\n",
              "\n",
              "    .dataframe tbody tr th {\n",
              "        vertical-align: top;\n",
              "    }\n",
              "\n",
              "    .dataframe thead th {\n",
              "        text-align: right;\n",
              "    }\n",
              "</style>\n",
              "<table border=\"1\" class=\"dataframe\">\n",
              "  <thead>\n",
              "    <tr style=\"text-align: right;\">\n",
              "      <th></th>\n",
              "      <th>Date</th>\n",
              "      <th>Pageviews</th>\n",
              "      <th>Clicks</th>\n",
              "      <th>Enrollments</th>\n",
              "      <th>Payments</th>\n",
              "    </tr>\n",
              "  </thead>\n",
              "  <tbody>\n",
              "    <tr>\n",
              "      <th>0</th>\n",
              "      <td>Sat, Oct 11</td>\n",
              "      <td>7716</td>\n",
              "      <td>686</td>\n",
              "      <td>105.0</td>\n",
              "      <td>34.0</td>\n",
              "    </tr>\n",
              "    <tr>\n",
              "      <th>1</th>\n",
              "      <td>Sun, Oct 12</td>\n",
              "      <td>9288</td>\n",
              "      <td>785</td>\n",
              "      <td>116.0</td>\n",
              "      <td>91.0</td>\n",
              "    </tr>\n",
              "    <tr>\n",
              "      <th>2</th>\n",
              "      <td>Mon, Oct 13</td>\n",
              "      <td>10480</td>\n",
              "      <td>884</td>\n",
              "      <td>145.0</td>\n",
              "      <td>79.0</td>\n",
              "    </tr>\n",
              "    <tr>\n",
              "      <th>3</th>\n",
              "      <td>Tue, Oct 14</td>\n",
              "      <td>9867</td>\n",
              "      <td>827</td>\n",
              "      <td>138.0</td>\n",
              "      <td>92.0</td>\n",
              "    </tr>\n",
              "    <tr>\n",
              "      <th>4</th>\n",
              "      <td>Wed, Oct 15</td>\n",
              "      <td>9793</td>\n",
              "      <td>832</td>\n",
              "      <td>140.0</td>\n",
              "      <td>94.0</td>\n",
              "    </tr>\n",
              "  </tbody>\n",
              "</table>\n",
              "</div>"
            ],
            "text/plain": [
              "          Date  Pageviews  Clicks  Enrollments  Payments\n",
              "0  Sat, Oct 11       7716     686        105.0      34.0\n",
              "1  Sun, Oct 12       9288     785        116.0      91.0\n",
              "2  Mon, Oct 13      10480     884        145.0      79.0\n",
              "3  Tue, Oct 14       9867     827        138.0      92.0\n",
              "4  Wed, Oct 15       9793     832        140.0      94.0"
            ]
          },
          "metadata": {
            "tags": []
          },
          "execution_count": 525
        }
      ]
    },
    {
      "cell_type": "markdown",
      "metadata": {
        "id": "2hWX38leCs0L",
        "colab_type": "text"
      },
      "source": [
        "### Quiz Qustions"
      ]
    },
    {
      "cell_type": "markdown",
      "metadata": {
        "id": "ipLFOJ8pC6pt",
        "colab_type": "text"
      },
      "source": [
        "**How many days of observation are there in the control and experimental group?**"
      ]
    },
    {
      "cell_type": "code",
      "metadata": {
        "id": "KszdiVcH7ynh",
        "colab_type": "code",
        "outputId": "714f88dc-0047-45c9-f34f-c5ec13b7d4e5",
        "colab": {
          "base_uri": "https://localhost:8080/",
          "height": 34
        }
      },
      "source": [
        "len(control['Date'].unique())"
      ],
      "execution_count": 526,
      "outputs": [
        {
          "output_type": "execute_result",
          "data": {
            "text/plain": [
              "37"
            ]
          },
          "metadata": {
            "tags": []
          },
          "execution_count": 526
        }
      ]
    },
    {
      "cell_type": "code",
      "metadata": {
        "id": "9M0gZ6FP8AWS",
        "colab_type": "code",
        "outputId": "97e838ad-db41-4ea3-9ad5-91199cb9cfb0",
        "colab": {
          "base_uri": "https://localhost:8080/",
          "height": 34
        }
      },
      "source": [
        "len(experiment['Date'].unique())"
      ],
      "execution_count": 527,
      "outputs": [
        {
          "output_type": "execute_result",
          "data": {
            "text/plain": [
              "37"
            ]
          },
          "metadata": {
            "tags": []
          },
          "execution_count": 527
        }
      ]
    },
    {
      "cell_type": "markdown",
      "metadata": {
        "id": "HYnrcARxDRQH",
        "colab_type": "text"
      },
      "source": [
        "**How many missing values are there in each of the control and experiments data?**"
      ]
    },
    {
      "cell_type": "code",
      "metadata": {
        "id": "Y9bbkfy6ETgU",
        "colab_type": "code",
        "colab": {}
      },
      "source": [
        "def missing_data(data):\n",
        "  missing = data.isnull().sum()\n",
        "  missing = missing[missing > 0]\n",
        "  return missing"
      ],
      "execution_count": 0,
      "outputs": []
    },
    {
      "cell_type": "code",
      "metadata": {
        "id": "u23jffR3I9ns",
        "colab_type": "code",
        "outputId": "15a114c8-874b-4588-e5f9-dd6c43299425",
        "colab": {
          "base_uri": "https://localhost:8080/",
          "height": 70
        }
      },
      "source": [
        "print(missing_data(control))"
      ],
      "execution_count": 529,
      "outputs": [
        {
          "output_type": "stream",
          "text": [
            "Enrollments    14\n",
            "Payments       14\n",
            "dtype: int64\n"
          ],
          "name": "stdout"
        }
      ]
    },
    {
      "cell_type": "code",
      "metadata": {
        "id": "BLXCoHbMEu2V",
        "colab_type": "code",
        "outputId": "fbe7e544-8fcb-4f9d-9d72-4ae6cfe8919f",
        "colab": {
          "base_uri": "https://localhost:8080/",
          "height": 70
        }
      },
      "source": [
        "print(missing_data(experiment))"
      ],
      "execution_count": 530,
      "outputs": [
        {
          "output_type": "stream",
          "text": [
            "Enrollments    14\n",
            "Payments       14\n",
            "dtype: int64\n"
          ],
          "name": "stdout"
        }
      ]
    },
    {
      "cell_type": "markdown",
      "metadata": {
        "id": "5IzqBkJ8VsQs",
        "colab_type": "text"
      },
      "source": [
        "**What is the underlying statistical probability distribution for a data collected from this type of experiments? Why?**"
      ]
    },
    {
      "cell_type": "code",
      "metadata": {
        "id": "-o1tdR0jsYaN",
        "colab_type": "code",
        "colab": {}
      },
      "source": [
        "def distribution(data):\n",
        "  data['Non-Enrollements'] = data['Clicks'] - data['Enrollments']\n",
        "  return data"
      ],
      "execution_count": 0,
      "outputs": []
    },
    {
      "cell_type": "code",
      "metadata": {
        "id": "OxmUam5FEG0R",
        "colab_type": "code",
        "outputId": "9a2579d2-9751-4750-aa13-4ffaafa378c7",
        "colab": {
          "base_uri": "https://localhost:8080/",
          "height": 197
        }
      },
      "source": [
        "distribution(control.head())"
      ],
      "execution_count": 532,
      "outputs": [
        {
          "output_type": "execute_result",
          "data": {
            "text/html": [
              "<div>\n",
              "<style scoped>\n",
              "    .dataframe tbody tr th:only-of-type {\n",
              "        vertical-align: middle;\n",
              "    }\n",
              "\n",
              "    .dataframe tbody tr th {\n",
              "        vertical-align: top;\n",
              "    }\n",
              "\n",
              "    .dataframe thead th {\n",
              "        text-align: right;\n",
              "    }\n",
              "</style>\n",
              "<table border=\"1\" class=\"dataframe\">\n",
              "  <thead>\n",
              "    <tr style=\"text-align: right;\">\n",
              "      <th></th>\n",
              "      <th>Date</th>\n",
              "      <th>Pageviews</th>\n",
              "      <th>Clicks</th>\n",
              "      <th>Enrollments</th>\n",
              "      <th>Payments</th>\n",
              "      <th>Non-Enrollements</th>\n",
              "    </tr>\n",
              "  </thead>\n",
              "  <tbody>\n",
              "    <tr>\n",
              "      <th>0</th>\n",
              "      <td>Sat, Oct 11</td>\n",
              "      <td>7723</td>\n",
              "      <td>687</td>\n",
              "      <td>134.0</td>\n",
              "      <td>70.0</td>\n",
              "      <td>553.0</td>\n",
              "    </tr>\n",
              "    <tr>\n",
              "      <th>1</th>\n",
              "      <td>Sun, Oct 12</td>\n",
              "      <td>9102</td>\n",
              "      <td>779</td>\n",
              "      <td>147.0</td>\n",
              "      <td>70.0</td>\n",
              "      <td>632.0</td>\n",
              "    </tr>\n",
              "    <tr>\n",
              "      <th>2</th>\n",
              "      <td>Mon, Oct 13</td>\n",
              "      <td>10511</td>\n",
              "      <td>909</td>\n",
              "      <td>167.0</td>\n",
              "      <td>95.0</td>\n",
              "      <td>742.0</td>\n",
              "    </tr>\n",
              "    <tr>\n",
              "      <th>3</th>\n",
              "      <td>Tue, Oct 14</td>\n",
              "      <td>9871</td>\n",
              "      <td>836</td>\n",
              "      <td>156.0</td>\n",
              "      <td>105.0</td>\n",
              "      <td>680.0</td>\n",
              "    </tr>\n",
              "    <tr>\n",
              "      <th>4</th>\n",
              "      <td>Wed, Oct 15</td>\n",
              "      <td>10014</td>\n",
              "      <td>837</td>\n",
              "      <td>163.0</td>\n",
              "      <td>64.0</td>\n",
              "      <td>674.0</td>\n",
              "    </tr>\n",
              "  </tbody>\n",
              "</table>\n",
              "</div>"
            ],
            "text/plain": [
              "          Date  Pageviews  Clicks  Enrollments  Payments  Non-Enrollements\n",
              "0  Sat, Oct 11       7723     687        134.0      70.0             553.0\n",
              "1  Sun, Oct 12       9102     779        147.0      70.0             632.0\n",
              "2  Mon, Oct 13      10511     909        167.0      95.0             742.0\n",
              "3  Tue, Oct 14       9871     836        156.0     105.0             680.0\n",
              "4  Wed, Oct 15      10014     837        163.0      64.0             674.0"
            ]
          },
          "metadata": {
            "tags": []
          },
          "execution_count": 532
        }
      ]
    },
    {
      "cell_type": "code",
      "metadata": {
        "id": "mSxhz9rVW3Ka",
        "colab_type": "code",
        "outputId": "ec7e4ead-a4a7-4763-fcb0-22172a981b9c",
        "colab": {
          "base_uri": "https://localhost:8080/",
          "height": 424
        }
      },
      "source": [
        "sns.distplot(control['Enrollments'], bins=20);"
      ],
      "execution_count": 533,
      "outputs": [
        {
          "output_type": "stream",
          "text": [
            "/usr/local/lib/python3.6/dist-packages/numpy/lib/histograms.py:824: RuntimeWarning: invalid value encountered in greater_equal\n",
            "  keep = (tmp_a >= first_edge)\n",
            "/usr/local/lib/python3.6/dist-packages/numpy/lib/histograms.py:825: RuntimeWarning: invalid value encountered in less_equal\n",
            "  keep &= (tmp_a <= last_edge)\n",
            "/usr/local/lib/python3.6/dist-packages/statsmodels/nonparametric/kde.py:447: RuntimeWarning: invalid value encountered in greater\n",
            "  X = X[np.logical_and(X > clip[0], X < clip[1])] # won't work for two columns.\n",
            "/usr/local/lib/python3.6/dist-packages/statsmodels/nonparametric/kde.py:447: RuntimeWarning: invalid value encountered in less\n",
            "  X = X[np.logical_and(X > clip[0], X < clip[1])] # won't work for two columns.\n"
          ],
          "name": "stderr"
        },
        {
          "output_type": "display_data",
          "data": {
            "image/png": "[encoded data removed]",
            "text/plain": [
              "<Figure size 432x288 with 1 Axes>"
            ]
          },
          "metadata": {
            "tags": []
          }
        }
      ]
    },
    {
      "cell_type": "code",
      "metadata": {
        "id": "OmlJEh0uYNfS",
        "colab_type": "code",
        "outputId": "ea198de0-c7c8-4a22-d4e7-aa1f356d9180",
        "colab": {
          "base_uri": "https://localhost:8080/",
          "height": 424
        }
      },
      "source": [
        "sns.distplot(experiment['Enrollments'], bins=20);"
      ],
      "execution_count": 534,
      "outputs": [
        {
          "output_type": "stream",
          "text": [
            "/usr/local/lib/python3.6/dist-packages/numpy/lib/histograms.py:824: RuntimeWarning: invalid value encountered in greater_equal\n",
            "  keep = (tmp_a >= first_edge)\n",
            "/usr/local/lib/python3.6/dist-packages/numpy/lib/histograms.py:825: RuntimeWarning: invalid value encountered in less_equal\n",
            "  keep &= (tmp_a <= last_edge)\n",
            "/usr/local/lib/python3.6/dist-packages/statsmodels/nonparametric/kde.py:447: RuntimeWarning: invalid value encountered in greater\n",
            "  X = X[np.logical_and(X > clip[0], X < clip[1])] # won't work for two columns.\n",
            "/usr/local/lib/python3.6/dist-packages/statsmodels/nonparametric/kde.py:447: RuntimeWarning: invalid value encountered in less\n",
            "  X = X[np.logical_and(X > clip[0], X < clip[1])] # won't work for two columns.\n"
          ],
          "name": "stderr"
        },
        {
          "output_type": "display_data",
          "data": {
            "image/png": "[encoded data removed]",
            "text/plain": [
              "<Figure size 432x288 with 1 Axes>"
            ]
          },
          "metadata": {
            "tags": []
          }
        }
      ]
    },
    {
      "cell_type": "markdown",
      "metadata": {
        "id": "dKX_o4JvB84Q",
        "colab_type": "text"
      },
      "source": [
        "## Metric Analysis"
      ]
    },
    {
      "cell_type": "markdown",
      "metadata": {
        "id": "pOkf9FjGCKM4",
        "colab_type": "text"
      },
      "source": [
        "### Two types of metrics are necessary for this project:\n",
        "      1. Invariate Metrics : which seek to make sure that the data collection method as well\n",
        "      as the presentation of changes to larger population sample is not inherently wrong.\n",
        "      Examples of this are : (1) Number of cookies in course overview page. (2) Number of \n",
        "      Clicks on Free Trial Button and (3) Free Trial button Click-Through-Probability\n",
        "      \n",
        "      2. Evaluation Metrics : These are used to measure the performance of the test and its \n",
        "      relevance to to business goal that we aim to achieve (in this case, a better user's\n",
        "      experience).\n",
        "      Examples are : (1) Gross conversion (no. of enrolled/total clicks on trial button)\n",
        "                                        (2) Retention (total paid/no. of enrolled)\n",
        "                                        (3) Net conversion (total paid/total clicks on trial button)\n",
        "                      \n",
        "    **source** : https://docs.google.com/document/u/1/d/1aCquhIqsUApgsxQ8-\n",
        "    SQBAigFDcfWVVohLEXcV6jWbdI/pub?embedded=True"
      ]
    },
    {
      "cell_type": "markdown",
      "metadata": {
        "id": "Qj0nN_3fGxvK",
        "colab_type": "text"
      },
      "source": [
        "### Estimating the baseline values of metrics\n",
        "\n",
        "Baseline values source : https://docs.google.com/spreadsheets/d/1MYNUtC47Pg8hdoCjOXaHqF-thheGpUshrFA21BAJnNc/edit#gid=0"
      ]
    },
    {
      "cell_type": "code",
      "metadata": {
        "id": "ENqB9xmCBLrS",
        "colab_type": "code",
        "outputId": "03740d94-e905-4202-a4eb-58e9c3fd7a28",
        "colab": {
          "base_uri": "https://localhost:8080/",
          "height": 141
        }
      },
      "source": [
        "#Let's place this estimators into a dictionary for later use\n",
        "baseline = {\"Cookies\" : 40000, \"Clicks\" : 3200, \"Enrollments\" : 660, \"CTP\" : 0.08, \"GConversion\" : 0.20625, \"Retention\" : 0.53, \"NConversion\" : 0.109313}\n",
        "baseline"
      ],
      "execution_count": 535,
      "outputs": [
        {
          "output_type": "execute_result",
          "data": {
            "text/plain": [
              "{'CTP': 0.08,\n",
              " 'Clicks': 3200,\n",
              " 'Cookies': 40000,\n",
              " 'Enrollments': 660,\n",
              " 'GConversion': 0.20625,\n",
              " 'NConversion': 0.109313,\n",
              " 'Retention': 0.53}"
            ]
          },
          "metadata": {
            "tags": []
          },
          "execution_count": 535
        }
      ]
    },
    {
      "cell_type": "markdown",
      "metadata": {
        "id": "PWZgq9Q1JOnl",
        "colab_type": "text"
      },
      "source": [
        "### Scaling collected data to say, 5000 cookies. This is representative sample of the entire data population."
      ]
    },
    {
      "cell_type": "code",
      "metadata": {
        "id": "ySpZemi-HjVD",
        "colab_type": "code",
        "outputId": "4799ca42-713d-4038-97cd-6c88db5b6787",
        "colab": {
          "base_uri": "https://localhost:8080/",
          "height": 141
        }
      },
      "source": [
        "baseline[\"Cookies\"] = 5000\n",
        "baseline[\"Clicks\"]=baseline[\"Clicks\"]*(5000/40000)\n",
        "baseline[\"Enrollments\"]=baseline[\"Enrollments\"]*(5000/40000)\n",
        "baseline"
      ],
      "execution_count": 536,
      "outputs": [
        {
          "output_type": "execute_result",
          "data": {
            "text/plain": [
              "{'CTP': 0.08,\n",
              " 'Clicks': 400.0,\n",
              " 'Cookies': 5000,\n",
              " 'Enrollments': 82.5,\n",
              " 'GConversion': 0.20625,\n",
              " 'NConversion': 0.109313,\n",
              " 'Retention': 0.53}"
            ]
          },
          "metadata": {
            "tags": []
          },
          "execution_count": 536
        }
      ]
    },
    {
      "cell_type": "markdown",
      "metadata": {
        "id": "kgThyW_PMDu0",
        "colab_type": "text"
      },
      "source": [
        "### I will focus on the analysis of the Evaluation metrics since the project's aim is to measure performance of the A/B test.\n",
        "\n",
        "STANDARD DEVIATION EVALUATION."
      ]
    },
    {
      "cell_type": "markdown",
      "metadata": {
        "id": "hMVlV2_6Mr14",
        "colab_type": "text"
      },
      "source": [
        "$$ std = \\sqrt{p*(1-p)/n} $$\n",
        "\n",
        " \n",
        "where p = probability of the event under consideration, and \n",
        "            n = sample data    "
      ]
    },
    {
      "cell_type": "markdown",
      "metadata": {
        "id": "Ut4JIEHlWwKw",
        "colab_type": "text"
      },
      "source": [
        "**Gross Conversion** : no. of enrolled/total clicks on trial button. That is, probability of enrollment given a click."
      ]
    },
    {
      "cell_type": "code",
      "metadata": {
        "id": "d3GyjVijJpcF",
        "colab_type": "code",
        "outputId": "a9a66f98-fc43-4285-9b94-9669ac4135cf",
        "colab": {
          "base_uri": "https://localhost:8080/",
          "height": 34
        }
      },
      "source": [
        "G_Conversion={}\n",
        "# let G_Conversion[\"sd\"] = standard deviation Gross Conversion metric \n",
        "G_Conversion[\"d_min\"] = 0.01 #given\n",
        "G_Conversion[\"n\"]  = baseline[\"Clicks\"]\n",
        "G_Conversion[\"p\"] = baseline[\"Enrollments\"]/baseline[\"Clicks\"]\n",
        "G_Conversion[\"sd\"] = round(sqrt((G_Conversion[\"p\"]*(1-G_Conversion[\"p\"]))/G_Conversion[\"n\"]), 5)\n",
        "G_Conversion[\"sd\"]"
      ],
      "execution_count": 537,
      "outputs": [
        {
          "output_type": "execute_result",
          "data": {
            "text/plain": [
              "0.02023"
            ]
          },
          "metadata": {
            "tags": []
          },
          "execution_count": 537
        }
      ]
    },
    {
      "cell_type": "markdown",
      "metadata": {
        "id": "9nQDvEFDagiP",
        "colab_type": "text"
      },
      "source": [
        "**Retention :**  total number of  paid users/total number of enrolled users. That is, probability of payment given enrollment."
      ]
    },
    {
      "cell_type": "code",
      "metadata": {
        "id": "AcQJpF9TOTl6",
        "colab_type": "code",
        "outputId": "015e8b38-1373-4e53-f661-405dee07d263",
        "colab": {
          "base_uri": "https://localhost:8080/",
          "height": 34
        }
      },
      "source": [
        "retention = {}\n",
        "retention[\"d_min\"]=0.01 # given\n",
        "retention[\"p\"]=baseline[\"Retention\"]\n",
        "retention[\"n\"]=baseline[\"Enrollments\"]\n",
        "retention[\"sd\"]=round(sqrt((retention[\"p\"]*(1-retention[\"p\"]))/retention[\"n\"]), 5)\n",
        "retention[\"sd\"]"
      ],
      "execution_count": 538,
      "outputs": [
        {
          "output_type": "execute_result",
          "data": {
            "text/plain": [
              "0.05495"
            ]
          },
          "metadata": {
            "tags": []
          },
          "execution_count": 538
        }
      ]
    },
    {
      "cell_type": "markdown",
      "metadata": {
        "id": "8g1xdFTWdWG_",
        "colab_type": "text"
      },
      "source": [
        "**Net Conversion :** total number of  paid users/total number of clicks on trial button. That is, probability of payment, given click."
      ]
    },
    {
      "cell_type": "code",
      "metadata": {
        "id": "Im57CY7pSgub",
        "colab_type": "code",
        "outputId": "22f28917-2a53-47e8-e23c-eb3971711f77",
        "colab": {
          "base_uri": "https://localhost:8080/",
          "height": 34
        }
      },
      "source": [
        "N_Conversion = {}\n",
        "N_Conversion[\"d_min\"]=0.0075\n",
        "N_Conversion[\"p\"]=baseline[\"NConversion\"]\n",
        "N_Conversion[\"n\"]=baseline[\"Clicks\"]\n",
        "N_Conversion[\"sd\"]=round(sqrt((N_Conversion[\"p\"]*(1-N_Conversion[\"p\"]))/N_Conversion[\"n\"]), 5)\n",
        "N_Conversion[\"sd\"]"
      ],
      "execution_count": 539,
      "outputs": [
        {
          "output_type": "execute_result",
          "data": {
            "text/plain": [
              "0.0156"
            ]
          },
          "metadata": {
            "tags": []
          },
          "execution_count": 539
        }
      ]
    },
    {
      "cell_type": "markdown",
      "metadata": {
        "id": "5MGtfTFsl_VW",
        "colab_type": "text"
      },
      "source": [
        "#### Calculating sample size per metric : I used an external tool in place on complex formula to get this sample size\n",
        "> http://www.evanmiller.org/ab-testing/sample-size.html"
      ]
    },
    {
      "cell_type": "markdown",
      "metadata": {
        "id": "uYre_m8VnloE",
        "colab_type": "text"
      },
      "source": [
        "                  Gross Conversion minimum detectable effect = 0.01\n",
        "                  Retention minimum detectable effect = 0.01\n",
        "                  Net Conversion minimum detectable effect = 0.0075"
      ]
    },
    {
      "cell_type": "markdown",
      "metadata": {
        "id": "kw8nM2w5nEna",
        "colab_type": "text"
      },
      "source": [
        "**Sample size for Gross Conversion**"
      ]
    },
    {
      "cell_type": "code",
      "metadata": {
        "id": "M2KAHXWfcuVF",
        "colab_type": "code",
        "outputId": "af785b76-f91b-4f92-a383-7f36bbcddc44",
        "colab": {
          "base_uri": "https://localhost:8080/",
          "height": 34
        }
      },
      "source": [
        "G_Conversion[\"SampleSize\"] = 25835\n",
        "G_Conversion"
      ],
      "execution_count": 540,
      "outputs": [
        {
          "output_type": "execute_result",
          "data": {
            "text/plain": [
              "{'SampleSize': 25835, 'd_min': 0.01, 'n': 400.0, 'p': 0.20625, 'sd': 0.02023}"
            ]
          },
          "metadata": {
            "tags": []
          },
          "execution_count": 540
        }
      ]
    },
    {
      "cell_type": "markdown",
      "metadata": {
        "id": "3m2yPBy4pkEk",
        "colab_type": "text"
      },
      "source": [
        "                            This shows we need at least 25,835 cookies to click the Free Trial button\n",
        "                            per group! Going back to the scaling above, this translate to \n",
        "                            need G_Conversion[\"SampSize\"]*12.5 = 322,938 pageviews, per group. This is \n",
        "                            working in percentage. Finally, the total amount of samples per the Gross \n",
        "                            Conversion metric for both groups is:"
      ]
    },
    {
      "cell_type": "code",
      "metadata": {
        "id": "BErs7NompjKR",
        "colab_type": "code",
        "outputId": "f036509d-d931-442b-e6fd-662f1521af82",
        "colab": {
          "base_uri": "https://localhost:8080/",
          "height": 34
        }
      },
      "source": [
        "G_Conversion[\"SampleSize\"] = G_Conversion['SampleSize']*12.5*2\n",
        "G_Conversion[\"SampleSize\"]"
      ],
      "execution_count": 541,
      "outputs": [
        {
          "output_type": "execute_result",
          "data": {
            "text/plain": [
              "645875.0"
            ]
          },
          "metadata": {
            "tags": []
          },
          "execution_count": 541
        }
      ]
    },
    {
      "cell_type": "markdown",
      "metadata": {
        "id": "AxGvP2WH3Wse",
        "colab_type": "text"
      },
      "source": [
        "**Sample size for Retention**"
      ]
    },
    {
      "cell_type": "code",
      "metadata": {
        "id": "19d6wo3RukYy",
        "colab_type": "code",
        "outputId": "a4b48258-9354-4a54-bc2f-7055f6c078b2",
        "colab": {
          "base_uri": "https://localhost:8080/",
          "height": 34
        }
      },
      "source": [
        "retention[\"SampleSize\"] = 39115\n",
        "retention[\"SampleSize\"]"
      ],
      "execution_count": 542,
      "outputs": [
        {
          "output_type": "execute_result",
          "data": {
            "text/plain": [
              "39115"
            ]
          },
          "metadata": {
            "tags": []
          },
          "execution_count": 542
        }
      ]
    },
    {
      "cell_type": "markdown",
      "metadata": {
        "id": "p6CnD8rj4HiU",
        "colab_type": "text"
      },
      "source": [
        "                 This means we need 39,115 of those who enrolled to pay per group. We need to convert\n",
        "                 this to cookies who clicked, and then to cookies who viewed the page. For both \n",
        "                 groups, we simply multiply result by 2"
      ]
    },
    {
      "cell_type": "code",
      "metadata": {
        "id": "uOyf7eQP4GDG",
        "colab_type": "code",
        "outputId": "8bd32b5d-d158-43fa-a6b9-5464872ad42f",
        "colab": {
          "base_uri": "https://localhost:8080/",
          "height": 34
        }
      },
      "source": [
        "retention[\"SampleSize\"] = retention[\"SampleSize\"]*12.5*20.625*2\n",
        "retention[\"SampleSize\"]"
      ],
      "execution_count": 543,
      "outputs": [
        {
          "output_type": "execute_result",
          "data": {
            "text/plain": [
              "20168671.875"
            ]
          },
          "metadata": {
            "tags": []
          },
          "execution_count": 543
        }
      ]
    },
    {
      "cell_type": "markdown",
      "metadata": {
        "id": "YMeFB5c-_YjN",
        "colab_type": "text"
      },
      "source": [
        "                    This is over 20million page views! If we are collecting 40,000 views per day as \n",
        "                    shown in the baseline for cookies, we will need 20168672/40000 = 504 days to \n",
        "                    collect this views. Not practical. "
      ]
    },
    {
      "cell_type": "markdown",
      "metadata": {
        "id": "gsJKX_D6AQnr",
        "colab_type": "text"
      },
      "source": [
        "**Sample Size for Net Conversion**"
      ]
    },
    {
      "cell_type": "code",
      "metadata": {
        "id": "k6lX0EMO49sr",
        "colab_type": "code",
        "outputId": "d98f80e1-0cf0-4a84-bab3-d2206d922604",
        "colab": {
          "base_uri": "https://localhost:8080/",
          "height": 34
        }
      },
      "source": [
        "N_Conversion[\"SampleSize\"] = 27413\n",
        "N_Conversion[\"SampleSize\"]"
      ],
      "execution_count": 544,
      "outputs": [
        {
          "output_type": "execute_result",
          "data": {
            "text/plain": [
              "27413"
            ]
          },
          "metadata": {
            "tags": []
          },
          "execution_count": 544
        }
      ]
    },
    {
      "cell_type": "code",
      "metadata": {
        "id": "O3PSLXji_42-",
        "colab_type": "code",
        "outputId": "df721a3a-9d5d-400e-f8e7-7f01dc975302",
        "colab": {
          "base_uri": "https://localhost:8080/",
          "height": 34
        }
      },
      "source": [
        "N_Conversion[\"SampleSize\"] = N_Conversion[\"SampleSize\"]*12.5*2\n",
        "N_Conversion[\"SampleSize\"]"
      ],
      "execution_count": 545,
      "outputs": [
        {
          "output_type": "execute_result",
          "data": {
            "text/plain": [
              "685325.0"
            ]
          },
          "metadata": {
            "tags": []
          },
          "execution_count": 545
        }
      ]
    },
    {
      "cell_type": "markdown",
      "metadata": {
        "id": "qiLxfd6fCsGs",
        "colab_type": "text"
      },
      "source": [
        "                   This is more than what we got for Gross Conversion, so this is ok."
      ]
    },
    {
      "cell_type": "markdown",
      "metadata": {
        "id": "uMdl5OT6Hkxr",
        "colab_type": "text"
      },
      "source": [
        "### Understanding Changes between the Control and Experiment groups with regard to our Evaluation Metrics to make sure the difference is there"
      ]
    },
    {
      "cell_type": "code",
      "metadata": {
        "id": "U7AQSOH8FXpM",
        "colab_type": "code",
        "colab": {}
      },
      "source": [
        "\n",
        "def getzscore(alpha):\n",
        "    return norm.ppf(alpha)"
      ],
      "execution_count": 0,
      "outputs": []
    },
    {
      "cell_type": "markdown",
      "metadata": {
        "id": "v7svyeIwM1zx",
        "colab_type": "text"
      },
      "source": [
        "**Gross Conversion Metric - number of enrollments divided by number of clicks**"
      ]
    },
    {
      "cell_type": "code",
      "metadata": {
        "id": "KUiiibOlCBZV",
        "colab_type": "code",
        "outputId": "7b740b64-d3b8-4cfe-aef4-f3089f73d10a",
        "colab": {
          "base_uri": "https://localhost:8080/",
          "height": 52
        }
      },
      "source": [
        "# extract the total clicks without missing values\n",
        "alpha =0.05\n",
        "control_clicks = control[\"Clicks\"].loc[control[\"Enrollments\"].notnull()].sum()\n",
        "experiment_clicks = experiment[\"Clicks\"].loc[experiment[\"Enrollments\"].notnull()].sum()\n",
        "\n",
        "control_enrollments = control[\"Enrollments\"].sum()\n",
        "experiment_enrollments = experiment[\"Enrollments\"].sum()\n",
        "\n",
        "control_gross = control_enrollments/control_clicks\n",
        "experiment_gross = experiment_enrollments/experiment_clicks\n",
        "pooled_gross = (control_enrollments + experiment_enrollments)/(control_clicks + experiment_clicks)\n",
        "pooled_gross_sd = sqrt(pooled_gross*(1-pooled_gross)*(1/control_clicks+1/experiment_clicks))\n",
        "gross = round(getzscore(1-alpha/2)*pooled_gross_sd,4)\n",
        "gross_diff = round(experiment_gross - control_gross, 4)\n",
        "print(\"The change due to this experimentation is\", gross_diff*100,\"%\")\n",
        "print(\"Confidence Interval: [\",gross_diff - gross,\",\",gross_diff + gross,\"]\")\n",
        "#print (\"The change is statistically significant if the CI doesn't include 0. In that case, it is practically significant if\",-GC[\"d_min\"],\"is not in the CI as well.\")"
      ],
      "execution_count": 547,
      "outputs": [
        {
          "output_type": "stream",
          "text": [
            "The change due to this experimentation is -2.06 %\n",
            "Confidence Interval: [ -0.0292 , -0.012 ]\n"
          ],
          "name": "stdout"
        }
      ]
    },
    {
      "cell_type": "markdown",
      "metadata": {
        "id": "htV9zVZMKqV6",
        "colab_type": "text"
      },
      "source": [
        "               According to the above, we have a change of -2.06%. Gross Conversion rate of the \n",
        "               experiment group has decreased by 2% and this change was significant"
      ]
    },
    {
      "cell_type": "markdown",
      "metadata": {
        "id": "rlep-VvNQGxb",
        "colab_type": "text"
      },
      "source": [
        "**Net Conversion Metric - number of payents divided by number of clicks**"
      ]
    },
    {
      "cell_type": "code",
      "metadata": {
        "id": "ZYdapne3KpBh",
        "colab_type": "code",
        "outputId": "5d415957-a456-4c98-c577-c1214aa05de0",
        "colab": {
          "base_uri": "https://localhost:8080/",
          "height": 52
        }
      },
      "source": [
        "control_payments = control[\"Payments\"].sum()\n",
        "experiment_payments = experiment[\"Payments\"].sum()\n",
        "\n",
        "control_net = control_payments/control_clicks\n",
        "experiment_net = experiment_payments/experiment_clicks\n",
        "pooled_net = (control_payments + experiment_payments)/(control_clicks + experiment_clicks)\n",
        "pooled_net_sd = sqrt(pooled_net*(1-pooled_net)*(1/control_clicks+1/experiment_clicks))\n",
        "net = round(getzscore(1-alpha/2)*pooled_net_sd, 4)\n",
        "net_diff = round(experiment_net - control_net, 4)\n",
        "print(\"The change due to this experimentation is\", net_diff*100,\"%\")\n",
        "print(\"Confidence Interval: [\",net_diff - net,\",\", net_diff + net,\"]\")\n",
        "#print (\"The change is statistically significant if the CI doesn't include 0. In that case, it is practically significant if\",-GC[\"d_min\"],\"is not in the CI as well.\")"
      ],
      "execution_count": 548,
      "outputs": [
        {
          "output_type": "stream",
          "text": [
            "The change due to this experimentation is -0.49 %\n",
            "Confidence Interval: [ -0.0116 , 0.0018000000000000004 ]\n"
          ],
          "name": "stdout"
        }
      ]
    },
    {
      "cell_type": "markdown",
      "metadata": {
        "id": "JRaFcxMkTYAX",
        "colab_type": "text"
      },
      "source": [
        "             This change is less than  0.5%, a very small decrease which is\n",
        "             not statistically significant"
      ]
    },
    {
      "cell_type": "markdown",
      "metadata": {
        "id": "e7rhJiPMIxrO",
        "colab_type": "text"
      },
      "source": [
        "# Machine Learning"
      ]
    },
    {
      "cell_type": "markdown",
      "metadata": {
        "id": "U2-_ffyKJU1v",
        "colab_type": "text"
      },
      "source": [
        "###Data analysis tasks:"
      ]
    },
    {
      "cell_type": "code",
      "metadata": {
        "id": "UjwdDK6a3glW",
        "colab_type": "code",
        "outputId": "6a49b467-326a-4328-c04d-064e6f3b1a08",
        "colab": {
          "base_uri": "https://localhost:8080/",
          "height": 197
        }
      },
      "source": [
        "control['id'] = 'control'\n",
        "control.head()"
      ],
      "execution_count": 549,
      "outputs": [
        {
          "output_type": "execute_result",
          "data": {
            "text/html": [
              "<div>\n",
              "<style scoped>\n",
              "    .dataframe tbody tr th:only-of-type {\n",
              "        vertical-align: middle;\n",
              "    }\n",
              "\n",
              "    .dataframe tbody tr th {\n",
              "        vertical-align: top;\n",
              "    }\n",
              "\n",
              "    .dataframe thead th {\n",
              "        text-align: right;\n",
              "    }\n",
              "</style>\n",
              "<table border=\"1\" class=\"dataframe\">\n",
              "  <thead>\n",
              "    <tr style=\"text-align: right;\">\n",
              "      <th></th>\n",
              "      <th>Date</th>\n",
              "      <th>Pageviews</th>\n",
              "      <th>Clicks</th>\n",
              "      <th>Enrollments</th>\n",
              "      <th>Payments</th>\n",
              "      <th>id</th>\n",
              "    </tr>\n",
              "  </thead>\n",
              "  <tbody>\n",
              "    <tr>\n",
              "      <th>0</th>\n",
              "      <td>Sat, Oct 11</td>\n",
              "      <td>7723</td>\n",
              "      <td>687</td>\n",
              "      <td>134.0</td>\n",
              "      <td>70.0</td>\n",
              "      <td>control</td>\n",
              "    </tr>\n",
              "    <tr>\n",
              "      <th>1</th>\n",
              "      <td>Sun, Oct 12</td>\n",
              "      <td>9102</td>\n",
              "      <td>779</td>\n",
              "      <td>147.0</td>\n",
              "      <td>70.0</td>\n",
              "      <td>control</td>\n",
              "    </tr>\n",
              "    <tr>\n",
              "      <th>2</th>\n",
              "      <td>Mon, Oct 13</td>\n",
              "      <td>10511</td>\n",
              "      <td>909</td>\n",
              "      <td>167.0</td>\n",
              "      <td>95.0</td>\n",
              "      <td>control</td>\n",
              "    </tr>\n",
              "    <tr>\n",
              "      <th>3</th>\n",
              "      <td>Tue, Oct 14</td>\n",
              "      <td>9871</td>\n",
              "      <td>836</td>\n",
              "      <td>156.0</td>\n",
              "      <td>105.0</td>\n",
              "      <td>control</td>\n",
              "    </tr>\n",
              "    <tr>\n",
              "      <th>4</th>\n",
              "      <td>Wed, Oct 15</td>\n",
              "      <td>10014</td>\n",
              "      <td>837</td>\n",
              "      <td>163.0</td>\n",
              "      <td>64.0</td>\n",
              "      <td>control</td>\n",
              "    </tr>\n",
              "  </tbody>\n",
              "</table>\n",
              "</div>"
            ],
            "text/plain": [
              "          Date  Pageviews  Clicks  Enrollments  Payments       id\n",
              "0  Sat, Oct 11       7723     687        134.0      70.0  control\n",
              "1  Sun, Oct 12       9102     779        147.0      70.0  control\n",
              "2  Mon, Oct 13      10511     909        167.0      95.0  control\n",
              "3  Tue, Oct 14       9871     836        156.0     105.0  control\n",
              "4  Wed, Oct 15      10014     837        163.0      64.0  control"
            ]
          },
          "metadata": {
            "tags": []
          },
          "execution_count": 549
        }
      ]
    },
    {
      "cell_type": "code",
      "metadata": {
        "id": "SQMSu7xwKP8r",
        "colab_type": "code",
        "outputId": "655313ee-5c14-4dd2-b104-0fec187a02ed",
        "colab": {
          "base_uri": "https://localhost:8080/",
          "height": 197
        }
      },
      "source": [
        "experiment['id'] = 'experiment'\n",
        "experiment.head()"
      ],
      "execution_count": 550,
      "outputs": [
        {
          "output_type": "execute_result",
          "data": {
            "text/html": [
              "<div>\n",
              "<style scoped>\n",
              "    .dataframe tbody tr th:only-of-type {\n",
              "        vertical-align: middle;\n",
              "    }\n",
              "\n",
              "    .dataframe tbody tr th {\n",
              "        vertical-align: top;\n",
              "    }\n",
              "\n",
              "    .dataframe thead th {\n",
              "        text-align: right;\n",
              "    }\n",
              "</style>\n",
              "<table border=\"1\" class=\"dataframe\">\n",
              "  <thead>\n",
              "    <tr style=\"text-align: right;\">\n",
              "      <th></th>\n",
              "      <th>Date</th>\n",
              "      <th>Pageviews</th>\n",
              "      <th>Clicks</th>\n",
              "      <th>Enrollments</th>\n",
              "      <th>Payments</th>\n",
              "      <th>id</th>\n",
              "    </tr>\n",
              "  </thead>\n",
              "  <tbody>\n",
              "    <tr>\n",
              "      <th>0</th>\n",
              "      <td>Sat, Oct 11</td>\n",
              "      <td>7716</td>\n",
              "      <td>686</td>\n",
              "      <td>105.0</td>\n",
              "      <td>34.0</td>\n",
              "      <td>experiment</td>\n",
              "    </tr>\n",
              "    <tr>\n",
              "      <th>1</th>\n",
              "      <td>Sun, Oct 12</td>\n",
              "      <td>9288</td>\n",
              "      <td>785</td>\n",
              "      <td>116.0</td>\n",
              "      <td>91.0</td>\n",
              "      <td>experiment</td>\n",
              "    </tr>\n",
              "    <tr>\n",
              "      <th>2</th>\n",
              "      <td>Mon, Oct 13</td>\n",
              "      <td>10480</td>\n",
              "      <td>884</td>\n",
              "      <td>145.0</td>\n",
              "      <td>79.0</td>\n",
              "      <td>experiment</td>\n",
              "    </tr>\n",
              "    <tr>\n",
              "      <th>3</th>\n",
              "      <td>Tue, Oct 14</td>\n",
              "      <td>9867</td>\n",
              "      <td>827</td>\n",
              "      <td>138.0</td>\n",
              "      <td>92.0</td>\n",
              "      <td>experiment</td>\n",
              "    </tr>\n",
              "    <tr>\n",
              "      <th>4</th>\n",
              "      <td>Wed, Oct 15</td>\n",
              "      <td>9793</td>\n",
              "      <td>832</td>\n",
              "      <td>140.0</td>\n",
              "      <td>94.0</td>\n",
              "      <td>experiment</td>\n",
              "    </tr>\n",
              "  </tbody>\n",
              "</table>\n",
              "</div>"
            ],
            "text/plain": [
              "          Date  Pageviews  Clicks  Enrollments  Payments          id\n",
              "0  Sat, Oct 11       7716     686        105.0      34.0  experiment\n",
              "1  Sun, Oct 12       9288     785        116.0      91.0  experiment\n",
              "2  Mon, Oct 13      10480     884        145.0      79.0  experiment\n",
              "3  Tue, Oct 14       9867     827        138.0      92.0  experiment\n",
              "4  Wed, Oct 15       9793     832        140.0      94.0  experiment"
            ]
          },
          "metadata": {
            "tags": []
          },
          "execution_count": 550
        }
      ]
    },
    {
      "cell_type": "code",
      "metadata": {
        "id": "9lNGnFjI3dwP",
        "colab_type": "code",
        "colab": {}
      },
      "source": [
        ""
      ],
      "execution_count": 0,
      "outputs": []
    },
    {
      "cell_type": "markdown",
      "metadata": {
        "id": "cfeT1mrgJd-_",
        "colab_type": "text"
      },
      "source": [
        "**Combine the control_tbl and experiment_tbl, adding an “id” column indicating if the data was part of the experiment or not**"
      ]
    },
    {
      "cell_type": "code",
      "metadata": {
        "id": "4D2WTeDMKVki",
        "colab_type": "code",
        "outputId": "324b5dad-6cd8-43dd-cbba-85375f85e099",
        "colab": {
          "base_uri": "https://localhost:8080/",
          "height": 215
        }
      },
      "source": [
        "com_data = pd.concat([control, experiment], ignore_index=True, join='inner')\n",
        "print(com_data.shape)\n",
        "com_data.head()"
      ],
      "execution_count": 551,
      "outputs": [
        {
          "output_type": "stream",
          "text": [
            "(74, 6)\n"
          ],
          "name": "stdout"
        },
        {
          "output_type": "execute_result",
          "data": {
            "text/html": [
              "<div>\n",
              "<style scoped>\n",
              "    .dataframe tbody tr th:only-of-type {\n",
              "        vertical-align: middle;\n",
              "    }\n",
              "\n",
              "    .dataframe tbody tr th {\n",
              "        vertical-align: top;\n",
              "    }\n",
              "\n",
              "    .dataframe thead th {\n",
              "        text-align: right;\n",
              "    }\n",
              "</style>\n",
              "<table border=\"1\" class=\"dataframe\">\n",
              "  <thead>\n",
              "    <tr style=\"text-align: right;\">\n",
              "      <th></th>\n",
              "      <th>Date</th>\n",
              "      <th>Pageviews</th>\n",
              "      <th>Clicks</th>\n",
              "      <th>Enrollments</th>\n",
              "      <th>Payments</th>\n",
              "      <th>id</th>\n",
              "    </tr>\n",
              "  </thead>\n",
              "  <tbody>\n",
              "    <tr>\n",
              "      <th>0</th>\n",
              "      <td>Sat, Oct 11</td>\n",
              "      <td>7723</td>\n",
              "      <td>687</td>\n",
              "      <td>134.0</td>\n",
              "      <td>70.0</td>\n",
              "      <td>control</td>\n",
              "    </tr>\n",
              "    <tr>\n",
              "      <th>1</th>\n",
              "      <td>Sun, Oct 12</td>\n",
              "      <td>9102</td>\n",
              "      <td>779</td>\n",
              "      <td>147.0</td>\n",
              "      <td>70.0</td>\n",
              "      <td>control</td>\n",
              "    </tr>\n",
              "    <tr>\n",
              "      <th>2</th>\n",
              "      <td>Mon, Oct 13</td>\n",
              "      <td>10511</td>\n",
              "      <td>909</td>\n",
              "      <td>167.0</td>\n",
              "      <td>95.0</td>\n",
              "      <td>control</td>\n",
              "    </tr>\n",
              "    <tr>\n",
              "      <th>3</th>\n",
              "      <td>Tue, Oct 14</td>\n",
              "      <td>9871</td>\n",
              "      <td>836</td>\n",
              "      <td>156.0</td>\n",
              "      <td>105.0</td>\n",
              "      <td>control</td>\n",
              "    </tr>\n",
              "    <tr>\n",
              "      <th>4</th>\n",
              "      <td>Wed, Oct 15</td>\n",
              "      <td>10014</td>\n",
              "      <td>837</td>\n",
              "      <td>163.0</td>\n",
              "      <td>64.0</td>\n",
              "      <td>control</td>\n",
              "    </tr>\n",
              "  </tbody>\n",
              "</table>\n",
              "</div>"
            ],
            "text/plain": [
              "          Date  Pageviews  Clicks  Enrollments  Payments       id\n",
              "0  Sat, Oct 11       7723     687        134.0      70.0  control\n",
              "1  Sun, Oct 12       9102     779        147.0      70.0  control\n",
              "2  Mon, Oct 13      10511     909        167.0      95.0  control\n",
              "3  Tue, Oct 14       9871     836        156.0     105.0  control\n",
              "4  Wed, Oct 15      10014     837        163.0      64.0  control"
            ]
          },
          "metadata": {
            "tags": []
          },
          "execution_count": 551
        }
      ]
    },
    {
      "cell_type": "markdown",
      "metadata": {
        "id": "aeRYZDeoEEh0",
        "colab_type": "text"
      },
      "source": [
        "**Add a “row_id” column to help for tracking which rows are selected for training and testing in the modeling section**"
      ]
    },
    {
      "cell_type": "code",
      "metadata": {
        "id": "JsqgKkVWeNrZ",
        "colab_type": "code",
        "outputId": "6810526e-ee90-47ee-c082-5dad58d71864",
        "colab": {
          "base_uri": "https://localhost:8080/",
          "height": 215
        }
      },
      "source": [
        "com_data['row_id'] = np.arange(len(com_data))\n",
        "print(com_data.shape)\n",
        "com_data.head()"
      ],
      "execution_count": 552,
      "outputs": [
        {
          "output_type": "stream",
          "text": [
            "(74, 7)\n"
          ],
          "name": "stdout"
        },
        {
          "output_type": "execute_result",
          "data": {
            "text/html": [
              "<div>\n",
              "<style scoped>\n",
              "    .dataframe tbody tr th:only-of-type {\n",
              "        vertical-align: middle;\n",
              "    }\n",
              "\n",
              "    .dataframe tbody tr th {\n",
              "        vertical-align: top;\n",
              "    }\n",
              "\n",
              "    .dataframe thead th {\n",
              "        text-align: right;\n",
              "    }\n",
              "</style>\n",
              "<table border=\"1\" class=\"dataframe\">\n",
              "  <thead>\n",
              "    <tr style=\"text-align: right;\">\n",
              "      <th></th>\n",
              "      <th>Date</th>\n",
              "      <th>Pageviews</th>\n",
              "      <th>Clicks</th>\n",
              "      <th>Enrollments</th>\n",
              "      <th>Payments</th>\n",
              "      <th>id</th>\n",
              "      <th>row_id</th>\n",
              "    </tr>\n",
              "  </thead>\n",
              "  <tbody>\n",
              "    <tr>\n",
              "      <th>0</th>\n",
              "      <td>Sat, Oct 11</td>\n",
              "      <td>7723</td>\n",
              "      <td>687</td>\n",
              "      <td>134.0</td>\n",
              "      <td>70.0</td>\n",
              "      <td>control</td>\n",
              "      <td>0</td>\n",
              "    </tr>\n",
              "    <tr>\n",
              "      <th>1</th>\n",
              "      <td>Sun, Oct 12</td>\n",
              "      <td>9102</td>\n",
              "      <td>779</td>\n",
              "      <td>147.0</td>\n",
              "      <td>70.0</td>\n",
              "      <td>control</td>\n",
              "      <td>1</td>\n",
              "    </tr>\n",
              "    <tr>\n",
              "      <th>2</th>\n",
              "      <td>Mon, Oct 13</td>\n",
              "      <td>10511</td>\n",
              "      <td>909</td>\n",
              "      <td>167.0</td>\n",
              "      <td>95.0</td>\n",
              "      <td>control</td>\n",
              "      <td>2</td>\n",
              "    </tr>\n",
              "    <tr>\n",
              "      <th>3</th>\n",
              "      <td>Tue, Oct 14</td>\n",
              "      <td>9871</td>\n",
              "      <td>836</td>\n",
              "      <td>156.0</td>\n",
              "      <td>105.0</td>\n",
              "      <td>control</td>\n",
              "      <td>3</td>\n",
              "    </tr>\n",
              "    <tr>\n",
              "      <th>4</th>\n",
              "      <td>Wed, Oct 15</td>\n",
              "      <td>10014</td>\n",
              "      <td>837</td>\n",
              "      <td>163.0</td>\n",
              "      <td>64.0</td>\n",
              "      <td>control</td>\n",
              "      <td>4</td>\n",
              "    </tr>\n",
              "  </tbody>\n",
              "</table>\n",
              "</div>"
            ],
            "text/plain": [
              "          Date  Pageviews  Clicks  Enrollments  Payments       id  row_id\n",
              "0  Sat, Oct 11       7723     687        134.0      70.0  control       0\n",
              "1  Sun, Oct 12       9102     779        147.0      70.0  control       1\n",
              "2  Mon, Oct 13      10511     909        167.0      95.0  control       2\n",
              "3  Tue, Oct 14       9871     836        156.0     105.0  control       3\n",
              "4  Wed, Oct 15      10014     837        163.0      64.0  control       4"
            ]
          },
          "metadata": {
            "tags": []
          },
          "execution_count": 552
        }
      ]
    },
    {
      "cell_type": "markdown",
      "metadata": {
        "id": "frzJry2qhUCj",
        "colab_type": "text"
      },
      "source": [
        "**Create a “Day of Week” feature from the “Date” column**"
      ]
    },
    {
      "cell_type": "code",
      "metadata": {
        "id": "hIHakucGKrTY",
        "colab_type": "code",
        "outputId": "d8af2476-89b7-46fb-9260-1f14b9cff035",
        "colab": {
          "base_uri": "https://localhost:8080/",
          "height": 215
        }
      },
      "source": [
        "df = pd.DataFrame(com_data['Date'].str.split(' ',1).tolist(), columns = ['Day of Week','Month'])\n",
        "df.drop('Month', axis = 1, inplace=True)\n",
        "df['row_id'] = np.arange(len(df))\n",
        "com_data1 = pd.merge(com_data, df, left_on = 'row_id', right_on = 'row_id')\n",
        "print(com_data1.shape)\n",
        "com_data1.head()"
      ],
      "execution_count": 553,
      "outputs": [
        {
          "output_type": "stream",
          "text": [
            "(74, 8)\n"
          ],
          "name": "stdout"
        },
        {
          "output_type": "execute_result",
          "data": {
            "text/html": [
              "<div>\n",
              "<style scoped>\n",
              "    .dataframe tbody tr th:only-of-type {\n",
              "        vertical-align: middle;\n",
              "    }\n",
              "\n",
              "    .dataframe tbody tr th {\n",
              "        vertical-align: top;\n",
              "    }\n",
              "\n",
              "    .dataframe thead th {\n",
              "        text-align: right;\n",
              "    }\n",
              "</style>\n",
              "<table border=\"1\" class=\"dataframe\">\n",
              "  <thead>\n",
              "    <tr style=\"text-align: right;\">\n",
              "      <th></th>\n",
              "      <th>Date</th>\n",
              "      <th>Pageviews</th>\n",
              "      <th>Clicks</th>\n",
              "      <th>Enrollments</th>\n",
              "      <th>Payments</th>\n",
              "      <th>id</th>\n",
              "      <th>row_id</th>\n",
              "      <th>Day of Week</th>\n",
              "    </tr>\n",
              "  </thead>\n",
              "  <tbody>\n",
              "    <tr>\n",
              "      <th>0</th>\n",
              "      <td>Sat, Oct 11</td>\n",
              "      <td>7723</td>\n",
              "      <td>687</td>\n",
              "      <td>134.0</td>\n",
              "      <td>70.0</td>\n",
              "      <td>control</td>\n",
              "      <td>0</td>\n",
              "      <td>Sat,</td>\n",
              "    </tr>\n",
              "    <tr>\n",
              "      <th>1</th>\n",
              "      <td>Sun, Oct 12</td>\n",
              "      <td>9102</td>\n",
              "      <td>779</td>\n",
              "      <td>147.0</td>\n",
              "      <td>70.0</td>\n",
              "      <td>control</td>\n",
              "      <td>1</td>\n",
              "      <td>Sun,</td>\n",
              "    </tr>\n",
              "    <tr>\n",
              "      <th>2</th>\n",
              "      <td>Mon, Oct 13</td>\n",
              "      <td>10511</td>\n",
              "      <td>909</td>\n",
              "      <td>167.0</td>\n",
              "      <td>95.0</td>\n",
              "      <td>control</td>\n",
              "      <td>2</td>\n",
              "      <td>Mon,</td>\n",
              "    </tr>\n",
              "    <tr>\n",
              "      <th>3</th>\n",
              "      <td>Tue, Oct 14</td>\n",
              "      <td>9871</td>\n",
              "      <td>836</td>\n",
              "      <td>156.0</td>\n",
              "      <td>105.0</td>\n",
              "      <td>control</td>\n",
              "      <td>3</td>\n",
              "      <td>Tue,</td>\n",
              "    </tr>\n",
              "    <tr>\n",
              "      <th>4</th>\n",
              "      <td>Wed, Oct 15</td>\n",
              "      <td>10014</td>\n",
              "      <td>837</td>\n",
              "      <td>163.0</td>\n",
              "      <td>64.0</td>\n",
              "      <td>control</td>\n",
              "      <td>4</td>\n",
              "      <td>Wed,</td>\n",
              "    </tr>\n",
              "  </tbody>\n",
              "</table>\n",
              "</div>"
            ],
            "text/plain": [
              "          Date  Pageviews  Clicks  ...       id  row_id Day of Week\n",
              "0  Sat, Oct 11       7723     687  ...  control       0        Sat,\n",
              "1  Sun, Oct 12       9102     779  ...  control       1        Sun,\n",
              "2  Mon, Oct 13      10511     909  ...  control       2        Mon,\n",
              "3  Tue, Oct 14       9871     836  ...  control       3        Tue,\n",
              "4  Wed, Oct 15      10014     837  ...  control       4        Wed,\n",
              "\n",
              "[5 rows x 8 columns]"
            ]
          },
          "metadata": {
            "tags": []
          },
          "execution_count": 553
        }
      ]
    },
    {
      "cell_type": "markdown",
      "metadata": {
        "id": "FCn8GspHhi0K",
        "colab_type": "text"
      },
      "source": [
        "**Drop the “Date” column and the “Payments” column**"
      ]
    },
    {
      "cell_type": "code",
      "metadata": {
        "id": "E-B7aMu9DoUV",
        "colab_type": "code",
        "colab": {}
      },
      "source": [
        "com_data1.drop(['Date', 'Payments'], axis = 1, inplace = True)"
      ],
      "execution_count": 0,
      "outputs": []
    },
    {
      "cell_type": "code",
      "metadata": {
        "id": "VunPGSWEEu-5",
        "colab_type": "code",
        "outputId": "c3645371-2b5d-44f5-a019-fc0cc65d15ef",
        "colab": {
          "base_uri": "https://localhost:8080/",
          "height": 215
        }
      },
      "source": [
        "print(com_data1.shape)\n",
        "com_data1.head()\n"
      ],
      "execution_count": 555,
      "outputs": [
        {
          "output_type": "stream",
          "text": [
            "(74, 6)\n"
          ],
          "name": "stdout"
        },
        {
          "output_type": "execute_result",
          "data": {
            "text/html": [
              "<div>\n",
              "<style scoped>\n",
              "    .dataframe tbody tr th:only-of-type {\n",
              "        vertical-align: middle;\n",
              "    }\n",
              "\n",
              "    .dataframe tbody tr th {\n",
              "        vertical-align: top;\n",
              "    }\n",
              "\n",
              "    .dataframe thead th {\n",
              "        text-align: right;\n",
              "    }\n",
              "</style>\n",
              "<table border=\"1\" class=\"dataframe\">\n",
              "  <thead>\n",
              "    <tr style=\"text-align: right;\">\n",
              "      <th></th>\n",
              "      <th>Pageviews</th>\n",
              "      <th>Clicks</th>\n",
              "      <th>Enrollments</th>\n",
              "      <th>id</th>\n",
              "      <th>row_id</th>\n",
              "      <th>Day of Week</th>\n",
              "    </tr>\n",
              "  </thead>\n",
              "  <tbody>\n",
              "    <tr>\n",
              "      <th>0</th>\n",
              "      <td>7723</td>\n",
              "      <td>687</td>\n",
              "      <td>134.0</td>\n",
              "      <td>control</td>\n",
              "      <td>0</td>\n",
              "      <td>Sat,</td>\n",
              "    </tr>\n",
              "    <tr>\n",
              "      <th>1</th>\n",
              "      <td>9102</td>\n",
              "      <td>779</td>\n",
              "      <td>147.0</td>\n",
              "      <td>control</td>\n",
              "      <td>1</td>\n",
              "      <td>Sun,</td>\n",
              "    </tr>\n",
              "    <tr>\n",
              "      <th>2</th>\n",
              "      <td>10511</td>\n",
              "      <td>909</td>\n",
              "      <td>167.0</td>\n",
              "      <td>control</td>\n",
              "      <td>2</td>\n",
              "      <td>Mon,</td>\n",
              "    </tr>\n",
              "    <tr>\n",
              "      <th>3</th>\n",
              "      <td>9871</td>\n",
              "      <td>836</td>\n",
              "      <td>156.0</td>\n",
              "      <td>control</td>\n",
              "      <td>3</td>\n",
              "      <td>Tue,</td>\n",
              "    </tr>\n",
              "    <tr>\n",
              "      <th>4</th>\n",
              "      <td>10014</td>\n",
              "      <td>837</td>\n",
              "      <td>163.0</td>\n",
              "      <td>control</td>\n",
              "      <td>4</td>\n",
              "      <td>Wed,</td>\n",
              "    </tr>\n",
              "  </tbody>\n",
              "</table>\n",
              "</div>"
            ],
            "text/plain": [
              "   Pageviews  Clicks  Enrollments       id  row_id Day of Week\n",
              "0       7723     687        134.0  control       0        Sat,\n",
              "1       9102     779        147.0  control       1        Sun,\n",
              "2      10511     909        167.0  control       2        Mon,\n",
              "3       9871     836        156.0  control       3        Tue,\n",
              "4      10014     837        163.0  control       4        Wed,"
            ]
          },
          "metadata": {
            "tags": []
          },
          "execution_count": 555
        }
      ]
    },
    {
      "cell_type": "markdown",
      "metadata": {
        "id": "vNQk17jshdWH",
        "colab_type": "text"
      },
      "source": [
        "**Handle the missing data (NA) by removing these rows**"
      ]
    },
    {
      "cell_type": "code",
      "metadata": {
        "id": "K8SRxdKEHpd5",
        "colab_type": "code",
        "outputId": "bc6a772c-a298-4984-e9b8-6dd728e4d6c9",
        "colab": {
          "base_uri": "https://localhost:8080/",
          "height": 158
        }
      },
      "source": [
        "\n",
        "com_data1.dropna(inplace = True)\n",
        "print(com_data1.shape)\n",
        "com_data1.isnull().sum()\n"
      ],
      "execution_count": 556,
      "outputs": [
        {
          "output_type": "stream",
          "text": [
            "(46, 6)\n"
          ],
          "name": "stdout"
        },
        {
          "output_type": "execute_result",
          "data": {
            "text/plain": [
              "Pageviews      0\n",
              "Clicks         0\n",
              "Enrollments    0\n",
              "id             0\n",
              "row_id         0\n",
              "Day of Week    0\n",
              "dtype: int64"
            ]
          },
          "metadata": {
            "tags": []
          },
          "execution_count": 556
        }
      ]
    },
    {
      "cell_type": "markdown",
      "metadata": {
        "id": "unokdF14jY8W",
        "colab_type": "text"
      },
      "source": [
        "**Shuffle the rows to mix the data up for learning**"
      ]
    },
    {
      "cell_type": "code",
      "metadata": {
        "id": "U7Pk6CNmiFo8",
        "colab_type": "code",
        "outputId": "b521d619-58a8-4c55-af7a-dad0c133ed0c",
        "colab": {
          "base_uri": "https://localhost:8080/",
          "height": 215
        }
      },
      "source": [
        "com_data1 = shuffle(com_data1).reset_index(drop=True)\n",
        "print(com_data1.shape)\n",
        "com_data1.head()"
      ],
      "execution_count": 557,
      "outputs": [
        {
          "output_type": "stream",
          "text": [
            "(46, 6)\n"
          ],
          "name": "stdout"
        },
        {
          "output_type": "execute_result",
          "data": {
            "text/html": [
              "<div>\n",
              "<style scoped>\n",
              "    .dataframe tbody tr th:only-of-type {\n",
              "        vertical-align: middle;\n",
              "    }\n",
              "\n",
              "    .dataframe tbody tr th {\n",
              "        vertical-align: top;\n",
              "    }\n",
              "\n",
              "    .dataframe thead th {\n",
              "        text-align: right;\n",
              "    }\n",
              "</style>\n",
              "<table border=\"1\" class=\"dataframe\">\n",
              "  <thead>\n",
              "    <tr style=\"text-align: right;\">\n",
              "      <th></th>\n",
              "      <th>Pageviews</th>\n",
              "      <th>Clicks</th>\n",
              "      <th>Enrollments</th>\n",
              "      <th>id</th>\n",
              "      <th>row_id</th>\n",
              "      <th>Day of Week</th>\n",
              "    </tr>\n",
              "  </thead>\n",
              "  <tbody>\n",
              "    <tr>\n",
              "      <th>0</th>\n",
              "      <td>9262</td>\n",
              "      <td>727</td>\n",
              "      <td>201.0</td>\n",
              "      <td>experiment</td>\n",
              "      <td>55</td>\n",
              "      <td>Wed,</td>\n",
              "    </tr>\n",
              "    <tr>\n",
              "      <th>1</th>\n",
              "      <td>9363</td>\n",
              "      <td>736</td>\n",
              "      <td>154.0</td>\n",
              "      <td>control</td>\n",
              "      <td>17</td>\n",
              "      <td>Tue,</td>\n",
              "    </tr>\n",
              "    <tr>\n",
              "      <th>2</th>\n",
              "      <td>9871</td>\n",
              "      <td>836</td>\n",
              "      <td>156.0</td>\n",
              "      <td>control</td>\n",
              "      <td>3</td>\n",
              "      <td>Tue,</td>\n",
              "    </tr>\n",
              "    <tr>\n",
              "      <th>3</th>\n",
              "      <td>8459</td>\n",
              "      <td>691</td>\n",
              "      <td>131.0</td>\n",
              "      <td>control</td>\n",
              "      <td>8</td>\n",
              "      <td>Sun,</td>\n",
              "    </tr>\n",
              "    <tr>\n",
              "      <th>4</th>\n",
              "      <td>7716</td>\n",
              "      <td>686</td>\n",
              "      <td>105.0</td>\n",
              "      <td>experiment</td>\n",
              "      <td>37</td>\n",
              "      <td>Sat,</td>\n",
              "    </tr>\n",
              "  </tbody>\n",
              "</table>\n",
              "</div>"
            ],
            "text/plain": [
              "   Pageviews  Clicks  Enrollments          id  row_id Day of Week\n",
              "0       9262     727        201.0  experiment      55        Wed,\n",
              "1       9363     736        154.0     control      17        Tue,\n",
              "2       9871     836        156.0     control       3        Tue,\n",
              "3       8459     691        131.0     control       8        Sun,\n",
              "4       7716     686        105.0  experiment      37        Sat,"
            ]
          },
          "metadata": {
            "tags": []
          },
          "execution_count": 557
        }
      ]
    },
    {
      "cell_type": "code",
      "metadata": {
        "id": "bxwwO5ehkCYT",
        "colab_type": "code",
        "outputId": "499cc4b6-d829-46e0-928a-a0b27f44261c",
        "colab": {
          "base_uri": "https://localhost:8080/",
          "height": 378
        }
      },
      "source": [
        "#get correlations of each features in dataset\n",
        "corrmat = com_data1.corr()\n",
        "top_corr_features = corrmat.index\n",
        "plt.figure(figsize=(10,6))\n",
        "#plot heat map\n",
        "sns.heatmap(com_data1[top_corr_features].corr(),annot=True,cmap=\"RdYlGn\");"
      ],
      "execution_count": 558,
      "outputs": [
        {
          "output_type": "display_data",
          "data": {
            "image/png": "[encoded data removed]",
            "text/plain": [
              "<Figure size 720x432 with 2 Axes>"
            ]
          },
          "metadata": {
            "tags": []
          }
        }
      ]
    },
    {
      "cell_type": "markdown",
      "metadata": {
        "id": "MkVFg0EbLAj0",
        "colab_type": "text"
      },
      "source": [
        "                 Pageviews and Clicks have some correlation with Enrollments"
      ]
    },
    {
      "cell_type": "code",
      "metadata": {
        "id": "ykxCFHc3I2Xw",
        "colab_type": "code",
        "colab": {}
      },
      "source": [
        "com_data1['id'] = com_data1.id.astype('category')\n",
        "#com_data1['Day of Week'] = com_data1['Day of Week'].astype('category')"
      ],
      "execution_count": 0,
      "outputs": []
    },
    {
      "cell_type": "code",
      "metadata": {
        "id": "U3ps0FaCOqZn",
        "colab_type": "code",
        "outputId": "40cc31de-c57a-41d8-cb53-7a5507154306",
        "colab": {
          "base_uri": "https://localhost:8080/",
          "height": 197
        }
      },
      "source": [
        "com_data1.head()"
      ],
      "execution_count": 560,
      "outputs": [
        {
          "output_type": "execute_result",
          "data": {
            "text/html": [
              "<div>\n",
              "<style scoped>\n",
              "    .dataframe tbody tr th:only-of-type {\n",
              "        vertical-align: middle;\n",
              "    }\n",
              "\n",
              "    .dataframe tbody tr th {\n",
              "        vertical-align: top;\n",
              "    }\n",
              "\n",
              "    .dataframe thead th {\n",
              "        text-align: right;\n",
              "    }\n",
              "</style>\n",
              "<table border=\"1\" class=\"dataframe\">\n",
              "  <thead>\n",
              "    <tr style=\"text-align: right;\">\n",
              "      <th></th>\n",
              "      <th>Pageviews</th>\n",
              "      <th>Clicks</th>\n",
              "      <th>Enrollments</th>\n",
              "      <th>id</th>\n",
              "      <th>row_id</th>\n",
              "      <th>Day of Week</th>\n",
              "    </tr>\n",
              "  </thead>\n",
              "  <tbody>\n",
              "    <tr>\n",
              "      <th>0</th>\n",
              "      <td>9262</td>\n",
              "      <td>727</td>\n",
              "      <td>201.0</td>\n",
              "      <td>experiment</td>\n",
              "      <td>55</td>\n",
              "      <td>Wed,</td>\n",
              "    </tr>\n",
              "    <tr>\n",
              "      <th>1</th>\n",
              "      <td>9363</td>\n",
              "      <td>736</td>\n",
              "      <td>154.0</td>\n",
              "      <td>control</td>\n",
              "      <td>17</td>\n",
              "      <td>Tue,</td>\n",
              "    </tr>\n",
              "    <tr>\n",
              "      <th>2</th>\n",
              "      <td>9871</td>\n",
              "      <td>836</td>\n",
              "      <td>156.0</td>\n",
              "      <td>control</td>\n",
              "      <td>3</td>\n",
              "      <td>Tue,</td>\n",
              "    </tr>\n",
              "    <tr>\n",
              "      <th>3</th>\n",
              "      <td>8459</td>\n",
              "      <td>691</td>\n",
              "      <td>131.0</td>\n",
              "      <td>control</td>\n",
              "      <td>8</td>\n",
              "      <td>Sun,</td>\n",
              "    </tr>\n",
              "    <tr>\n",
              "      <th>4</th>\n",
              "      <td>7716</td>\n",
              "      <td>686</td>\n",
              "      <td>105.0</td>\n",
              "      <td>experiment</td>\n",
              "      <td>37</td>\n",
              "      <td>Sat,</td>\n",
              "    </tr>\n",
              "  </tbody>\n",
              "</table>\n",
              "</div>"
            ],
            "text/plain": [
              "   Pageviews  Clicks  Enrollments          id  row_id Day of Week\n",
              "0       9262     727        201.0  experiment      55        Wed,\n",
              "1       9363     736        154.0     control      17        Tue,\n",
              "2       9871     836        156.0     control       3        Tue,\n",
              "3       8459     691        131.0     control       8        Sun,\n",
              "4       7716     686        105.0  experiment      37        Sat,"
            ]
          },
          "metadata": {
            "tags": []
          },
          "execution_count": 560
        }
      ]
    },
    {
      "cell_type": "markdown",
      "metadata": {
        "id": "nm2EHmwtABgc",
        "colab_type": "text"
      },
      "source": [
        "**Encode id and Day of the Week categorical variables with one-hot-encoding**"
      ]
    },
    {
      "cell_type": "code",
      "metadata": {
        "id": "53W3UTq0XExE",
        "colab_type": "code",
        "outputId": "b6c375e3-40b2-4321-cec9-da4d470c68a4",
        "colab": {
          "base_uri": "https://localhost:8080/",
          "height": 197
        }
      },
      "source": [
        "trains = com_data1.drop(['row_id'], axis = 1)\n",
        "dummies = pd.get_dummies(data=trains[['id', 'Day of Week']], drop_first=True)\n",
        "merged = pd.concat([trains, dummies], axis = 'columns')\n",
        "final = merged.drop(['id', 'Day of Week'], axis = 1)\n",
        "final.head()\n",
        "\n",
        "\n"
      ],
      "execution_count": 561,
      "outputs": [
        {
          "output_type": "execute_result",
          "data": {
            "text/html": [
              "<div>\n",
              "<style scoped>\n",
              "    .dataframe tbody tr th:only-of-type {\n",
              "        vertical-align: middle;\n",
              "    }\n",
              "\n",
              "    .dataframe tbody tr th {\n",
              "        vertical-align: top;\n",
              "    }\n",
              "\n",
              "    .dataframe thead th {\n",
              "        text-align: right;\n",
              "    }\n",
              "</style>\n",
              "<table border=\"1\" class=\"dataframe\">\n",
              "  <thead>\n",
              "    <tr style=\"text-align: right;\">\n",
              "      <th></th>\n",
              "      <th>Pageviews</th>\n",
              "      <th>Clicks</th>\n",
              "      <th>Enrollments</th>\n",
              "      <th>id_experiment</th>\n",
              "      <th>Day of Week_Mon,</th>\n",
              "      <th>Day of Week_Sat,</th>\n",
              "      <th>Day of Week_Sun,</th>\n",
              "      <th>Day of Week_Thu,</th>\n",
              "      <th>Day of Week_Tue,</th>\n",
              "      <th>Day of Week_Wed,</th>\n",
              "    </tr>\n",
              "  </thead>\n",
              "  <tbody>\n",
              "    <tr>\n",
              "      <th>0</th>\n",
              "      <td>9262</td>\n",
              "      <td>727</td>\n",
              "      <td>201.0</td>\n",
              "      <td>1</td>\n",
              "      <td>0</td>\n",
              "      <td>0</td>\n",
              "      <td>0</td>\n",
              "      <td>0</td>\n",
              "      <td>0</td>\n",
              "      <td>1</td>\n",
              "    </tr>\n",
              "    <tr>\n",
              "      <th>1</th>\n",
              "      <td>9363</td>\n",
              "      <td>736</td>\n",
              "      <td>154.0</td>\n",
              "      <td>0</td>\n",
              "      <td>0</td>\n",
              "      <td>0</td>\n",
              "      <td>0</td>\n",
              "      <td>0</td>\n",
              "      <td>1</td>\n",
              "      <td>0</td>\n",
              "    </tr>\n",
              "    <tr>\n",
              "      <th>2</th>\n",
              "      <td>9871</td>\n",
              "      <td>836</td>\n",
              "      <td>156.0</td>\n",
              "      <td>0</td>\n",
              "      <td>0</td>\n",
              "      <td>0</td>\n",
              "      <td>0</td>\n",
              "      <td>0</td>\n",
              "      <td>1</td>\n",
              "      <td>0</td>\n",
              "    </tr>\n",
              "    <tr>\n",
              "      <th>3</th>\n",
              "      <td>8459</td>\n",
              "      <td>691</td>\n",
              "      <td>131.0</td>\n",
              "      <td>0</td>\n",
              "      <td>0</td>\n",
              "      <td>0</td>\n",
              "      <td>1</td>\n",
              "      <td>0</td>\n",
              "      <td>0</td>\n",
              "      <td>0</td>\n",
              "    </tr>\n",
              "    <tr>\n",
              "      <th>4</th>\n",
              "      <td>7716</td>\n",
              "      <td>686</td>\n",
              "      <td>105.0</td>\n",
              "      <td>1</td>\n",
              "      <td>0</td>\n",
              "      <td>1</td>\n",
              "      <td>0</td>\n",
              "      <td>0</td>\n",
              "      <td>0</td>\n",
              "      <td>0</td>\n",
              "    </tr>\n",
              "  </tbody>\n",
              "</table>\n",
              "</div>"
            ],
            "text/plain": [
              "   Pageviews  Clicks  ...  Day of Week_Tue,  Day of Week_Wed,\n",
              "0       9262     727  ...                 0                 1\n",
              "1       9363     736  ...                 1                 0\n",
              "2       9871     836  ...                 1                 0\n",
              "3       8459     691  ...                 0                 0\n",
              "4       7716     686  ...                 0                 0\n",
              "\n",
              "[5 rows x 10 columns]"
            ]
          },
          "metadata": {
            "tags": []
          },
          "execution_count": 561
        }
      ]
    },
    {
      "cell_type": "code",
      "metadata": {
        "id": "a607bMDPOeSM",
        "colab_type": "code",
        "colab": {
          "base_uri": "https://localhost:8080/",
          "height": 34
        },
        "outputId": "2a6e2de2-8879-4991-c0a9-d3c5f65989f9"
      },
      "source": [
        "model = LinearRegression()\n",
        "X = final.drop(['Enrollments'], axis = 1)\n",
        "y = final['Enrollments']\n",
        "X.shape"
      ],
      "execution_count": 562,
      "outputs": [
        {
          "output_type": "execute_result",
          "data": {
            "text/plain": [
              "(46, 9)"
            ]
          },
          "metadata": {
            "tags": []
          },
          "execution_count": 562
        }
      ]
    },
    {
      "cell_type": "code",
      "metadata": {
        "id": "fOiii0njPhx1",
        "colab_type": "code",
        "outputId": "f3ccb3cf-e64f-4ccc-ccdc-75829fcf7e89",
        "colab": {
          "base_uri": "https://localhost:8080/",
          "height": 34
        }
      },
      "source": [
        "model.fit(X,y)\n",
        "model.predict([[8669, 669, 1, 0,1,0,0,0,0]])"
      ],
      "execution_count": 563,
      "outputs": [
        {
          "output_type": "execute_result",
          "data": {
            "text/plain": [
              "array([156.0509139])"
            ]
          },
          "metadata": {
            "tags": []
          },
          "execution_count": 563
        }
      ]
    },
    {
      "cell_type": "code",
      "metadata": {
        "id": "rmQcaLe3ZE9R",
        "colab_type": "code",
        "outputId": "f8d9d13c-f6a1-43bd-8e80-d8d91fb5206e",
        "colab": {
          "base_uri": "https://localhost:8080/",
          "height": 34
        }
      },
      "source": [
        "model.score(X,y)"
      ],
      "execution_count": 564,
      "outputs": [
        {
          "output_type": "execute_result",
          "data": {
            "text/plain": [
              "0.5907641361934532"
            ]
          },
          "metadata": {
            "tags": []
          },
          "execution_count": 564
        }
      ]
    },
    {
      "cell_type": "code",
      "metadata": {
        "id": "pRKTc9DNQPKi",
        "colab_type": "code",
        "colab": {
          "base_uri": "https://localhost:8080/",
          "height": 34
        },
        "outputId": "342e3cec-33d1-4432-8e16-24339fb35c2a"
      },
      "source": [
        "kf = KFold(n_splits=5)\n",
        "kf\n"
      ],
      "execution_count": 565,
      "outputs": [
        {
          "output_type": "execute_result",
          "data": {
            "text/plain": [
              "KFold(n_splits=5, random_state=None, shuffle=False)"
            ]
          },
          "metadata": {
            "tags": []
          },
          "execution_count": 565
        }
      ]
    },
    {
      "cell_type": "code",
      "metadata": {
        "id": "CwKZbQxeo_H5",
        "colab_type": "code",
        "colab": {
          "base_uri": "https://localhost:8080/",
          "height": 372
        },
        "outputId": "47987017-916e-489f-fdb7-74cd606e9a9d"
      },
      "source": [
        "for train_index,  test_index in kf.split(X):\n",
        "  print(train_index)\n",
        "  print()\n",
        "  print(test_index)"
      ],
      "execution_count": 566,
      "outputs": [
        {
          "output_type": "stream",
          "text": [
            "[10 11 12 13 14 15 16 17 18 19 20 21 22 23 24 25 26 27 28 29 30 31 32 33\n",
            " 34 35 36 37 38 39 40 41 42 43 44 45]\n",
            "\n",
            "[0 1 2 3 4 5 6 7 8 9]\n",
            "[ 0  1  2  3  4  5  6  7  8  9 19 20 21 22 23 24 25 26 27 28 29 30 31 32\n",
            " 33 34 35 36 37 38 39 40 41 42 43 44 45]\n",
            "\n",
            "[10 11 12 13 14 15 16 17 18]\n",
            "[ 0  1  2  3  4  5  6  7  8  9 10 11 12 13 14 15 16 17 18 28 29 30 31 32\n",
            " 33 34 35 36 37 38 39 40 41 42 43 44 45]\n",
            "\n",
            "[19 20 21 22 23 24 25 26 27]\n",
            "[ 0  1  2  3  4  5  6  7  8  9 10 11 12 13 14 15 16 17 18 19 20 21 22 23\n",
            " 24 25 26 27 37 38 39 40 41 42 43 44 45]\n",
            "\n",
            "[28 29 30 31 32 33 34 35 36]\n",
            "[ 0  1  2  3  4  5  6  7  8  9 10 11 12 13 14 15 16 17 18 19 20 21 22 23\n",
            " 24 25 26 27 28 29 30 31 32 33 34 35 36]\n",
            "\n",
            "[37 38 39 40 41 42 43 44 45]\n"
          ],
          "name": "stdout"
        }
      ]
    },
    {
      "cell_type": "code",
      "metadata": {
        "id": "BgxOznXaWhD6",
        "colab_type": "code",
        "colab": {}
      },
      "source": [
        " def get_score(model, train_x, test_x, train_y, test_y):\n",
        "  model.fit(train_x, train_y)\n",
        "  return model.score(test_x, test_y)"
      ],
      "execution_count": 0,
      "outputs": []
    },
    {
      "cell_type": "code",
      "metadata": {
        "colab_type": "code",
        "id": "Pmu0lZMQpZNo",
        "colab": {}
      },
      "source": [
        "for train_index, test_index in folds.split(X):\n",
        "  train_x, test_x, train_y, test_y = X[train_index], X[test_index], y[train_index], y[test_index]"
      ],
      "execution_count": 0,
      "outputs": []
    },
    {
      "cell_type": "code",
      "metadata": {
        "id": "lfscoSMaBEiR",
        "colab_type": "code",
        "colab": {}
      },
      "source": [
        ""
      ],
      "execution_count": 0,
      "outputs": []
    }
  ]
}