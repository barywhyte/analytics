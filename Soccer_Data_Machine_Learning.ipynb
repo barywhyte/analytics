{
  "nbformat": 4,
  "nbformat_minor": 0,
  "metadata": {
    "colab": {
      "name": "Soccer Data Machine Learning.ipynb",
      "version": "0.3.2",
      "provenance": [],
      "collapsed_sections": [],
      "include_colab_link": true
    },
    "kernelspec": {
      "name": "python3",
      "display_name": "Python 3"
    }
  },
  "cells": [
    {
      "cell_type": "markdown",
      "metadata": {
        "id": "view-in-github",
        "colab_type": "text"
      },
      "source": [
        "<a href=\"https://colab.research.google.com/github/barywhyte/analytics/blob/master/Soccer_Data_Machine_Learning.ipynb\" target=\"_parent\"><img src=\"https://colab.research.google.com/assets/colab-badge.svg\" alt=\"Open In Colab\"/></a>"
      ]
    },
    {
      "cell_type": "markdown",
      "metadata": {
        "id": "R0UxOpBUcXen",
        "colab_type": "text"
      },
      "source": [
        "# Soccer Data Machine Learning"
      ]
    },
    {
      "cell_type": "code",
      "metadata": {
        "id": "cytJ9xY9cPob",
        "colab_type": "code",
        "colab": {}
      },
      "source": [
        "# import important libraries\n",
        "import pandas as pd\n",
        "import numpy as np\n",
        "import matplotlib.pyplot as plt\n",
        "import seaborn as sns\n",
        "from math import sqrt\n",
        "from scipy.stats import norm\n",
        "from sklearn.utils import shuffle\n",
        "from sklearn.model_selection import train_test_split\n",
        "from sklearn.linear_model import LinearRegression\n",
        "from sklearn.model_selection import cross_val_score\n",
        "import warnings\n",
        "def ignore_warn(*args, **kwargs):\n",
        "    pass\n",
        "warnings.warn = ignore_warn   #ignore warnings from sklearn and seaborn"
      ],
      "execution_count": 0,
      "outputs": []
    },
    {
      "cell_type": "code",
      "metadata": {
        "id": "m52Q8Q98cnOF",
        "colab_type": "code",
        "colab": {}
      },
      "source": [
        "data = pd.ExcelFile(\"https://github.com/10acad/piq2019/blob/master/data/SoccerData.xlsx?raw=true\")\n",
        "soccer = pd.read_excel(data)"
      ],
      "execution_count": 0,
      "outputs": []
    },
    {
      "cell_type": "code",
      "metadata": {
        "id": "Urf_4OvHdRzw",
        "colab_type": "code",
        "outputId": "e1f14c5a-f219-4f54-cb8d-64628c033ebb",
        "colab": {
          "base_uri": "https://localhost:8080/",
          "height": 34
        }
      },
      "source": [
        "soccer.shape"
      ],
      "execution_count": 0,
      "outputs": [
        {
          "output_type": "execute_result",
          "data": {
            "text/plain": [
              "(24830, 81)"
            ]
          },
          "metadata": {
            "tags": []
          },
          "execution_count": 4
        }
      ]
    },
    {
      "cell_type": "code",
      "metadata": {
        "id": "A-mSxtX4ddwA",
        "colab_type": "code",
        "outputId": "7729f684-854e-43bd-bc5f-2d5082030282",
        "colab": {
          "base_uri": "https://localhost:8080/",
          "height": 346
        }
      },
      "source": [
        "soccer.head()"
      ],
      "execution_count": 0,
      "outputs": [
        {
          "output_type": "execute_result",
          "data": {
            "text/html": [
              "<div>\n",
              "<style scoped>\n",
              "    .dataframe tbody tr th:only-of-type {\n",
              "        vertical-align: middle;\n",
              "    }\n",
              "\n",
              "    .dataframe tbody tr th {\n",
              "        vertical-align: top;\n",
              "    }\n",
              "\n",
              "    .dataframe thead th {\n",
              "        text-align: right;\n",
              "    }\n",
              "</style>\n",
              "<table border=\"1\" class=\"dataframe\">\n",
              "  <thead>\n",
              "    <tr style=\"text-align: right;\">\n",
              "      <th></th>\n",
              "      <th>league</th>\n",
              "      <th>teams_no</th>\n",
              "      <th>date</th>\n",
              "      <th>home_team</th>\n",
              "      <th>away_team</th>\n",
              "      <th>home_odd</th>\n",
              "      <th>draw_odd</th>\n",
              "      <th>away_odd</th>\n",
              "      <th>h_played</th>\n",
              "      <th>a_played</th>\n",
              "      <th>ph_ladder5</th>\n",
              "      <th>ph_ladder4</th>\n",
              "      <th>ph_ladder3</th>\n",
              "      <th>ph_ladder2</th>\n",
              "      <th>ph_ladder1</th>\n",
              "      <th>h_ladder</th>\n",
              "      <th>pa_ladder5</th>\n",
              "      <th>pa_ladder4</th>\n",
              "      <th>pa_ladder3</th>\n",
              "      <th>pa_ladder2</th>\n",
              "      <th>pa_ladder1</th>\n",
              "      <th>a_ladder</th>\n",
              "      <th>h_won</th>\n",
              "      <th>h_drawn</th>\n",
              "      <th>h_lost</th>\n",
              "      <th>h_scored</th>\n",
              "      <th>h_conced</th>\n",
              "      <th>h_points</th>\n",
              "      <th>a_won</th>\n",
              "      <th>a_drawn</th>\n",
              "      <th>a_lost</th>\n",
              "      <th>a_scored</th>\n",
              "      <th>a_conced</th>\n",
              "      <th>a_points</th>\n",
              "      <th>h_ladder_h</th>\n",
              "      <th>h_played_h</th>\n",
              "      <th>h_won_h</th>\n",
              "      <th>h_drawn_h</th>\n",
              "      <th>h_lost_h</th>\n",
              "      <th>h_scored_h</th>\n",
              "      <th>...</th>\n",
              "      <th>h_points_h</th>\n",
              "      <th>a_ladder_a</th>\n",
              "      <th>a_played_a</th>\n",
              "      <th>a_won_a</th>\n",
              "      <th>a_drawn_a</th>\n",
              "      <th>a_lost_a</th>\n",
              "      <th>a_scored_a</th>\n",
              "      <th>a_conced_a</th>\n",
              "      <th>a_points_a</th>\n",
              "      <th>h_form</th>\n",
              "      <th>a_form</th>\n",
              "      <th>h_elo</th>\n",
              "      <th>a_elo</th>\n",
              "      <th>h_offensiv</th>\n",
              "      <th>h_defensiv</th>\n",
              "      <th>a_offensiv</th>\n",
              "      <th>a_defensiv</th>\n",
              "      <th>h_clean</th>\n",
              "      <th>a_clean</th>\n",
              "      <th>h_fail</th>\n",
              "      <th>a_fail</th>\n",
              "      <th>h_clean_h</th>\n",
              "      <th>a_clean_a</th>\n",
              "      <th>h_fail_h</th>\n",
              "      <th>a_fail_a</th>\n",
              "      <th>h_goal_signal</th>\n",
              "      <th>a_goal_signal</th>\n",
              "      <th>Ladder_signal</th>\n",
              "      <th>RESULT</th>\n",
              "      <th>h_final</th>\n",
              "      <th>a_final</th>\n",
              "      <th>h_half</th>\n",
              "      <th>a_half</th>\n",
              "      <th>BTS</th>\n",
              "      <th>H1H</th>\n",
              "      <th>A1H</th>\n",
              "      <th>H2H</th>\n",
              "      <th>A2H</th>\n",
              "      <th>Unnamed: 79</th>\n",
              "      <th>Unnamed: 80</th>\n",
              "    </tr>\n",
              "  </thead>\n",
              "  <tbody>\n",
              "    <tr>\n",
              "      <th>0</th>\n",
              "      <td>France-Ligue 2</td>\n",
              "      <td>20</td>\n",
              "      <td>2016-01-08</td>\n",
              "      <td>Ajaccio</td>\n",
              "      <td>Le Havre</td>\n",
              "      <td>2.63</td>\n",
              "      <td>2.97</td>\n",
              "      <td>3.24</td>\n",
              "      <td>19</td>\n",
              "      <td>19</td>\n",
              "      <td>20</td>\n",
              "      <td>20</td>\n",
              "      <td>20</td>\n",
              "      <td>20</td>\n",
              "      <td>17</td>\n",
              "      <td>18</td>\n",
              "      <td>4</td>\n",
              "      <td>4</td>\n",
              "      <td>5</td>\n",
              "      <td>4</td>\n",
              "      <td>5</td>\n",
              "      <td>4</td>\n",
              "      <td>3</td>\n",
              "      <td>8</td>\n",
              "      <td>8</td>\n",
              "      <td>13</td>\n",
              "      <td>20</td>\n",
              "      <td>17</td>\n",
              "      <td>9</td>\n",
              "      <td>4</td>\n",
              "      <td>6</td>\n",
              "      <td>23</td>\n",
              "      <td>20</td>\n",
              "      <td>31</td>\n",
              "      <td>11</td>\n",
              "      <td>9</td>\n",
              "      <td>3</td>\n",
              "      <td>4</td>\n",
              "      <td>2</td>\n",
              "      <td>9</td>\n",
              "      <td>...</td>\n",
              "      <td>13</td>\n",
              "      <td>3</td>\n",
              "      <td>10</td>\n",
              "      <td>5</td>\n",
              "      <td>1</td>\n",
              "      <td>4</td>\n",
              "      <td>15</td>\n",
              "      <td>13</td>\n",
              "      <td>16</td>\n",
              "      <td>2</td>\n",
              "      <td>2</td>\n",
              "      <td>1534</td>\n",
              "      <td>1691</td>\n",
              "      <td>20</td>\n",
              "      <td>9</td>\n",
              "      <td>5</td>\n",
              "      <td>13</td>\n",
              "      <td>36.842</td>\n",
              "      <td>42.105</td>\n",
              "      <td>47.368</td>\n",
              "      <td>26.316</td>\n",
              "      <td>55.556</td>\n",
              "      <td>40.000</td>\n",
              "      <td>33.333</td>\n",
              "      <td>10.000</td>\n",
              "      <td>0.444444</td>\n",
              "      <td>-0.200000</td>\n",
              "      <td>-14</td>\n",
              "      <td>DRAW</td>\n",
              "      <td>1</td>\n",
              "      <td>1.0</td>\n",
              "      <td>NaN</td>\n",
              "      <td>NaN</td>\n",
              "      <td>1</td>\n",
              "      <td>0.0</td>\n",
              "      <td>0.0</td>\n",
              "      <td>0.0</td>\n",
              "      <td>0.0</td>\n",
              "      <td>NaN</td>\n",
              "      <td>NaN</td>\n",
              "    </tr>\n",
              "    <tr>\n",
              "      <th>1</th>\n",
              "      <td>France-Ligue 2</td>\n",
              "      <td>20</td>\n",
              "      <td>2016-01-08</td>\n",
              "      <td>Auxerre</td>\n",
              "      <td>Valenciennes</td>\n",
              "      <td>1.98</td>\n",
              "      <td>3.25</td>\n",
              "      <td>4.69</td>\n",
              "      <td>19</td>\n",
              "      <td>19</td>\n",
              "      <td>11</td>\n",
              "      <td>8</td>\n",
              "      <td>7</td>\n",
              "      <td>7</td>\n",
              "      <td>6</td>\n",
              "      <td>8</td>\n",
              "      <td>15</td>\n",
              "      <td>15</td>\n",
              "      <td>15</td>\n",
              "      <td>15</td>\n",
              "      <td>15</td>\n",
              "      <td>17</td>\n",
              "      <td>8</td>\n",
              "      <td>4</td>\n",
              "      <td>7</td>\n",
              "      <td>19</td>\n",
              "      <td>20</td>\n",
              "      <td>28</td>\n",
              "      <td>4</td>\n",
              "      <td>7</td>\n",
              "      <td>8</td>\n",
              "      <td>15</td>\n",
              "      <td>22</td>\n",
              "      <td>19</td>\n",
              "      <td>7</td>\n",
              "      <td>9</td>\n",
              "      <td>5</td>\n",
              "      <td>1</td>\n",
              "      <td>3</td>\n",
              "      <td>12</td>\n",
              "      <td>...</td>\n",
              "      <td>16</td>\n",
              "      <td>8</td>\n",
              "      <td>9</td>\n",
              "      <td>4</td>\n",
              "      <td>0</td>\n",
              "      <td>5</td>\n",
              "      <td>9</td>\n",
              "      <td>12</td>\n",
              "      <td>12</td>\n",
              "      <td>6</td>\n",
              "      <td>-7</td>\n",
              "      <td>1643</td>\n",
              "      <td>1502</td>\n",
              "      <td>12</td>\n",
              "      <td>11</td>\n",
              "      <td>16</td>\n",
              "      <td>15</td>\n",
              "      <td>42.105</td>\n",
              "      <td>26.316</td>\n",
              "      <td>36.842</td>\n",
              "      <td>52.632</td>\n",
              "      <td>44.444</td>\n",
              "      <td>22.222</td>\n",
              "      <td>22.222</td>\n",
              "      <td>55.556</td>\n",
              "      <td>0.444444</td>\n",
              "      <td>0.333333</td>\n",
              "      <td>9</td>\n",
              "      <td>DRAW</td>\n",
              "      <td>1</td>\n",
              "      <td>1.0</td>\n",
              "      <td>NaN</td>\n",
              "      <td>NaN</td>\n",
              "      <td>1</td>\n",
              "      <td>0.0</td>\n",
              "      <td>0.0</td>\n",
              "      <td>0.0</td>\n",
              "      <td>0.0</td>\n",
              "      <td>NaN</td>\n",
              "      <td>NaN</td>\n",
              "    </tr>\n",
              "    <tr>\n",
              "      <th>2</th>\n",
              "      <td>France-Ligue 2</td>\n",
              "      <td>20</td>\n",
              "      <td>2016-01-08</td>\n",
              "      <td>Bourg Peronnas</td>\n",
              "      <td>Creteil</td>\n",
              "      <td>2.00</td>\n",
              "      <td>3.52</td>\n",
              "      <td>4.14</td>\n",
              "      <td>19</td>\n",
              "      <td>19</td>\n",
              "      <td>9</td>\n",
              "      <td>5</td>\n",
              "      <td>9</td>\n",
              "      <td>5</td>\n",
              "      <td>10</td>\n",
              "      <td>10</td>\n",
              "      <td>10</td>\n",
              "      <td>13</td>\n",
              "      <td>14</td>\n",
              "      <td>14</td>\n",
              "      <td>14</td>\n",
              "      <td>15</td>\n",
              "      <td>8</td>\n",
              "      <td>2</td>\n",
              "      <td>9</td>\n",
              "      <td>28</td>\n",
              "      <td>33</td>\n",
              "      <td>26</td>\n",
              "      <td>6</td>\n",
              "      <td>2</td>\n",
              "      <td>11</td>\n",
              "      <td>21</td>\n",
              "      <td>32</td>\n",
              "      <td>20</td>\n",
              "      <td>4</td>\n",
              "      <td>10</td>\n",
              "      <td>6</td>\n",
              "      <td>1</td>\n",
              "      <td>3</td>\n",
              "      <td>19</td>\n",
              "      <td>...</td>\n",
              "      <td>19</td>\n",
              "      <td>6</td>\n",
              "      <td>10</td>\n",
              "      <td>4</td>\n",
              "      <td>1</td>\n",
              "      <td>5</td>\n",
              "      <td>13</td>\n",
              "      <td>17</td>\n",
              "      <td>13</td>\n",
              "      <td>-12</td>\n",
              "      <td>-15</td>\n",
              "      <td>1589</td>\n",
              "      <td>1467</td>\n",
              "      <td>3</td>\n",
              "      <td>20</td>\n",
              "      <td>8</td>\n",
              "      <td>19</td>\n",
              "      <td>5.263</td>\n",
              "      <td>15.789</td>\n",
              "      <td>26.316</td>\n",
              "      <td>31.579</td>\n",
              "      <td>0.000</td>\n",
              "      <td>20.000</td>\n",
              "      <td>20.000</td>\n",
              "      <td>20.000</td>\n",
              "      <td>0.500000</td>\n",
              "      <td>0.400000</td>\n",
              "      <td>5</td>\n",
              "      <td>HOME</td>\n",
              "      <td>5</td>\n",
              "      <td>1.0</td>\n",
              "      <td>NaN</td>\n",
              "      <td>NaN</td>\n",
              "      <td>1</td>\n",
              "      <td>0.0</td>\n",
              "      <td>0.0</td>\n",
              "      <td>1.0</td>\n",
              "      <td>0.0</td>\n",
              "      <td>NaN</td>\n",
              "      <td>NaN</td>\n",
              "    </tr>\n",
              "    <tr>\n",
              "      <th>3</th>\n",
              "      <td>France-Ligue 2</td>\n",
              "      <td>20</td>\n",
              "      <td>2016-01-08</td>\n",
              "      <td>Chamois</td>\n",
              "      <td>Dijon</td>\n",
              "      <td>2.82</td>\n",
              "      <td>3.06</td>\n",
              "      <td>2.91</td>\n",
              "      <td>19</td>\n",
              "      <td>19</td>\n",
              "      <td>16</td>\n",
              "      <td>16</td>\n",
              "      <td>16</td>\n",
              "      <td>16</td>\n",
              "      <td>16</td>\n",
              "      <td>14</td>\n",
              "      <td>3</td>\n",
              "      <td>2</td>\n",
              "      <td>1</td>\n",
              "      <td>1</td>\n",
              "      <td>1</td>\n",
              "      <td>2</td>\n",
              "      <td>3</td>\n",
              "      <td>11</td>\n",
              "      <td>5</td>\n",
              "      <td>17</td>\n",
              "      <td>20</td>\n",
              "      <td>20</td>\n",
              "      <td>11</td>\n",
              "      <td>4</td>\n",
              "      <td>4</td>\n",
              "      <td>33</td>\n",
              "      <td>16</td>\n",
              "      <td>37</td>\n",
              "      <td>15</td>\n",
              "      <td>10</td>\n",
              "      <td>2</td>\n",
              "      <td>5</td>\n",
              "      <td>3</td>\n",
              "      <td>9</td>\n",
              "      <td>...</td>\n",
              "      <td>11</td>\n",
              "      <td>5</td>\n",
              "      <td>9</td>\n",
              "      <td>4</td>\n",
              "      <td>2</td>\n",
              "      <td>3</td>\n",
              "      <td>12</td>\n",
              "      <td>9</td>\n",
              "      <td>14</td>\n",
              "      <td>-1</td>\n",
              "      <td>8</td>\n",
              "      <td>1592</td>\n",
              "      <td>1742</td>\n",
              "      <td>14</td>\n",
              "      <td>10</td>\n",
              "      <td>1</td>\n",
              "      <td>5</td>\n",
              "      <td>26.316</td>\n",
              "      <td>42.105</td>\n",
              "      <td>36.842</td>\n",
              "      <td>21.053</td>\n",
              "      <td>30.000</td>\n",
              "      <td>33.333</td>\n",
              "      <td>40.000</td>\n",
              "      <td>22.222</td>\n",
              "      <td>0.000000</td>\n",
              "      <td>-0.333333</td>\n",
              "      <td>-12</td>\n",
              "      <td>DRAW</td>\n",
              "      <td>2</td>\n",
              "      <td>2.0</td>\n",
              "      <td>NaN</td>\n",
              "      <td>NaN</td>\n",
              "      <td>1</td>\n",
              "      <td>0.0</td>\n",
              "      <td>0.0</td>\n",
              "      <td>0.0</td>\n",
              "      <td>0.0</td>\n",
              "      <td>NaN</td>\n",
              "      <td>NaN</td>\n",
              "    </tr>\n",
              "    <tr>\n",
              "      <th>4</th>\n",
              "      <td>France-Ligue 2</td>\n",
              "      <td>20</td>\n",
              "      <td>2016-01-08</td>\n",
              "      <td>Clermont</td>\n",
              "      <td>Evian</td>\n",
              "      <td>2.10</td>\n",
              "      <td>3.21</td>\n",
              "      <td>4.20</td>\n",
              "      <td>19</td>\n",
              "      <td>19</td>\n",
              "      <td>6</td>\n",
              "      <td>7</td>\n",
              "      <td>4</td>\n",
              "      <td>6</td>\n",
              "      <td>4</td>\n",
              "      <td>3</td>\n",
              "      <td>7</td>\n",
              "      <td>9</td>\n",
              "      <td>10</td>\n",
              "      <td>12</td>\n",
              "      <td>12</td>\n",
              "      <td>13</td>\n",
              "      <td>8</td>\n",
              "      <td>7</td>\n",
              "      <td>4</td>\n",
              "      <td>28</td>\n",
              "      <td>23</td>\n",
              "      <td>31</td>\n",
              "      <td>5</td>\n",
              "      <td>6</td>\n",
              "      <td>8</td>\n",
              "      <td>23</td>\n",
              "      <td>19</td>\n",
              "      <td>21</td>\n",
              "      <td>2</td>\n",
              "      <td>10</td>\n",
              "      <td>6</td>\n",
              "      <td>3</td>\n",
              "      <td>1</td>\n",
              "      <td>17</td>\n",
              "      <td>...</td>\n",
              "      <td>21</td>\n",
              "      <td>13</td>\n",
              "      <td>9</td>\n",
              "      <td>2</td>\n",
              "      <td>3</td>\n",
              "      <td>4</td>\n",
              "      <td>10</td>\n",
              "      <td>10</td>\n",
              "      <td>9</td>\n",
              "      <td>17</td>\n",
              "      <td>-21</td>\n",
              "      <td>1681</td>\n",
              "      <td>1591</td>\n",
              "      <td>4</td>\n",
              "      <td>17</td>\n",
              "      <td>6</td>\n",
              "      <td>8</td>\n",
              "      <td>26.316</td>\n",
              "      <td>36.842</td>\n",
              "      <td>10.526</td>\n",
              "      <td>42.105</td>\n",
              "      <td>40.000</td>\n",
              "      <td>33.333</td>\n",
              "      <td>10.000</td>\n",
              "      <td>33.333</td>\n",
              "      <td>0.800000</td>\n",
              "      <td>0.000000</td>\n",
              "      <td>10</td>\n",
              "      <td>HOME</td>\n",
              "      <td>4</td>\n",
              "      <td>1.0</td>\n",
              "      <td>NaN</td>\n",
              "      <td>NaN</td>\n",
              "      <td>1</td>\n",
              "      <td>0.0</td>\n",
              "      <td>0.0</td>\n",
              "      <td>1.0</td>\n",
              "      <td>0.0</td>\n",
              "      <td>NaN</td>\n",
              "      <td>NaN</td>\n",
              "    </tr>\n",
              "  </tbody>\n",
              "</table>\n",
              "<p>5 rows × 81 columns</p>\n",
              "</div>"
            ],
            "text/plain": [
              "           league  teams_no       date  ...  A2H Unnamed: 79  Unnamed: 80\n",
              "0  France-Ligue 2        20 2016-01-08  ...  0.0         NaN          NaN\n",
              "1  France-Ligue 2        20 2016-01-08  ...  0.0         NaN          NaN\n",
              "2  France-Ligue 2        20 2016-01-08  ...  0.0         NaN          NaN\n",
              "3  France-Ligue 2        20 2016-01-08  ...  0.0         NaN          NaN\n",
              "4  France-Ligue 2        20 2016-01-08  ...  0.0         NaN          NaN\n",
              "\n",
              "[5 rows x 81 columns]"
            ]
          },
          "metadata": {
            "tags": []
          },
          "execution_count": 5
        }
      ]
    },
    {
      "cell_type": "code",
      "metadata": {
        "id": "Gq70ChhJdy_Z",
        "colab_type": "code",
        "colab": {
          "base_uri": "https://localhost:8080/",
          "height": 70
        },
        "outputId": "4d8b1fc9-0ab4-4185-d7ad-c3040f41d9a7"
      },
      "source": [
        "odds = ['home_odd', 'draw_odd', 'away_odd']\n",
        "print(len(soccer[soccer['home_odd'] == 0]))\n",
        "print(len(soccer[soccer['draw_odd'] == 0]))\n",
        "print(len(soccer[soccer['away_odd'] == 0]))\n",
        "      "
      ],
      "execution_count": 26,
      "outputs": [
        {
          "output_type": "stream",
          "text": [
            "6491\n",
            "6491\n",
            "6491\n"
          ],
          "name": "stdout"
        }
      ]
    },
    {
      "cell_type": "code",
      "metadata": {
        "id": "9VQGNPwQprSR",
        "colab_type": "code",
        "colab": {}
      },
      "source": [
        ""
      ],
      "execution_count": 0,
      "outputs": []
    },
    {
      "cell_type": "code",
      "metadata": {
        "id": "_uDRJZb5fQLe",
        "colab_type": "code",
        "outputId": "b260255c-9bf9-40c3-f7da-6b49399cd194",
        "colab": {
          "base_uri": "https://localhost:8080/",
          "height": 230
        }
      },
      "source": [
        " missing = soccer.isnull().sum()\n",
        "missing[missing>0]"
      ],
      "execution_count": 0,
      "outputs": [
        {
          "output_type": "execute_result",
          "data": {
            "text/plain": [
              "h_goal_signal     1007\n",
              "a_goal_signal      996\n",
              "a_final             10\n",
              "h_half            9101\n",
              "a_half            9101\n",
              "H1H               7465\n",
              "A1H               7465\n",
              "H2H               7465\n",
              "A2H               7465\n",
              "Unnamed: 79      24568\n",
              "Unnamed: 80      24568\n",
              "dtype: int64"
            ]
          },
          "metadata": {
            "tags": []
          },
          "execution_count": 9
        }
      ]
    },
    {
      "cell_type": "markdown",
      "metadata": {
        "id": "sme-JjJkhbew",
        "colab_type": "text"
      },
      "source": [
        "**Which column has the most missing values?**\n",
        "\n",
        "              Unnamed: 79 and \n",
        "              Unnamed: 80\n",
        "\n"
      ]
    },
    {
      "cell_type": "markdown",
      "metadata": {
        "id": "NTv-SA0tqT5e",
        "colab_type": "text"
      },
      "source": [
        "**Is it feasible to drop all rows with missing values? If not, try to fill missing values with an appropriate strategy.**"
      ]
    },
    {
      "cell_type": "markdown",
      "metadata": {
        "id": "6Z8l-SaBqcVG",
        "colab_type": "text"
      },
      "source": [
        "                   The answer is yes but this is not advisable because some of the columns with \n",
        "                   missing data may contain important information relevant to any predictive models"
      ]
    },
    {
      "cell_type": "markdown",
      "metadata": {
        "id": "ulHcH_wyq-Nb",
        "colab_type": "text"
      },
      "source": [
        "**drop columns with greater than 50% missing values**"
      ]
    },
    {
      "cell_type": "code",
      "metadata": {
        "id": "wiU9hgZcfbtu",
        "colab_type": "code",
        "colab": {}
      },
      "source": [
        "soccer1 = soccer.dropna(thresh=0.5*len(soccer), axis=1)"
      ],
      "execution_count": 0,
      "outputs": []
    },
    {
      "cell_type": "code",
      "metadata": {
        "id": "NzArzzjuttow",
        "colab_type": "code",
        "colab": {
          "base_uri": "https://localhost:8080/",
          "height": 34
        },
        "outputId": "c3e19d0d-bf98-4a86-916a-1a9867eaed41"
      },
      "source": [
        "soccer1.shape"
      ],
      "execution_count": 29,
      "outputs": [
        {
          "output_type": "execute_result",
          "data": {
            "text/plain": [
              "(24830, 79)"
            ]
          },
          "metadata": {
            "tags": []
          },
          "execution_count": 29
        }
      ]
    },
    {
      "cell_type": "markdown",
      "metadata": {
        "id": "IkTNIVPHuK_R",
        "colab_type": "text"
      },
      "source": [
        "**Try to fill missing values with an appropriate strategy.**"
      ]
    },
    {
      "cell_type": "code",
      "metadata": {
        "id": "NKp27EYrt0Bv",
        "colab_type": "code",
        "colab": {
          "base_uri": "https://localhost:8080/",
          "height": 194
        },
        "outputId": "54c68487-f4fa-40bc-e982-9551c03748e6"
      },
      "source": [
        "missing = soccer1.isnull().sum()\n",
        "missing[missing>0]"
      ],
      "execution_count": 30,
      "outputs": [
        {
          "output_type": "execute_result",
          "data": {
            "text/plain": [
              "h_goal_signal    1007\n",
              "a_goal_signal     996\n",
              "a_final            10\n",
              "h_half           9101\n",
              "a_half           9101\n",
              "H1H              7465\n",
              "A1H              7465\n",
              "H2H              7465\n",
              "A2H              7465\n",
              "dtype: int64"
            ]
          },
          "metadata": {
            "tags": []
          },
          "execution_count": 30
        }
      ]
    },
    {
      "cell_type": "code",
      "metadata": {
        "id": "IvDQmS4ZykH3",
        "colab_type": "code",
        "colab": {}
      },
      "source": [
        "soccer1.fillna(soccer1.median(), inplace=True)\n"
      ],
      "execution_count": 0,
      "outputs": []
    },
    {
      "cell_type": "code",
      "metadata": {
        "id": "4Vdx47c5yHXc",
        "colab_type": "code",
        "colab": {
          "base_uri": "https://localhost:8080/",
          "height": 34
        },
        "outputId": "c267d620-f5de-4ee7-a638-133a3ab7d8d0"
      },
      "source": [
        "missing = soccer1.isnull().sum()\n",
        "missing[missing>0]"
      ],
      "execution_count": 41,
      "outputs": [
        {
          "output_type": "execute_result",
          "data": {
            "text/plain": [
              "Series([], dtype: int64)"
            ]
          },
          "metadata": {
            "tags": []
          },
          "execution_count": 41
        }
      ]
    },
    {
      "cell_type": "markdown",
      "metadata": {
        "id": "lJ8FldHF9bDZ",
        "colab_type": "text"
      },
      "source": [
        "**Split the data into training (60%), validation(30%) and test(10%)**"
      ]
    },
    {
      "cell_type": "code",
      "metadata": {
        "id": "XBxfKxer6Mts",
        "colab_type": "code",
        "colab": {}
      },
      "source": [
        "X_train, X_test = train_test_split(soccer1, train_size=0.6, random_state=1)\n",
        "\n",
        "X_train, X_val = train_test_split(X_train, test_size=0.3, random_state=1)"
      ],
      "execution_count": 0,
      "outputs": []
    },
    {
      "cell_type": "code",
      "metadata": {
        "id": "VIr1kTNG8iKF",
        "colab_type": "code",
        "colab": {
          "base_uri": "https://localhost:8080/",
          "height": 70
        },
        "outputId": "17fc24b5-57f5-43f4-9ce8-9db9198fdfd4"
      },
      "source": [
        "print('train data length :', len(X_train))\n",
        "print('test data lenth :', len(X_test))\n",
        "print('validation data length :', len(X_val))"
      ],
      "execution_count": 58,
      "outputs": [
        {
          "output_type": "stream",
          "text": [
            "train data length : 10428\n",
            "test data lenth : 9932\n",
            "validation data length : 4470\n"
          ],
          "name": "stdout"
        }
      ]
    },
    {
      "cell_type": "code",
      "metadata": {
        "id": "88OoZ_ac2137",
        "colab_type": "code",
        "colab": {}
      },
      "source": [
        ""
      ],
      "execution_count": 0,
      "outputs": []
    }
  ]
}