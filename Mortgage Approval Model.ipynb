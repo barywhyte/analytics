{
  "nbformat": 4,
  "nbformat_minor": 0,
  "metadata": {
    "colab": {
      "name": "CAPSTONE",
      "version": "0.3.2",
      "provenance": [],
      "collapsed_sections": [
        "bLex-WFs6R-B",
        "1BZ0YSEKGVyW",
        "BndFuY_nHusY",
        "KvSEz22zIplK",
        "6zTTG7Q24L0b",
        "1E_9NZ9l4pk-",
        "XPZWJXieNIvp",
        "dXgTJ_K6Ni2G"
      ],
      "include_colab_link": true
    },
    "kernelspec": {
      "name": "python3",
      "display_name": "Python 3"
    }
  },
  "cells": [
    {
      "cell_type": "markdown",
      "metadata": {
        "id": "view-in-github",
        "colab_type": "text"
      },
      "source": [
        "<a href=\"https://colab.research.google.com/github/barywhyte/analytics/blob/master/Mortgage%20Approval%20Model.ipynb\" target=\"_parent\"><img src=\"https://colab.research.google.com/assets/colab-badge.svg\" alt=\"Open In Colab\"/></a>"
      ]
    },
    {
      "cell_type": "markdown",
      "metadata": {
        "id": "4IbwdY07nEfG",
        "colab_type": "text"
      },
      "source": [
        "# Predicting Mortgage Approvals From Government Data"
      ]
    },
    {
      "cell_type": "markdown",
      "metadata": {
        "id": "xje1tjvHoRTH",
        "colab_type": "text"
      },
      "source": [
        "## Part 1 - PROBLEM DEFINITION\n",
        "\n",
        "### The main goal of the this project is to predict whether a mortgage application was approved or denied according to the given dataset.\n",
        "\n",
        "### We're trying to predict the variable accepted (a binary variable) for each row of the test data set"
      ]
    },
    {
      "cell_type": "code",
      "metadata": {
        "id": "DjCroDxMlWFI",
        "colab_type": "code",
        "colab": {}
      },
      "source": [
        "#import libraries\n",
        "import numpy as np\n",
        "import pandas as pd\n",
        "import pandas_profiling as pp\n",
        "import matplotlib.pyplot as plt\n",
        "import seaborn as sns\n",
        "from sklearn.preprocessing import Imputer\n",
        "from sklearn import preprocessing\n",
        "from sklearn.model_selection import train_test_split\n",
        "import numpy as np\n",
        "%matplotlib inline\n",
        "\n",
        "__author__ = \"Seun Ore\"\n",
        "__email__ = \"seunsamore@gmail.com\"\n",
        "\n",
        "import warnings\n",
        "def ignore_warn(*args, **kwargs):\n",
        "    pass\n",
        "warnings.warn = ignore_warn   #ignore warnings from sklearn and seaborn"
      ],
      "execution_count": 0,
      "outputs": []
    },
    {
      "cell_type": "markdown",
      "metadata": {
        "id": "Ln5H1xoepTyL",
        "colab_type": "text"
      },
      "source": [
        "## Part 2 - DISCOVER"
      ]
    },
    {
      "cell_type": "markdown",
      "metadata": {
        "id": "mIcjqV2qpWhc",
        "colab_type": "text"
      },
      "source": [
        "## -----Load and Read Dataset------"
      ]
    },
    {
      "cell_type": "code",
      "metadata": {
        "id": "h1-MuIYIl4bQ",
        "colab_type": "code",
        "colab": {}
      },
      "source": [
        "train_url = 'https://mpp0xc0ae45ef.blob.core.windows.net/drivendata-mpp-storage/data/14/public/train_values.csv'\n",
        "test_url = 'https://mpp0xc0ae45ef.blob.core.windows.net/drivendata-mpp-storage/data/14/public/test_values.csv'\n",
        "label_url = 'https://mpp0xc0ae45ef.blob.core.windows.net/drivendata-mpp-storage/data/14/public/train_labels.csv'\n",
        "train_data = pd.read_csv(train_url)\n",
        "test_data = pd.read_csv(test_url)\n",
        "label_data = pd.read_csv(label_url)"
      ],
      "execution_count": 0,
      "outputs": []
    },
    {
      "cell_type": "code",
      "metadata": {
        "id": "mEVetmJQmGv-",
        "colab_type": "code",
        "outputId": "e4bf53df-c7c6-4998-9500-7a50dbc414e2",
        "colab": {
          "base_uri": "https://localhost:8080/",
          "height": 234
        }
      },
      "source": [
        "train_data.head()"
      ],
      "execution_count": 4,
      "outputs": [
        {
          "output_type": "execute_result",
          "data": {
            "text/html": [
              "<div>\n",
              "<style scoped>\n",
              "    .dataframe tbody tr th:only-of-type {\n",
              "        vertical-align: middle;\n",
              "    }\n",
              "\n",
              "    .dataframe tbody tr th {\n",
              "        vertical-align: top;\n",
              "    }\n",
              "\n",
              "    .dataframe thead th {\n",
              "        text-align: right;\n",
              "    }\n",
              "</style>\n",
              "<table border=\"1\" class=\"dataframe\">\n",
              "  <thead>\n",
              "    <tr style=\"text-align: right;\">\n",
              "      <th></th>\n",
              "      <th>row_id</th>\n",
              "      <th>loan_type</th>\n",
              "      <th>property_type</th>\n",
              "      <th>loan_purpose</th>\n",
              "      <th>occupancy</th>\n",
              "      <th>loan_amount</th>\n",
              "      <th>preapproval</th>\n",
              "      <th>msa_md</th>\n",
              "      <th>state_code</th>\n",
              "      <th>county_code</th>\n",
              "      <th>applicant_ethnicity</th>\n",
              "      <th>applicant_race</th>\n",
              "      <th>applicant_sex</th>\n",
              "      <th>applicant_income</th>\n",
              "      <th>population</th>\n",
              "      <th>minority_population_pct</th>\n",
              "      <th>ffiecmedian_family_income</th>\n",
              "      <th>tract_to_msa_md_income_pct</th>\n",
              "      <th>number_of_owner-occupied_units</th>\n",
              "      <th>number_of_1_to_4_family_units</th>\n",
              "      <th>lender</th>\n",
              "      <th>co_applicant</th>\n",
              "    </tr>\n",
              "  </thead>\n",
              "  <tbody>\n",
              "    <tr>\n",
              "      <th>0</th>\n",
              "      <td>0</td>\n",
              "      <td>3</td>\n",
              "      <td>1</td>\n",
              "      <td>1</td>\n",
              "      <td>1</td>\n",
              "      <td>70.0</td>\n",
              "      <td>3</td>\n",
              "      <td>18</td>\n",
              "      <td>37</td>\n",
              "      <td>246</td>\n",
              "      <td>2</td>\n",
              "      <td>5</td>\n",
              "      <td>1</td>\n",
              "      <td>24.0</td>\n",
              "      <td>6203.0</td>\n",
              "      <td>44.230</td>\n",
              "      <td>60588.0</td>\n",
              "      <td>50.933</td>\n",
              "      <td>716.0</td>\n",
              "      <td>2642.0</td>\n",
              "      <td>4536</td>\n",
              "      <td>False</td>\n",
              "    </tr>\n",
              "    <tr>\n",
              "      <th>1</th>\n",
              "      <td>1</td>\n",
              "      <td>1</td>\n",
              "      <td>1</td>\n",
              "      <td>3</td>\n",
              "      <td>1</td>\n",
              "      <td>178.0</td>\n",
              "      <td>3</td>\n",
              "      <td>369</td>\n",
              "      <td>52</td>\n",
              "      <td>299</td>\n",
              "      <td>1</td>\n",
              "      <td>5</td>\n",
              "      <td>1</td>\n",
              "      <td>57.0</td>\n",
              "      <td>5774.0</td>\n",
              "      <td>15.905</td>\n",
              "      <td>54821.0</td>\n",
              "      <td>100.000</td>\n",
              "      <td>1622.0</td>\n",
              "      <td>2108.0</td>\n",
              "      <td>2458</td>\n",
              "      <td>False</td>\n",
              "    </tr>\n",
              "    <tr>\n",
              "      <th>2</th>\n",
              "      <td>2</td>\n",
              "      <td>2</td>\n",
              "      <td>1</td>\n",
              "      <td>3</td>\n",
              "      <td>1</td>\n",
              "      <td>163.0</td>\n",
              "      <td>3</td>\n",
              "      <td>16</td>\n",
              "      <td>10</td>\n",
              "      <td>306</td>\n",
              "      <td>2</td>\n",
              "      <td>5</td>\n",
              "      <td>1</td>\n",
              "      <td>67.0</td>\n",
              "      <td>6094.0</td>\n",
              "      <td>61.270</td>\n",
              "      <td>67719.0</td>\n",
              "      <td>100.000</td>\n",
              "      <td>760.0</td>\n",
              "      <td>1048.0</td>\n",
              "      <td>5710</td>\n",
              "      <td>False</td>\n",
              "    </tr>\n",
              "    <tr>\n",
              "      <th>3</th>\n",
              "      <td>3</td>\n",
              "      <td>1</td>\n",
              "      <td>1</td>\n",
              "      <td>1</td>\n",
              "      <td>1</td>\n",
              "      <td>155.0</td>\n",
              "      <td>1</td>\n",
              "      <td>305</td>\n",
              "      <td>47</td>\n",
              "      <td>180</td>\n",
              "      <td>2</td>\n",
              "      <td>5</td>\n",
              "      <td>1</td>\n",
              "      <td>105.0</td>\n",
              "      <td>6667.0</td>\n",
              "      <td>6.246</td>\n",
              "      <td>78439.0</td>\n",
              "      <td>100.000</td>\n",
              "      <td>2025.0</td>\n",
              "      <td>2299.0</td>\n",
              "      <td>5888</td>\n",
              "      <td>True</td>\n",
              "    </tr>\n",
              "    <tr>\n",
              "      <th>4</th>\n",
              "      <td>4</td>\n",
              "      <td>1</td>\n",
              "      <td>1</td>\n",
              "      <td>1</td>\n",
              "      <td>1</td>\n",
              "      <td>305.0</td>\n",
              "      <td>3</td>\n",
              "      <td>24</td>\n",
              "      <td>37</td>\n",
              "      <td>20</td>\n",
              "      <td>2</td>\n",
              "      <td>3</td>\n",
              "      <td>2</td>\n",
              "      <td>71.0</td>\n",
              "      <td>6732.0</td>\n",
              "      <td>100.000</td>\n",
              "      <td>63075.0</td>\n",
              "      <td>82.200</td>\n",
              "      <td>1464.0</td>\n",
              "      <td>1847.0</td>\n",
              "      <td>289</td>\n",
              "      <td>False</td>\n",
              "    </tr>\n",
              "  </tbody>\n",
              "</table>\n",
              "</div>"
            ],
            "text/plain": [
              "   row_id  loan_type  ...  lender  co_applicant\n",
              "0       0          3  ...    4536         False\n",
              "1       1          1  ...    2458         False\n",
              "2       2          2  ...    5710         False\n",
              "3       3          1  ...    5888          True\n",
              "4       4          1  ...     289         False\n",
              "\n",
              "[5 rows x 22 columns]"
            ]
          },
          "metadata": {
            "tags": []
          },
          "execution_count": 4
        }
      ]
    },
    {
      "cell_type": "code",
      "metadata": {
        "id": "Wu9WPUfRpnLW",
        "colab_type": "code",
        "outputId": "7c79f6a3-0a74-49bc-9dd7-9f0813a2b636",
        "colab": {
          "base_uri": "https://localhost:8080/",
          "height": 34
        }
      },
      "source": [
        "#I found a stack overflow solution to quickly drop all the columns where at least 90% of the data is empty.\n",
        "drop_thresh =train_data.shape[0]*.9\n",
        "df = train_data.dropna(thresh=drop_thresh, how='all', axis='columns').copy()\n",
        "df.shape"
      ],
      "execution_count": 5,
      "outputs": [
        {
          "output_type": "execute_result",
          "data": {
            "text/plain": [
              "(500000, 22)"
            ]
          },
          "metadata": {
            "tags": []
          },
          "execution_count": 5
        }
      ]
    },
    {
      "cell_type": "code",
      "metadata": {
        "id": "PJta8XPKmN-e",
        "colab_type": "code",
        "outputId": "0cad36e2-6caa-4422-cca7-8414153c3b38",
        "colab": {
          "base_uri": "https://localhost:8080/",
          "height": 234
        }
      },
      "source": [
        "test_data.head()\n"
      ],
      "execution_count": 6,
      "outputs": [
        {
          "output_type": "execute_result",
          "data": {
            "text/html": [
              "<div>\n",
              "<style scoped>\n",
              "    .dataframe tbody tr th:only-of-type {\n",
              "        vertical-align: middle;\n",
              "    }\n",
              "\n",
              "    .dataframe tbody tr th {\n",
              "        vertical-align: top;\n",
              "    }\n",
              "\n",
              "    .dataframe thead th {\n",
              "        text-align: right;\n",
              "    }\n",
              "</style>\n",
              "<table border=\"1\" class=\"dataframe\">\n",
              "  <thead>\n",
              "    <tr style=\"text-align: right;\">\n",
              "      <th></th>\n",
              "      <th>row_id</th>\n",
              "      <th>loan_type</th>\n",
              "      <th>property_type</th>\n",
              "      <th>loan_purpose</th>\n",
              "      <th>occupancy</th>\n",
              "      <th>loan_amount</th>\n",
              "      <th>preapproval</th>\n",
              "      <th>msa_md</th>\n",
              "      <th>state_code</th>\n",
              "      <th>county_code</th>\n",
              "      <th>applicant_ethnicity</th>\n",
              "      <th>applicant_race</th>\n",
              "      <th>applicant_sex</th>\n",
              "      <th>applicant_income</th>\n",
              "      <th>population</th>\n",
              "      <th>minority_population_pct</th>\n",
              "      <th>ffiecmedian_family_income</th>\n",
              "      <th>tract_to_msa_md_income_pct</th>\n",
              "      <th>number_of_owner-occupied_units</th>\n",
              "      <th>number_of_1_to_4_family_units</th>\n",
              "      <th>lender</th>\n",
              "      <th>co_applicant</th>\n",
              "    </tr>\n",
              "  </thead>\n",
              "  <tbody>\n",
              "    <tr>\n",
              "      <th>0</th>\n",
              "      <td>0</td>\n",
              "      <td>2</td>\n",
              "      <td>1</td>\n",
              "      <td>3</td>\n",
              "      <td>1</td>\n",
              "      <td>115.0</td>\n",
              "      <td>3</td>\n",
              "      <td>101</td>\n",
              "      <td>16</td>\n",
              "      <td>276</td>\n",
              "      <td>2</td>\n",
              "      <td>5</td>\n",
              "      <td>1</td>\n",
              "      <td>NaN</td>\n",
              "      <td>6329.0</td>\n",
              "      <td>59.536</td>\n",
              "      <td>69889.0</td>\n",
              "      <td>85.78</td>\n",
              "      <td>1874.0</td>\n",
              "      <td>2410.0</td>\n",
              "      <td>3791</td>\n",
              "      <td>True</td>\n",
              "    </tr>\n",
              "    <tr>\n",
              "      <th>1</th>\n",
              "      <td>1</td>\n",
              "      <td>1</td>\n",
              "      <td>1</td>\n",
              "      <td>1</td>\n",
              "      <td>1</td>\n",
              "      <td>252.0</td>\n",
              "      <td>2</td>\n",
              "      <td>87</td>\n",
              "      <td>20</td>\n",
              "      <td>68</td>\n",
              "      <td>2</td>\n",
              "      <td>5</td>\n",
              "      <td>1</td>\n",
              "      <td>107.0</td>\n",
              "      <td>2473.0</td>\n",
              "      <td>8.050</td>\n",
              "      <td>65313.0</td>\n",
              "      <td>100.00</td>\n",
              "      <td>947.0</td>\n",
              "      <td>1214.0</td>\n",
              "      <td>2839</td>\n",
              "      <td>True</td>\n",
              "    </tr>\n",
              "    <tr>\n",
              "      <th>2</th>\n",
              "      <td>2</td>\n",
              "      <td>1</td>\n",
              "      <td>1</td>\n",
              "      <td>1</td>\n",
              "      <td>1</td>\n",
              "      <td>270.0</td>\n",
              "      <td>1</td>\n",
              "      <td>-1</td>\n",
              "      <td>-1</td>\n",
              "      <td>-1</td>\n",
              "      <td>2</td>\n",
              "      <td>1</td>\n",
              "      <td>2</td>\n",
              "      <td>119.0</td>\n",
              "      <td>NaN</td>\n",
              "      <td>NaN</td>\n",
              "      <td>NaN</td>\n",
              "      <td>NaN</td>\n",
              "      <td>NaN</td>\n",
              "      <td>NaN</td>\n",
              "      <td>4701</td>\n",
              "      <td>False</td>\n",
              "    </tr>\n",
              "    <tr>\n",
              "      <th>3</th>\n",
              "      <td>3</td>\n",
              "      <td>2</td>\n",
              "      <td>1</td>\n",
              "      <td>1</td>\n",
              "      <td>1</td>\n",
              "      <td>179.0</td>\n",
              "      <td>2</td>\n",
              "      <td>376</td>\n",
              "      <td>20</td>\n",
              "      <td>11</td>\n",
              "      <td>2</td>\n",
              "      <td>2</td>\n",
              "      <td>2</td>\n",
              "      <td>44.0</td>\n",
              "      <td>4795.0</td>\n",
              "      <td>29.676</td>\n",
              "      <td>57766.0</td>\n",
              "      <td>100.00</td>\n",
              "      <td>1426.0</td>\n",
              "      <td>1765.0</td>\n",
              "      <td>2153</td>\n",
              "      <td>True</td>\n",
              "    </tr>\n",
              "    <tr>\n",
              "      <th>4</th>\n",
              "      <td>4</td>\n",
              "      <td>2</td>\n",
              "      <td>1</td>\n",
              "      <td>1</td>\n",
              "      <td>1</td>\n",
              "      <td>36.0</td>\n",
              "      <td>2</td>\n",
              "      <td>254</td>\n",
              "      <td>48</td>\n",
              "      <td>156</td>\n",
              "      <td>3</td>\n",
              "      <td>6</td>\n",
              "      <td>3</td>\n",
              "      <td>32.0</td>\n",
              "      <td>5246.0</td>\n",
              "      <td>5.110</td>\n",
              "      <td>63332.0</td>\n",
              "      <td>100.00</td>\n",
              "      <td>1452.0</td>\n",
              "      <td>2092.0</td>\n",
              "      <td>5710</td>\n",
              "      <td>False</td>\n",
              "    </tr>\n",
              "  </tbody>\n",
              "</table>\n",
              "</div>"
            ],
            "text/plain": [
              "   row_id  loan_type  ...  lender  co_applicant\n",
              "0       0          2  ...    3791          True\n",
              "1       1          1  ...    2839          True\n",
              "2       2          1  ...    4701         False\n",
              "3       3          2  ...    2153          True\n",
              "4       4          2  ...    5710         False\n",
              "\n",
              "[5 rows x 22 columns]"
            ]
          },
          "metadata": {
            "tags": []
          },
          "execution_count": 6
        }
      ]
    },
    {
      "cell_type": "code",
      "metadata": {
        "id": "TYSi4xvEmWVS",
        "colab_type": "code",
        "outputId": "a2e468b8-8382-4ff0-dbfa-d0cd5925df36",
        "colab": {
          "base_uri": "https://localhost:8080/",
          "height": 197
        }
      },
      "source": [
        "label_data.head()"
      ],
      "execution_count": 7,
      "outputs": [
        {
          "output_type": "execute_result",
          "data": {
            "text/html": [
              "<div>\n",
              "<style scoped>\n",
              "    .dataframe tbody tr th:only-of-type {\n",
              "        vertical-align: middle;\n",
              "    }\n",
              "\n",
              "    .dataframe tbody tr th {\n",
              "        vertical-align: top;\n",
              "    }\n",
              "\n",
              "    .dataframe thead th {\n",
              "        text-align: right;\n",
              "    }\n",
              "</style>\n",
              "<table border=\"1\" class=\"dataframe\">\n",
              "  <thead>\n",
              "    <tr style=\"text-align: right;\">\n",
              "      <th></th>\n",
              "      <th>row_id</th>\n",
              "      <th>accepted</th>\n",
              "    </tr>\n",
              "  </thead>\n",
              "  <tbody>\n",
              "    <tr>\n",
              "      <th>0</th>\n",
              "      <td>0</td>\n",
              "      <td>1</td>\n",
              "    </tr>\n",
              "    <tr>\n",
              "      <th>1</th>\n",
              "      <td>1</td>\n",
              "      <td>0</td>\n",
              "    </tr>\n",
              "    <tr>\n",
              "      <th>2</th>\n",
              "      <td>2</td>\n",
              "      <td>1</td>\n",
              "    </tr>\n",
              "    <tr>\n",
              "      <th>3</th>\n",
              "      <td>3</td>\n",
              "      <td>1</td>\n",
              "    </tr>\n",
              "    <tr>\n",
              "      <th>4</th>\n",
              "      <td>4</td>\n",
              "      <td>1</td>\n",
              "    </tr>\n",
              "  </tbody>\n",
              "</table>\n",
              "</div>"
            ],
            "text/plain": [
              "   row_id  accepted\n",
              "0       0         1\n",
              "1       1         0\n",
              "2       2         1\n",
              "3       3         1\n",
              "4       4         1"
            ]
          },
          "metadata": {
            "tags": []
          },
          "execution_count": 7
        }
      ]
    },
    {
      "cell_type": "markdown",
      "metadata": {
        "id": "E5al9w8_2TqL",
        "colab_type": "text"
      },
      "source": [
        "### Use .info() function to see data lengths and types"
      ]
    },
    {
      "cell_type": "code",
      "metadata": {
        "id": "i6Yl_exG2M3S",
        "colab_type": "code",
        "outputId": "12c688b5-77a7-4336-9bc7-20d0dfdfdcb8",
        "colab": {
          "base_uri": "https://localhost:8080/",
          "height": 496
        }
      },
      "source": [
        "train_data.info()"
      ],
      "execution_count": 8,
      "outputs": [
        {
          "output_type": "stream",
          "text": [
            "<class 'pandas.core.frame.DataFrame'>\n",
            "RangeIndex: 500000 entries, 0 to 499999\n",
            "Data columns (total 22 columns):\n",
            "row_id                            500000 non-null int64\n",
            "loan_type                         500000 non-null int64\n",
            "property_type                     500000 non-null int64\n",
            "loan_purpose                      500000 non-null int64\n",
            "occupancy                         500000 non-null int64\n",
            "loan_amount                       500000 non-null float64\n",
            "preapproval                       500000 non-null int64\n",
            "msa_md                            500000 non-null int64\n",
            "state_code                        500000 non-null int64\n",
            "county_code                       500000 non-null int64\n",
            "applicant_ethnicity               500000 non-null int64\n",
            "applicant_race                    500000 non-null int64\n",
            "applicant_sex                     500000 non-null int64\n",
            "applicant_income                  460052 non-null float64\n",
            "population                        477535 non-null float64\n",
            "minority_population_pct           477534 non-null float64\n",
            "ffiecmedian_family_income         477560 non-null float64\n",
            "tract_to_msa_md_income_pct        477486 non-null float64\n",
            "number_of_owner-occupied_units    477435 non-null float64\n",
            "number_of_1_to_4_family_units     477470 non-null float64\n",
            "lender                            500000 non-null int64\n",
            "co_applicant                      500000 non-null bool\n",
            "dtypes: bool(1), float64(8), int64(13)\n",
            "memory usage: 80.6 MB\n"
          ],
          "name": "stdout"
        }
      ]
    },
    {
      "cell_type": "markdown",
      "metadata": {
        "id": "ilKvFRGn35Se",
        "colab_type": "text"
      },
      "source": [
        "                                                 Certain features have several missing values as seen above"
      ]
    },
    {
      "cell_type": "markdown",
      "metadata": {
        "id": "ukm35_LdLrd7",
        "colab_type": "text"
      },
      "source": [
        "## .......Clean the Data.........."
      ]
    },
    {
      "cell_type": "code",
      "metadata": {
        "id": "0aXo1_2h2bCz",
        "colab_type": "code",
        "outputId": "7e53e8f0-56a7-4999-ce0f-3812dc6c3a9f",
        "colab": {
          "base_uri": "https://localhost:8080/",
          "height": 70
        }
      },
      "source": [
        "#Check for duplicates\n",
        "\n",
        "print(train_data.duplicated().sum())\n",
        "print(test_data.duplicated().sum())\n",
        "print(label_data.duplicated().sum())"
      ],
      "execution_count": 9,
      "outputs": [
        {
          "output_type": "stream",
          "text": [
            "0\n",
            "0\n",
            "0\n"
          ],
          "name": "stdout"
        }
      ]
    },
    {
      "cell_type": "code",
      "metadata": {
        "id": "Z9OG9XO2LztG",
        "colab_type": "code",
        "outputId": "08babb9a-9fc9-4e7a-986e-b58325addb99",
        "colab": {
          "base_uri": "https://localhost:8080/",
          "height": 158
        }
      },
      "source": [
        "#What should I do with this missing data?\n",
        "missing_values = train_data.isnull().sum()\n",
        "print(missing_values[missing_values > 0])"
      ],
      "execution_count": 10,
      "outputs": [
        {
          "output_type": "stream",
          "text": [
            "applicant_income                  39948\n",
            "population                        22465\n",
            "minority_population_pct           22466\n",
            "ffiecmedian_family_income         22440\n",
            "tract_to_msa_md_income_pct        22514\n",
            "number_of_owner-occupied_units    22565\n",
            "number_of_1_to_4_family_units     22530\n",
            "dtype: int64\n"
          ],
          "name": "stdout"
        }
      ]
    },
    {
      "cell_type": "markdown",
      "metadata": {
        "id": "itvVp6h6KCbU",
        "colab_type": "text"
      },
      "source": [
        "## Merge train and label data"
      ]
    },
    {
      "cell_type": "code",
      "metadata": {
        "id": "xeZTWVrsKU1u",
        "colab_type": "code",
        "outputId": "589898c2-8bd0-45e2-e07e-9c852aa5f5cb",
        "colab": {
          "base_uri": "https://localhost:8080/",
          "height": 384
        }
      },
      "source": [
        "# Merge train data and label data\n",
        "\n",
        "train_merge = pd.merge(train_data, label_data, on='row_id')\n",
        "train_merge.tail(10)"
      ],
      "execution_count": 11,
      "outputs": [
        {
          "output_type": "execute_result",
          "data": {
            "text/html": [
              "<div>\n",
              "<style scoped>\n",
              "    .dataframe tbody tr th:only-of-type {\n",
              "        vertical-align: middle;\n",
              "    }\n",
              "\n",
              "    .dataframe tbody tr th {\n",
              "        vertical-align: top;\n",
              "    }\n",
              "\n",
              "    .dataframe thead th {\n",
              "        text-align: right;\n",
              "    }\n",
              "</style>\n",
              "<table border=\"1\" class=\"dataframe\">\n",
              "  <thead>\n",
              "    <tr style=\"text-align: right;\">\n",
              "      <th></th>\n",
              "      <th>row_id</th>\n",
              "      <th>loan_type</th>\n",
              "      <th>property_type</th>\n",
              "      <th>loan_purpose</th>\n",
              "      <th>occupancy</th>\n",
              "      <th>loan_amount</th>\n",
              "      <th>preapproval</th>\n",
              "      <th>msa_md</th>\n",
              "      <th>state_code</th>\n",
              "      <th>county_code</th>\n",
              "      <th>applicant_ethnicity</th>\n",
              "      <th>applicant_race</th>\n",
              "      <th>applicant_sex</th>\n",
              "      <th>applicant_income</th>\n",
              "      <th>population</th>\n",
              "      <th>minority_population_pct</th>\n",
              "      <th>ffiecmedian_family_income</th>\n",
              "      <th>tract_to_msa_md_income_pct</th>\n",
              "      <th>number_of_owner-occupied_units</th>\n",
              "      <th>number_of_1_to_4_family_units</th>\n",
              "      <th>lender</th>\n",
              "      <th>co_applicant</th>\n",
              "      <th>accepted</th>\n",
              "    </tr>\n",
              "  </thead>\n",
              "  <tbody>\n",
              "    <tr>\n",
              "      <th>499990</th>\n",
              "      <td>499990</td>\n",
              "      <td>1</td>\n",
              "      <td>1</td>\n",
              "      <td>3</td>\n",
              "      <td>1</td>\n",
              "      <td>190.0</td>\n",
              "      <td>3</td>\n",
              "      <td>18</td>\n",
              "      <td>37</td>\n",
              "      <td>246</td>\n",
              "      <td>1</td>\n",
              "      <td>5</td>\n",
              "      <td>1</td>\n",
              "      <td>79.0</td>\n",
              "      <td>4671.0</td>\n",
              "      <td>85.037</td>\n",
              "      <td>61141.0</td>\n",
              "      <td>100.000</td>\n",
              "      <td>720.0</td>\n",
              "      <td>915.0</td>\n",
              "      <td>2118</td>\n",
              "      <td>False</td>\n",
              "      <td>0</td>\n",
              "    </tr>\n",
              "    <tr>\n",
              "      <th>499991</th>\n",
              "      <td>499991</td>\n",
              "      <td>1</td>\n",
              "      <td>1</td>\n",
              "      <td>1</td>\n",
              "      <td>1</td>\n",
              "      <td>151.0</td>\n",
              "      <td>1</td>\n",
              "      <td>72</td>\n",
              "      <td>41</td>\n",
              "      <td>296</td>\n",
              "      <td>3</td>\n",
              "      <td>6</td>\n",
              "      <td>3</td>\n",
              "      <td>27.0</td>\n",
              "      <td>8161.0</td>\n",
              "      <td>23.668</td>\n",
              "      <td>59031.0</td>\n",
              "      <td>86.953</td>\n",
              "      <td>2224.0</td>\n",
              "      <td>2919.0</td>\n",
              "      <td>6451</td>\n",
              "      <td>False</td>\n",
              "      <td>0</td>\n",
              "    </tr>\n",
              "    <tr>\n",
              "      <th>499992</th>\n",
              "      <td>499992</td>\n",
              "      <td>1</td>\n",
              "      <td>1</td>\n",
              "      <td>1</td>\n",
              "      <td>1</td>\n",
              "      <td>310.0</td>\n",
              "      <td>2</td>\n",
              "      <td>156</td>\n",
              "      <td>47</td>\n",
              "      <td>313</td>\n",
              "      <td>2</td>\n",
              "      <td>5</td>\n",
              "      <td>1</td>\n",
              "      <td>138.0</td>\n",
              "      <td>4858.0</td>\n",
              "      <td>10.196</td>\n",
              "      <td>73821.0</td>\n",
              "      <td>100.000</td>\n",
              "      <td>1511.0</td>\n",
              "      <td>1803.0</td>\n",
              "      <td>5907</td>\n",
              "      <td>False</td>\n",
              "      <td>1</td>\n",
              "    </tr>\n",
              "    <tr>\n",
              "      <th>499993</th>\n",
              "      <td>499993</td>\n",
              "      <td>1</td>\n",
              "      <td>1</td>\n",
              "      <td>3</td>\n",
              "      <td>1</td>\n",
              "      <td>200.0</td>\n",
              "      <td>3</td>\n",
              "      <td>199</td>\n",
              "      <td>26</td>\n",
              "      <td>45</td>\n",
              "      <td>2</td>\n",
              "      <td>5</td>\n",
              "      <td>2</td>\n",
              "      <td>127.0</td>\n",
              "      <td>9535.0</td>\n",
              "      <td>5.584</td>\n",
              "      <td>65139.0</td>\n",
              "      <td>100.000</td>\n",
              "      <td>2913.0</td>\n",
              "      <td>3289.0</td>\n",
              "      <td>3354</td>\n",
              "      <td>True</td>\n",
              "      <td>0</td>\n",
              "    </tr>\n",
              "    <tr>\n",
              "      <th>499994</th>\n",
              "      <td>499994</td>\n",
              "      <td>1</td>\n",
              "      <td>1</td>\n",
              "      <td>2</td>\n",
              "      <td>1</td>\n",
              "      <td>31.0</td>\n",
              "      <td>3</td>\n",
              "      <td>-1</td>\n",
              "      <td>37</td>\n",
              "      <td>156</td>\n",
              "      <td>2</td>\n",
              "      <td>5</td>\n",
              "      <td>2</td>\n",
              "      <td>147.0</td>\n",
              "      <td>3765.0</td>\n",
              "      <td>13.789</td>\n",
              "      <td>58049.0</td>\n",
              "      <td>100.000</td>\n",
              "      <td>1154.0</td>\n",
              "      <td>1955.0</td>\n",
              "      <td>5391</td>\n",
              "      <td>False</td>\n",
              "      <td>0</td>\n",
              "    </tr>\n",
              "    <tr>\n",
              "      <th>499995</th>\n",
              "      <td>499995</td>\n",
              "      <td>1</td>\n",
              "      <td>1</td>\n",
              "      <td>1</td>\n",
              "      <td>2</td>\n",
              "      <td>150.0</td>\n",
              "      <td>1</td>\n",
              "      <td>-1</td>\n",
              "      <td>-1</td>\n",
              "      <td>-1</td>\n",
              "      <td>2</td>\n",
              "      <td>2</td>\n",
              "      <td>1</td>\n",
              "      <td>87.0</td>\n",
              "      <td>NaN</td>\n",
              "      <td>NaN</td>\n",
              "      <td>NaN</td>\n",
              "      <td>NaN</td>\n",
              "      <td>NaN</td>\n",
              "      <td>NaN</td>\n",
              "      <td>969</td>\n",
              "      <td>True</td>\n",
              "      <td>0</td>\n",
              "    </tr>\n",
              "    <tr>\n",
              "      <th>499996</th>\n",
              "      <td>499996</td>\n",
              "      <td>1</td>\n",
              "      <td>1</td>\n",
              "      <td>1</td>\n",
              "      <td>1</td>\n",
              "      <td>140.0</td>\n",
              "      <td>3</td>\n",
              "      <td>74</td>\n",
              "      <td>47</td>\n",
              "      <td>98</td>\n",
              "      <td>2</td>\n",
              "      <td>5</td>\n",
              "      <td>1</td>\n",
              "      <td>216.0</td>\n",
              "      <td>3452.0</td>\n",
              "      <td>6.887</td>\n",
              "      <td>86307.0</td>\n",
              "      <td>100.000</td>\n",
              "      <td>1423.0</td>\n",
              "      <td>1944.0</td>\n",
              "      <td>5359</td>\n",
              "      <td>True</td>\n",
              "      <td>0</td>\n",
              "    </tr>\n",
              "    <tr>\n",
              "      <th>499997</th>\n",
              "      <td>499997</td>\n",
              "      <td>1</td>\n",
              "      <td>2</td>\n",
              "      <td>1</td>\n",
              "      <td>1</td>\n",
              "      <td>22.0</td>\n",
              "      <td>3</td>\n",
              "      <td>-1</td>\n",
              "      <td>46</td>\n",
              "      <td>131</td>\n",
              "      <td>3</td>\n",
              "      <td>3</td>\n",
              "      <td>1</td>\n",
              "      <td>35.0</td>\n",
              "      <td>2925.0</td>\n",
              "      <td>36.046</td>\n",
              "      <td>47826.0</td>\n",
              "      <td>100.000</td>\n",
              "      <td>1062.0</td>\n",
              "      <td>1762.0</td>\n",
              "      <td>2318</td>\n",
              "      <td>False</td>\n",
              "      <td>0</td>\n",
              "    </tr>\n",
              "    <tr>\n",
              "      <th>499998</th>\n",
              "      <td>499998</td>\n",
              "      <td>1</td>\n",
              "      <td>1</td>\n",
              "      <td>2</td>\n",
              "      <td>1</td>\n",
              "      <td>35.0</td>\n",
              "      <td>3</td>\n",
              "      <td>367</td>\n",
              "      <td>6</td>\n",
              "      <td>149</td>\n",
              "      <td>1</td>\n",
              "      <td>5</td>\n",
              "      <td>1</td>\n",
              "      <td>41.0</td>\n",
              "      <td>3442.0</td>\n",
              "      <td>98.879</td>\n",
              "      <td>60327.0</td>\n",
              "      <td>62.803</td>\n",
              "      <td>618.0</td>\n",
              "      <td>1297.0</td>\n",
              "      <td>5339</td>\n",
              "      <td>False</td>\n",
              "      <td>0</td>\n",
              "    </tr>\n",
              "    <tr>\n",
              "      <th>499999</th>\n",
              "      <td>499999</td>\n",
              "      <td>1</td>\n",
              "      <td>1</td>\n",
              "      <td>3</td>\n",
              "      <td>1</td>\n",
              "      <td>71.0</td>\n",
              "      <td>3</td>\n",
              "      <td>408</td>\n",
              "      <td>28</td>\n",
              "      <td>133</td>\n",
              "      <td>2</td>\n",
              "      <td>5</td>\n",
              "      <td>2</td>\n",
              "      <td>85.0</td>\n",
              "      <td>3856.0</td>\n",
              "      <td>12.095</td>\n",
              "      <td>45033.0</td>\n",
              "      <td>100.000</td>\n",
              "      <td>1525.0</td>\n",
              "      <td>2750.0</td>\n",
              "      <td>5710</td>\n",
              "      <td>True</td>\n",
              "      <td>0</td>\n",
              "    </tr>\n",
              "  </tbody>\n",
              "</table>\n",
              "</div>"
            ],
            "text/plain": [
              "        row_id  loan_type  property_type  ...  lender  co_applicant  accepted\n",
              "499990  499990          1              1  ...    2118         False         0\n",
              "499991  499991          1              1  ...    6451         False         0\n",
              "499992  499992          1              1  ...    5907         False         1\n",
              "499993  499993          1              1  ...    3354          True         0\n",
              "499994  499994          1              1  ...    5391         False         0\n",
              "499995  499995          1              1  ...     969          True         0\n",
              "499996  499996          1              1  ...    5359          True         0\n",
              "499997  499997          1              2  ...    2318         False         0\n",
              "499998  499998          1              1  ...    5339         False         0\n",
              "499999  499999          1              1  ...    5710          True         0\n",
              "\n",
              "[10 rows x 23 columns]"
            ]
          },
          "metadata": {
            "tags": []
          },
          "execution_count": 11
        }
      ]
    },
    {
      "cell_type": "markdown",
      "metadata": {
        "id": "CzRve3pxJVT_",
        "colab_type": "text"
      },
      "source": [
        "### Imputaton technique for treating missing values\n",
        "Imputation fills in the missing value with some number. The imputed value won't be exactly right in most cases, \n",
        "but it usually gives more accurate models than dropping the column entirely."
      ]
    },
    {
      "cell_type": "code",
      "metadata": {
        "id": "02xC53VAJyRy",
        "colab_type": "code",
        "outputId": "e5a55be8-a15b-4a05-9e17-24ade9ac957f",
        "colab": {
          "base_uri": "https://localhost:8080/",
          "height": 443
        }
      },
      "source": [
        "# make copy to avoid changing original data (when Imputing)\n",
        "new_train_data = train_merge.copy()\n",
        "# make new columns indicating what will be imputed\n",
        "cols_with_missing = (col for col in new_train_data.columns if new_train_data[col].isnull().any())\n",
        "my_imputer = Imputer()\n",
        "imputed_train_data = my_imputer.fit_transform(train_merge)\n",
        "imputed_train_data = pd.DataFrame(imputed_train_data)\n",
        "imputed_train_data.columns = train_merge.columns\n",
        "imputed_train_data.isnull().sum()\n",
        "\n"
      ],
      "execution_count": 12,
      "outputs": [
        {
          "output_type": "execute_result",
          "data": {
            "text/plain": [
              "row_id                            0\n",
              "loan_type                         0\n",
              "property_type                     0\n",
              "loan_purpose                      0\n",
              "occupancy                         0\n",
              "loan_amount                       0\n",
              "preapproval                       0\n",
              "msa_md                            0\n",
              "state_code                        0\n",
              "county_code                       0\n",
              "applicant_ethnicity               0\n",
              "applicant_race                    0\n",
              "applicant_sex                     0\n",
              "applicant_income                  0\n",
              "population                        0\n",
              "minority_population_pct           0\n",
              "ffiecmedian_family_income         0\n",
              "tract_to_msa_md_income_pct        0\n",
              "number_of_owner-occupied_units    0\n",
              "number_of_1_to_4_family_units     0\n",
              "lender                            0\n",
              "co_applicant                      0\n",
              "accepted                          0\n",
              "dtype: int64"
            ]
          },
          "metadata": {
            "tags": []
          },
          "execution_count": 12
        }
      ]
    },
    {
      "cell_type": "code",
      "metadata": {
        "id": "QjTRDaBZqhRD",
        "colab_type": "code",
        "outputId": "cc877739-f66f-4105-f676-68b529c5ef01",
        "colab": {
          "base_uri": "https://localhost:8080/",
          "height": 234
        }
      },
      "source": [
        "#Read first 5 data samples from the new imputed train data\n",
        "\n",
        "imputed_train_data.head()"
      ],
      "execution_count": 14,
      "outputs": [
        {
          "output_type": "execute_result",
          "data": {
            "text/html": [
              "<div>\n",
              "<style scoped>\n",
              "    .dataframe tbody tr th:only-of-type {\n",
              "        vertical-align: middle;\n",
              "    }\n",
              "\n",
              "    .dataframe tbody tr th {\n",
              "        vertical-align: top;\n",
              "    }\n",
              "\n",
              "    .dataframe thead th {\n",
              "        text-align: right;\n",
              "    }\n",
              "</style>\n",
              "<table border=\"1\" class=\"dataframe\">\n",
              "  <thead>\n",
              "    <tr style=\"text-align: right;\">\n",
              "      <th></th>\n",
              "      <th>row_id</th>\n",
              "      <th>loan_type</th>\n",
              "      <th>property_type</th>\n",
              "      <th>loan_purpose</th>\n",
              "      <th>occupancy</th>\n",
              "      <th>loan_amount</th>\n",
              "      <th>preapproval</th>\n",
              "      <th>msa_md</th>\n",
              "      <th>state_code</th>\n",
              "      <th>county_code</th>\n",
              "      <th>applicant_ethnicity</th>\n",
              "      <th>applicant_race</th>\n",
              "      <th>applicant_sex</th>\n",
              "      <th>applicant_income</th>\n",
              "      <th>population</th>\n",
              "      <th>minority_population_pct</th>\n",
              "      <th>ffiecmedian_family_income</th>\n",
              "      <th>tract_to_msa_md_income_pct</th>\n",
              "      <th>number_of_owner-occupied_units</th>\n",
              "      <th>number_of_1_to_4_family_units</th>\n",
              "      <th>lender</th>\n",
              "      <th>co_applicant</th>\n",
              "      <th>accepted</th>\n",
              "    </tr>\n",
              "  </thead>\n",
              "  <tbody>\n",
              "    <tr>\n",
              "      <th>0</th>\n",
              "      <td>0.0</td>\n",
              "      <td>3.0</td>\n",
              "      <td>1.0</td>\n",
              "      <td>1.0</td>\n",
              "      <td>1.0</td>\n",
              "      <td>70.0</td>\n",
              "      <td>3.0</td>\n",
              "      <td>18.0</td>\n",
              "      <td>37.0</td>\n",
              "      <td>246.0</td>\n",
              "      <td>2.0</td>\n",
              "      <td>5.0</td>\n",
              "      <td>1.0</td>\n",
              "      <td>24.0</td>\n",
              "      <td>6203.0</td>\n",
              "      <td>44.230</td>\n",
              "      <td>60588.0</td>\n",
              "      <td>50.933</td>\n",
              "      <td>716.0</td>\n",
              "      <td>2642.0</td>\n",
              "      <td>4536.0</td>\n",
              "      <td>0.0</td>\n",
              "      <td>1.0</td>\n",
              "    </tr>\n",
              "    <tr>\n",
              "      <th>1</th>\n",
              "      <td>1.0</td>\n",
              "      <td>1.0</td>\n",
              "      <td>1.0</td>\n",
              "      <td>3.0</td>\n",
              "      <td>1.0</td>\n",
              "      <td>178.0</td>\n",
              "      <td>3.0</td>\n",
              "      <td>369.0</td>\n",
              "      <td>52.0</td>\n",
              "      <td>299.0</td>\n",
              "      <td>1.0</td>\n",
              "      <td>5.0</td>\n",
              "      <td>1.0</td>\n",
              "      <td>57.0</td>\n",
              "      <td>5774.0</td>\n",
              "      <td>15.905</td>\n",
              "      <td>54821.0</td>\n",
              "      <td>100.000</td>\n",
              "      <td>1622.0</td>\n",
              "      <td>2108.0</td>\n",
              "      <td>2458.0</td>\n",
              "      <td>0.0</td>\n",
              "      <td>0.0</td>\n",
              "    </tr>\n",
              "    <tr>\n",
              "      <th>2</th>\n",
              "      <td>2.0</td>\n",
              "      <td>2.0</td>\n",
              "      <td>1.0</td>\n",
              "      <td>3.0</td>\n",
              "      <td>1.0</td>\n",
              "      <td>163.0</td>\n",
              "      <td>3.0</td>\n",
              "      <td>16.0</td>\n",
              "      <td>10.0</td>\n",
              "      <td>306.0</td>\n",
              "      <td>2.0</td>\n",
              "      <td>5.0</td>\n",
              "      <td>1.0</td>\n",
              "      <td>67.0</td>\n",
              "      <td>6094.0</td>\n",
              "      <td>61.270</td>\n",
              "      <td>67719.0</td>\n",
              "      <td>100.000</td>\n",
              "      <td>760.0</td>\n",
              "      <td>1048.0</td>\n",
              "      <td>5710.0</td>\n",
              "      <td>0.0</td>\n",
              "      <td>1.0</td>\n",
              "    </tr>\n",
              "    <tr>\n",
              "      <th>3</th>\n",
              "      <td>3.0</td>\n",
              "      <td>1.0</td>\n",
              "      <td>1.0</td>\n",
              "      <td>1.0</td>\n",
              "      <td>1.0</td>\n",
              "      <td>155.0</td>\n",
              "      <td>1.0</td>\n",
              "      <td>305.0</td>\n",
              "      <td>47.0</td>\n",
              "      <td>180.0</td>\n",
              "      <td>2.0</td>\n",
              "      <td>5.0</td>\n",
              "      <td>1.0</td>\n",
              "      <td>105.0</td>\n",
              "      <td>6667.0</td>\n",
              "      <td>6.246</td>\n",
              "      <td>78439.0</td>\n",
              "      <td>100.000</td>\n",
              "      <td>2025.0</td>\n",
              "      <td>2299.0</td>\n",
              "      <td>5888.0</td>\n",
              "      <td>1.0</td>\n",
              "      <td>1.0</td>\n",
              "    </tr>\n",
              "    <tr>\n",
              "      <th>4</th>\n",
              "      <td>4.0</td>\n",
              "      <td>1.0</td>\n",
              "      <td>1.0</td>\n",
              "      <td>1.0</td>\n",
              "      <td>1.0</td>\n",
              "      <td>305.0</td>\n",
              "      <td>3.0</td>\n",
              "      <td>24.0</td>\n",
              "      <td>37.0</td>\n",
              "      <td>20.0</td>\n",
              "      <td>2.0</td>\n",
              "      <td>3.0</td>\n",
              "      <td>2.0</td>\n",
              "      <td>71.0</td>\n",
              "      <td>6732.0</td>\n",
              "      <td>100.000</td>\n",
              "      <td>63075.0</td>\n",
              "      <td>82.200</td>\n",
              "      <td>1464.0</td>\n",
              "      <td>1847.0</td>\n",
              "      <td>289.0</td>\n",
              "      <td>0.0</td>\n",
              "      <td>1.0</td>\n",
              "    </tr>\n",
              "  </tbody>\n",
              "</table>\n",
              "</div>"
            ],
            "text/plain": [
              "   row_id  loan_type  property_type  ...  lender  co_applicant  accepted\n",
              "0     0.0        3.0            1.0  ...  4536.0           0.0       1.0\n",
              "1     1.0        1.0            1.0  ...  2458.0           0.0       0.0\n",
              "2     2.0        2.0            1.0  ...  5710.0           0.0       1.0\n",
              "3     3.0        1.0            1.0  ...  5888.0           1.0       1.0\n",
              "4     4.0        1.0            1.0  ...   289.0           0.0       1.0\n",
              "\n",
              "[5 rows x 23 columns]"
            ]
          },
          "metadata": {
            "tags": []
          },
          "execution_count": 14
        }
      ]
    },
    {
      "cell_type": "markdown",
      "metadata": {
        "id": "jcmG-cSmr6br",
        "colab_type": "text"
      },
      "source": [
        "### Imputaton technique must also be done for test data too"
      ]
    },
    {
      "cell_type": "code",
      "metadata": {
        "id": "z7pVfvMcr-Nu",
        "colab_type": "code",
        "outputId": "34b85b97-e3d4-40e8-dbed-aa8f8f14d1cd",
        "colab": {
          "base_uri": "https://localhost:8080/",
          "height": 425
        }
      },
      "source": [
        "# make copy to avoid changing original data (when Imputing)\n",
        "new_test_data = test_data.copy()\n",
        "# make new columns indicating what will be imputed\n",
        "cols_with_missing_test = (col for col in new_test_data.columns if new_test_data[col].isnull().any())\n",
        "my_imputer = Imputer()\n",
        "imputed_test_data = my_imputer.fit_transform(test_data)\n",
        "imputed_test_data = pd.DataFrame(imputed_test_data)\n",
        "imputed_test_data.columns = test_data.columns\n",
        "imputed_test_data.isnull().sum()"
      ],
      "execution_count": 15,
      "outputs": [
        {
          "output_type": "execute_result",
          "data": {
            "text/plain": [
              "row_id                            0\n",
              "loan_type                         0\n",
              "property_type                     0\n",
              "loan_purpose                      0\n",
              "occupancy                         0\n",
              "loan_amount                       0\n",
              "preapproval                       0\n",
              "msa_md                            0\n",
              "state_code                        0\n",
              "county_code                       0\n",
              "applicant_ethnicity               0\n",
              "applicant_race                    0\n",
              "applicant_sex                     0\n",
              "applicant_income                  0\n",
              "population                        0\n",
              "minority_population_pct           0\n",
              "ffiecmedian_family_income         0\n",
              "tract_to_msa_md_income_pct        0\n",
              "number_of_owner-occupied_units    0\n",
              "number_of_1_to_4_family_units     0\n",
              "lender                            0\n",
              "co_applicant                      0\n",
              "dtype: int64"
            ]
          },
          "metadata": {
            "tags": []
          },
          "execution_count": 15
        }
      ]
    },
    {
      "cell_type": "markdown",
      "metadata": {
        "id": "BI3t6V72nWNo",
        "colab_type": "text"
      },
      "source": [
        "### Some missing values are also indicated by -1 in certain column\n",
        "There are 76,982 sample data with missing **msa_md**, \n",
        "19132 sample data with missing **state_code** and \n",
        "20466 sample data with missing **county_code** "
      ]
    },
    {
      "cell_type": "code",
      "metadata": {
        "id": "8kZLydTCOkz3",
        "colab_type": "code",
        "outputId": "a1017033-aee9-4faa-f293-e74ffc292b65",
        "colab": {
          "base_uri": "https://localhost:8080/",
          "height": 70
        }
      },
      "source": [
        "#Lets find them \n",
        "\n",
        "cols_with_1 = ['msa_md', 'state_code', 'county_code']\n",
        "msa_md_data = imputed_train_data[imputed_train_data['msa_md'] == -1]\n",
        "state_code_data = imputed_train_data[imputed_train_data['state_code'] == -1]\n",
        "county_code_data = imputed_train_data[imputed_train_data['county_code'] == -1]\n",
        "print(len(msa_md_data), 'data missing in msa_md column')\n",
        "print(len(state_code_data), 'data missing in state_code column')\n",
        "print(len(msa_md_data), 'data missing in county_code column')"
      ],
      "execution_count": 16,
      "outputs": [
        {
          "output_type": "stream",
          "text": [
            "76982 data missing in msa_md column\n",
            "19132 data missing in state_code column\n",
            "76982 data missing in county_code column\n"
          ],
          "name": "stdout"
        }
      ]
    },
    {
      "cell_type": "markdown",
      "metadata": {
        "id": "DUtG_7NxGPGn",
        "colab_type": "text"
      },
      "source": [
        "### Before I decide what I do with those missing values, let me see if they are relevant to my target label.\n"
      ]
    },
    {
      "cell_type": "markdown",
      "metadata": {
        "id": "PtMQ0G6PhWHL",
        "colab_type": "text"
      },
      "source": [
        "There are 3 ways to do this: \n",
        "1. Correlation Matrix with Heatmap\n",
        "2. Univariate Selection\n",
        "3. Feature Importance"
      ]
    },
    {
      "cell_type": "code",
      "metadata": {
        "id": "UhnPX5WkGmf3",
        "colab_type": "code",
        "outputId": "73d0ecc3-5cc3-41bd-8806-6cd2c4eecd52",
        "colab": {
          "base_uri": "https://localhost:8080/",
          "height": 752
        }
      },
      "source": [
        "#Plot heatmap to see correlation\n",
        "\n",
        "imputed_train_corr = imputed_train_data.corr()\n",
        "f, ax = plt.subplots(figsize=(20,10))\n",
        "top_corr_features = imputed_train_corr.index\n",
        "sns.heatmap(imputed_train_corr[top_corr_features].corr(), cmap=\"RdYlGn\", square=True);\n"
      ],
      "execution_count": 17,
      "outputs": [
        {
          "output_type": "display_data",
          "data": {
            "image/png": "[encoded data removed]",
            "text/plain": [
              "<Figure size 1440x720 with 2 Axes>"
            ]
          },
          "metadata": {
            "tags": []
          }
        }
      ]
    },
    {
      "cell_type": "markdown",
      "metadata": {
        "id": "dRohRup25NIX",
        "colab_type": "text"
      },
      "source": [
        "                          A handful of these features have medium level correlation with the target label"
      ]
    },
    {
      "cell_type": "code",
      "metadata": {
        "id": "9UnsaMUg0-I3",
        "colab_type": "code",
        "outputId": "4a2005b4-a38c-466c-9a62-061e019157ee",
        "colab": {
          "base_uri": "https://localhost:8080/",
          "height": 425
        }
      },
      "source": [
        "#Only run target label correlation against ['msa_md', 'state_code', 'county_code']\n",
        "\n",
        "corr = imputed_train_data[imputed_train_data.columns[1:]].corr()['accepted']\n",
        "corr.sort_values(ascending=False)\n"
      ],
      "execution_count": 0,
      "outputs": [
        {
          "output_type": "execute_result",
          "data": {
            "text/plain": [
              "accepted                          1.000000\n",
              "co_applicant                      0.101116\n",
              "state_code                        0.090534\n",
              "tract_to_msa_md_income_pct        0.089590\n",
              "msa_md                            0.080288\n",
              "applicant_income                  0.071674\n",
              "ffiecmedian_family_income         0.065338\n",
              "county_code                       0.052613\n",
              "loan_amount                       0.046370\n",
              "applicant_race                    0.045361\n",
              "number_of_owner-occupied_units    0.035173\n",
              "occupancy                         0.022043\n",
              "population                        0.018709\n",
              "loan_type                         0.018589\n",
              "preapproval                       0.017209\n",
              "applicant_ethnicity               0.009777\n",
              "lender                            0.008494\n",
              "number_of_1_to_4_family_units     0.005884\n",
              "applicant_sex                    -0.038391\n",
              "property_type                    -0.080603\n",
              "minority_population_pct          -0.090724\n",
              "loan_purpose                     -0.131595\n",
              "Name: accepted, dtype: float64"
            ]
          },
          "metadata": {
            "tags": []
          },
          "execution_count": 18
        }
      ]
    },
    {
      "cell_type": "markdown",
      "metadata": {
        "id": "bLex-WFs6R-B",
        "colab_type": "text"
      },
      "source": [
        " From the above, **co_applicant, state_code, tract_to_msa_md_income_pct, msa_md, applicant_income, ffiecmedian_family_income, county_code, loan_amount, applicant_race, number_of_owner-occupied_units, occupancy, population, loan_type, preapproval** are the most correlated features with the target label."
      ]
    },
    {
      "cell_type": "markdown",
      "metadata": {
        "id": "kj4ydGKc9_pP",
        "colab_type": "text"
      },
      "source": [
        "#### So now I can see that ['msa_md', 'state_code', 'county_code'] features are important. Not dropping them.\n",
        "\n",
        "I will use python replace function."
      ]
    },
    {
      "cell_type": "code",
      "metadata": {
        "id": "DfW-7sBN_p7P",
        "colab_type": "code",
        "outputId": "6c589c33-acd0-4f46-c6a1-ca9d96d288a8",
        "colab": {
          "base_uri": "https://localhost:8080/",
          "height": 70
        }
      },
      "source": [
        "for x in cols_with_1:\n",
        "  a = imputed_train_data[imputed_train_data[x] != -1]\n",
        "  b = imputed_train_data[imputed_train_data[x] == -1]\n",
        "print(a['msa_md'].median())\n",
        "print(a['state_code'].median())\n",
        "print(a['county_code'].median())"
      ],
      "execution_count": 18,
      "outputs": [
        {
          "output_type": "stream",
          "text": [
            "200.0\n",
            "26.0\n",
            "133.0\n"
          ],
          "name": "stdout"
        }
      ]
    },
    {
      "cell_type": "code",
      "metadata": {
        "id": "sgUL2Q9lbhIk",
        "colab_type": "code",
        "outputId": "5876a454-17bc-4731-a4f3-deb6b9f9e888",
        "colab": {
          "base_uri": "https://localhost:8080/",
          "height": 70
        }
      },
      "source": [
        "print(a.shape)\n",
        "print(b.shape)\n",
        "print(a.shape[0] + b.shape[0])"
      ],
      "execution_count": 19,
      "outputs": [
        {
          "output_type": "stream",
          "text": [
            "(479534, 23)\n",
            "(20466, 23)\n",
            "500000\n"
          ],
          "name": "stdout"
        }
      ]
    },
    {
      "cell_type": "code",
      "metadata": {
        "id": "I2N2Ycexaqlu",
        "colab_type": "code",
        "colab": {}
      },
      "source": [
        "#median imputation ofmissing values\n",
        "imputed_train_data['msa_md'] = imputed_train_data['msa_md'].replace(to_replace = -1, value = 200)\n",
        "imputed_train_data['state_code'] = imputed_train_data['state_code'].replace(-1, 26)\n",
        "imputed_train_data['county_code'] = imputed_train_data['msa_md'].replace(['-1'], 133)\n"
      ],
      "execution_count": 0,
      "outputs": []
    },
    {
      "cell_type": "markdown",
      "metadata": {
        "id": "zfZ_CLF-tBCN",
        "colab_type": "text"
      },
      "source": [
        "### Some missing values are also indicated by -1 in certain columns in test data\n",
        "These too must be delt with"
      ]
    },
    {
      "cell_type": "code",
      "metadata": {
        "id": "M5ywewrstpw4",
        "colab_type": "code",
        "outputId": "744fa760-ba60-45d8-af33-74de2eba6e16",
        "colab": {
          "base_uri": "https://localhost:8080/",
          "height": 70
        }
      },
      "source": [
        "# First lets find them\n",
        "\n",
        "cols_with_1 = ['msa_md', 'state_code', 'county_code']\n",
        "msa_md_data_test = imputed_test_data[imputed_test_data['msa_md'] == -1]\n",
        "state_code_data_test = imputed_test_data[imputed_test_data['state_code'] == -1]\n",
        "county_code_data_test = imputed_test_data[imputed_test_data['county_code'] == -1]\n",
        "print(len(msa_md_data_test), 'data missing in msa_md column')\n",
        "print(len(state_code_data_test), 'data missing in state_code column')\n",
        "print(len(msa_md_data_test), 'data missing in county_code column')"
      ],
      "execution_count": 21,
      "outputs": [
        {
          "output_type": "stream",
          "text": [
            "76993 data missing in msa_md column\n",
            "19120 data missing in state_code column\n",
            "76993 data missing in county_code column\n"
          ],
          "name": "stdout"
        }
      ]
    },
    {
      "cell_type": "code",
      "metadata": {
        "id": "3hzIURKmcJ-W",
        "colab_type": "code",
        "outputId": "1c0e0001-8352-4a5d-8983-4c78bee4109c",
        "colab": {
          "base_uri": "https://localhost:8080/",
          "height": 70
        }
      },
      "source": [
        "for x in cols_with_1:\n",
        "  c = imputed_test_data[imputed_train_data[x] != -1]\n",
        "print(c['msa_md'].median())\n",
        "print(c['state_code'].median())\n",
        "print(c['county_code'].median())"
      ],
      "execution_count": 22,
      "outputs": [
        {
          "output_type": "stream",
          "text": [
            "192.0\n",
            "26.0\n",
            "131.0\n"
          ],
          "name": "stdout"
        }
      ]
    },
    {
      "cell_type": "code",
      "metadata": {
        "id": "tRdQLPlrTSiO",
        "colab_type": "code",
        "colab": {}
      },
      "source": [
        "imputed_test_data['msa_md'] = imputed_test_data['msa_md'].replace(to_replace = -1, value = 192)\n",
        "imputed_test_data['state_code'] = imputed_test_data['state_code'].replace(-1, 26)\n",
        "imputed_test_data['county_code'] = imputed_test_data['msa_md'].replace(['-1'], 131)"
      ],
      "execution_count": 0,
      "outputs": []
    },
    {
      "cell_type": "code",
      "metadata": {
        "id": "dgpyBONfSgsB",
        "colab_type": "code",
        "outputId": "0c07777f-0953-4fcf-935b-d336c7f2f91f",
        "colab": {
          "base_uri": "https://localhost:8080/",
          "height": 174
        }
      },
      "source": [
        "imputed_test_data.head(3)"
      ],
      "execution_count": 24,
      "outputs": [
        {
          "output_type": "execute_result",
          "data": {
            "text/html": [
              "<div>\n",
              "<style scoped>\n",
              "    .dataframe tbody tr th:only-of-type {\n",
              "        vertical-align: middle;\n",
              "    }\n",
              "\n",
              "    .dataframe tbody tr th {\n",
              "        vertical-align: top;\n",
              "    }\n",
              "\n",
              "    .dataframe thead th {\n",
              "        text-align: right;\n",
              "    }\n",
              "</style>\n",
              "<table border=\"1\" class=\"dataframe\">\n",
              "  <thead>\n",
              "    <tr style=\"text-align: right;\">\n",
              "      <th></th>\n",
              "      <th>row_id</th>\n",
              "      <th>loan_type</th>\n",
              "      <th>property_type</th>\n",
              "      <th>loan_purpose</th>\n",
              "      <th>occupancy</th>\n",
              "      <th>loan_amount</th>\n",
              "      <th>preapproval</th>\n",
              "      <th>msa_md</th>\n",
              "      <th>state_code</th>\n",
              "      <th>county_code</th>\n",
              "      <th>applicant_ethnicity</th>\n",
              "      <th>applicant_race</th>\n",
              "      <th>applicant_sex</th>\n",
              "      <th>applicant_income</th>\n",
              "      <th>population</th>\n",
              "      <th>minority_population_pct</th>\n",
              "      <th>ffiecmedian_family_income</th>\n",
              "      <th>tract_to_msa_md_income_pct</th>\n",
              "      <th>number_of_owner-occupied_units</th>\n",
              "      <th>number_of_1_to_4_family_units</th>\n",
              "      <th>lender</th>\n",
              "      <th>co_applicant</th>\n",
              "    </tr>\n",
              "  </thead>\n",
              "  <tbody>\n",
              "    <tr>\n",
              "      <th>0</th>\n",
              "      <td>0.0</td>\n",
              "      <td>2.0</td>\n",
              "      <td>1.0</td>\n",
              "      <td>3.0</td>\n",
              "      <td>1.0</td>\n",
              "      <td>115.0</td>\n",
              "      <td>3.0</td>\n",
              "      <td>101.0</td>\n",
              "      <td>16.0</td>\n",
              "      <td>101.0</td>\n",
              "      <td>2.0</td>\n",
              "      <td>5.0</td>\n",
              "      <td>1.0</td>\n",
              "      <td>101.926536</td>\n",
              "      <td>6329.000000</td>\n",
              "      <td>59.536000</td>\n",
              "      <td>69889.000000</td>\n",
              "      <td>85.780000</td>\n",
              "      <td>1874.000000</td>\n",
              "      <td>2410.000000</td>\n",
              "      <td>3791.0</td>\n",
              "      <td>1.0</td>\n",
              "    </tr>\n",
              "    <tr>\n",
              "      <th>1</th>\n",
              "      <td>1.0</td>\n",
              "      <td>1.0</td>\n",
              "      <td>1.0</td>\n",
              "      <td>1.0</td>\n",
              "      <td>1.0</td>\n",
              "      <td>252.0</td>\n",
              "      <td>2.0</td>\n",
              "      <td>87.0</td>\n",
              "      <td>20.0</td>\n",
              "      <td>87.0</td>\n",
              "      <td>2.0</td>\n",
              "      <td>5.0</td>\n",
              "      <td>1.0</td>\n",
              "      <td>107.000000</td>\n",
              "      <td>2473.000000</td>\n",
              "      <td>8.050000</td>\n",
              "      <td>65313.000000</td>\n",
              "      <td>100.000000</td>\n",
              "      <td>947.000000</td>\n",
              "      <td>1214.000000</td>\n",
              "      <td>2839.0</td>\n",
              "      <td>1.0</td>\n",
              "    </tr>\n",
              "    <tr>\n",
              "      <th>2</th>\n",
              "      <td>2.0</td>\n",
              "      <td>1.0</td>\n",
              "      <td>1.0</td>\n",
              "      <td>1.0</td>\n",
              "      <td>1.0</td>\n",
              "      <td>270.0</td>\n",
              "      <td>1.0</td>\n",
              "      <td>192.0</td>\n",
              "      <td>26.0</td>\n",
              "      <td>192.0</td>\n",
              "      <td>2.0</td>\n",
              "      <td>1.0</td>\n",
              "      <td>2.0</td>\n",
              "      <td>119.000000</td>\n",
              "      <td>5411.205196</td>\n",
              "      <td>31.631572</td>\n",
              "      <td>69254.074141</td>\n",
              "      <td>91.813397</td>\n",
              "      <td>1426.559815</td>\n",
              "      <td>1884.863422</td>\n",
              "      <td>4701.0</td>\n",
              "      <td>0.0</td>\n",
              "    </tr>\n",
              "  </tbody>\n",
              "</table>\n",
              "</div>"
            ],
            "text/plain": [
              "   row_id  loan_type  ...  lender  co_applicant\n",
              "0     0.0        2.0  ...  3791.0           1.0\n",
              "1     1.0        1.0  ...  2839.0           1.0\n",
              "2     2.0        1.0  ...  4701.0           0.0\n",
              "\n",
              "[3 rows x 22 columns]"
            ]
          },
          "metadata": {
            "tags": []
          },
          "execution_count": 24
        }
      ]
    },
    {
      "cell_type": "markdown",
      "metadata": {
        "id": "kOkzJRYbK3nm",
        "colab_type": "text"
      },
      "source": [
        "### Second method to determine best features : Univariate Selection"
      ]
    },
    {
      "cell_type": "code",
      "metadata": {
        "id": "ZdpR1_URLHiq",
        "colab_type": "code",
        "outputId": "dff7ac1e-08dd-4a5f-eb38-9390fee98b3b",
        "colab": {
          "base_uri": "https://localhost:8080/",
          "height": 212
        }
      },
      "source": [
        "from sklearn.feature_selection import SelectKBest\n",
        "from sklearn.feature_selection import chi2\n",
        "Y = imputed_train_data['accepted']\n",
        "X = imputed_train_data.drop(['accepted'], axis = 1)\n",
        "\n",
        "#apply SelectKBest class to extract top 10 best features\n",
        "bestfeatures = SelectKBest(score_func=chi2, k=10)\n",
        "fit = bestfeatures.fit(X,Y)\n",
        "dfscores = pd.DataFrame(fit.scores_)\n",
        "dfcolumns = pd.DataFrame(X.columns)\n",
        "#concat two dataframes for better visualization \n",
        "featureScores = pd.concat([dfcolumns,dfscores],axis=1)\n",
        "featureScores.columns = ['Features','Score']  #naming the dataframe columns\n",
        "print(featureScores.nlargest(10,'Score'))  #print 15 best features\n"
      ],
      "execution_count": 25,
      "outputs": [
        {
          "output_type": "stream",
          "text": [
            "                          Features         Score\n",
            "16       ffiecmedian_family_income  6.458668e+06\n",
            "5                      loan_amount  1.691292e+06\n",
            "13                applicant_income  5.441040e+05\n",
            "14                      population  2.296732e+05\n",
            "18  number_of_owner-occupied_units  2.250502e+05\n",
            "15         minority_population_pct  8.620929e+04\n",
            "20                          lender  3.276927e+04\n",
            "17      tract_to_msa_md_income_pct  8.428068e+03\n",
            "0                           row_id  7.844683e+03\n",
            "19   number_of_1_to_4_family_units  7.324747e+03\n"
          ],
          "name": "stdout"
        }
      ]
    },
    {
      "cell_type": "markdown",
      "metadata": {
        "id": "BmP3VtKBbGEl",
        "colab_type": "text"
      },
      "source": [
        "### Third method is Feature Impotance"
      ]
    },
    {
      "cell_type": "code",
      "metadata": {
        "id": "_cWvSPj0bUk5",
        "colab_type": "code",
        "outputId": "4409a20d-06df-4abb-be12-63b9f05dea73",
        "colab": {
          "base_uri": "https://localhost:8080/",
          "height": 340
        }
      },
      "source": [
        "from sklearn.ensemble import ExtraTreesClassifier\n",
        "model = ExtraTreesClassifier()\n",
        "model.fit(X,Y)\n",
        "print(model.feature_importances_) #use inbuilt class feature_importances of tree based classifiers\n",
        "#plot graph of feature importances for better visualization\n",
        "feat_importances = pd.Series(model.feature_importances_, index=X.columns)\n",
        "feat_importances.nlargest(10).plot(kind='barh')\n",
        "plt.show()"
      ],
      "execution_count": 26,
      "outputs": [
        {
          "output_type": "stream",
          "text": [
            "[0.06491931 0.02312981 0.01519286 0.04072946 0.01226457 0.07017326\n",
            " 0.01977513 0.05023295 0.05033877 0.04948137 0.01396725 0.02064848\n",
            " 0.0208447  0.07445121 0.06619363 0.07276747 0.06921591 0.04721443\n",
            " 0.06446321 0.06392075 0.07946376 0.01061171]\n"
          ],
          "name": "stdout"
        },
        {
          "output_type": "display_data",
          "data": {
            "image/png": "[encoded data removed]",
            "text/plain": [
              "<Figure size 432x288 with 1 Axes>"
            ]
          },
          "metadata": {
            "tags": []
          }
        }
      ]
    },
    {
      "cell_type": "markdown",
      "metadata": {
        "id": "p2kgAdV_7DKJ",
        "colab_type": "text"
      },
      "source": [
        "I am forced to not bother about the veracity of the last two methods of feature selection. Why would row_id be counted as having strong correlation with the target label. Perhaps Chi-Square test of Indenpendence would unravel that"
      ]
    },
    {
      "cell_type": "markdown",
      "metadata": {
        "id": "rTui0EoIl_hA",
        "colab_type": "text"
      },
      "source": [
        "### At this point, I am done with data cleaning. I didnt delete a column. Just imputation and replacement\n",
        "\n",
        "Time to visualize"
      ]
    },
    {
      "cell_type": "code",
      "metadata": {
        "id": "wZ8A8tyimqXf",
        "colab_type": "code",
        "outputId": "5191e663-17da-4928-8571-fd2ecac9ebb5",
        "colab": {
          "base_uri": "https://localhost:8080/",
          "height": 514
        }
      },
      "source": [
        "imputed_train_data.info()"
      ],
      "execution_count": 27,
      "outputs": [
        {
          "output_type": "stream",
          "text": [
            "<class 'pandas.core.frame.DataFrame'>\n",
            "RangeIndex: 500000 entries, 0 to 499999\n",
            "Data columns (total 23 columns):\n",
            "row_id                            500000 non-null float64\n",
            "loan_type                         500000 non-null float64\n",
            "property_type                     500000 non-null float64\n",
            "loan_purpose                      500000 non-null float64\n",
            "occupancy                         500000 non-null float64\n",
            "loan_amount                       500000 non-null float64\n",
            "preapproval                       500000 non-null float64\n",
            "msa_md                            500000 non-null float64\n",
            "state_code                        500000 non-null float64\n",
            "county_code                       500000 non-null float64\n",
            "applicant_ethnicity               500000 non-null float64\n",
            "applicant_race                    500000 non-null float64\n",
            "applicant_sex                     500000 non-null float64\n",
            "applicant_income                  500000 non-null float64\n",
            "population                        500000 non-null float64\n",
            "minority_population_pct           500000 non-null float64\n",
            "ffiecmedian_family_income         500000 non-null float64\n",
            "tract_to_msa_md_income_pct        500000 non-null float64\n",
            "number_of_owner-occupied_units    500000 non-null float64\n",
            "number_of_1_to_4_family_units     500000 non-null float64\n",
            "lender                            500000 non-null float64\n",
            "co_applicant                      500000 non-null float64\n",
            "accepted                          500000 non-null float64\n",
            "dtypes: float64(23)\n",
            "memory usage: 87.7 MB\n"
          ],
          "name": "stdout"
        }
      ]
    },
    {
      "cell_type": "code",
      "metadata": {
        "id": "ZzCZjYa88evK",
        "colab_type": "code",
        "outputId": "56da6154-f4d6-4c21-efdd-c413a0b3a32e",
        "colab": {
          "base_uri": "https://localhost:8080/",
          "height": 176
        }
      },
      "source": [
        "#Examine Loan amount feature\n",
        "\n",
        "imputed_train_data['loan_amount'].describe()\n"
      ],
      "execution_count": 28,
      "outputs": [
        {
          "output_type": "execute_result",
          "data": {
            "text/plain": [
              "count    500000.000000\n",
              "mean        221.753158\n",
              "std         590.641648\n",
              "min           1.000000\n",
              "25%          93.000000\n",
              "50%         162.000000\n",
              "75%         266.000000\n",
              "max      100878.000000\n",
              "Name: loan_amount, dtype: float64"
            ]
          },
          "metadata": {
            "tags": []
          },
          "execution_count": 28
        }
      ]
    },
    {
      "cell_type": "code",
      "metadata": {
        "id": "Vgdt5k0BEOnY",
        "colab_type": "code",
        "colab": {
          "base_uri": "https://localhost:8080/",
          "height": 308
        },
        "outputId": "840dee26-e665-4860-9f72-37da66a5864a"
      },
      "source": [
        "# Visualize Loan Amount feature\n",
        "fig = plt.figure(figsize=(4,4))\n",
        "fig.suptitle('Loan Amount', fontsize='x-large', fontweight='bold')\n",
        "\n",
        "sns.boxplot(train_data.loan_amount);"
      ],
      "execution_count": 59,
      "outputs": [
        {
          "output_type": "display_data",
          "data": {
            "image/png": "[encoded data removed]",
            "text/plain": [
              "<Figure size 288x288 with 1 Axes>"
            ]
          },
          "metadata": {
            "tags": []
          }
        }
      ]
    },
    {
      "cell_type": "markdown",
      "metadata": {
        "id": "EDGGfjs1EbSA",
        "colab_type": "text"
      },
      "source": [
        "                         Obviously there are upper limit outliers. "
      ]
    },
    {
      "cell_type": "code",
      "metadata": {
        "id": "KS9eH8leelGI",
        "colab_type": "code",
        "outputId": "ee9fbd17-7c2f-4604-a89a-f1670926d0e1",
        "colab": {
          "base_uri": "https://localhost:8080/",
          "height": 294
        }
      },
      "source": [
        "#check distribution of loan amount\n",
        "\n",
        "\n",
        "plt.title('Loan Amount Distribution')\n",
        "plt.xlabel('Loan Amount')\n",
        "imputed_train_data['loan_amount'].hist(bins=10)\n",
        "plt.yscale('log');\n",
        "\n"
      ],
      "execution_count": 29,
      "outputs": [
        {
          "output_type": "display_data",
          "data": {
            "image/png": "[encoded data removed]",
            "text/plain": [
              "<Figure size 432x288 with 1 Axes>"
            ]
          },
          "metadata": {
            "tags": []
          }
        }
      ]
    },
    {
      "cell_type": "code",
      "metadata": {
        "id": "MOgQmZlZe-vV",
        "colab_type": "code",
        "outputId": "9d38ff00-c43b-41dc-f546-24ba8c2719f6",
        "colab": {
          "base_uri": "https://localhost:8080/",
          "height": 294
        }
      },
      "source": [
        "#check distribution of applicant income\n",
        "\n",
        "\n",
        "plt.title('Applicant Incomes Distribution')\n",
        "plt.xlabel('Applicant Incomes')\n",
        "imputed_train_data['applicant_income'].hist(bins=10)\n",
        "plt.yscale('log');"
      ],
      "execution_count": 30,
      "outputs": [
        {
          "output_type": "display_data",
          "data": {
            "image/png": "[encoded data removed]",
            "text/plain": [
              "<Figure size 432x288 with 1 Axes>"
            ]
          },
          "metadata": {
            "tags": []
          }
        }
      ]
    },
    {
      "cell_type": "code",
      "metadata": {
        "id": "Xy_R1QzlEtcD",
        "colab_type": "code",
        "colab": {
          "base_uri": "https://localhost:8080/",
          "height": 308
        },
        "outputId": "c2a09a20-f93a-4075-f4ed-dbe1d7cc3d79"
      },
      "source": [
        "fig = plt.figure(figsize=(4,4))\n",
        "fig.suptitle('Applicant Income', fontsize='x-large', fontweight='bold')\n",
        "\n",
        "sns.boxplot(train_data.applicant_income);"
      ],
      "execution_count": 60,
      "outputs": [
        {
          "output_type": "display_data",
          "data": {
            "image/png": "[encoded data removed]",
            "text/plain": [
              "<Figure size 288x288 with 1 Axes>"
            ]
          },
          "metadata": {
            "tags": []
          }
        }
      ]
    },
    {
      "cell_type": "markdown",
      "metadata": {
        "id": "DCUmaWayFnbc",
        "colab_type": "text"
      },
      "source": [
        "There are outliers in Applicant Income distribution."
      ]
    },
    {
      "cell_type": "markdown",
      "metadata": {
        "id": "1BZ0YSEKGVyW",
        "colab_type": "text"
      },
      "source": [
        "### Loan acceptance rates across ethnicity and gender"
      ]
    },
    {
      "cell_type": "code",
      "metadata": {
        "id": "YxDLa9h3enzq",
        "colab_type": "code",
        "outputId": "b2fea29e-c79b-4d53-c185-bc8258b1c615",
        "colab": {
          "base_uri": "https://localhost:8080/",
          "height": 402
        }
      },
      "source": [
        "#Loan acceptance rates across ethnicity \n",
        "print( '''1 -- Hispanic or Latino\n",
        "2 -- Not Hispanic or Latino\n",
        "3 -- Information not provided by applicant\n",
        "4 -- Not applicable\n",
        "5 -- No co-applicant''')\n",
        "print()\n",
        "#plt.figure(figsize=(7,7))\n",
        "plt.title('Loan Acceptance across Ethnicity')\n",
        "sns.barplot(x='applicant_ethnicity', y='accepted', data=imputed_train_data);"
      ],
      "execution_count": 31,
      "outputs": [
        {
          "output_type": "stream",
          "text": [
            "1 -- Hispanic or Latino\n",
            "2 -- Not Hispanic or Latino\n",
            "3 -- Information not provided by applicant\n",
            "4 -- Not applicable\n",
            "5 -- No co-applicant\n",
            "\n"
          ],
          "name": "stdout"
        },
        {
          "output_type": "display_data",
          "data": {
            "image/png": "[encoded data removed]",
            "text/plain": [
              "<Figure size 432x288 with 1 Axes>"
            ]
          },
          "metadata": {
            "tags": []
          }
        }
      ]
    },
    {
      "cell_type": "markdown",
      "metadata": {
        "id": "BndFuY_nHusY",
        "colab_type": "text"
      },
      "source": [
        "              This only means that ethnicity is not a strong determinant for loan approval."
      ]
    },
    {
      "cell_type": "code",
      "metadata": {
        "id": "vb_EGV9eF3pi",
        "colab_type": "code",
        "outputId": "44d54958-20ca-435e-b27f-2856e12e12bb",
        "colab": {
          "base_uri": "https://localhost:8080/",
          "height": 547
        }
      },
      "source": [
        "#Loan acceptance rates across gender \n",
        "print('''1 -- Male\n",
        "2 -- Female\n",
        "3 -- Information not provided by applicant\n",
        "4 or 5 -- Not applicable''')\n",
        "print()\n",
        "plt.figure(figsize=(7,7))\n",
        "plt.title('Loan Acceptance across Gender')\n",
        "sns.barplot(x='applicant_sex', y='accepted', data=imputed_train_data);"
      ],
      "execution_count": 0,
      "outputs": [
        {
          "output_type": "stream",
          "text": [
            "1 -- Male\n",
            "2 -- Female\n",
            "3 -- Information not provided by applicant\n",
            "4 or 5 -- Not applicable\n",
            "\n"
          ],
          "name": "stdout"
        },
        {
          "output_type": "display_data",
          "data": {
            "image/png": "[encoded data removed]",
            "text/plain": [
              "<Figure size 504x504 with 1 Axes>"
            ]
          },
          "metadata": {
            "tags": []
          }
        }
      ]
    },
    {
      "cell_type": "markdown",
      "metadata": {
        "id": "KvSEz22zIplK",
        "colab_type": "text"
      },
      "source": [
        "This chat indicate that gender is not a strong determinant for loan approval. Male folks have higher loan approval than Female counterparts"
      ]
    },
    {
      "cell_type": "code",
      "metadata": {
        "id": "lVsltXNtIbcq",
        "colab_type": "code",
        "outputId": "bb39a6e6-7352-4cb8-edd2-cfb58940aa1b",
        "colab": {
          "base_uri": "https://localhost:8080/",
          "height": 455
        }
      },
      "source": [
        "#Loan acceptance rates across race \n",
        "print('''1 -- American Indian or Alaska Native\n",
        "2 -- Asian\n",
        "3 -- Black or African American\n",
        "4 -- Native Hawaiian or Other Pacific Islander\n",
        "5 -- White\n",
        "6 -- Information not provided by applicant.\n",
        "7 -- Not applicable\n",
        "8 -- No co-applicant''')\n",
        "print()\n",
        "#plt.figure(figsize=(7,7))\n",
        "plt.title('Loan Acceptance across Race')\n",
        "sns.barplot(x='applicant_race', y='accepted', data=imputed_train_data);"
      ],
      "execution_count": 32,
      "outputs": [
        {
          "output_type": "stream",
          "text": [
            "1 -- American Indian or Alaska Native\n",
            "2 -- Asian\n",
            "3 -- Black or African American\n",
            "4 -- Native Hawaiian or Other Pacific Islander\n",
            "5 -- White\n",
            "6 -- Information not provided by applicant.\n",
            "7 -- Not applicable\n",
            "8 -- No co-applicant\n",
            "\n"
          ],
          "name": "stdout"
        },
        {
          "output_type": "display_data",
          "data": {
            "image/png": "[encoded data removed]",
            "text/plain": [
              "<Figure size 432x288 with 1 Axes>"
            ]
          },
          "metadata": {
            "tags": []
          }
        }
      ]
    },
    {
      "cell_type": "markdown",
      "metadata": {
        "id": "Gu8ml03k91NG",
        "colab_type": "text"
      },
      "source": [
        "                Black and and African American have lowest loan approval"
      ]
    },
    {
      "cell_type": "markdown",
      "metadata": {
        "id": "jD6zuqyuJzrK",
        "colab_type": "text"
      },
      "source": [
        "## Applicant income and loan amount"
      ]
    },
    {
      "cell_type": "code",
      "metadata": {
        "id": "hQ9B0puCLFzx",
        "colab_type": "code",
        "outputId": "00fe8fb9-8b3d-4942-dcdd-13c41dd3d977",
        "colab": {
          "base_uri": "https://localhost:8080/",
          "height": 446
        }
      },
      "source": [
        "#Applicant Income and Loan Amount in county 45\n",
        "state_45_df = imputed_train_data[imputed_train_data['state_code'] == 45]\n",
        "#print(state_45_df)\n",
        "plt.figure(figsize=(7,7))\n",
        "sns.scatterplot(x='applicant_income', y='loan_amount', data=state_45_df);"
      ],
      "execution_count": 33,
      "outputs": [
        {
          "output_type": "display_data",
          "data": {
            "image/png": "[encoded data removed]",
            "text/plain": [
              "<Figure size 504x504 with 1 Axes>"
            ]
          },
          "metadata": {
            "tags": []
          }
        }
      ]
    },
    {
      "cell_type": "markdown",
      "metadata": {
        "id": "nWvxZMg3-PTT",
        "colab_type": "text"
      },
      "source": [
        "A higher applicant income is associated with a higher loan amount, on average. There are few outliers though"
      ]
    },
    {
      "cell_type": "markdown",
      "metadata": {
        "id": "1E_9NZ9l4pk-",
        "colab_type": "text"
      },
      "source": [
        "### Loan acceptance across counties"
      ]
    },
    {
      "cell_type": "code",
      "metadata": {
        "id": "hNSchy2y3qL4",
        "colab_type": "code",
        "outputId": "66548639-3fc3-4e4e-f909-a06645833897",
        "colab": {
          "base_uri": "https://localhost:8080/",
          "height": 446
        }
      },
      "source": [
        "#Loan Acceptance in state 48 \n",
        "state_48_df = imputed_train_data[imputed_train_data['state_code'] == 48]\n",
        "#print(state_48_df)\n",
        "plt.figure(figsize=(7,7))\n",
        "sns.scatterplot(x='applicant_income', y='loan_amount', data=state_48_df);"
      ],
      "execution_count": 34,
      "outputs": [
        {
          "output_type": "display_data",
          "data": {
            "image/png": "[encoded data removed]",
            "text/plain": [
              "<Figure size 504x504 with 1 Axes>"
            ]
          },
          "metadata": {
            "tags": []
          }
        }
      ]
    },
    {
      "cell_type": "markdown",
      "metadata": {
        "id": "J6w3VZgF-9d0",
        "colab_type": "text"
      },
      "source": [
        "There sems to be alot of applicants from state 48 with low income but with access to higher loans. Strange since on average higher income means loan approval. Why?"
      ]
    },
    {
      "cell_type": "code",
      "metadata": {
        "id": "aLdIavRO5_9F",
        "colab_type": "code",
        "outputId": "382bf120-944b-4c7b-a649-3f24a91283ad",
        "colab": {
          "base_uri": "https://localhost:8080/",
          "height": 87
        }
      },
      "source": [
        "#Loan Acceptance in state 48 and counties (ignoring missing counties)\n",
        "no_missing_county = imputed_train_data[imputed_train_data['county_code'] != -1]\n",
        "#no_missing_county_48 = no_missing_county[no_missing_county['state_code'] = 48]\n",
        "no_missing_county_48 = no_missing_county[no_missing_county['state_code'] == 48]\n",
        "plt.figure(figsize=(7,7))\n",
        "no_missing_county_48['accepted'].value_counts()"
      ],
      "execution_count": 41,
      "outputs": [
        {
          "output_type": "execute_result",
          "data": {
            "text/plain": [
              "0.0    8096\n",
              "1.0    7665\n",
              "Name: accepted, dtype: int64"
            ]
          },
          "metadata": {
            "tags": []
          },
          "execution_count": 41
        },
        {
          "output_type": "display_data",
          "data": {
            "text/plain": [
              "<Figure size 504x504 with 0 Axes>"
            ]
          },
          "metadata": {
            "tags": []
          }
        }
      ]
    },
    {
      "cell_type": "code",
      "metadata": {
        "id": "Drt8cEfKGT4k",
        "colab_type": "code",
        "outputId": "e1fd2220-7e03-4ec2-826c-a0479a3713a2",
        "colab": {
          "base_uri": "https://localhost:8080/",
          "height": 301
        }
      },
      "source": [
        "sns.pointplot(x = 'county_code', y = 'accepted', data=no_missing_county_48)\n",
        "print(len(no_missing_county_48['county_code'].unique()))"
      ],
      "execution_count": 42,
      "outputs": [
        {
          "output_type": "stream",
          "text": [
            "15\n"
          ],
          "name": "stdout"
        },
        {
          "output_type": "display_data",
          "data": {
            "image/png": "[encoded data removed]",
            "text/plain": [
              "<Figure size 432x288 with 1 Axes>"
            ]
          },
          "metadata": {
            "tags": []
          }
        }
      ]
    },
    {
      "cell_type": "markdown",
      "metadata": {
        "id": "scCPCyjRAeX1",
        "colab_type": "text"
      },
      "source": [
        "In state 48, the average rate of loan acceptance across counties varies substantially, ranging from around 30% to arround 70%."
      ]
    },
    {
      "cell_type": "markdown",
      "metadata": {
        "id": "dXgTJ_K6Ni2G",
        "colab_type": "text"
      },
      "source": [
        "### Loan types across states"
      ]
    },
    {
      "cell_type": "code",
      "metadata": {
        "id": "nC5zQXteGi-Z",
        "colab_type": "code",
        "outputId": "4905fa7a-d788-4900-83ee-47531f8b11c5",
        "colab": {
          "base_uri": "https://localhost:8080/",
          "height": 295
        }
      },
      "source": [
        "#Just looking at states 2 and 4\n",
        "state_2 = imputed_train_data[imputed_train_data['state_code'] == 2 ]\n",
        "state_4 = imputed_train_data[imputed_train_data['state_code'] == 4 ]\n",
        "state_2_and_4 = pd.concat([state_2, state_4])\n",
        "plt.title('State 2 and 4')\n",
        "sns.barplot(x='loan_type', y='accepted', data=state_2_and_4);\n"
      ],
      "execution_count": 0,
      "outputs": [
        {
          "output_type": "display_data",
          "data": {
            "image/png": "[encoded data removed]",
            "text/plain": [
              "<Figure size 432x288 with 1 Axes>"
            ]
          },
          "metadata": {
            "tags": []
          }
        }
      ]
    },
    {
      "cell_type": "code",
      "metadata": {
        "id": "DJ3ovOn0RRH7",
        "colab_type": "code",
        "outputId": "1046597e-d270-4f58-df44-0974c337a548",
        "colab": {
          "base_uri": "https://localhost:8080/",
          "height": 295
        }
      },
      "source": [
        "plt.title('State 4')\n",
        "sns.barplot(x='loan_type', y='accepted', data=state_4);"
      ],
      "execution_count": 0,
      "outputs": [
        {
          "output_type": "display_data",
          "data": {
            "image/png": "[encoded data removed]",
            "text/plain": [
              "<Figure size 432x288 with 1 Axes>"
            ]
          },
          "metadata": {
            "tags": []
          }
        }
      ]
    },
    {
      "cell_type": "markdown",
      "metadata": {
        "id": "fBoXXgk4Az3Y",
        "colab_type": "text"
      },
      "source": [
        "For each of the four loan types, the loan acceptance rate in state 2 is lower than for the corrsponding loan type in state 4."
      ]
    },
    {
      "cell_type": "markdown",
      "metadata": {
        "id": "0hhJXhplzsMe",
        "colab_type": "text"
      },
      "source": [
        "### Finding suspected outliers in **loan_amount** and **applicant_income** "
      ]
    },
    {
      "cell_type": "code",
      "metadata": {
        "id": "n0CqeH8zpiSb",
        "colab_type": "code",
        "outputId": "b7abb992-a58d-4fdf-d815-ce3df4fd39cd",
        "colab": {
          "base_uri": "https://localhost:8080/",
          "height": 194
        }
      },
      "source": [
        "stat = imputed_train_data.loan_amount.describe()\n",
        "print(stat)\n",
        "iqr = stat['75%'] - stat['25%']\n",
        "factor = iqr * 1.5\n",
        "upper_bound = stat['75%'] + factor\n",
        "lower_bound = stat['25%'] - factor\n",
        "print('The upper and lower bounds for suspected outliers are', upper_bound, 'and', lower_bound)"
      ],
      "execution_count": 43,
      "outputs": [
        {
          "output_type": "stream",
          "text": [
            "count    500000.000000\n",
            "mean        221.753158\n",
            "std         590.641648\n",
            "min           1.000000\n",
            "25%          93.000000\n",
            "50%         162.000000\n",
            "75%         266.000000\n",
            "max      100878.000000\n",
            "Name: loan_amount, dtype: float64\n",
            "The upper and lower bounds for suspected outliers are 525.5 and -166.5\n"
          ],
          "name": "stdout"
        }
      ]
    },
    {
      "cell_type": "code",
      "metadata": {
        "id": "yR_-n3z7zphK",
        "colab_type": "code",
        "outputId": "d7a7a1bf-8ccb-4742-89f8-888d2b7bf005",
        "colab": {
          "base_uri": "https://localhost:8080/",
          "height": 70
        }
      },
      "source": [
        "#what class of people got such very high loan amount?\n",
        "imputed_train_data.loc[imputed_train_data['loan_amount'] > 525.5, 'accepted'].value_counts()"
      ],
      "execution_count": 44,
      "outputs": [
        {
          "output_type": "execute_result",
          "data": {
            "text/plain": [
              "1.0    15183\n",
              "0.0    11129\n",
              "Name: accepted, dtype: int64"
            ]
          },
          "metadata": {
            "tags": []
          },
          "execution_count": 44
        }
      ]
    },
    {
      "cell_type": "code",
      "metadata": {
        "id": "Zwak0MlDC62l",
        "colab_type": "code",
        "colab": {}
      },
      "source": [
        ""
      ],
      "execution_count": 0,
      "outputs": []
    },
    {
      "cell_type": "code",
      "metadata": {
        "id": "G0c9wJsTxy4L",
        "colab_type": "code",
        "outputId": "a456b860-bb0c-480f-94e0-b80bccf09e46",
        "colab": {
          "base_uri": "https://localhost:8080/",
          "height": 194
        }
      },
      "source": [
        "stat = imputed_train_data.applicant_income.describe()\n",
        "print(stat)\n",
        "iqr = stat['75%'] - stat['25%']\n",
        "factor = iqr * 1.5\n",
        "upper_bound = stat['75%'] + factor\n",
        "lower_bound = stat['25%'] - factor\n",
        "print('The upper and lower bounds for suspected outliers are', upper_bound, 'and', lower_bound)"
      ],
      "execution_count": 0,
      "outputs": [
        {
          "output_type": "stream",
          "text": [
            "count    500000.000000\n",
            "mean        102.389521\n",
            "std         147.273425\n",
            "min           1.000000\n",
            "25%          49.000000\n",
            "50%          79.000000\n",
            "75%         112.000000\n",
            "max       10139.000000\n",
            "Name: applicant_income, dtype: float64\n",
            "The upper and lower bounds for suspected outliers are 206.5 and -45.5\n"
          ],
          "name": "stdout"
        }
      ]
    },
    {
      "cell_type": "code",
      "metadata": {
        "id": "nRNvVe7y53dt",
        "colab_type": "code",
        "outputId": "7b22e03c-864d-42e6-9e51-86ed7df308e8",
        "colab": {
          "base_uri": "https://localhost:8080/",
          "height": 70
        }
      },
      "source": [
        "#what class of people got such very high loan amount?\n",
        "imputed_train_data.loc[imputed_train_data['applicant_income'] > 206.5, 'accepted'].value_counts()"
      ],
      "execution_count": 0,
      "outputs": [
        {
          "output_type": "execute_result",
          "data": {
            "text/plain": [
              "1.0    21489\n",
              "0.0    13652\n",
              "Name: accepted, dtype: int64"
            ]
          },
          "metadata": {
            "tags": []
          },
          "execution_count": 49
        }
      ]
    },
    {
      "cell_type": "code",
      "metadata": {
        "id": "gGYwgcW36Hn1",
        "colab_type": "code",
        "outputId": "134fec37-cd2b-417e-b111-4155a16decbf",
        "colab": {
          "base_uri": "https://localhost:8080/",
          "height": 70
        }
      },
      "source": [
        "#what class of people got such very high loan amount?\n",
        "imputed_train_data.loc[imputed_train_data['applicant_income'] < 206.5, 'accepted'].value_counts()"
      ],
      "execution_count": 0,
      "outputs": [
        {
          "output_type": "execute_result",
          "data": {
            "text/plain": [
              "0.0    236234\n",
              "1.0    228625\n",
              "Name: accepted, dtype: int64"
            ]
          },
          "metadata": {
            "tags": []
          },
          "execution_count": 50
        }
      ]
    },
    {
      "cell_type": "markdown",
      "metadata": {
        "id": "LaGOXisaABbl",
        "colab_type": "text"
      },
      "source": [
        "### Feature selection with Embedded method"
      ]
    },
    {
      "cell_type": "code",
      "metadata": {
        "id": "HcaE6jTzAIEl",
        "colab_type": "code",
        "outputId": "9b1731ea-7164-4165-80c7-b95840f4cac6",
        "colab": {
          "base_uri": "https://localhost:8080/",
          "height": 87
        }
      },
      "source": [
        "from xgboost import XGBClassifier\n",
        "from sklearn.metrics import accuracy_score\n",
        "from sklearn.model_selection import train_test_split\n",
        "from sklearn.linear_model import RidgeCV, LassoCV, Ridge, Lasso\n",
        "\n",
        "y = imputed_train_data['accepted']\n",
        "X = imputed_train_data.drop(['accepted'], axis=1)\n",
        "train_X, test_X, train_y, test_y = train_test_split(X, y, test_size=0.30)\n",
        "\n",
        "reg = LassoCV()\n",
        "reg.fit(X, y)\n",
        "print(\"Best alpha using built-in LassoCV: %f\" % reg.alpha_)\n",
        "print(\"Best score using built-in LassoCV: %f\" %reg.score(X,y))\n",
        "coef = pd.Series(reg.coef_, index = X.columns)\n",
        "print()\n",
        "print(\"Lasso picked \" + str(sum(coef != 0)) + \" variables and eliminated the other \" +  str(sum(coef == 0)) + \" variables\")"
      ],
      "execution_count": 0,
      "outputs": [
        {
          "output_type": "stream",
          "text": [
            "Best alpha using built-in LassoCV: 0.472848\n",
            "Best score using built-in LassoCV: 0.017855\n",
            "\n",
            "Lasso picked 9 variables and eliminated the other 13 variables\n"
          ],
          "name": "stdout"
        }
      ]
    },
    {
      "cell_type": "code",
      "metadata": {
        "id": "ol4ilHI6A8G3",
        "colab_type": "code",
        "outputId": "d13d8ac4-4049-4585-a2c7-666317e2e2b3",
        "colab": {
          "base_uri": "https://localhost:8080/",
          "height": 896
        }
      },
      "source": [
        "imp_coef = coef.sort_values()\n",
        "import matplotlib\n",
        "matplotlib.rcParams['figure.figsize'] = (8.0, 15.0)\n",
        "imp_coef.plot(kind = \"barh\")\n",
        "plt.title(\"Feature importance using Lasso Model\")"
      ],
      "execution_count": 0,
      "outputs": [
        {
          "output_type": "execute_result",
          "data": {
            "text/plain": [
              "Text(0.5, 1.0, 'Feature importance using Lasso Model')"
            ]
          },
          "metadata": {
            "tags": []
          },
          "execution_count": 52
        },
        {
          "output_type": "display_data",
          "data": {
            "image/png": "[encoded data removed]",
            "text/plain": [
              "<Figure size 576x1080 with 1 Axes>"
            ]
          },
          "metadata": {
            "tags": []
          }
        }
      ]
    },
    {
      "cell_type": "markdown",
      "metadata": {
        "id": "gm04Vkc0BnFe",
        "colab_type": "text"
      },
      "source": [
        "The following features are Lasso-picked for modelling:\n",
        "msa_md, applicant_income, number_of_owner_occupied_units, loan_amount, population, gender"
      ]
    },
    {
      "cell_type": "markdown",
      "metadata": {
        "id": "XCSOomeXCWGP",
        "colab_type": "text"
      },
      "source": [
        "### Now to model based on Lasso features"
      ]
    },
    {
      "cell_type": "code",
      "metadata": {
        "id": "evhq0OY-CcQ8",
        "colab_type": "code",
        "colab": {}
      },
      "source": [
        "lasso_train_feat = ['msa_md', 'applicant_income', 'number_of_owner-occupied_units', 'loan_amount', 'lender', 'property_type', \n",
        "                    'ffiecmedian_family_income','minority_population_pct', 'number_of_1_to_4_family_units', 'co_applicant', 'loan_purpose', 'accepted' ]\n",
        "lasso_train_data = imputed_train_data[lasso_train_feat]"
      ],
      "execution_count": 0,
      "outputs": []
    },
    {
      "cell_type": "markdown",
      "metadata": {
        "id": "qTKlXuk9pLZi",
        "colab_type": "text"
      },
      "source": [
        "### Now to the Model Creation with lasso features\n"
      ]
    },
    {
      "cell_type": "code",
      "metadata": {
        "id": "w2vk6w_8IvtJ",
        "colab_type": "code",
        "outputId": "b70af39d-61ee-49b1-a5fb-726d7b4dee4e",
        "colab": {
          "base_uri": "https://localhost:8080/",
          "height": 141
        }
      },
      "source": [
        "from xgboost import XGBClassifier\n",
        "from sklearn.metrics import accuracy_score\n",
        "from sklearn.model_selection import train_test_split\n",
        "\n",
        "y = lasso_train_data['accepted']\n",
        "X = lasso_train_data.drop(['accepted'], axis=1)\n",
        "train_X, test_X, train_y, test_y = train_test_split(X.as_matrix(), y.as_matrix(), test_size=0.30)\n",
        "\n",
        "my_model = XGBClassifier(n_estimators=1000, learning_rate=0.5)\n",
        "# Add silent=True to avoid printing out updates with each cycle\n",
        "my_model.fit(train_X, train_y, early_stopping_rounds=5, eval_set=[(test_X, test_y)], verbose=False)"
      ],
      "execution_count": 0,
      "outputs": [
        {
          "output_type": "execute_result",
          "data": {
            "text/plain": [
              "XGBClassifier(base_score=0.5, booster='gbtree', colsample_bylevel=1,\n",
              "              colsample_bynode=1, colsample_bytree=1, gamma=0,\n",
              "              learning_rate=0.5, max_delta_step=0, max_depth=3,\n",
              "              min_child_weight=1, missing=None, n_estimators=1000, n_jobs=1,\n",
              "              nthread=None, objective='binary:logistic', random_state=0,\n",
              "              reg_alpha=0, reg_lambda=1, scale_pos_weight=1, seed=None,\n",
              "              silent=None, subsample=1, verbosity=1)"
            ]
          },
          "metadata": {
            "tags": []
          },
          "execution_count": 54
        }
      ]
    },
    {
      "cell_type": "code",
      "metadata": {
        "id": "M9IAxspAJZDo",
        "colab_type": "code",
        "outputId": "4fab13ef-c856-4dc1-dcc8-9bbf52525da6",
        "colab": {
          "base_uri": "https://localhost:8080/",
          "height": 34
        }
      },
      "source": [
        "# make predictions\n",
        "predictions = my_model.predict(test_X)\n",
        "\n",
        "accuracy = accuracy_score(predictions, test_y)\n",
        "print(\"Accuracy: %.2f%%\" % (accuracy * 100.0))"
      ],
      "execution_count": 0,
      "outputs": [
        {
          "output_type": "stream",
          "text": [
            "Accuracy: 69.99%\n"
          ],
          "name": "stdout"
        }
      ]
    },
    {
      "cell_type": "code",
      "metadata": {
        "id": "eiJES3eicRJ7",
        "colab_type": "code",
        "outputId": "a1983b87-b51c-4e13-e986-c5dc5293ebe9",
        "colab": {
          "base_uri": "https://localhost:8080/",
          "height": 174
        }
      },
      "source": [
        "imputed_train_data.head(3)"
      ],
      "execution_count": 0,
      "outputs": [
        {
          "output_type": "execute_result",
          "data": {
            "text/html": [
              "<div>\n",
              "<style scoped>\n",
              "    .dataframe tbody tr th:only-of-type {\n",
              "        vertical-align: middle;\n",
              "    }\n",
              "\n",
              "    .dataframe tbody tr th {\n",
              "        vertical-align: top;\n",
              "    }\n",
              "\n",
              "    .dataframe thead th {\n",
              "        text-align: right;\n",
              "    }\n",
              "</style>\n",
              "<table border=\"1\" class=\"dataframe\">\n",
              "  <thead>\n",
              "    <tr style=\"text-align: right;\">\n",
              "      <th></th>\n",
              "      <th>row_id</th>\n",
              "      <th>loan_type</th>\n",
              "      <th>property_type</th>\n",
              "      <th>loan_purpose</th>\n",
              "      <th>occupancy</th>\n",
              "      <th>loan_amount</th>\n",
              "      <th>preapproval</th>\n",
              "      <th>msa_md</th>\n",
              "      <th>state_code</th>\n",
              "      <th>county_code</th>\n",
              "      <th>applicant_ethnicity</th>\n",
              "      <th>applicant_race</th>\n",
              "      <th>applicant_sex</th>\n",
              "      <th>applicant_income</th>\n",
              "      <th>population</th>\n",
              "      <th>minority_population_pct</th>\n",
              "      <th>ffiecmedian_family_income</th>\n",
              "      <th>tract_to_msa_md_income_pct</th>\n",
              "      <th>number_of_owner-occupied_units</th>\n",
              "      <th>number_of_1_to_4_family_units</th>\n",
              "      <th>lender</th>\n",
              "      <th>co_applicant</th>\n",
              "      <th>accepted</th>\n",
              "    </tr>\n",
              "  </thead>\n",
              "  <tbody>\n",
              "    <tr>\n",
              "      <th>0</th>\n",
              "      <td>0.0</td>\n",
              "      <td>3.0</td>\n",
              "      <td>1.0</td>\n",
              "      <td>1.0</td>\n",
              "      <td>1.0</td>\n",
              "      <td>70.0</td>\n",
              "      <td>3.0</td>\n",
              "      <td>18.0</td>\n",
              "      <td>37.0</td>\n",
              "      <td>18.0</td>\n",
              "      <td>2.0</td>\n",
              "      <td>5.0</td>\n",
              "      <td>1.0</td>\n",
              "      <td>24.0</td>\n",
              "      <td>6203.0</td>\n",
              "      <td>44.230</td>\n",
              "      <td>60588.0</td>\n",
              "      <td>50.933</td>\n",
              "      <td>716.0</td>\n",
              "      <td>2642.0</td>\n",
              "      <td>4536.0</td>\n",
              "      <td>0.0</td>\n",
              "      <td>1.0</td>\n",
              "    </tr>\n",
              "    <tr>\n",
              "      <th>1</th>\n",
              "      <td>1.0</td>\n",
              "      <td>1.0</td>\n",
              "      <td>1.0</td>\n",
              "      <td>3.0</td>\n",
              "      <td>1.0</td>\n",
              "      <td>178.0</td>\n",
              "      <td>3.0</td>\n",
              "      <td>369.0</td>\n",
              "      <td>52.0</td>\n",
              "      <td>369.0</td>\n",
              "      <td>1.0</td>\n",
              "      <td>5.0</td>\n",
              "      <td>1.0</td>\n",
              "      <td>57.0</td>\n",
              "      <td>5774.0</td>\n",
              "      <td>15.905</td>\n",
              "      <td>54821.0</td>\n",
              "      <td>100.000</td>\n",
              "      <td>1622.0</td>\n",
              "      <td>2108.0</td>\n",
              "      <td>2458.0</td>\n",
              "      <td>0.0</td>\n",
              "      <td>0.0</td>\n",
              "    </tr>\n",
              "    <tr>\n",
              "      <th>2</th>\n",
              "      <td>2.0</td>\n",
              "      <td>2.0</td>\n",
              "      <td>1.0</td>\n",
              "      <td>3.0</td>\n",
              "      <td>1.0</td>\n",
              "      <td>163.0</td>\n",
              "      <td>3.0</td>\n",
              "      <td>16.0</td>\n",
              "      <td>10.0</td>\n",
              "      <td>16.0</td>\n",
              "      <td>2.0</td>\n",
              "      <td>5.0</td>\n",
              "      <td>1.0</td>\n",
              "      <td>67.0</td>\n",
              "      <td>6094.0</td>\n",
              "      <td>61.270</td>\n",
              "      <td>67719.0</td>\n",
              "      <td>100.000</td>\n",
              "      <td>760.0</td>\n",
              "      <td>1048.0</td>\n",
              "      <td>5710.0</td>\n",
              "      <td>0.0</td>\n",
              "      <td>1.0</td>\n",
              "    </tr>\n",
              "  </tbody>\n",
              "</table>\n",
              "</div>"
            ],
            "text/plain": [
              "   row_id  loan_type  property_type  ...  lender  co_applicant  accepted\n",
              "0     0.0        3.0            1.0  ...  4536.0           0.0       1.0\n",
              "1     1.0        1.0            1.0  ...  2458.0           0.0       0.0\n",
              "2     2.0        2.0            1.0  ...  5710.0           0.0       1.0\n",
              "\n",
              "[3 rows x 23 columns]"
            ]
          },
          "metadata": {
            "tags": []
          },
          "execution_count": 56
        }
      ]
    },
    {
      "cell_type": "code",
      "metadata": {
        "id": "djXdd3-wqsF7",
        "colab_type": "code",
        "outputId": "564b6714-faa8-42a5-c246-33f33de9d20a",
        "colab": {
          "base_uri": "https://localhost:8080/",
          "height": 174
        }
      },
      "source": [
        "imputed_test_data.head(3)"
      ],
      "execution_count": 0,
      "outputs": [
        {
          "output_type": "execute_result",
          "data": {
            "text/html": [
              "<div>\n",
              "<style scoped>\n",
              "    .dataframe tbody tr th:only-of-type {\n",
              "        vertical-align: middle;\n",
              "    }\n",
              "\n",
              "    .dataframe tbody tr th {\n",
              "        vertical-align: top;\n",
              "    }\n",
              "\n",
              "    .dataframe thead th {\n",
              "        text-align: right;\n",
              "    }\n",
              "</style>\n",
              "<table border=\"1\" class=\"dataframe\">\n",
              "  <thead>\n",
              "    <tr style=\"text-align: right;\">\n",
              "      <th></th>\n",
              "      <th>row_id</th>\n",
              "      <th>loan_type</th>\n",
              "      <th>property_type</th>\n",
              "      <th>loan_purpose</th>\n",
              "      <th>occupancy</th>\n",
              "      <th>loan_amount</th>\n",
              "      <th>preapproval</th>\n",
              "      <th>msa_md</th>\n",
              "      <th>state_code</th>\n",
              "      <th>county_code</th>\n",
              "      <th>applicant_ethnicity</th>\n",
              "      <th>applicant_race</th>\n",
              "      <th>applicant_sex</th>\n",
              "      <th>applicant_income</th>\n",
              "      <th>population</th>\n",
              "      <th>minority_population_pct</th>\n",
              "      <th>ffiecmedian_family_income</th>\n",
              "      <th>tract_to_msa_md_income_pct</th>\n",
              "      <th>number_of_owner-occupied_units</th>\n",
              "      <th>number_of_1_to_4_family_units</th>\n",
              "      <th>lender</th>\n",
              "      <th>co_applicant</th>\n",
              "    </tr>\n",
              "  </thead>\n",
              "  <tbody>\n",
              "    <tr>\n",
              "      <th>0</th>\n",
              "      <td>0.0</td>\n",
              "      <td>2.0</td>\n",
              "      <td>1.0</td>\n",
              "      <td>3.0</td>\n",
              "      <td>1.0</td>\n",
              "      <td>115.0</td>\n",
              "      <td>3.0</td>\n",
              "      <td>101.0</td>\n",
              "      <td>16.0</td>\n",
              "      <td>101.0</td>\n",
              "      <td>2.0</td>\n",
              "      <td>5.0</td>\n",
              "      <td>1.0</td>\n",
              "      <td>101.926536</td>\n",
              "      <td>6329.000000</td>\n",
              "      <td>59.536000</td>\n",
              "      <td>69889.000000</td>\n",
              "      <td>85.780000</td>\n",
              "      <td>1874.000000</td>\n",
              "      <td>2410.000000</td>\n",
              "      <td>3791.0</td>\n",
              "      <td>1.0</td>\n",
              "    </tr>\n",
              "    <tr>\n",
              "      <th>1</th>\n",
              "      <td>1.0</td>\n",
              "      <td>1.0</td>\n",
              "      <td>1.0</td>\n",
              "      <td>1.0</td>\n",
              "      <td>1.0</td>\n",
              "      <td>252.0</td>\n",
              "      <td>2.0</td>\n",
              "      <td>87.0</td>\n",
              "      <td>20.0</td>\n",
              "      <td>87.0</td>\n",
              "      <td>2.0</td>\n",
              "      <td>5.0</td>\n",
              "      <td>1.0</td>\n",
              "      <td>107.000000</td>\n",
              "      <td>2473.000000</td>\n",
              "      <td>8.050000</td>\n",
              "      <td>65313.000000</td>\n",
              "      <td>100.000000</td>\n",
              "      <td>947.000000</td>\n",
              "      <td>1214.000000</td>\n",
              "      <td>2839.0</td>\n",
              "      <td>1.0</td>\n",
              "    </tr>\n",
              "    <tr>\n",
              "      <th>2</th>\n",
              "      <td>2.0</td>\n",
              "      <td>1.0</td>\n",
              "      <td>1.0</td>\n",
              "      <td>1.0</td>\n",
              "      <td>1.0</td>\n",
              "      <td>270.0</td>\n",
              "      <td>1.0</td>\n",
              "      <td>192.0</td>\n",
              "      <td>26.0</td>\n",
              "      <td>192.0</td>\n",
              "      <td>2.0</td>\n",
              "      <td>1.0</td>\n",
              "      <td>2.0</td>\n",
              "      <td>119.000000</td>\n",
              "      <td>5411.205196</td>\n",
              "      <td>31.631572</td>\n",
              "      <td>69254.074141</td>\n",
              "      <td>91.813397</td>\n",
              "      <td>1426.559815</td>\n",
              "      <td>1884.863422</td>\n",
              "      <td>4701.0</td>\n",
              "      <td>0.0</td>\n",
              "    </tr>\n",
              "  </tbody>\n",
              "</table>\n",
              "</div>"
            ],
            "text/plain": [
              "   row_id  loan_type  ...  lender  co_applicant\n",
              "0     0.0        2.0  ...  3791.0           1.0\n",
              "1     1.0        1.0  ...  2839.0           1.0\n",
              "2     2.0        1.0  ...  4701.0           0.0\n",
              "\n",
              "[3 rows x 22 columns]"
            ]
          },
          "metadata": {
            "tags": []
          },
          "execution_count": 57
        }
      ]
    },
    {
      "cell_type": "markdown",
      "metadata": {
        "id": "GpyFS1sq_kjH",
        "colab_type": "text"
      },
      "source": [
        "##  FEATURE ENGINEERING."
      ]
    },
    {
      "cell_type": "markdown",
      "metadata": {
        "id": "gApuKhh-8Igc",
        "colab_type": "text"
      },
      "source": [
        "## Normalizaton of Numeric data"
      ]
    },
    {
      "cell_type": "code",
      "metadata": {
        "id": "JYvpizX632qH",
        "colab_type": "code",
        "outputId": "4e1d0163-c2a5-482b-b7f1-cd04c44209f0",
        "colab": {
          "base_uri": "https://localhost:8080/",
          "height": 425
        }
      },
      "source": [
        "list(imputed_train_data.columns)"
      ],
      "execution_count": 61,
      "outputs": [
        {
          "output_type": "execute_result",
          "data": {
            "text/plain": [
              "['row_id',\n",
              " 'loan_type',\n",
              " 'property_type',\n",
              " 'loan_purpose',\n",
              " 'occupancy',\n",
              " 'loan_amount',\n",
              " 'preapproval',\n",
              " 'msa_md',\n",
              " 'state_code',\n",
              " 'county_code',\n",
              " 'applicant_ethnicity',\n",
              " 'applicant_race',\n",
              " 'applicant_sex',\n",
              " 'applicant_income',\n",
              " 'population',\n",
              " 'minority_population_pct',\n",
              " 'ffiecmedian_family_income',\n",
              " 'tract_to_msa_md_income_pct',\n",
              " 'number_of_owner-occupied_units',\n",
              " 'number_of_1_to_4_family_units',\n",
              " 'lender',\n",
              " 'co_applicant',\n",
              " 'accepted']"
            ]
          },
          "metadata": {
            "tags": []
          },
          "execution_count": 61
        }
      ]
    },
    {
      "cell_type": "code",
      "metadata": {
        "id": "KgoncJ0-8AUq",
        "colab_type": "code",
        "colab": {}
      },
      "source": [
        "num_cols = ['loan_amount', 'applicant_income', 'population', 'minority_population_pct', 'ffiecmedian_family_income', 'tract_to_msa_md_income_pct',\n",
        "            'number_of_owner-occupied_units', 'number_of_1_to_4_family_units']\n",
        "cat_cols = ['msa_md', 'state_code',\t'county_code','lender', 'loan_type', 'property_type',\t'loan_purpose',\t'occupancy',\n",
        "            'preapproval', 'applicant_ethnicity','applicant_race',\t'applicant_sex', 'number_of_owner-occupied_units', 'applicant_race']"
      ],
      "execution_count": 0,
      "outputs": []
    },
    {
      "cell_type": "code",
      "metadata": {
        "id": "7oUBTh6Q8Ajj",
        "colab_type": "code",
        "colab": {}
      },
      "source": [
        "y = imputed_train_data['accepted']\n",
        "x = imputed_train_data.drop(['row_id', 'accepted'], axis = 1)"
      ],
      "execution_count": 0,
      "outputs": []
    },
    {
      "cell_type": "code",
      "metadata": {
        "id": "Dq0qFIA1Ar19",
        "colab_type": "code",
        "outputId": "1fe9b308-14b8-43b5-a4d7-de34b6e9ed47",
        "colab": {
          "base_uri": "https://localhost:8080/",
          "height": 234
        }
      },
      "source": [
        "x.head()"
      ],
      "execution_count": 65,
      "outputs": [
        {
          "output_type": "execute_result",
          "data": {
            "text/html": [
              "<div>\n",
              "<style scoped>\n",
              "    .dataframe tbody tr th:only-of-type {\n",
              "        vertical-align: middle;\n",
              "    }\n",
              "\n",
              "    .dataframe tbody tr th {\n",
              "        vertical-align: top;\n",
              "    }\n",
              "\n",
              "    .dataframe thead th {\n",
              "        text-align: right;\n",
              "    }\n",
              "</style>\n",
              "<table border=\"1\" class=\"dataframe\">\n",
              "  <thead>\n",
              "    <tr style=\"text-align: right;\">\n",
              "      <th></th>\n",
              "      <th>loan_type</th>\n",
              "      <th>property_type</th>\n",
              "      <th>loan_purpose</th>\n",
              "      <th>occupancy</th>\n",
              "      <th>loan_amount</th>\n",
              "      <th>preapproval</th>\n",
              "      <th>msa_md</th>\n",
              "      <th>state_code</th>\n",
              "      <th>county_code</th>\n",
              "      <th>applicant_ethnicity</th>\n",
              "      <th>applicant_race</th>\n",
              "      <th>applicant_sex</th>\n",
              "      <th>applicant_income</th>\n",
              "      <th>population</th>\n",
              "      <th>minority_population_pct</th>\n",
              "      <th>ffiecmedian_family_income</th>\n",
              "      <th>tract_to_msa_md_income_pct</th>\n",
              "      <th>number_of_owner-occupied_units</th>\n",
              "      <th>number_of_1_to_4_family_units</th>\n",
              "      <th>lender</th>\n",
              "      <th>co_applicant</th>\n",
              "    </tr>\n",
              "  </thead>\n",
              "  <tbody>\n",
              "    <tr>\n",
              "      <th>0</th>\n",
              "      <td>3.0</td>\n",
              "      <td>1.0</td>\n",
              "      <td>1.0</td>\n",
              "      <td>1.0</td>\n",
              "      <td>70.0</td>\n",
              "      <td>3.0</td>\n",
              "      <td>18.0</td>\n",
              "      <td>37.0</td>\n",
              "      <td>18.0</td>\n",
              "      <td>2.0</td>\n",
              "      <td>5.0</td>\n",
              "      <td>1.0</td>\n",
              "      <td>24.0</td>\n",
              "      <td>6203.0</td>\n",
              "      <td>44.230</td>\n",
              "      <td>60588.0</td>\n",
              "      <td>50.933</td>\n",
              "      <td>716.0</td>\n",
              "      <td>2642.0</td>\n",
              "      <td>4536.0</td>\n",
              "      <td>0.0</td>\n",
              "    </tr>\n",
              "    <tr>\n",
              "      <th>1</th>\n",
              "      <td>1.0</td>\n",
              "      <td>1.0</td>\n",
              "      <td>3.0</td>\n",
              "      <td>1.0</td>\n",
              "      <td>178.0</td>\n",
              "      <td>3.0</td>\n",
              "      <td>369.0</td>\n",
              "      <td>52.0</td>\n",
              "      <td>369.0</td>\n",
              "      <td>1.0</td>\n",
              "      <td>5.0</td>\n",
              "      <td>1.0</td>\n",
              "      <td>57.0</td>\n",
              "      <td>5774.0</td>\n",
              "      <td>15.905</td>\n",
              "      <td>54821.0</td>\n",
              "      <td>100.000</td>\n",
              "      <td>1622.0</td>\n",
              "      <td>2108.0</td>\n",
              "      <td>2458.0</td>\n",
              "      <td>0.0</td>\n",
              "    </tr>\n",
              "    <tr>\n",
              "      <th>2</th>\n",
              "      <td>2.0</td>\n",
              "      <td>1.0</td>\n",
              "      <td>3.0</td>\n",
              "      <td>1.0</td>\n",
              "      <td>163.0</td>\n",
              "      <td>3.0</td>\n",
              "      <td>16.0</td>\n",
              "      <td>10.0</td>\n",
              "      <td>16.0</td>\n",
              "      <td>2.0</td>\n",
              "      <td>5.0</td>\n",
              "      <td>1.0</td>\n",
              "      <td>67.0</td>\n",
              "      <td>6094.0</td>\n",
              "      <td>61.270</td>\n",
              "      <td>67719.0</td>\n",
              "      <td>100.000</td>\n",
              "      <td>760.0</td>\n",
              "      <td>1048.0</td>\n",
              "      <td>5710.0</td>\n",
              "      <td>0.0</td>\n",
              "    </tr>\n",
              "    <tr>\n",
              "      <th>3</th>\n",
              "      <td>1.0</td>\n",
              "      <td>1.0</td>\n",
              "      <td>1.0</td>\n",
              "      <td>1.0</td>\n",
              "      <td>155.0</td>\n",
              "      <td>1.0</td>\n",
              "      <td>305.0</td>\n",
              "      <td>47.0</td>\n",
              "      <td>305.0</td>\n",
              "      <td>2.0</td>\n",
              "      <td>5.0</td>\n",
              "      <td>1.0</td>\n",
              "      <td>105.0</td>\n",
              "      <td>6667.0</td>\n",
              "      <td>6.246</td>\n",
              "      <td>78439.0</td>\n",
              "      <td>100.000</td>\n",
              "      <td>2025.0</td>\n",
              "      <td>2299.0</td>\n",
              "      <td>5888.0</td>\n",
              "      <td>1.0</td>\n",
              "    </tr>\n",
              "    <tr>\n",
              "      <th>4</th>\n",
              "      <td>1.0</td>\n",
              "      <td>1.0</td>\n",
              "      <td>1.0</td>\n",
              "      <td>1.0</td>\n",
              "      <td>305.0</td>\n",
              "      <td>3.0</td>\n",
              "      <td>24.0</td>\n",
              "      <td>37.0</td>\n",
              "      <td>24.0</td>\n",
              "      <td>2.0</td>\n",
              "      <td>3.0</td>\n",
              "      <td>2.0</td>\n",
              "      <td>71.0</td>\n",
              "      <td>6732.0</td>\n",
              "      <td>100.000</td>\n",
              "      <td>63075.0</td>\n",
              "      <td>82.200</td>\n",
              "      <td>1464.0</td>\n",
              "      <td>1847.0</td>\n",
              "      <td>289.0</td>\n",
              "      <td>0.0</td>\n",
              "    </tr>\n",
              "  </tbody>\n",
              "</table>\n",
              "</div>"
            ],
            "text/plain": [
              "   loan_type  property_type  ...  lender  co_applicant\n",
              "0        3.0            1.0  ...  4536.0           0.0\n",
              "1        1.0            1.0  ...  2458.0           0.0\n",
              "2        2.0            1.0  ...  5710.0           0.0\n",
              "3        1.0            1.0  ...  5888.0           1.0\n",
              "4        1.0            1.0  ...   289.0           0.0\n",
              "\n",
              "[5 rows x 21 columns]"
            ]
          },
          "metadata": {
            "tags": []
          },
          "execution_count": 65
        }
      ]
    },
    {
      "cell_type": "code",
      "metadata": {
        "id": "HIpgQEhMAwUj",
        "colab_type": "code",
        "colab": {}
      },
      "source": [
        "#Split data into training and test\n",
        "x_train, x_test, y_train, y_test = train_test_split(x, y , train_size = 0.8, random_state =  22)"
      ],
      "execution_count": 0,
      "outputs": []
    },
    {
      "cell_type": "code",
      "metadata": {
        "id": "jl2DiPLjEARA",
        "colab_type": "code",
        "outputId": "8f702554-2ad1-426c-ef92-cf9a58b42797",
        "colab": {
          "base_uri": "https://localhost:8080/",
          "height": 87
        }
      },
      "source": [
        "print(x_train.shape)\n",
        "print(x_test.shape)\n",
        "print(y_train.shape)\n",
        "print(y_test.shape)"
      ],
      "execution_count": 67,
      "outputs": [
        {
          "output_type": "stream",
          "text": [
            "(400000, 21)\n",
            "(100000, 21)\n",
            "(400000,)\n",
            "(100000,)\n"
          ],
          "name": "stdout"
        }
      ]
    },
    {
      "cell_type": "code",
      "metadata": {
        "id": "xFxX5FW_EQS-",
        "colab_type": "code",
        "outputId": "c81c1a64-2e4e-4f72-f565-b398d714d017",
        "colab": {
          "base_uri": "https://localhost:8080/",
          "height": 158
        }
      },
      "source": [
        "for x in num_cols:\n",
        "  print('Max value :', imputed_train_data[x].max(), ',', 'Min value :', imputed_train_data[x].min(), 'for', x)\n",
        "  \n",
        "  "
      ],
      "execution_count": 68,
      "outputs": [
        {
          "output_type": "stream",
          "text": [
            "Max value : 100878.0 , Min value : 1.0 for loan_amount\n",
            "Max value : 10139.0 , Min value : 1.0 for applicant_income\n",
            "Max value : 37097.0 , Min value : 14.0 for population\n",
            "Max value : 100.0 , Min value : 0.534 for minority_population_pct\n",
            "Max value : 125248.0 , Min value : 17858.0 for ffiecmedian_family_income\n",
            "Max value : 100.0 , Min value : 3.9810000000000003 for tract_to_msa_md_income_pct\n",
            "Max value : 8771.0 , Min value : 4.0 for number_of_owner-occupied_units\n",
            "Max value : 13623.0 , Min value : 1.0 for number_of_1_to_4_family_units\n"
          ],
          "name": "stdout"
        }
      ]
    },
    {
      "cell_type": "code",
      "metadata": {
        "id": "EYUAnhE3EQM4",
        "colab_type": "code",
        "colab": {}
      },
      "source": [
        "#Select numerical columns which needs to be normalized\n",
        "train_norm = x_train[num_cols]\n",
        "test_norm = x_test[num_cols]"
      ],
      "execution_count": 0,
      "outputs": []
    },
    {
      "cell_type": "code",
      "metadata": {
        "id": "vs6a2ugTEQIg",
        "colab_type": "code",
        "colab": {}
      },
      "source": [
        "# Normalize Training Data\n",
        "std_scale = preprocessing.StandardScaler().fit(train_norm)\n",
        "x_train_norm = std_scale.transform(train_norm)"
      ],
      "execution_count": 0,
      "outputs": []
    },
    {
      "cell_type": "code",
      "metadata": {
        "id": "ou2s86i6II_u",
        "colab_type": "code",
        "outputId": "809fc4eb-5568-4d52-c6ba-9f8a48b4d4e6",
        "colab": {
          "base_uri": "https://localhost:8080/",
          "height": 234
        }
      },
      "source": [
        "#Converting numpy array to dataframe\n",
        "training_norm_col = pd.DataFrame(x_train_norm, index=train_norm.index, columns=train_norm.columns) \n",
        "x_train.update(training_norm_col)\n",
        "x_train.head()"
      ],
      "execution_count": 71,
      "outputs": [
        {
          "output_type": "execute_result",
          "data": {
            "text/html": [
              "<div>\n",
              "<style scoped>\n",
              "    .dataframe tbody tr th:only-of-type {\n",
              "        vertical-align: middle;\n",
              "    }\n",
              "\n",
              "    .dataframe tbody tr th {\n",
              "        vertical-align: top;\n",
              "    }\n",
              "\n",
              "    .dataframe thead th {\n",
              "        text-align: right;\n",
              "    }\n",
              "</style>\n",
              "<table border=\"1\" class=\"dataframe\">\n",
              "  <thead>\n",
              "    <tr style=\"text-align: right;\">\n",
              "      <th></th>\n",
              "      <th>loan_type</th>\n",
              "      <th>property_type</th>\n",
              "      <th>loan_purpose</th>\n",
              "      <th>occupancy</th>\n",
              "      <th>loan_amount</th>\n",
              "      <th>preapproval</th>\n",
              "      <th>msa_md</th>\n",
              "      <th>state_code</th>\n",
              "      <th>county_code</th>\n",
              "      <th>applicant_ethnicity</th>\n",
              "      <th>applicant_race</th>\n",
              "      <th>applicant_sex</th>\n",
              "      <th>applicant_income</th>\n",
              "      <th>population</th>\n",
              "      <th>minority_population_pct</th>\n",
              "      <th>ffiecmedian_family_income</th>\n",
              "      <th>tract_to_msa_md_income_pct</th>\n",
              "      <th>number_of_owner-occupied_units</th>\n",
              "      <th>number_of_1_to_4_family_units</th>\n",
              "      <th>lender</th>\n",
              "      <th>co_applicant</th>\n",
              "    </tr>\n",
              "  </thead>\n",
              "  <tbody>\n",
              "    <tr>\n",
              "      <th>10397</th>\n",
              "      <td>1.0</td>\n",
              "      <td>1.0</td>\n",
              "      <td>3.0</td>\n",
              "      <td>1.0</td>\n",
              "      <td>-0.061115</td>\n",
              "      <td>3.0</td>\n",
              "      <td>276.0</td>\n",
              "      <td>45.0</td>\n",
              "      <td>276.0</td>\n",
              "      <td>2.0</td>\n",
              "      <td>5.0</td>\n",
              "      <td>1.0</td>\n",
              "      <td>-0.105558</td>\n",
              "      <td>-1.208794</td>\n",
              "      <td>-0.808665</td>\n",
              "      <td>1.422618</td>\n",
              "      <td>-0.570272</td>\n",
              "      <td>-0.912033</td>\n",
              "      <td>-1.164044</td>\n",
              "      <td>3354.0</td>\n",
              "      <td>0.0</td>\n",
              "    </tr>\n",
              "    <tr>\n",
              "      <th>392793</th>\n",
              "      <td>1.0</td>\n",
              "      <td>1.0</td>\n",
              "      <td>3.0</td>\n",
              "      <td>1.0</td>\n",
              "      <td>-0.143907</td>\n",
              "      <td>3.0</td>\n",
              "      <td>225.0</td>\n",
              "      <td>35.0</td>\n",
              "      <td>225.0</td>\n",
              "      <td>2.0</td>\n",
              "      <td>5.0</td>\n",
              "      <td>1.0</td>\n",
              "      <td>-0.417790</td>\n",
              "      <td>0.505204</td>\n",
              "      <td>-0.379157</td>\n",
              "      <td>0.216995</td>\n",
              "      <td>0.588367</td>\n",
              "      <td>0.716278</td>\n",
              "      <td>0.202229</td>\n",
              "      <td>2458.0</td>\n",
              "      <td>0.0</td>\n",
              "    </tr>\n",
              "    <tr>\n",
              "      <th>443946</th>\n",
              "      <td>2.0</td>\n",
              "      <td>1.0</td>\n",
              "      <td>1.0</td>\n",
              "      <td>1.0</td>\n",
              "      <td>-0.097544</td>\n",
              "      <td>3.0</td>\n",
              "      <td>333.0</td>\n",
              "      <td>6.0</td>\n",
              "      <td>333.0</td>\n",
              "      <td>2.0</td>\n",
              "      <td>5.0</td>\n",
              "      <td>1.0</td>\n",
              "      <td>-0.029235</td>\n",
              "      <td>2.566212</td>\n",
              "      <td>1.422341</td>\n",
              "      <td>0.057926</td>\n",
              "      <td>0.588367</td>\n",
              "      <td>2.249952</td>\n",
              "      <td>1.963676</td>\n",
              "      <td>5154.0</td>\n",
              "      <td>1.0</td>\n",
              "    </tr>\n",
              "    <tr>\n",
              "      <th>163775</th>\n",
              "      <td>1.0</td>\n",
              "      <td>1.0</td>\n",
              "      <td>3.0</td>\n",
              "      <td>1.0</td>\n",
              "      <td>-0.117414</td>\n",
              "      <td>3.0</td>\n",
              "      <td>101.0</td>\n",
              "      <td>16.0</td>\n",
              "      <td>101.0</td>\n",
              "      <td>2.0</td>\n",
              "      <td>3.0</td>\n",
              "      <td>1.0</td>\n",
              "      <td>-0.036173</td>\n",
              "      <td>-0.394090</td>\n",
              "      <td>0.745773</td>\n",
              "      <td>0.129483</td>\n",
              "      <td>0.588367</td>\n",
              "      <td>-0.022725</td>\n",
              "      <td>-0.251324</td>\n",
              "      <td>2458.0</td>\n",
              "      <td>0.0</td>\n",
              "    </tr>\n",
              "    <tr>\n",
              "      <th>63787</th>\n",
              "      <td>1.0</td>\n",
              "      <td>1.0</td>\n",
              "      <td>3.0</td>\n",
              "      <td>1.0</td>\n",
              "      <td>-0.244913</td>\n",
              "      <td>3.0</td>\n",
              "      <td>287.0</td>\n",
              "      <td>5.0</td>\n",
              "      <td>287.0</td>\n",
              "      <td>2.0</td>\n",
              "      <td>5.0</td>\n",
              "      <td>1.0</td>\n",
              "      <td>-0.466359</td>\n",
              "      <td>0.257823</td>\n",
              "      <td>-0.532175</td>\n",
              "      <td>0.264584</td>\n",
              "      <td>-0.076803</td>\n",
              "      <td>0.603548</td>\n",
              "      <td>0.824180</td>\n",
              "      <td>2816.0</td>\n",
              "      <td>0.0</td>\n",
              "    </tr>\n",
              "  </tbody>\n",
              "</table>\n",
              "</div>"
            ],
            "text/plain": [
              "        loan_type  property_type  ...  lender  co_applicant\n",
              "10397         1.0            1.0  ...  3354.0           0.0\n",
              "392793        1.0            1.0  ...  2458.0           0.0\n",
              "443946        2.0            1.0  ...  5154.0           1.0\n",
              "163775        1.0            1.0  ...  2458.0           0.0\n",
              "63787         1.0            1.0  ...  2816.0           0.0\n",
              "\n",
              "[5 rows x 21 columns]"
            ]
          },
          "metadata": {
            "tags": []
          },
          "execution_count": 71
        }
      ]
    },
    {
      "cell_type": "code",
      "metadata": {
        "id": "Anw2XDxOKZvT",
        "colab_type": "code",
        "outputId": "20d24e1e-bcb5-4478-8abe-78b23e440525",
        "colab": {
          "base_uri": "https://localhost:8080/",
          "height": 234
        }
      },
      "source": [
        "# Normalize Testing Data by using mean and SD of training set\n",
        "x_test_norm = std_scale.transform(test_norm)\n",
        "testing_norm_col = pd.DataFrame(x_test_norm, index=test_norm.index, columns=test_norm.columns) \n",
        "x_test.update(testing_norm_col)\n",
        "x_test.head()"
      ],
      "execution_count": 72,
      "outputs": [
        {
          "output_type": "execute_result",
          "data": {
            "text/html": [
              "<div>\n",
              "<style scoped>\n",
              "    .dataframe tbody tr th:only-of-type {\n",
              "        vertical-align: middle;\n",
              "    }\n",
              "\n",
              "    .dataframe tbody tr th {\n",
              "        vertical-align: top;\n",
              "    }\n",
              "\n",
              "    .dataframe thead th {\n",
              "        text-align: right;\n",
              "    }\n",
              "</style>\n",
              "<table border=\"1\" class=\"dataframe\">\n",
              "  <thead>\n",
              "    <tr style=\"text-align: right;\">\n",
              "      <th></th>\n",
              "      <th>loan_type</th>\n",
              "      <th>property_type</th>\n",
              "      <th>loan_purpose</th>\n",
              "      <th>occupancy</th>\n",
              "      <th>loan_amount</th>\n",
              "      <th>preapproval</th>\n",
              "      <th>msa_md</th>\n",
              "      <th>state_code</th>\n",
              "      <th>county_code</th>\n",
              "      <th>applicant_ethnicity</th>\n",
              "      <th>applicant_race</th>\n",
              "      <th>applicant_sex</th>\n",
              "      <th>applicant_income</th>\n",
              "      <th>population</th>\n",
              "      <th>minority_population_pct</th>\n",
              "      <th>ffiecmedian_family_income</th>\n",
              "      <th>tract_to_msa_md_income_pct</th>\n",
              "      <th>number_of_owner-occupied_units</th>\n",
              "      <th>number_of_1_to_4_family_units</th>\n",
              "      <th>lender</th>\n",
              "      <th>co_applicant</th>\n",
              "    </tr>\n",
              "  </thead>\n",
              "  <tbody>\n",
              "    <tr>\n",
              "      <th>242689</th>\n",
              "      <td>1.0</td>\n",
              "      <td>1.0</td>\n",
              "      <td>1.0</td>\n",
              "      <td>1.0</td>\n",
              "      <td>0.011741</td>\n",
              "      <td>2.0</td>\n",
              "      <td>15.0</td>\n",
              "      <td>44.0</td>\n",
              "      <td>15.0</td>\n",
              "      <td>2.0</td>\n",
              "      <td>5.0</td>\n",
              "      <td>1.0</td>\n",
              "      <td>-0.244328</td>\n",
              "      <td>0.067211</td>\n",
              "      <td>-0.748795</td>\n",
              "      <td>-0.914585</td>\n",
              "      <td>0.588367</td>\n",
              "      <td>-0.412406</td>\n",
              "      <td>-0.335524</td>\n",
              "      <td>2118.0</td>\n",
              "      <td>1.0</td>\n",
              "    </tr>\n",
              "    <tr>\n",
              "      <th>101230</th>\n",
              "      <td>3.0</td>\n",
              "      <td>1.0</td>\n",
              "      <td>3.0</td>\n",
              "      <td>1.0</td>\n",
              "      <td>0.309792</td>\n",
              "      <td>3.0</td>\n",
              "      <td>345.0</td>\n",
              "      <td>28.0</td>\n",
              "      <td>345.0</td>\n",
              "      <td>1.0</td>\n",
              "      <td>5.0</td>\n",
              "      <td>1.0</td>\n",
              "      <td>-0.265143</td>\n",
              "      <td>3.327905</td>\n",
              "      <td>-0.629833</td>\n",
              "      <td>-0.908852</td>\n",
              "      <td>0.588367</td>\n",
              "      <td>3.744657</td>\n",
              "      <td>4.049572</td>\n",
              "      <td>4671.0</td>\n",
              "      <td>1.0</td>\n",
              "    </tr>\n",
              "    <tr>\n",
              "      <th>358956</th>\n",
              "      <td>1.0</td>\n",
              "      <td>1.0</td>\n",
              "      <td>3.0</td>\n",
              "      <td>1.0</td>\n",
              "      <td>-0.143907</td>\n",
              "      <td>3.0</td>\n",
              "      <td>267.0</td>\n",
              "      <td>48.0</td>\n",
              "      <td>267.0</td>\n",
              "      <td>2.0</td>\n",
              "      <td>5.0</td>\n",
              "      <td>2.0</td>\n",
              "      <td>-0.369220</td>\n",
              "      <td>-0.704633</td>\n",
              "      <td>-0.922651</td>\n",
              "      <td>-0.012802</td>\n",
              "      <td>0.588367</td>\n",
              "      <td>-0.804871</td>\n",
              "      <td>-0.736312</td>\n",
              "      <td>3354.0</td>\n",
              "      <td>0.0</td>\n",
              "    </tr>\n",
              "    <tr>\n",
              "      <th>320182</th>\n",
              "      <td>3.0</td>\n",
              "      <td>1.0</td>\n",
              "      <td>3.0</td>\n",
              "      <td>1.0</td>\n",
              "      <td>-0.216764</td>\n",
              "      <td>3.0</td>\n",
              "      <td>112.0</td>\n",
              "      <td>22.0</td>\n",
              "      <td>112.0</td>\n",
              "      <td>3.0</td>\n",
              "      <td>6.0</td>\n",
              "      <td>3.0</td>\n",
              "      <td>0.001222</td>\n",
              "      <td>0.886802</td>\n",
              "      <td>0.184124</td>\n",
              "      <td>-0.972881</td>\n",
              "      <td>-1.097346</td>\n",
              "      <td>0.852666</td>\n",
              "      <td>0.972371</td>\n",
              "      <td>6168.0</td>\n",
              "      <td>0.0</td>\n",
              "    </tr>\n",
              "    <tr>\n",
              "      <th>66847</th>\n",
              "      <td>1.0</td>\n",
              "      <td>1.0</td>\n",
              "      <td>1.0</td>\n",
              "      <td>1.0</td>\n",
              "      <td>-0.152187</td>\n",
              "      <td>1.0</td>\n",
              "      <td>207.0</td>\n",
              "      <td>41.0</td>\n",
              "      <td>207.0</td>\n",
              "      <td>2.0</td>\n",
              "      <td>5.0</td>\n",
              "      <td>1.0</td>\n",
              "      <td>-0.438605</td>\n",
              "      <td>-0.968932</td>\n",
              "      <td>1.721379</td>\n",
              "      <td>0.800294</td>\n",
              "      <td>-5.120239</td>\n",
              "      <td>-1.542482</td>\n",
              "      <td>-1.333565</td>\n",
              "      <td>4701.0</td>\n",
              "      <td>0.0</td>\n",
              "    </tr>\n",
              "  </tbody>\n",
              "</table>\n",
              "</div>"
            ],
            "text/plain": [
              "        loan_type  property_type  ...  lender  co_applicant\n",
              "242689        1.0            1.0  ...  2118.0           1.0\n",
              "101230        3.0            1.0  ...  4671.0           1.0\n",
              "358956        1.0            1.0  ...  3354.0           0.0\n",
              "320182        3.0            1.0  ...  6168.0           0.0\n",
              "66847         1.0            1.0  ...  4701.0           0.0\n",
              "\n",
              "[5 rows x 21 columns]"
            ]
          },
          "metadata": {
            "tags": []
          },
          "execution_count": 72
        }
      ]
    },
    {
      "cell_type": "markdown",
      "metadata": {
        "id": "LzL3yCA7KRFQ",
        "colab_type": "text"
      },
      "source": [
        "## Training the Model"
      ]
    },
    {
      "cell_type": "markdown",
      "metadata": {
        "id": "KUvgb8Y1KWKS",
        "colab_type": "text"
      },
      "source": [
        "### XGBoost Classifier"
      ]
    },
    {
      "cell_type": "code",
      "metadata": {
        "id": "hpQVTr45KnBI",
        "colab_type": "code",
        "outputId": "3944f033-bf12-4532-b8da-576a5a0a8c18",
        "colab": {
          "base_uri": "https://localhost:8080/",
          "height": 141
        }
      },
      "source": [
        "#Build Model with XGBoost\n",
        "from xgboost import XGBClassifier\n",
        "from sklearn.metrics import accuracy_score\n",
        "norm_model = XGBClassifier(n_estimators=1000, learning_rate=1, seed = 22)\n",
        "# Add silent=True to avoid printing out updates with each cycle\n",
        "norm_model.fit(x_train, y_train, early_stopping_rounds=5, eval_set=[(x_test, y_test)], verbose=False)\n"
      ],
      "execution_count": 73,
      "outputs": [
        {
          "output_type": "execute_result",
          "data": {
            "text/plain": [
              "XGBClassifier(base_score=0.5, booster='gbtree', colsample_bylevel=1,\n",
              "              colsample_bynode=1, colsample_bytree=1, gamma=0, learning_rate=1,\n",
              "              max_delta_step=0, max_depth=3, min_child_weight=1, missing=None,\n",
              "              n_estimators=1000, n_jobs=1, nthread=None,\n",
              "              objective='binary:logistic', random_state=0, reg_alpha=0,\n",
              "              reg_lambda=1, scale_pos_weight=1, seed=22, silent=None,\n",
              "              subsample=1, verbosity=1)"
            ]
          },
          "metadata": {
            "tags": []
          },
          "execution_count": 73
        }
      ]
    },
    {
      "cell_type": "code",
      "metadata": {
        "id": "La9iLTaoMCe3",
        "colab_type": "code",
        "outputId": "791ec2bc-5708-4d70-ae9c-dfb50e4d032f",
        "colab": {
          "base_uri": "https://localhost:8080/",
          "height": 34
        }
      },
      "source": [
        "# make predictions\n",
        "norm_predictions = norm_model.predict(x_test)\n",
        "\n",
        "accuracy = accuracy_score(norm_predictions, y_test)\n",
        "print(\"XGBoost Accuracy: %.2f%%\" % (accuracy * 100.0))"
      ],
      "execution_count": 74,
      "outputs": [
        {
          "output_type": "stream",
          "text": [
            "XGBoost Accuracy: 70.96%\n"
          ],
          "name": "stdout"
        }
      ]
    },
    {
      "cell_type": "markdown",
      "metadata": {
        "id": "Dt8UcJOLKc_u",
        "colab_type": "text"
      },
      "source": [
        "### CatBoost Classifier"
      ]
    },
    {
      "cell_type": "code",
      "metadata": {
        "id": "YWyvSesaPd-9",
        "colab_type": "code",
        "outputId": "0ed0056c-77f0-4329-bcb6-d41423ba5865",
        "colab": {
          "base_uri": "https://localhost:8080/",
          "height": 212
        }
      },
      "source": [
        "!pip install catboost"
      ],
      "execution_count": 75,
      "outputs": [
        {
          "output_type": "stream",
          "text": [
            "Collecting catboost\n",
            "\u001b[?25l  Downloading https://files.pythonhosted.org/packages/5a/8a/a867c35770291646b085e9248814eb32dbe2aa824715b08e40cd92d0a83e/catboost-0.15.1-cp36-none-manylinux1_x86_64.whl (61.0MB)\n",
            "\u001b[K     |████████████████████████████████| 61.1MB 578kB/s \n",
            "\u001b[?25hRequirement already satisfied: pandas>=0.19.1 in /usr/local/lib/python3.6/dist-packages (from catboost) (0.24.2)\n",
            "Requirement already satisfied: six in /usr/local/lib/python3.6/dist-packages (from catboost) (1.12.0)\n",
            "Requirement already satisfied: numpy>=1.16.0 in /usr/local/lib/python3.6/dist-packages (from catboost) (1.16.4)\n",
            "Requirement already satisfied: graphviz in /usr/local/lib/python3.6/dist-packages (from catboost) (0.10.1)\n",
            "Requirement already satisfied: python-dateutil>=2.5.0 in /usr/local/lib/python3.6/dist-packages (from pandas>=0.19.1->catboost) (2.5.3)\n",
            "Requirement already satisfied: pytz>=2011k in /usr/local/lib/python3.6/dist-packages (from pandas>=0.19.1->catboost) (2018.9)\n",
            "Installing collected packages: catboost\n",
            "Successfully installed catboost-0.15.1\n"
          ],
          "name": "stdout"
        }
      ]
    },
    {
      "cell_type": "code",
      "metadata": {
        "id": "8qkaS3liNwef",
        "colab_type": "code",
        "outputId": "2f794da3-fdc3-442a-cc71-ed6e9d8096d8",
        "colab": {
          "base_uri": "https://localhost:8080/",
          "height": 34
        }
      },
      "source": [
        "#Build Model with CatBoost\n",
        "from catboost import CatBoostClassifier\n",
        "from sklearn.metrics import accuracy_score\n",
        "\n",
        "cat_norm_model = CatBoostClassifier( random_seed = 22)\n",
        "# Add silent=True to avoid printing out updates with each cycle\n",
        "cat_norm_model.fit(x_train, y_train, verbose=False)"
      ],
      "execution_count": 76,
      "outputs": [
        {
          "output_type": "execute_result",
          "data": {
            "text/plain": [
              "<catboost.core.CatBoostClassifier at 0x7f23ecd997b8>"
            ]
          },
          "metadata": {
            "tags": []
          },
          "execution_count": 76
        }
      ]
    },
    {
      "cell_type": "code",
      "metadata": {
        "id": "-iAZJHzxP5lJ",
        "colab_type": "code",
        "outputId": "075df020-a501-466f-d720-e90fd7268b73",
        "colab": {
          "base_uri": "https://localhost:8080/",
          "height": 34
        }
      },
      "source": [
        "# make predictions\n",
        "cat_norm_predictions = cat_norm_model.predict(x_test)\n",
        "\n",
        "accuracy = accuracy_score(cat_norm_predictions, y_test)\n",
        "print(\"CatBoost Classifier Accuracy: %.2f%%\" % (accuracy * 100.0))"
      ],
      "execution_count": 77,
      "outputs": [
        {
          "output_type": "stream",
          "text": [
            "CatBoost Classifier Accuracy: 71.52%\n"
          ],
          "name": "stdout"
        }
      ]
    },
    {
      "cell_type": "markdown",
      "metadata": {
        "id": "BhvQc919NUvJ",
        "colab_type": "text"
      },
      "source": [
        "## Preparing and testing with external data"
      ]
    },
    {
      "cell_type": "code",
      "metadata": {
        "id": "E7o_oA5YfjMq",
        "colab_type": "code",
        "colab": {}
      },
      "source": [
        "imputed_test_data1 = imputed_test_data.drop(['row_id'], axis=1)"
      ],
      "execution_count": 0,
      "outputs": []
    },
    {
      "cell_type": "code",
      "metadata": {
        "id": "XHDT-RNHflXj",
        "colab_type": "code",
        "outputId": "1404bc82-2dfc-40e8-c4aa-7c03242edae3",
        "colab": {
          "base_uri": "https://localhost:8080/",
          "height": 234
        }
      },
      "source": [
        "# Normalize Testing Data by using mean and SD of training set\n",
        "imputed_test_norm = imputed_test_data[num_cols]\n",
        "\n",
        "x_imputed_test_norm = std_scale.transform(imputed_test_norm)\n",
        "imputed_testing_norm_col = pd.DataFrame(x_imputed_test_norm, index=imputed_test_norm.index, columns=imputed_test_norm.columns) \n",
        "imputed_test_data1.update(imputed_testing_norm_col)\n",
        "imputed_test_data1.head()"
      ],
      "execution_count": 79,
      "outputs": [
        {
          "output_type": "execute_result",
          "data": {
            "text/html": [
              "<div>\n",
              "<style scoped>\n",
              "    .dataframe tbody tr th:only-of-type {\n",
              "        vertical-align: middle;\n",
              "    }\n",
              "\n",
              "    .dataframe tbody tr th {\n",
              "        vertical-align: top;\n",
              "    }\n",
              "\n",
              "    .dataframe thead th {\n",
              "        text-align: right;\n",
              "    }\n",
              "</style>\n",
              "<table border=\"1\" class=\"dataframe\">\n",
              "  <thead>\n",
              "    <tr style=\"text-align: right;\">\n",
              "      <th></th>\n",
              "      <th>loan_type</th>\n",
              "      <th>property_type</th>\n",
              "      <th>loan_purpose</th>\n",
              "      <th>occupancy</th>\n",
              "      <th>loan_amount</th>\n",
              "      <th>preapproval</th>\n",
              "      <th>msa_md</th>\n",
              "      <th>state_code</th>\n",
              "      <th>county_code</th>\n",
              "      <th>applicant_ethnicity</th>\n",
              "      <th>applicant_race</th>\n",
              "      <th>applicant_sex</th>\n",
              "      <th>applicant_income</th>\n",
              "      <th>population</th>\n",
              "      <th>minority_population_pct</th>\n",
              "      <th>ffiecmedian_family_income</th>\n",
              "      <th>tract_to_msa_md_income_pct</th>\n",
              "      <th>number_of_owner-occupied_units</th>\n",
              "      <th>number_of_1_to_4_family_units</th>\n",
              "      <th>lender</th>\n",
              "      <th>co_applicant</th>\n",
              "    </tr>\n",
              "  </thead>\n",
              "  <tbody>\n",
              "    <tr>\n",
              "      <th>0</th>\n",
              "      <td>2.0</td>\n",
              "      <td>1.0</td>\n",
              "      <td>3.0</td>\n",
              "      <td>1.0</td>\n",
              "      <td>-0.177024</td>\n",
              "      <td>3.0</td>\n",
              "      <td>101.0</td>\n",
              "      <td>16.0</td>\n",
              "      <td>101.0</td>\n",
              "      <td>2.0</td>\n",
              "      <td>5.0</td>\n",
              "      <td>1.0</td>\n",
              "      <td>-0.001991</td>\n",
              "      <td>0.343541</td>\n",
              "      <td>1.085826</td>\n",
              "      <td>0.044526</td>\n",
              "      <td>-0.437080</td>\n",
              "      <td>0.621641</td>\n",
              "      <td>0.588423</td>\n",
              "      <td>3791.0</td>\n",
              "      <td>1.0</td>\n",
              "    </tr>\n",
              "    <tr>\n",
              "      <th>1</th>\n",
              "      <td>1.0</td>\n",
              "      <td>1.0</td>\n",
              "      <td>1.0</td>\n",
              "      <td>1.0</td>\n",
              "      <td>0.049826</td>\n",
              "      <td>2.0</td>\n",
              "      <td>87.0</td>\n",
              "      <td>20.0</td>\n",
              "      <td>87.0</td>\n",
              "      <td>2.0</td>\n",
              "      <td>5.0</td>\n",
              "      <td>1.0</td>\n",
              "      <td>0.033211</td>\n",
              "      <td>-1.106157</td>\n",
              "      <td>-0.915770</td>\n",
              "      <td>-0.271540</td>\n",
              "      <td>0.588367</td>\n",
              "      <td>-0.668482</td>\n",
              "      <td>-0.754274</td>\n",
              "      <td>2839.0</td>\n",
              "      <td>1.0</td>\n",
              "    </tr>\n",
              "    <tr>\n",
              "      <th>2</th>\n",
              "      <td>1.0</td>\n",
              "      <td>1.0</td>\n",
              "      <td>1.0</td>\n",
              "      <td>1.0</td>\n",
              "      <td>0.079631</td>\n",
              "      <td>1.0</td>\n",
              "      <td>192.0</td>\n",
              "      <td>26.0</td>\n",
              "      <td>192.0</td>\n",
              "      <td>2.0</td>\n",
              "      <td>1.0</td>\n",
              "      <td>2.0</td>\n",
              "      <td>0.116473</td>\n",
              "      <td>-0.001512</td>\n",
              "      <td>0.000999</td>\n",
              "      <td>0.000672</td>\n",
              "      <td>-0.001993</td>\n",
              "      <td>-0.001070</td>\n",
              "      <td>-0.001125</td>\n",
              "      <td>4701.0</td>\n",
              "      <td>0.0</td>\n",
              "    </tr>\n",
              "    <tr>\n",
              "      <th>3</th>\n",
              "      <td>2.0</td>\n",
              "      <td>1.0</td>\n",
              "      <td>1.0</td>\n",
              "      <td>1.0</td>\n",
              "      <td>-0.071050</td>\n",
              "      <td>2.0</td>\n",
              "      <td>376.0</td>\n",
              "      <td>20.0</td>\n",
              "      <td>376.0</td>\n",
              "      <td>2.0</td>\n",
              "      <td>2.0</td>\n",
              "      <td>2.0</td>\n",
              "      <td>-0.403913</td>\n",
              "      <td>-0.233180</td>\n",
              "      <td>-0.075026</td>\n",
              "      <td>-0.792814</td>\n",
              "      <td>0.588367</td>\n",
              "      <td>-0.001849</td>\n",
              "      <td>-0.135691</td>\n",
              "      <td>2153.0</td>\n",
              "      <td>1.0</td>\n",
              "    </tr>\n",
              "    <tr>\n",
              "      <th>4</th>\n",
              "      <td>2.0</td>\n",
              "      <td>1.0</td>\n",
              "      <td>1.0</td>\n",
              "      <td>1.0</td>\n",
              "      <td>-0.307835</td>\n",
              "      <td>2.0</td>\n",
              "      <td>254.0</td>\n",
              "      <td>48.0</td>\n",
              "      <td>254.0</td>\n",
              "      <td>3.0</td>\n",
              "      <td>6.0</td>\n",
              "      <td>3.0</td>\n",
              "      <td>-0.487174</td>\n",
              "      <td>-0.063622</td>\n",
              "      <td>-1.030067</td>\n",
              "      <td>-0.408368</td>\n",
              "      <td>0.588367</td>\n",
              "      <td>0.034336</td>\n",
              "      <td>0.231418</td>\n",
              "      <td>5710.0</td>\n",
              "      <td>0.0</td>\n",
              "    </tr>\n",
              "  </tbody>\n",
              "</table>\n",
              "</div>"
            ],
            "text/plain": [
              "   loan_type  property_type  ...  lender  co_applicant\n",
              "0        2.0            1.0  ...  3791.0           1.0\n",
              "1        1.0            1.0  ...  2839.0           1.0\n",
              "2        1.0            1.0  ...  4701.0           0.0\n",
              "3        2.0            1.0  ...  2153.0           1.0\n",
              "4        2.0            1.0  ...  5710.0           0.0\n",
              "\n",
              "[5 rows x 21 columns]"
            ]
          },
          "metadata": {
            "tags": []
          },
          "execution_count": 79
        }
      ]
    },
    {
      "cell_type": "code",
      "metadata": {
        "id": "45uZKlccgCh8",
        "colab_type": "code",
        "outputId": "067dfe3b-f598-4bb3-df67-6f7dc44b71ba",
        "colab": {
          "base_uri": "https://localhost:8080/",
          "height": 1906
        }
      },
      "source": [
        "cat_norm_pred = cat_norm_model.predict(imputed_test_data1)\n",
        "\n",
        "cat_norm_pred_df = pd.DataFrame(cat_norm_pred, columns = ['predictions'])\n",
        "cat_norm_pred_df "
      ],
      "execution_count": 85,
      "outputs": [
        {
          "output_type": "execute_result",
          "data": {
            "text/html": [
              "<div>\n",
              "<style scoped>\n",
              "    .dataframe tbody tr th:only-of-type {\n",
              "        vertical-align: middle;\n",
              "    }\n",
              "\n",
              "    .dataframe tbody tr th {\n",
              "        vertical-align: top;\n",
              "    }\n",
              "\n",
              "    .dataframe thead th {\n",
              "        text-align: right;\n",
              "    }\n",
              "</style>\n",
              "<table border=\"1\" class=\"dataframe\">\n",
              "  <thead>\n",
              "    <tr style=\"text-align: right;\">\n",
              "      <th></th>\n",
              "      <th>predictions</th>\n",
              "    </tr>\n",
              "  </thead>\n",
              "  <tbody>\n",
              "    <tr>\n",
              "      <th>0</th>\n",
              "      <td>1.0</td>\n",
              "    </tr>\n",
              "    <tr>\n",
              "      <th>1</th>\n",
              "      <td>1.0</td>\n",
              "    </tr>\n",
              "    <tr>\n",
              "      <th>2</th>\n",
              "      <td>0.0</td>\n",
              "    </tr>\n",
              "    <tr>\n",
              "      <th>3</th>\n",
              "      <td>1.0</td>\n",
              "    </tr>\n",
              "    <tr>\n",
              "      <th>4</th>\n",
              "      <td>0.0</td>\n",
              "    </tr>\n",
              "    <tr>\n",
              "      <th>5</th>\n",
              "      <td>1.0</td>\n",
              "    </tr>\n",
              "    <tr>\n",
              "      <th>6</th>\n",
              "      <td>0.0</td>\n",
              "    </tr>\n",
              "    <tr>\n",
              "      <th>7</th>\n",
              "      <td>0.0</td>\n",
              "    </tr>\n",
              "    <tr>\n",
              "      <th>8</th>\n",
              "      <td>1.0</td>\n",
              "    </tr>\n",
              "    <tr>\n",
              "      <th>9</th>\n",
              "      <td>1.0</td>\n",
              "    </tr>\n",
              "    <tr>\n",
              "      <th>10</th>\n",
              "      <td>1.0</td>\n",
              "    </tr>\n",
              "    <tr>\n",
              "      <th>11</th>\n",
              "      <td>1.0</td>\n",
              "    </tr>\n",
              "    <tr>\n",
              "      <th>12</th>\n",
              "      <td>1.0</td>\n",
              "    </tr>\n",
              "    <tr>\n",
              "      <th>13</th>\n",
              "      <td>1.0</td>\n",
              "    </tr>\n",
              "    <tr>\n",
              "      <th>14</th>\n",
              "      <td>1.0</td>\n",
              "    </tr>\n",
              "    <tr>\n",
              "      <th>15</th>\n",
              "      <td>0.0</td>\n",
              "    </tr>\n",
              "    <tr>\n",
              "      <th>16</th>\n",
              "      <td>1.0</td>\n",
              "    </tr>\n",
              "    <tr>\n",
              "      <th>17</th>\n",
              "      <td>1.0</td>\n",
              "    </tr>\n",
              "    <tr>\n",
              "      <th>18</th>\n",
              "      <td>1.0</td>\n",
              "    </tr>\n",
              "    <tr>\n",
              "      <th>19</th>\n",
              "      <td>0.0</td>\n",
              "    </tr>\n",
              "    <tr>\n",
              "      <th>20</th>\n",
              "      <td>0.0</td>\n",
              "    </tr>\n",
              "    <tr>\n",
              "      <th>21</th>\n",
              "      <td>1.0</td>\n",
              "    </tr>\n",
              "    <tr>\n",
              "      <th>22</th>\n",
              "      <td>0.0</td>\n",
              "    </tr>\n",
              "    <tr>\n",
              "      <th>23</th>\n",
              "      <td>1.0</td>\n",
              "    </tr>\n",
              "    <tr>\n",
              "      <th>24</th>\n",
              "      <td>1.0</td>\n",
              "    </tr>\n",
              "    <tr>\n",
              "      <th>25</th>\n",
              "      <td>1.0</td>\n",
              "    </tr>\n",
              "    <tr>\n",
              "      <th>26</th>\n",
              "      <td>0.0</td>\n",
              "    </tr>\n",
              "    <tr>\n",
              "      <th>27</th>\n",
              "      <td>1.0</td>\n",
              "    </tr>\n",
              "    <tr>\n",
              "      <th>28</th>\n",
              "      <td>0.0</td>\n",
              "    </tr>\n",
              "    <tr>\n",
              "      <th>29</th>\n",
              "      <td>0.0</td>\n",
              "    </tr>\n",
              "    <tr>\n",
              "      <th>...</th>\n",
              "      <td>...</td>\n",
              "    </tr>\n",
              "    <tr>\n",
              "      <th>499970</th>\n",
              "      <td>1.0</td>\n",
              "    </tr>\n",
              "    <tr>\n",
              "      <th>499971</th>\n",
              "      <td>0.0</td>\n",
              "    </tr>\n",
              "    <tr>\n",
              "      <th>499972</th>\n",
              "      <td>0.0</td>\n",
              "    </tr>\n",
              "    <tr>\n",
              "      <th>499973</th>\n",
              "      <td>1.0</td>\n",
              "    </tr>\n",
              "    <tr>\n",
              "      <th>499974</th>\n",
              "      <td>0.0</td>\n",
              "    </tr>\n",
              "    <tr>\n",
              "      <th>499975</th>\n",
              "      <td>0.0</td>\n",
              "    </tr>\n",
              "    <tr>\n",
              "      <th>499976</th>\n",
              "      <td>1.0</td>\n",
              "    </tr>\n",
              "    <tr>\n",
              "      <th>499977</th>\n",
              "      <td>1.0</td>\n",
              "    </tr>\n",
              "    <tr>\n",
              "      <th>499978</th>\n",
              "      <td>1.0</td>\n",
              "    </tr>\n",
              "    <tr>\n",
              "      <th>499979</th>\n",
              "      <td>0.0</td>\n",
              "    </tr>\n",
              "    <tr>\n",
              "      <th>499980</th>\n",
              "      <td>0.0</td>\n",
              "    </tr>\n",
              "    <tr>\n",
              "      <th>499981</th>\n",
              "      <td>0.0</td>\n",
              "    </tr>\n",
              "    <tr>\n",
              "      <th>499982</th>\n",
              "      <td>1.0</td>\n",
              "    </tr>\n",
              "    <tr>\n",
              "      <th>499983</th>\n",
              "      <td>1.0</td>\n",
              "    </tr>\n",
              "    <tr>\n",
              "      <th>499984</th>\n",
              "      <td>1.0</td>\n",
              "    </tr>\n",
              "    <tr>\n",
              "      <th>499985</th>\n",
              "      <td>0.0</td>\n",
              "    </tr>\n",
              "    <tr>\n",
              "      <th>499986</th>\n",
              "      <td>1.0</td>\n",
              "    </tr>\n",
              "    <tr>\n",
              "      <th>499987</th>\n",
              "      <td>1.0</td>\n",
              "    </tr>\n",
              "    <tr>\n",
              "      <th>499988</th>\n",
              "      <td>1.0</td>\n",
              "    </tr>\n",
              "    <tr>\n",
              "      <th>499989</th>\n",
              "      <td>1.0</td>\n",
              "    </tr>\n",
              "    <tr>\n",
              "      <th>499990</th>\n",
              "      <td>1.0</td>\n",
              "    </tr>\n",
              "    <tr>\n",
              "      <th>499991</th>\n",
              "      <td>0.0</td>\n",
              "    </tr>\n",
              "    <tr>\n",
              "      <th>499992</th>\n",
              "      <td>0.0</td>\n",
              "    </tr>\n",
              "    <tr>\n",
              "      <th>499993</th>\n",
              "      <td>0.0</td>\n",
              "    </tr>\n",
              "    <tr>\n",
              "      <th>499994</th>\n",
              "      <td>0.0</td>\n",
              "    </tr>\n",
              "    <tr>\n",
              "      <th>499995</th>\n",
              "      <td>0.0</td>\n",
              "    </tr>\n",
              "    <tr>\n",
              "      <th>499996</th>\n",
              "      <td>1.0</td>\n",
              "    </tr>\n",
              "    <tr>\n",
              "      <th>499997</th>\n",
              "      <td>0.0</td>\n",
              "    </tr>\n",
              "    <tr>\n",
              "      <th>499998</th>\n",
              "      <td>0.0</td>\n",
              "    </tr>\n",
              "    <tr>\n",
              "      <th>499999</th>\n",
              "      <td>1.0</td>\n",
              "    </tr>\n",
              "  </tbody>\n",
              "</table>\n",
              "<p>500000 rows × 1 columns</p>\n",
              "</div>"
            ],
            "text/plain": [
              "        predictions\n",
              "0               1.0\n",
              "1               1.0\n",
              "2               0.0\n",
              "3               1.0\n",
              "4               0.0\n",
              "5               1.0\n",
              "6               0.0\n",
              "7               0.0\n",
              "8               1.0\n",
              "9               1.0\n",
              "10              1.0\n",
              "11              1.0\n",
              "12              1.0\n",
              "13              1.0\n",
              "14              1.0\n",
              "15              0.0\n",
              "16              1.0\n",
              "17              1.0\n",
              "18              1.0\n",
              "19              0.0\n",
              "20              0.0\n",
              "21              1.0\n",
              "22              0.0\n",
              "23              1.0\n",
              "24              1.0\n",
              "25              1.0\n",
              "26              0.0\n",
              "27              1.0\n",
              "28              0.0\n",
              "29              0.0\n",
              "...             ...\n",
              "499970          1.0\n",
              "499971          0.0\n",
              "499972          0.0\n",
              "499973          1.0\n",
              "499974          0.0\n",
              "499975          0.0\n",
              "499976          1.0\n",
              "499977          1.0\n",
              "499978          1.0\n",
              "499979          0.0\n",
              "499980          0.0\n",
              "499981          0.0\n",
              "499982          1.0\n",
              "499983          1.0\n",
              "499984          1.0\n",
              "499985          0.0\n",
              "499986          1.0\n",
              "499987          1.0\n",
              "499988          1.0\n",
              "499989          1.0\n",
              "499990          1.0\n",
              "499991          0.0\n",
              "499992          0.0\n",
              "499993          0.0\n",
              "499994          0.0\n",
              "499995          0.0\n",
              "499996          1.0\n",
              "499997          0.0\n",
              "499998          0.0\n",
              "499999          1.0\n",
              "\n",
              "[500000 rows x 1 columns]"
            ]
          },
          "metadata": {
            "tags": []
          },
          "execution_count": 85
        }
      ]
    },
    {
      "cell_type": "code",
      "metadata": {
        "id": "xZkcYOhj5lUl",
        "colab_type": "code",
        "colab": {}
      },
      "source": [
        "from google.colab import files\n",
        "cat_norm_pred_df.to_csv('pred.csv')\n",
        "files.download('pred.csv')"
      ],
      "execution_count": 0,
      "outputs": []
    },
    {
      "cell_type": "markdown",
      "metadata": {
        "id": "5vKgsBI9OFWK",
        "colab_type": "text"
      },
      "source": [
        "##Below is a Python class for Chi-Square test of Independence of all features against the target label."
      ]
    },
    {
      "cell_type": "code",
      "metadata": {
        "id": "O2Ro1hDbDjoU",
        "colab_type": "code",
        "outputId": "2cea8c00-c8e1-400c-a26e-b09efb147f68",
        "colab": {
          "base_uri": "https://localhost:8080/",
          "height": 443
        }
      },
      "source": [
        "import pandas as pd\n",
        "import numpy as np\n",
        "import scipy.stats as stats\n",
        "from scipy.stats import chi2_contingency\n",
        "\n",
        "class ChiSquare:\n",
        "    def __init__(self, dataframe):\n",
        "        self.df = dataframe\n",
        "        self.p = None #P-Value\n",
        "        self.chi2 = None #Chi Test Statistic\n",
        "        self.dof = None\n",
        "        \n",
        "        self.dfObserved = None\n",
        "        self.dfExpected = None\n",
        "        \n",
        "    def _print_chisquare_result(self, colX, alpha):\n",
        "        result = \"\"\n",
        "        if self.p<alpha:\n",
        "            result=\"{0} is IMPORTANT for Prediction\".format(colX)\n",
        "        else:\n",
        "            result=\"{0} is NOT an important predictor. (Discard {0} from model)\".format(colX)\n",
        "\n",
        "        print(result)\n",
        "        \n",
        "    def TestIndependence(self,colX,colY, alpha=0.05):\n",
        "        X = self.df[colX].astype(str)\n",
        "        Y = self.df[colY].astype(str)\n",
        "        \n",
        "        self.dfObserved = pd.crosstab(Y,X) \n",
        "        chi2, p, dof, expected = stats.chi2_contingency(self.dfObserved.values)\n",
        "        self.p = p\n",
        "        self.chi2 = chi2\n",
        "        self.dof = dof \n",
        "        \n",
        "        self.dfExpected = pd.DataFrame(expected, columns=self.dfObserved.columns, index = self.dfObserved.index)\n",
        "        \n",
        "        self._print_chisquare_result(colX,alpha)\n",
        "\n",
        "df = imputed_train_data\n",
        "df['dummyCat'] = np.random.choice([0, 1], size=(len(df),), p=[0.5, 0.5])\n",
        "\n",
        "#Initialize ChiSquare Class\n",
        "cT = ChiSquare(df)\n",
        "\n",
        "#Feature Selection\n",
        "cat_cols = df.columns\n",
        "for var in cat_cols:\n",
        "    cT.TestIndependence(colX=var,colY=\"accepted\" )  "
      ],
      "execution_count": 0,
      "outputs": [
        {
          "output_type": "stream",
          "text": [
            "row_id is NOT an important predictor. (Discard row_id from model)\n",
            "loan_type is IMPORTANT for Prediction\n",
            "property_type is IMPORTANT for Prediction\n",
            "loan_purpose is IMPORTANT for Prediction\n",
            "occupancy is IMPORTANT for Prediction\n",
            "loan_amount is IMPORTANT for Prediction\n",
            "preapproval is IMPORTANT for Prediction\n",
            "msa_md is IMPORTANT for Prediction\n",
            "state_code is IMPORTANT for Prediction\n",
            "county_code is IMPORTANT for Prediction\n",
            "applicant_ethnicity is IMPORTANT for Prediction\n",
            "applicant_race is IMPORTANT for Prediction\n",
            "applicant_sex is IMPORTANT for Prediction\n",
            "applicant_income is IMPORTANT for Prediction\n",
            "population is IMPORTANT for Prediction\n",
            "minority_population_pct is IMPORTANT for Prediction\n",
            "ffiecmedian_family_income is IMPORTANT for Prediction\n",
            "tract_to_msa_md_income_pct is IMPORTANT for Prediction\n",
            "number_of_owner-occupied_units is IMPORTANT for Prediction\n",
            "number_of_1_to_4_family_units is IMPORTANT for Prediction\n",
            "lender is IMPORTANT for Prediction\n",
            "co_applicant is IMPORTANT for Prediction\n",
            "accepted is IMPORTANT for Prediction\n",
            "dummyCat is NOT an important predictor. (Discard dummyCat from model)\n"
          ],
          "name": "stdout"
        }
      ]
    },
    {
      "cell_type": "markdown",
      "metadata": {
        "id": "PIF611BrOarB",
        "colab_type": "text"
      },
      "source": [
        "           row_id is not selected as important feature which is very much expected."
      ]
    },
    {
      "cell_type": "code",
      "metadata": {
        "id": "X1Ak0qQjOiln",
        "colab_type": "code",
        "colab": {}
      },
      "source": [
        ""
      ],
      "execution_count": 0,
      "outputs": []
    }
  ]
}