{
  "nbformat": 4,
  "nbformat_minor": 0,
  "metadata": {
    "colab": {
      "name": "Untitled5.ipynb",
      "version": "0.3.2",
      "provenance": [],
      "include_colab_link": true
    },
    "kernelspec": {
      "name": "python3",
      "display_name": "Python 3"
    }
  },
  "cells": [
    {
      "cell_type": "markdown",
      "metadata": {
        "id": "view-in-github",
        "colab_type": "text"
      },
      "source": [
        "<a href=\"https://colab.research.google.com/github/barywhyte/analytics/blob/master/A/B%20testing%20with%20Machine%20Learning.ipynb\" target=\"_parent\"><img src=\"https://colab.research.google.com/assets/colab-badge.svg\" alt=\"Open In Colab\"/></a>"
      ]
    },
    {
      "cell_type": "markdown",
      "metadata": {
        "id": "zy_PMrz40sfW",
        "colab_type": "text"
      },
      "source": [
        "# Machine Approach to A/B testing : UDACITY A/B testing."
      ]
    },
    {
      "cell_type": "markdown",
      "metadata": {
        "id": "U1CwFLKS_xVf",
        "colab_type": "text"
      },
      "source": [
        "### Project description:"
      ]
    },
    {
      "cell_type": "markdown",
      "metadata": {
        "id": "981dNspX_0NZ",
        "colab_type": "text"
      },
      "source": [
        " Udacity is an online learning system (https://www.udacity.com/). At the time of the experiment, Udacity courses had two options on the course overview page: \"start free trial\", and \"access course materials\". If the student clicks \"start free trial\", they will be asked to enter their credit card information, and then they will be enrolled in a free trial for the paid version of the course. If the student clicks \"access course materials\", they will be able to view the videos and take the quizzes for free, but they will not receive coaching support or a verified certificate, and they will not submit their final project for feedback.\n",
        "\n",
        "Udacity tested a change where if the student clicked \"start free trial\", they were asked how much time they had available to devote to the course. If the student indicated 5 or more hours per week, they would be taken through the checkout process as usual. If they indicated fewer than 5 hours per week, a message will appear indicating that Udacity courses usually require a greater time commitment for successful completion, and suggesting that the student might like to access the course materials for free.\n",
        "\n",
        "The hypothesis was that this might set clearer expectations for students upfront, thus reducing the number of frustrated students who left the free trial because they didn't have enough time—without significantly reducing the number of students to continue past the free trial and eventually complete the course. If this hypothesis held true, Udacity could improve the overall student experience and improve coaches' capacity to support students who are likely to complete the course.\n",
        "\n",
        "This is Machine Learning approach to A/B testing done to solve the same hypothesis describe above. Link here https://github.com/barywhyte/analytics/blob/master/A_B_Testing_and_Machine_Learning.ipynb"
      ]
    },
    {
      "cell_type": "code",
      "metadata": {
        "id": "g-yv7BhL0q2F",
        "colab_type": "code",
        "colab": {}
      },
      "source": [
        "#import important libraries\n",
        "import pandas as pd\n",
        "import numpy as np\n",
        "import matplotlib.pyplot as plt\n",
        "import seaborn as sns\n",
        "from sklearn.utils import shuffle\n",
        "from sklearn.preprocessing import OneHotEncoder\n",
        "from sklearn.model_selection import KFold\n",
        "from sklearn.model_selection import train_test_split\n",
        "from sklearn.linear_model import LinearRegression\n",
        "from sklearn.tree import DecisionTreeRegressor\n",
        "from xgboost import XGBClassifier \n",
        "from sklearn.model_selection import cross_val_score\n",
        "import warnings\n",
        "def ignore_warn(*args, **kwargs):\n",
        "    pass\n",
        "warnings.warn = ignore_warn   #ignore warnings from sklearn and seaborn"
      ],
      "execution_count": 0,
      "outputs": []
    },
    {
      "cell_type": "markdown",
      "metadata": {
        "id": "5VOQfUNj1GWb",
        "colab_type": "text"
      },
      "source": [
        "### Load Data from Github"
      ]
    },
    {
      "cell_type": "code",
      "metadata": {
        "id": "xLaaxzcP1CYC",
        "colab_type": "code",
        "colab": {}
      },
      "source": [
        "data = pd.ExcelFile(\"https://github.com/10acad/piq2019/blob/master/data/UdacityABtesting.xlsx?raw=true\")\n",
        "control = pd.read_excel(data, 'Control')\n",
        "experiment = pd.read_excel(data, 'Experiment')"
      ],
      "execution_count": 0,
      "outputs": []
    },
    {
      "cell_type": "markdown",
      "metadata": {
        "id": "SLoIqDZWYO6G",
        "colab_type": "text"
      },
      "source": [
        "### Examine Data"
      ]
    },
    {
      "cell_type": "code",
      "metadata": {
        "id": "P2gf-kGE1QOm",
        "colab_type": "code",
        "colab": {
          "base_uri": "https://localhost:8080/",
          "height": 197
        },
        "outputId": "abe01a66-a42f-4d9e-b421-a51bcb0346e7"
      },
      "source": [
        "control.head()"
      ],
      "execution_count": 3,
      "outputs": [
        {
          "output_type": "execute_result",
          "data": {
            "text/html": [
              "<div>\n",
              "<style scoped>\n",
              "    .dataframe tbody tr th:only-of-type {\n",
              "        vertical-align: middle;\n",
              "    }\n",
              "\n",
              "    .dataframe tbody tr th {\n",
              "        vertical-align: top;\n",
              "    }\n",
              "\n",
              "    .dataframe thead th {\n",
              "        text-align: right;\n",
              "    }\n",
              "</style>\n",
              "<table border=\"1\" class=\"dataframe\">\n",
              "  <thead>\n",
              "    <tr style=\"text-align: right;\">\n",
              "      <th></th>\n",
              "      <th>Date</th>\n",
              "      <th>Pageviews</th>\n",
              "      <th>Clicks</th>\n",
              "      <th>Enrollments</th>\n",
              "      <th>Payments</th>\n",
              "    </tr>\n",
              "  </thead>\n",
              "  <tbody>\n",
              "    <tr>\n",
              "      <th>0</th>\n",
              "      <td>Sat, Oct 11</td>\n",
              "      <td>7723</td>\n",
              "      <td>687</td>\n",
              "      <td>134.0</td>\n",
              "      <td>70.0</td>\n",
              "    </tr>\n",
              "    <tr>\n",
              "      <th>1</th>\n",
              "      <td>Sun, Oct 12</td>\n",
              "      <td>9102</td>\n",
              "      <td>779</td>\n",
              "      <td>147.0</td>\n",
              "      <td>70.0</td>\n",
              "    </tr>\n",
              "    <tr>\n",
              "      <th>2</th>\n",
              "      <td>Mon, Oct 13</td>\n",
              "      <td>10511</td>\n",
              "      <td>909</td>\n",
              "      <td>167.0</td>\n",
              "      <td>95.0</td>\n",
              "    </tr>\n",
              "    <tr>\n",
              "      <th>3</th>\n",
              "      <td>Tue, Oct 14</td>\n",
              "      <td>9871</td>\n",
              "      <td>836</td>\n",
              "      <td>156.0</td>\n",
              "      <td>105.0</td>\n",
              "    </tr>\n",
              "    <tr>\n",
              "      <th>4</th>\n",
              "      <td>Wed, Oct 15</td>\n",
              "      <td>10014</td>\n",
              "      <td>837</td>\n",
              "      <td>163.0</td>\n",
              "      <td>64.0</td>\n",
              "    </tr>\n",
              "  </tbody>\n",
              "</table>\n",
              "</div>"
            ],
            "text/plain": [
              "          Date  Pageviews  Clicks  Enrollments  Payments\n",
              "0  Sat, Oct 11       7723     687        134.0      70.0\n",
              "1  Sun, Oct 12       9102     779        147.0      70.0\n",
              "2  Mon, Oct 13      10511     909        167.0      95.0\n",
              "3  Tue, Oct 14       9871     836        156.0     105.0\n",
              "4  Wed, Oct 15      10014     837        163.0      64.0"
            ]
          },
          "metadata": {
            "tags": []
          },
          "execution_count": 3
        }
      ]
    },
    {
      "cell_type": "code",
      "metadata": {
        "id": "sfzqqZfnYUky",
        "colab_type": "code",
        "colab": {
          "base_uri": "https://localhost:8080/",
          "height": 197
        },
        "outputId": "03365801-e3cc-460d-d77f-c4f1a0cd70f7"
      },
      "source": [
        "experiment.head()"
      ],
      "execution_count": 4,
      "outputs": [
        {
          "output_type": "execute_result",
          "data": {
            "text/html": [
              "<div>\n",
              "<style scoped>\n",
              "    .dataframe tbody tr th:only-of-type {\n",
              "        vertical-align: middle;\n",
              "    }\n",
              "\n",
              "    .dataframe tbody tr th {\n",
              "        vertical-align: top;\n",
              "    }\n",
              "\n",
              "    .dataframe thead th {\n",
              "        text-align: right;\n",
              "    }\n",
              "</style>\n",
              "<table border=\"1\" class=\"dataframe\">\n",
              "  <thead>\n",
              "    <tr style=\"text-align: right;\">\n",
              "      <th></th>\n",
              "      <th>Date</th>\n",
              "      <th>Pageviews</th>\n",
              "      <th>Clicks</th>\n",
              "      <th>Enrollments</th>\n",
              "      <th>Payments</th>\n",
              "    </tr>\n",
              "  </thead>\n",
              "  <tbody>\n",
              "    <tr>\n",
              "      <th>0</th>\n",
              "      <td>Sat, Oct 11</td>\n",
              "      <td>7716</td>\n",
              "      <td>686</td>\n",
              "      <td>105.0</td>\n",
              "      <td>34.0</td>\n",
              "    </tr>\n",
              "    <tr>\n",
              "      <th>1</th>\n",
              "      <td>Sun, Oct 12</td>\n",
              "      <td>9288</td>\n",
              "      <td>785</td>\n",
              "      <td>116.0</td>\n",
              "      <td>91.0</td>\n",
              "    </tr>\n",
              "    <tr>\n",
              "      <th>2</th>\n",
              "      <td>Mon, Oct 13</td>\n",
              "      <td>10480</td>\n",
              "      <td>884</td>\n",
              "      <td>145.0</td>\n",
              "      <td>79.0</td>\n",
              "    </tr>\n",
              "    <tr>\n",
              "      <th>3</th>\n",
              "      <td>Tue, Oct 14</td>\n",
              "      <td>9867</td>\n",
              "      <td>827</td>\n",
              "      <td>138.0</td>\n",
              "      <td>92.0</td>\n",
              "    </tr>\n",
              "    <tr>\n",
              "      <th>4</th>\n",
              "      <td>Wed, Oct 15</td>\n",
              "      <td>9793</td>\n",
              "      <td>832</td>\n",
              "      <td>140.0</td>\n",
              "      <td>94.0</td>\n",
              "    </tr>\n",
              "  </tbody>\n",
              "</table>\n",
              "</div>"
            ],
            "text/plain": [
              "          Date  Pageviews  Clicks  Enrollments  Payments\n",
              "0  Sat, Oct 11       7716     686        105.0      34.0\n",
              "1  Sun, Oct 12       9288     785        116.0      91.0\n",
              "2  Mon, Oct 13      10480     884        145.0      79.0\n",
              "3  Tue, Oct 14       9867     827        138.0      92.0\n",
              "4  Wed, Oct 15       9793     832        140.0      94.0"
            ]
          },
          "metadata": {
            "tags": []
          },
          "execution_count": 4
        }
      ]
    },
    {
      "cell_type": "markdown",
      "metadata": {
        "id": "KKqOTkjhYp7n",
        "colab_type": "text"
      },
      "source": [
        "## Quiz Qustions"
      ]
    },
    {
      "cell_type": "markdown",
      "metadata": {
        "id": "oSpU6L3kYwyJ",
        "colab_type": "text"
      },
      "source": [
        "**How many days of observation are there in the control and experimental group?**"
      ]
    },
    {
      "cell_type": "code",
      "metadata": {
        "id": "SZkns20gZEBK",
        "colab_type": "code",
        "colab": {
          "base_uri": "https://localhost:8080/",
          "height": 52
        },
        "outputId": "bc58d958-84f5-4c2d-e748-028a3bdf99d1"
      },
      "source": [
        "print(\"Number of days of observation in Contro set : \", len(control['Date'].unique()))\n",
        "print(\"Number of days of observation in Experiment set : \", len(experiment['Date'].unique()))"
      ],
      "execution_count": 5,
      "outputs": [
        {
          "output_type": "stream",
          "text": [
            "Number of days of observation in Contro set :  37\n",
            "Number of days of observation in Experiment set :  37\n"
          ],
          "name": "stdout"
        }
      ]
    },
    {
      "cell_type": "markdown",
      "metadata": {
        "id": "gnJhmeGBZBLX",
        "colab_type": "text"
      },
      "source": [
        "**How many missing values are there in each of the control and experiments data?**"
      ]
    },
    {
      "cell_type": "code",
      "metadata": {
        "id": "aHTBitrPYiay",
        "colab_type": "code",
        "colab": {}
      },
      "source": [
        "def missing_data(data):\n",
        "  missing = data.isnull().sum()\n",
        "  missing = missing[missing > 0]\n",
        "  return missing"
      ],
      "execution_count": 0,
      "outputs": []
    },
    {
      "cell_type": "code",
      "metadata": {
        "id": "8Wj9Vm9hZ2IQ",
        "colab_type": "code",
        "colab": {
          "base_uri": "https://localhost:8080/",
          "height": 176
        },
        "outputId": "c70df1be-8708-4ec0-aecd-1be52bd27660"
      },
      "source": [
        "print(\"Number of missing values in Control set :\\n\", missing_data(control))\n",
        "print()\n",
        "print(\"Number of missing values in Experiment set :\\n\", missing_data(experiment))"
      ],
      "execution_count": 7,
      "outputs": [
        {
          "output_type": "stream",
          "text": [
            "Number of missing values in Control set :\n",
            " Enrollments    14\n",
            "Payments       14\n",
            "dtype: int64\n",
            "\n",
            "Number of missing values in Experiment set :\n",
            " Enrollments    14\n",
            "Payments       14\n",
            "dtype: int64\n"
          ],
          "name": "stdout"
        }
      ]
    },
    {
      "cell_type": "markdown",
      "metadata": {
        "id": "42cov_XWZxB7",
        "colab_type": "text"
      },
      "source": [
        "**Combine the control_tbl and experiment_tbl, adding an “experiment_type” column indicating if the data was part of the experiment or not**"
      ]
    },
    {
      "cell_type": "code",
      "metadata": {
        "id": "vWkASLkPcv0q",
        "colab_type": "code",
        "colab": {}
      },
      "source": [
        "control['experiment_type'] = 'control'\n",
        "experiment['experiment_type'] = 'experiment'"
      ],
      "execution_count": 0,
      "outputs": []
    },
    {
      "cell_type": "code",
      "metadata": {
        "id": "Cqlz_KHLbQeu",
        "colab_type": "code",
        "colab": {
          "base_uri": "https://localhost:8080/",
          "height": 215
        },
        "outputId": "12fe4ba5-5591-4d35-e7b8-4885cea3a4a9"
      },
      "source": [
        "com_data = pd.concat([control, experiment], ignore_index=True, join='inner')\n",
        "print(com_data.shape)\n",
        "com_data.head()"
      ],
      "execution_count": 9,
      "outputs": [
        {
          "output_type": "stream",
          "text": [
            "(74, 6)\n"
          ],
          "name": "stdout"
        },
        {
          "output_type": "execute_result",
          "data": {
            "text/html": [
              "<div>\n",
              "<style scoped>\n",
              "    .dataframe tbody tr th:only-of-type {\n",
              "        vertical-align: middle;\n",
              "    }\n",
              "\n",
              "    .dataframe tbody tr th {\n",
              "        vertical-align: top;\n",
              "    }\n",
              "\n",
              "    .dataframe thead th {\n",
              "        text-align: right;\n",
              "    }\n",
              "</style>\n",
              "<table border=\"1\" class=\"dataframe\">\n",
              "  <thead>\n",
              "    <tr style=\"text-align: right;\">\n",
              "      <th></th>\n",
              "      <th>Date</th>\n",
              "      <th>Pageviews</th>\n",
              "      <th>Clicks</th>\n",
              "      <th>Enrollments</th>\n",
              "      <th>Payments</th>\n",
              "      <th>experiment_type</th>\n",
              "    </tr>\n",
              "  </thead>\n",
              "  <tbody>\n",
              "    <tr>\n",
              "      <th>0</th>\n",
              "      <td>Sat, Oct 11</td>\n",
              "      <td>7723</td>\n",
              "      <td>687</td>\n",
              "      <td>134.0</td>\n",
              "      <td>70.0</td>\n",
              "      <td>control</td>\n",
              "    </tr>\n",
              "    <tr>\n",
              "      <th>1</th>\n",
              "      <td>Sun, Oct 12</td>\n",
              "      <td>9102</td>\n",
              "      <td>779</td>\n",
              "      <td>147.0</td>\n",
              "      <td>70.0</td>\n",
              "      <td>control</td>\n",
              "    </tr>\n",
              "    <tr>\n",
              "      <th>2</th>\n",
              "      <td>Mon, Oct 13</td>\n",
              "      <td>10511</td>\n",
              "      <td>909</td>\n",
              "      <td>167.0</td>\n",
              "      <td>95.0</td>\n",
              "      <td>control</td>\n",
              "    </tr>\n",
              "    <tr>\n",
              "      <th>3</th>\n",
              "      <td>Tue, Oct 14</td>\n",
              "      <td>9871</td>\n",
              "      <td>836</td>\n",
              "      <td>156.0</td>\n",
              "      <td>105.0</td>\n",
              "      <td>control</td>\n",
              "    </tr>\n",
              "    <tr>\n",
              "      <th>4</th>\n",
              "      <td>Wed, Oct 15</td>\n",
              "      <td>10014</td>\n",
              "      <td>837</td>\n",
              "      <td>163.0</td>\n",
              "      <td>64.0</td>\n",
              "      <td>control</td>\n",
              "    </tr>\n",
              "  </tbody>\n",
              "</table>\n",
              "</div>"
            ],
            "text/plain": [
              "          Date  Pageviews  Clicks  Enrollments  Payments experiment_type\n",
              "0  Sat, Oct 11       7723     687        134.0      70.0         control\n",
              "1  Sun, Oct 12       9102     779        147.0      70.0         control\n",
              "2  Mon, Oct 13      10511     909        167.0      95.0         control\n",
              "3  Tue, Oct 14       9871     836        156.0     105.0         control\n",
              "4  Wed, Oct 15      10014     837        163.0      64.0         control"
            ]
          },
          "metadata": {
            "tags": []
          },
          "execution_count": 9
        }
      ]
    },
    {
      "cell_type": "markdown",
      "metadata": {
        "id": "lB7D7i3KdCyB",
        "colab_type": "text"
      },
      "source": [
        "**Add a “row_id” column to help for tracking which rows are selected for training and testing in the modeling section**"
      ]
    },
    {
      "cell_type": "code",
      "metadata": {
        "id": "B_w_6DYCbfAP",
        "colab_type": "code",
        "colab": {
          "base_uri": "https://localhost:8080/",
          "height": 215
        },
        "outputId": "2fbdd038-8727-4bd9-9c83-9f03b8b63737"
      },
      "source": [
        "com_data['row_id'] = np.arange(len(com_data))\n",
        "print(com_data.shape)\n",
        "com_data.head()"
      ],
      "execution_count": 10,
      "outputs": [
        {
          "output_type": "stream",
          "text": [
            "(74, 7)\n"
          ],
          "name": "stdout"
        },
        {
          "output_type": "execute_result",
          "data": {
            "text/html": [
              "<div>\n",
              "<style scoped>\n",
              "    .dataframe tbody tr th:only-of-type {\n",
              "        vertical-align: middle;\n",
              "    }\n",
              "\n",
              "    .dataframe tbody tr th {\n",
              "        vertical-align: top;\n",
              "    }\n",
              "\n",
              "    .dataframe thead th {\n",
              "        text-align: right;\n",
              "    }\n",
              "</style>\n",
              "<table border=\"1\" class=\"dataframe\">\n",
              "  <thead>\n",
              "    <tr style=\"text-align: right;\">\n",
              "      <th></th>\n",
              "      <th>Date</th>\n",
              "      <th>Pageviews</th>\n",
              "      <th>Clicks</th>\n",
              "      <th>Enrollments</th>\n",
              "      <th>Payments</th>\n",
              "      <th>experiment_type</th>\n",
              "      <th>row_id</th>\n",
              "    </tr>\n",
              "  </thead>\n",
              "  <tbody>\n",
              "    <tr>\n",
              "      <th>0</th>\n",
              "      <td>Sat, Oct 11</td>\n",
              "      <td>7723</td>\n",
              "      <td>687</td>\n",
              "      <td>134.0</td>\n",
              "      <td>70.0</td>\n",
              "      <td>control</td>\n",
              "      <td>0</td>\n",
              "    </tr>\n",
              "    <tr>\n",
              "      <th>1</th>\n",
              "      <td>Sun, Oct 12</td>\n",
              "      <td>9102</td>\n",
              "      <td>779</td>\n",
              "      <td>147.0</td>\n",
              "      <td>70.0</td>\n",
              "      <td>control</td>\n",
              "      <td>1</td>\n",
              "    </tr>\n",
              "    <tr>\n",
              "      <th>2</th>\n",
              "      <td>Mon, Oct 13</td>\n",
              "      <td>10511</td>\n",
              "      <td>909</td>\n",
              "      <td>167.0</td>\n",
              "      <td>95.0</td>\n",
              "      <td>control</td>\n",
              "      <td>2</td>\n",
              "    </tr>\n",
              "    <tr>\n",
              "      <th>3</th>\n",
              "      <td>Tue, Oct 14</td>\n",
              "      <td>9871</td>\n",
              "      <td>836</td>\n",
              "      <td>156.0</td>\n",
              "      <td>105.0</td>\n",
              "      <td>control</td>\n",
              "      <td>3</td>\n",
              "    </tr>\n",
              "    <tr>\n",
              "      <th>4</th>\n",
              "      <td>Wed, Oct 15</td>\n",
              "      <td>10014</td>\n",
              "      <td>837</td>\n",
              "      <td>163.0</td>\n",
              "      <td>64.0</td>\n",
              "      <td>control</td>\n",
              "      <td>4</td>\n",
              "    </tr>\n",
              "  </tbody>\n",
              "</table>\n",
              "</div>"
            ],
            "text/plain": [
              "          Date  Pageviews  Clicks  ...  Payments  experiment_type row_id\n",
              "0  Sat, Oct 11       7723     687  ...      70.0          control      0\n",
              "1  Sun, Oct 12       9102     779  ...      70.0          control      1\n",
              "2  Mon, Oct 13      10511     909  ...      95.0          control      2\n",
              "3  Tue, Oct 14       9871     836  ...     105.0          control      3\n",
              "4  Wed, Oct 15      10014     837  ...      64.0          control      4\n",
              "\n",
              "[5 rows x 7 columns]"
            ]
          },
          "metadata": {
            "tags": []
          },
          "execution_count": 10
        }
      ]
    },
    {
      "cell_type": "markdown",
      "metadata": {
        "id": "ljxe9-SOdNLn",
        "colab_type": "text"
      },
      "source": [
        "**Create a “Day of Week” feature from the “Date” column**"
      ]
    },
    {
      "cell_type": "code",
      "metadata": {
        "id": "L_IZ_fKmdK6_",
        "colab_type": "code",
        "colab": {
          "base_uri": "https://localhost:8080/",
          "height": 215
        },
        "outputId": "1905392c-98dd-48ba-f921-033291ba78bc"
      },
      "source": [
        "#splitting date column into 'Day of week' and 'month' columns and saving it in df dataframe\n",
        "df = pd.DataFrame(com_data['Date'].str.split(' ',1).tolist(), columns = ['Day of Week','Month'])  \n",
        "\n",
        "#drop month column as it is not needed\n",
        "df.drop('Month', axis = 1, inplace=True)\n",
        "\n",
        "#create row_id column for df dataframe to match its equivalent in com_data dataframe\n",
        "df['row_id'] = np.arange(len(df))\n",
        "\n",
        "#merge com_data and df datframes on row_id\n",
        "com_data1 = pd.merge(com_data, df, left_on = 'row_id', right_on = 'row_id')\n",
        "\n",
        "print(com_data1.shape)\n",
        "com_data1.head()"
      ],
      "execution_count": 11,
      "outputs": [
        {
          "output_type": "stream",
          "text": [
            "(74, 8)\n"
          ],
          "name": "stdout"
        },
        {
          "output_type": "execute_result",
          "data": {
            "text/html": [
              "<div>\n",
              "<style scoped>\n",
              "    .dataframe tbody tr th:only-of-type {\n",
              "        vertical-align: middle;\n",
              "    }\n",
              "\n",
              "    .dataframe tbody tr th {\n",
              "        vertical-align: top;\n",
              "    }\n",
              "\n",
              "    .dataframe thead th {\n",
              "        text-align: right;\n",
              "    }\n",
              "</style>\n",
              "<table border=\"1\" class=\"dataframe\">\n",
              "  <thead>\n",
              "    <tr style=\"text-align: right;\">\n",
              "      <th></th>\n",
              "      <th>Date</th>\n",
              "      <th>Pageviews</th>\n",
              "      <th>Clicks</th>\n",
              "      <th>Enrollments</th>\n",
              "      <th>Payments</th>\n",
              "      <th>experiment_type</th>\n",
              "      <th>row_id</th>\n",
              "      <th>Day of Week</th>\n",
              "    </tr>\n",
              "  </thead>\n",
              "  <tbody>\n",
              "    <tr>\n",
              "      <th>0</th>\n",
              "      <td>Sat, Oct 11</td>\n",
              "      <td>7723</td>\n",
              "      <td>687</td>\n",
              "      <td>134.0</td>\n",
              "      <td>70.0</td>\n",
              "      <td>control</td>\n",
              "      <td>0</td>\n",
              "      <td>Sat,</td>\n",
              "    </tr>\n",
              "    <tr>\n",
              "      <th>1</th>\n",
              "      <td>Sun, Oct 12</td>\n",
              "      <td>9102</td>\n",
              "      <td>779</td>\n",
              "      <td>147.0</td>\n",
              "      <td>70.0</td>\n",
              "      <td>control</td>\n",
              "      <td>1</td>\n",
              "      <td>Sun,</td>\n",
              "    </tr>\n",
              "    <tr>\n",
              "      <th>2</th>\n",
              "      <td>Mon, Oct 13</td>\n",
              "      <td>10511</td>\n",
              "      <td>909</td>\n",
              "      <td>167.0</td>\n",
              "      <td>95.0</td>\n",
              "      <td>control</td>\n",
              "      <td>2</td>\n",
              "      <td>Mon,</td>\n",
              "    </tr>\n",
              "    <tr>\n",
              "      <th>3</th>\n",
              "      <td>Tue, Oct 14</td>\n",
              "      <td>9871</td>\n",
              "      <td>836</td>\n",
              "      <td>156.0</td>\n",
              "      <td>105.0</td>\n",
              "      <td>control</td>\n",
              "      <td>3</td>\n",
              "      <td>Tue,</td>\n",
              "    </tr>\n",
              "    <tr>\n",
              "      <th>4</th>\n",
              "      <td>Wed, Oct 15</td>\n",
              "      <td>10014</td>\n",
              "      <td>837</td>\n",
              "      <td>163.0</td>\n",
              "      <td>64.0</td>\n",
              "      <td>control</td>\n",
              "      <td>4</td>\n",
              "      <td>Wed,</td>\n",
              "    </tr>\n",
              "  </tbody>\n",
              "</table>\n",
              "</div>"
            ],
            "text/plain": [
              "          Date  Pageviews  Clicks  ...  experiment_type  row_id Day of Week\n",
              "0  Sat, Oct 11       7723     687  ...          control       0        Sat,\n",
              "1  Sun, Oct 12       9102     779  ...          control       1        Sun,\n",
              "2  Mon, Oct 13      10511     909  ...          control       2        Mon,\n",
              "3  Tue, Oct 14       9871     836  ...          control       3        Tue,\n",
              "4  Wed, Oct 15      10014     837  ...          control       4        Wed,\n",
              "\n",
              "[5 rows x 8 columns]"
            ]
          },
          "metadata": {
            "tags": []
          },
          "execution_count": 11
        }
      ]
    },
    {
      "cell_type": "markdown",
      "metadata": {
        "id": "tjnPusOiesQO",
        "colab_type": "text"
      },
      "source": [
        "**Drop the “Date” column and the “Payments” column**"
      ]
    },
    {
      "cell_type": "code",
      "metadata": {
        "id": "up0pEqPBelar",
        "colab_type": "code",
        "colab": {
          "base_uri": "https://localhost:8080/",
          "height": 215
        },
        "outputId": "ac3fa678-cd55-4a56-88c9-173dae2a6b29"
      },
      "source": [
        "com_data1.drop(['Date', 'Payments'], axis = 1, inplace = True)\n",
        "print(com_data1.shape)\n",
        "com_data1.head()"
      ],
      "execution_count": 12,
      "outputs": [
        {
          "output_type": "stream",
          "text": [
            "(74, 6)\n"
          ],
          "name": "stdout"
        },
        {
          "output_type": "execute_result",
          "data": {
            "text/html": [
              "<div>\n",
              "<style scoped>\n",
              "    .dataframe tbody tr th:only-of-type {\n",
              "        vertical-align: middle;\n",
              "    }\n",
              "\n",
              "    .dataframe tbody tr th {\n",
              "        vertical-align: top;\n",
              "    }\n",
              "\n",
              "    .dataframe thead th {\n",
              "        text-align: right;\n",
              "    }\n",
              "</style>\n",
              "<table border=\"1\" class=\"dataframe\">\n",
              "  <thead>\n",
              "    <tr style=\"text-align: right;\">\n",
              "      <th></th>\n",
              "      <th>Pageviews</th>\n",
              "      <th>Clicks</th>\n",
              "      <th>Enrollments</th>\n",
              "      <th>experiment_type</th>\n",
              "      <th>row_id</th>\n",
              "      <th>Day of Week</th>\n",
              "    </tr>\n",
              "  </thead>\n",
              "  <tbody>\n",
              "    <tr>\n",
              "      <th>0</th>\n",
              "      <td>7723</td>\n",
              "      <td>687</td>\n",
              "      <td>134.0</td>\n",
              "      <td>control</td>\n",
              "      <td>0</td>\n",
              "      <td>Sat,</td>\n",
              "    </tr>\n",
              "    <tr>\n",
              "      <th>1</th>\n",
              "      <td>9102</td>\n",
              "      <td>779</td>\n",
              "      <td>147.0</td>\n",
              "      <td>control</td>\n",
              "      <td>1</td>\n",
              "      <td>Sun,</td>\n",
              "    </tr>\n",
              "    <tr>\n",
              "      <th>2</th>\n",
              "      <td>10511</td>\n",
              "      <td>909</td>\n",
              "      <td>167.0</td>\n",
              "      <td>control</td>\n",
              "      <td>2</td>\n",
              "      <td>Mon,</td>\n",
              "    </tr>\n",
              "    <tr>\n",
              "      <th>3</th>\n",
              "      <td>9871</td>\n",
              "      <td>836</td>\n",
              "      <td>156.0</td>\n",
              "      <td>control</td>\n",
              "      <td>3</td>\n",
              "      <td>Tue,</td>\n",
              "    </tr>\n",
              "    <tr>\n",
              "      <th>4</th>\n",
              "      <td>10014</td>\n",
              "      <td>837</td>\n",
              "      <td>163.0</td>\n",
              "      <td>control</td>\n",
              "      <td>4</td>\n",
              "      <td>Wed,</td>\n",
              "    </tr>\n",
              "  </tbody>\n",
              "</table>\n",
              "</div>"
            ],
            "text/plain": [
              "   Pageviews  Clicks  Enrollments experiment_type  row_id Day of Week\n",
              "0       7723     687        134.0         control       0        Sat,\n",
              "1       9102     779        147.0         control       1        Sun,\n",
              "2      10511     909        167.0         control       2        Mon,\n",
              "3       9871     836        156.0         control       3        Tue,\n",
              "4      10014     837        163.0         control       4        Wed,"
            ]
          },
          "metadata": {
            "tags": []
          },
          "execution_count": 12
        }
      ]
    },
    {
      "cell_type": "markdown",
      "metadata": {
        "id": "MU8PYDnCfDYE",
        "colab_type": "text"
      },
      "source": [
        "**Handle the missing data (NaN) by removing these rows**"
      ]
    },
    {
      "cell_type": "code",
      "metadata": {
        "id": "6qTtjXZWe5Cq",
        "colab_type": "code",
        "colab": {
          "base_uri": "https://localhost:8080/",
          "height": 158
        },
        "outputId": "6cbaac17-47d5-4c89-d212-4ba6a0502612"
      },
      "source": [
        "com_data1.dropna(inplace = True)\n",
        "print(com_data1.shape)\n",
        "com_data1.isnull().sum()"
      ],
      "execution_count": 13,
      "outputs": [
        {
          "output_type": "stream",
          "text": [
            "(46, 6)\n"
          ],
          "name": "stdout"
        },
        {
          "output_type": "execute_result",
          "data": {
            "text/plain": [
              "Pageviews          0\n",
              "Clicks             0\n",
              "Enrollments        0\n",
              "experiment_type    0\n",
              "row_id             0\n",
              "Day of Week        0\n",
              "dtype: int64"
            ]
          },
          "metadata": {
            "tags": []
          },
          "execution_count": 13
        }
      ]
    },
    {
      "cell_type": "markdown",
      "metadata": {
        "id": "n6oZebnIfXD5",
        "colab_type": "text"
      },
      "source": [
        "**Shuffle the rows to mix the data up for machine learning**"
      ]
    },
    {
      "cell_type": "code",
      "metadata": {
        "id": "tY2b6ojcfNTL",
        "colab_type": "code",
        "colab": {
          "base_uri": "https://localhost:8080/",
          "height": 365
        },
        "outputId": "14c37fd8-8550-4ef6-9bd8-e1915cc8971e"
      },
      "source": [
        "com_data1 = shuffle(com_data1).reset_index(drop=True)\n",
        "print(com_data1.shape)\n",
        "com_data1.head(10)"
      ],
      "execution_count": 14,
      "outputs": [
        {
          "output_type": "stream",
          "text": [
            "(46, 6)\n"
          ],
          "name": "stdout"
        },
        {
          "output_type": "execute_result",
          "data": {
            "text/html": [
              "<div>\n",
              "<style scoped>\n",
              "    .dataframe tbody tr th:only-of-type {\n",
              "        vertical-align: middle;\n",
              "    }\n",
              "\n",
              "    .dataframe tbody tr th {\n",
              "        vertical-align: top;\n",
              "    }\n",
              "\n",
              "    .dataframe thead th {\n",
              "        text-align: right;\n",
              "    }\n",
              "</style>\n",
              "<table border=\"1\" class=\"dataframe\">\n",
              "  <thead>\n",
              "    <tr style=\"text-align: right;\">\n",
              "      <th></th>\n",
              "      <th>Pageviews</th>\n",
              "      <th>Clicks</th>\n",
              "      <th>Enrollments</th>\n",
              "      <th>experiment_type</th>\n",
              "      <th>row_id</th>\n",
              "      <th>Day of Week</th>\n",
              "    </tr>\n",
              "  </thead>\n",
              "  <tbody>\n",
              "    <tr>\n",
              "      <th>0</th>\n",
              "      <td>9535</td>\n",
              "      <td>759</td>\n",
              "      <td>233.0</td>\n",
              "      <td>control</td>\n",
              "      <td>16</td>\n",
              "      <td>Mon,</td>\n",
              "    </tr>\n",
              "    <tr>\n",
              "      <th>1</th>\n",
              "      <td>9670</td>\n",
              "      <td>823</td>\n",
              "      <td>138.0</td>\n",
              "      <td>control</td>\n",
              "      <td>5</td>\n",
              "      <td>Thu,</td>\n",
              "    </tr>\n",
              "    <tr>\n",
              "      <th>2</th>\n",
              "      <td>10660</td>\n",
              "      <td>867</td>\n",
              "      <td>196.0</td>\n",
              "      <td>control</td>\n",
              "      <td>10</td>\n",
              "      <td>Tue,</td>\n",
              "    </tr>\n",
              "    <tr>\n",
              "      <th>3</th>\n",
              "      <td>9262</td>\n",
              "      <td>727</td>\n",
              "      <td>201.0</td>\n",
              "      <td>experiment</td>\n",
              "      <td>55</td>\n",
              "      <td>Wed,</td>\n",
              "    </tr>\n",
              "    <tr>\n",
              "      <th>4</th>\n",
              "      <td>8836</td>\n",
              "      <td>693</td>\n",
              "      <td>206.0</td>\n",
              "      <td>control</td>\n",
              "      <td>22</td>\n",
              "      <td>Sun,</td>\n",
              "    </tr>\n",
              "    <tr>\n",
              "      <th>5</th>\n",
              "      <td>9793</td>\n",
              "      <td>832</td>\n",
              "      <td>140.0</td>\n",
              "      <td>experiment</td>\n",
              "      <td>41</td>\n",
              "      <td>Wed,</td>\n",
              "    </tr>\n",
              "    <tr>\n",
              "      <th>6</th>\n",
              "      <td>10511</td>\n",
              "      <td>909</td>\n",
              "      <td>167.0</td>\n",
              "      <td>control</td>\n",
              "      <td>2</td>\n",
              "      <td>Mon,</td>\n",
              "    </tr>\n",
              "    <tr>\n",
              "      <th>7</th>\n",
              "      <td>7664</td>\n",
              "      <td>652</td>\n",
              "      <td>94.0</td>\n",
              "      <td>experiment</td>\n",
              "      <td>44</td>\n",
              "      <td>Sat,</td>\n",
              "    </tr>\n",
              "    <tr>\n",
              "      <th>8</th>\n",
              "      <td>9655</td>\n",
              "      <td>771</td>\n",
              "      <td>213.0</td>\n",
              "      <td>experiment</td>\n",
              "      <td>53</td>\n",
              "      <td>Mon,</td>\n",
              "    </tr>\n",
              "    <tr>\n",
              "      <th>9</th>\n",
              "      <td>8460</td>\n",
              "      <td>681</td>\n",
              "      <td>156.0</td>\n",
              "      <td>control</td>\n",
              "      <td>21</td>\n",
              "      <td>Sat,</td>\n",
              "    </tr>\n",
              "  </tbody>\n",
              "</table>\n",
              "</div>"
            ],
            "text/plain": [
              "   Pageviews  Clicks  Enrollments experiment_type  row_id Day of Week\n",
              "0       9535     759        233.0         control      16        Mon,\n",
              "1       9670     823        138.0         control       5        Thu,\n",
              "2      10660     867        196.0         control      10        Tue,\n",
              "3       9262     727        201.0      experiment      55        Wed,\n",
              "4       8836     693        206.0         control      22        Sun,\n",
              "5       9793     832        140.0      experiment      41        Wed,\n",
              "6      10511     909        167.0         control       2        Mon,\n",
              "7       7664     652         94.0      experiment      44        Sat,\n",
              "8       9655     771        213.0      experiment      53        Mon,\n",
              "9       8460     681        156.0         control      21        Sat,"
            ]
          },
          "metadata": {
            "tags": []
          },
          "execution_count": 14
        }
      ]
    },
    {
      "cell_type": "markdown",
      "metadata": {
        "id": "Xzh1H0gyfzve",
        "colab_type": "text"
      },
      "source": [
        "**HeatMap Correlation**"
      ]
    },
    {
      "cell_type": "code",
      "metadata": {
        "id": "dcXNq1__fhWD",
        "colab_type": "code",
        "colab": {
          "base_uri": "https://localhost:8080/",
          "height": 378
        },
        "outputId": "62fc5d05-5ec1-4c61-b197-65e2f52b5e40"
      },
      "source": [
        "#get correlations of each features in dataset\n",
        "corrmat = com_data1.corr()\n",
        "top_corr_features = corrmat.index\n",
        "plt.figure(figsize=(8,6))\n",
        "#plot heat map\n",
        "sns.heatmap(com_data1[top_corr_features].corr(),annot=True,cmap=\"RdYlGn\");"
      ],
      "execution_count": 15,
      "outputs": [
        {
          "output_type": "display_data",
          "data": {
            "image/png": "[encoded data removed]",
            "text/plain": [
              "<Figure size 576x432 with 2 Axes>"
            ]
          },
          "metadata": {
            "tags": []
          }
        }
      ]
    },
    {
      "cell_type": "markdown",
      "metadata": {
        "id": "5837xG9ZgAUN",
        "colab_type": "text"
      },
      "source": [
        "                              Pageviews and Clicks have some correlation with Enrollments"
      ]
    },
    {
      "cell_type": "code",
      "metadata": {
        "id": "0Ihv3O6vf66u",
        "colab_type": "code",
        "colab": {
          "base_uri": "https://localhost:8080/",
          "height": 105
        },
        "outputId": "37bbf9c5-c922-4d16-93c0-c7e8db330425"
      },
      "source": [
        "com_data1[com_data1.columns[:]].corr()['Enrollments']"
      ],
      "execution_count": 16,
      "outputs": [
        {
          "output_type": "execute_result",
          "data": {
            "text/plain": [
              "Pageviews      0.387528\n",
              "Clicks         0.102987\n",
              "Enrollments    1.000000\n",
              "row_id        -0.040073\n",
              "Name: Enrollments, dtype: float64"
            ]
          },
          "metadata": {
            "tags": []
          },
          "execution_count": 16
        }
      ]
    },
    {
      "cell_type": "code",
      "metadata": {
        "id": "vsxkfhNToV_A",
        "colab_type": "code",
        "colab": {
          "base_uri": "https://localhost:8080/",
          "height": 287
        },
        "outputId": "3eee61cd-ffd3-4f0a-de4e-f3f5200e8a5a"
      },
      "source": [
        "com_data1.describe()"
      ],
      "execution_count": 17,
      "outputs": [
        {
          "output_type": "execute_result",
          "data": {
            "text/html": [
              "<div>\n",
              "<style scoped>\n",
              "    .dataframe tbody tr th:only-of-type {\n",
              "        vertical-align: middle;\n",
              "    }\n",
              "\n",
              "    .dataframe tbody tr th {\n",
              "        vertical-align: top;\n",
              "    }\n",
              "\n",
              "    .dataframe thead th {\n",
              "        text-align: right;\n",
              "    }\n",
              "</style>\n",
              "<table border=\"1\" class=\"dataframe\">\n",
              "  <thead>\n",
              "    <tr style=\"text-align: right;\">\n",
              "      <th></th>\n",
              "      <th>Pageviews</th>\n",
              "      <th>Clicks</th>\n",
              "      <th>Enrollments</th>\n",
              "      <th>row_id</th>\n",
              "    </tr>\n",
              "  </thead>\n",
              "  <tbody>\n",
              "    <tr>\n",
              "      <th>count</th>\n",
              "      <td>46.000000</td>\n",
              "      <td>46.000000</td>\n",
              "      <td>46.000000</td>\n",
              "      <td>46.000000</td>\n",
              "    </tr>\n",
              "    <tr>\n",
              "      <th>mean</th>\n",
              "      <td>9207.065217</td>\n",
              "      <td>751.152174</td>\n",
              "      <td>156.695652</td>\n",
              "      <td>29.500000</td>\n",
              "    </tr>\n",
              "    <tr>\n",
              "      <th>std</th>\n",
              "      <td>817.469684</td>\n",
              "      <td>72.921257</td>\n",
              "      <td>32.289571</td>\n",
              "      <td>19.870414</td>\n",
              "    </tr>\n",
              "    <tr>\n",
              "      <th>min</th>\n",
              "      <td>7434.000000</td>\n",
              "      <td>632.000000</td>\n",
              "      <td>94.000000</td>\n",
              "      <td>0.000000</td>\n",
              "    </tr>\n",
              "    <tr>\n",
              "      <th>25%</th>\n",
              "      <td>8694.000000</td>\n",
              "      <td>693.000000</td>\n",
              "      <td>131.750000</td>\n",
              "      <td>11.250000</td>\n",
              "    </tr>\n",
              "    <tr>\n",
              "      <th>50%</th>\n",
              "      <td>9298.000000</td>\n",
              "      <td>735.000000</td>\n",
              "      <td>153.500000</td>\n",
              "      <td>29.500000</td>\n",
              "    </tr>\n",
              "    <tr>\n",
              "      <th>75%</th>\n",
              "      <td>9720.250000</td>\n",
              "      <td>817.500000</td>\n",
              "      <td>175.500000</td>\n",
              "      <td>47.750000</td>\n",
              "    </tr>\n",
              "    <tr>\n",
              "      <th>max</th>\n",
              "      <td>10667.000000</td>\n",
              "      <td>909.000000</td>\n",
              "      <td>233.000000</td>\n",
              "      <td>59.000000</td>\n",
              "    </tr>\n",
              "  </tbody>\n",
              "</table>\n",
              "</div>"
            ],
            "text/plain": [
              "          Pageviews      Clicks  Enrollments     row_id\n",
              "count     46.000000   46.000000    46.000000  46.000000\n",
              "mean    9207.065217  751.152174   156.695652  29.500000\n",
              "std      817.469684   72.921257    32.289571  19.870414\n",
              "min     7434.000000  632.000000    94.000000   0.000000\n",
              "25%     8694.000000  693.000000   131.750000  11.250000\n",
              "50%     9298.000000  735.000000   153.500000  29.500000\n",
              "75%     9720.250000  817.500000   175.500000  47.750000\n",
              "max    10667.000000  909.000000   233.000000  59.000000"
            ]
          },
          "metadata": {
            "tags": []
          },
          "execution_count": 17
        }
      ]
    },
    {
      "cell_type": "markdown",
      "metadata": {
        "id": "21c9o1snhu2i",
        "colab_type": "text"
      },
      "source": [
        "**Split data into training and target data**"
      ]
    },
    {
      "cell_type": "code",
      "metadata": {
        "id": "uYkMu8aOgG2z",
        "colab_type": "code",
        "colab": {}
      },
      "source": [
        "#row_id column is not useful for prediction\n",
        "X = com_data1.drop(['row_id'], axis = 1) "
      ],
      "execution_count": 0,
      "outputs": []
    },
    {
      "cell_type": "code",
      "metadata": {
        "id": "UaS0Lzllnj6v",
        "colab_type": "code",
        "colab": {
          "base_uri": "https://localhost:8080/",
          "height": 197
        },
        "outputId": "11f9d988-569f-4d16-d1be-e4b44e03aa54"
      },
      "source": [
        "X.head()"
      ],
      "execution_count": 19,
      "outputs": [
        {
          "output_type": "execute_result",
          "data": {
            "text/html": [
              "<div>\n",
              "<style scoped>\n",
              "    .dataframe tbody tr th:only-of-type {\n",
              "        vertical-align: middle;\n",
              "    }\n",
              "\n",
              "    .dataframe tbody tr th {\n",
              "        vertical-align: top;\n",
              "    }\n",
              "\n",
              "    .dataframe thead th {\n",
              "        text-align: right;\n",
              "    }\n",
              "</style>\n",
              "<table border=\"1\" class=\"dataframe\">\n",
              "  <thead>\n",
              "    <tr style=\"text-align: right;\">\n",
              "      <th></th>\n",
              "      <th>Pageviews</th>\n",
              "      <th>Clicks</th>\n",
              "      <th>Enrollments</th>\n",
              "      <th>experiment_type</th>\n",
              "      <th>Day of Week</th>\n",
              "    </tr>\n",
              "  </thead>\n",
              "  <tbody>\n",
              "    <tr>\n",
              "      <th>0</th>\n",
              "      <td>9535</td>\n",
              "      <td>759</td>\n",
              "      <td>233.0</td>\n",
              "      <td>control</td>\n",
              "      <td>Mon,</td>\n",
              "    </tr>\n",
              "    <tr>\n",
              "      <th>1</th>\n",
              "      <td>9670</td>\n",
              "      <td>823</td>\n",
              "      <td>138.0</td>\n",
              "      <td>control</td>\n",
              "      <td>Thu,</td>\n",
              "    </tr>\n",
              "    <tr>\n",
              "      <th>2</th>\n",
              "      <td>10660</td>\n",
              "      <td>867</td>\n",
              "      <td>196.0</td>\n",
              "      <td>control</td>\n",
              "      <td>Tue,</td>\n",
              "    </tr>\n",
              "    <tr>\n",
              "      <th>3</th>\n",
              "      <td>9262</td>\n",
              "      <td>727</td>\n",
              "      <td>201.0</td>\n",
              "      <td>experiment</td>\n",
              "      <td>Wed,</td>\n",
              "    </tr>\n",
              "    <tr>\n",
              "      <th>4</th>\n",
              "      <td>8836</td>\n",
              "      <td>693</td>\n",
              "      <td>206.0</td>\n",
              "      <td>control</td>\n",
              "      <td>Sun,</td>\n",
              "    </tr>\n",
              "  </tbody>\n",
              "</table>\n",
              "</div>"
            ],
            "text/plain": [
              "   Pageviews  Clicks  Enrollments experiment_type Day of Week\n",
              "0       9535     759        233.0         control        Mon,\n",
              "1       9670     823        138.0         control        Thu,\n",
              "2      10660     867        196.0         control        Tue,\n",
              "3       9262     727        201.0      experiment        Wed,\n",
              "4       8836     693        206.0         control        Sun,"
            ]
          },
          "metadata": {
            "tags": []
          },
          "execution_count": 19
        }
      ]
    },
    {
      "cell_type": "markdown",
      "metadata": {
        "id": "FHbCili_tDi3",
        "colab_type": "text"
      },
      "source": [
        "**Encode the categoical variables with one-hot encoding**"
      ]
    },
    {
      "cell_type": "markdown",
      "metadata": {
        "id": "5H32uaBAxkZR",
        "colab_type": "text"
      },
      "source": [
        "* There are only two categorical variables: **\"experiment_type \"** and **\"Day of Week\"**\n",
        "* The cardinality of each is very small: two and seven respectively.\n",
        "*  Both categorical variables are nominal variables, so hot-one encoding is prefer to label encoding."
      ]
    },
    {
      "cell_type": "markdown",
      "metadata": {
        "id": "l3xTf7lSzNL3",
        "colab_type": "text"
      },
      "source": [
        "**Get the list of categorical variables**"
      ]
    },
    {
      "cell_type": "code",
      "metadata": {
        "id": "ux89wrOQqf43",
        "colab_type": "code",
        "colab": {
          "base_uri": "https://localhost:8080/",
          "height": 52
        },
        "outputId": "bd4f65a3-13bf-45f7-8ae4-7ec02c483821"
      },
      "source": [
        "cat_cols = [col for col in X.columns if X[col].dtype == 'object']\n",
        "#cat_cols1 = ['Day of Week']\n",
        "print(\"Categorical variables:\")\n",
        "print(cat_cols)\n",
        "#print(cat_cols1)"
      ],
      "execution_count": 20,
      "outputs": [
        {
          "output_type": "stream",
          "text": [
            "Categorical variables:\n",
            "['experiment_type', 'Day of Week']\n"
          ],
          "name": "stdout"
        }
      ]
    },
    {
      "cell_type": "markdown",
      "metadata": {
        "id": "xpnJ8Kp20bBK",
        "colab_type": "text"
      },
      "source": [
        "**Apply one-hot encoder to each column with categorical data**"
      ]
    },
    {
      "cell_type": "code",
      "metadata": {
        "id": "lIiNStJHzyn2",
        "colab_type": "code",
        "colab": {
          "base_uri": "https://localhost:8080/",
          "height": 197
        },
        "outputId": "74dffa14-886c-4e17-a09a-b7e085463d31"
      },
      "source": [
        "one_hot = OneHotEncoder(handle_unknown = 'ignore', sparse = False)\n",
        "one_hot_cols = pd.DataFrame(one_hot.fit_transform(X[cat_cols]))\n",
        "\n",
        "# One-hot encoding removed index; put it back\n",
        "one_hot_cols.index = X.index\n",
        "\n",
        "# Remove categorical columns (will replace with one-hot encoding)\n",
        "X.drop(cat_cols, axis = 1, inplace = True)\n",
        "X_train = pd.concat([X, one_hot_cols], axis = 1)\n",
        "X_train.head()"
      ],
      "execution_count": 21,
      "outputs": [
        {
          "output_type": "execute_result",
          "data": {
            "text/html": [
              "<div>\n",
              "<style scoped>\n",
              "    .dataframe tbody tr th:only-of-type {\n",
              "        vertical-align: middle;\n",
              "    }\n",
              "\n",
              "    .dataframe tbody tr th {\n",
              "        vertical-align: top;\n",
              "    }\n",
              "\n",
              "    .dataframe thead th {\n",
              "        text-align: right;\n",
              "    }\n",
              "</style>\n",
              "<table border=\"1\" class=\"dataframe\">\n",
              "  <thead>\n",
              "    <tr style=\"text-align: right;\">\n",
              "      <th></th>\n",
              "      <th>Pageviews</th>\n",
              "      <th>Clicks</th>\n",
              "      <th>Enrollments</th>\n",
              "      <th>0</th>\n",
              "      <th>1</th>\n",
              "      <th>2</th>\n",
              "      <th>3</th>\n",
              "      <th>4</th>\n",
              "      <th>5</th>\n",
              "      <th>6</th>\n",
              "      <th>7</th>\n",
              "      <th>8</th>\n",
              "    </tr>\n",
              "  </thead>\n",
              "  <tbody>\n",
              "    <tr>\n",
              "      <th>0</th>\n",
              "      <td>9535</td>\n",
              "      <td>759</td>\n",
              "      <td>233.0</td>\n",
              "      <td>1.0</td>\n",
              "      <td>0.0</td>\n",
              "      <td>0.0</td>\n",
              "      <td>1.0</td>\n",
              "      <td>0.0</td>\n",
              "      <td>0.0</td>\n",
              "      <td>0.0</td>\n",
              "      <td>0.0</td>\n",
              "      <td>0.0</td>\n",
              "    </tr>\n",
              "    <tr>\n",
              "      <th>1</th>\n",
              "      <td>9670</td>\n",
              "      <td>823</td>\n",
              "      <td>138.0</td>\n",
              "      <td>1.0</td>\n",
              "      <td>0.0</td>\n",
              "      <td>0.0</td>\n",
              "      <td>0.0</td>\n",
              "      <td>0.0</td>\n",
              "      <td>0.0</td>\n",
              "      <td>1.0</td>\n",
              "      <td>0.0</td>\n",
              "      <td>0.0</td>\n",
              "    </tr>\n",
              "    <tr>\n",
              "      <th>2</th>\n",
              "      <td>10660</td>\n",
              "      <td>867</td>\n",
              "      <td>196.0</td>\n",
              "      <td>1.0</td>\n",
              "      <td>0.0</td>\n",
              "      <td>0.0</td>\n",
              "      <td>0.0</td>\n",
              "      <td>0.0</td>\n",
              "      <td>0.0</td>\n",
              "      <td>0.0</td>\n",
              "      <td>1.0</td>\n",
              "      <td>0.0</td>\n",
              "    </tr>\n",
              "    <tr>\n",
              "      <th>3</th>\n",
              "      <td>9262</td>\n",
              "      <td>727</td>\n",
              "      <td>201.0</td>\n",
              "      <td>0.0</td>\n",
              "      <td>1.0</td>\n",
              "      <td>0.0</td>\n",
              "      <td>0.0</td>\n",
              "      <td>0.0</td>\n",
              "      <td>0.0</td>\n",
              "      <td>0.0</td>\n",
              "      <td>0.0</td>\n",
              "      <td>1.0</td>\n",
              "    </tr>\n",
              "    <tr>\n",
              "      <th>4</th>\n",
              "      <td>8836</td>\n",
              "      <td>693</td>\n",
              "      <td>206.0</td>\n",
              "      <td>1.0</td>\n",
              "      <td>0.0</td>\n",
              "      <td>0.0</td>\n",
              "      <td>0.0</td>\n",
              "      <td>0.0</td>\n",
              "      <td>1.0</td>\n",
              "      <td>0.0</td>\n",
              "      <td>0.0</td>\n",
              "      <td>0.0</td>\n",
              "    </tr>\n",
              "  </tbody>\n",
              "</table>\n",
              "</div>"
            ],
            "text/plain": [
              "   Pageviews  Clicks  Enrollments    0    1    2    3    4    5    6    7    8\n",
              "0       9535     759        233.0  1.0  0.0  0.0  1.0  0.0  0.0  0.0  0.0  0.0\n",
              "1       9670     823        138.0  1.0  0.0  0.0  0.0  0.0  0.0  1.0  0.0  0.0\n",
              "2      10660     867        196.0  1.0  0.0  0.0  0.0  0.0  0.0  0.0  1.0  0.0\n",
              "3       9262     727        201.0  0.0  1.0  0.0  0.0  0.0  0.0  0.0  0.0  1.0\n",
              "4       8836     693        206.0  1.0  0.0  0.0  0.0  0.0  1.0  0.0  0.0  0.0"
            ]
          },
          "metadata": {
            "tags": []
          },
          "execution_count": 21
        }
      ]
    },
    {
      "cell_type": "code",
      "metadata": {
        "id": "UrdVs1qcDBAK",
        "colab_type": "code",
        "colab": {}
      },
      "source": [
        "seed = 42\n",
        "#X_train = shuffle(X_train, random_state=seed)"
      ],
      "execution_count": 0,
      "outputs": []
    },
    {
      "cell_type": "code",
      "metadata": {
        "id": "ztNIQppCDFfK",
        "colab_type": "code",
        "colab": {
          "base_uri": "https://localhost:8080/",
          "height": 197
        },
        "outputId": "62b30ceb-e156-4d64-a6b3-0039f8643b79"
      },
      "source": [
        "X_train.head()"
      ],
      "execution_count": 23,
      "outputs": [
        {
          "output_type": "execute_result",
          "data": {
            "text/html": [
              "<div>\n",
              "<style scoped>\n",
              "    .dataframe tbody tr th:only-of-type {\n",
              "        vertical-align: middle;\n",
              "    }\n",
              "\n",
              "    .dataframe tbody tr th {\n",
              "        vertical-align: top;\n",
              "    }\n",
              "\n",
              "    .dataframe thead th {\n",
              "        text-align: right;\n",
              "    }\n",
              "</style>\n",
              "<table border=\"1\" class=\"dataframe\">\n",
              "  <thead>\n",
              "    <tr style=\"text-align: right;\">\n",
              "      <th></th>\n",
              "      <th>Pageviews</th>\n",
              "      <th>Clicks</th>\n",
              "      <th>Enrollments</th>\n",
              "      <th>0</th>\n",
              "      <th>1</th>\n",
              "      <th>2</th>\n",
              "      <th>3</th>\n",
              "      <th>4</th>\n",
              "      <th>5</th>\n",
              "      <th>6</th>\n",
              "      <th>7</th>\n",
              "      <th>8</th>\n",
              "    </tr>\n",
              "  </thead>\n",
              "  <tbody>\n",
              "    <tr>\n",
              "      <th>0</th>\n",
              "      <td>9535</td>\n",
              "      <td>759</td>\n",
              "      <td>233.0</td>\n",
              "      <td>1.0</td>\n",
              "      <td>0.0</td>\n",
              "      <td>0.0</td>\n",
              "      <td>1.0</td>\n",
              "      <td>0.0</td>\n",
              "      <td>0.0</td>\n",
              "      <td>0.0</td>\n",
              "      <td>0.0</td>\n",
              "      <td>0.0</td>\n",
              "    </tr>\n",
              "    <tr>\n",
              "      <th>1</th>\n",
              "      <td>9670</td>\n",
              "      <td>823</td>\n",
              "      <td>138.0</td>\n",
              "      <td>1.0</td>\n",
              "      <td>0.0</td>\n",
              "      <td>0.0</td>\n",
              "      <td>0.0</td>\n",
              "      <td>0.0</td>\n",
              "      <td>0.0</td>\n",
              "      <td>1.0</td>\n",
              "      <td>0.0</td>\n",
              "      <td>0.0</td>\n",
              "    </tr>\n",
              "    <tr>\n",
              "      <th>2</th>\n",
              "      <td>10660</td>\n",
              "      <td>867</td>\n",
              "      <td>196.0</td>\n",
              "      <td>1.0</td>\n",
              "      <td>0.0</td>\n",
              "      <td>0.0</td>\n",
              "      <td>0.0</td>\n",
              "      <td>0.0</td>\n",
              "      <td>0.0</td>\n",
              "      <td>0.0</td>\n",
              "      <td>1.0</td>\n",
              "      <td>0.0</td>\n",
              "    </tr>\n",
              "    <tr>\n",
              "      <th>3</th>\n",
              "      <td>9262</td>\n",
              "      <td>727</td>\n",
              "      <td>201.0</td>\n",
              "      <td>0.0</td>\n",
              "      <td>1.0</td>\n",
              "      <td>0.0</td>\n",
              "      <td>0.0</td>\n",
              "      <td>0.0</td>\n",
              "      <td>0.0</td>\n",
              "      <td>0.0</td>\n",
              "      <td>0.0</td>\n",
              "      <td>1.0</td>\n",
              "    </tr>\n",
              "    <tr>\n",
              "      <th>4</th>\n",
              "      <td>8836</td>\n",
              "      <td>693</td>\n",
              "      <td>206.0</td>\n",
              "      <td>1.0</td>\n",
              "      <td>0.0</td>\n",
              "      <td>0.0</td>\n",
              "      <td>0.0</td>\n",
              "      <td>0.0</td>\n",
              "      <td>1.0</td>\n",
              "      <td>0.0</td>\n",
              "      <td>0.0</td>\n",
              "      <td>0.0</td>\n",
              "    </tr>\n",
              "  </tbody>\n",
              "</table>\n",
              "</div>"
            ],
            "text/plain": [
              "   Pageviews  Clicks  Enrollments    0    1    2    3    4    5    6    7    8\n",
              "0       9535     759        233.0  1.0  0.0  0.0  1.0  0.0  0.0  0.0  0.0  0.0\n",
              "1       9670     823        138.0  1.0  0.0  0.0  0.0  0.0  0.0  1.0  0.0  0.0\n",
              "2      10660     867        196.0  1.0  0.0  0.0  0.0  0.0  0.0  0.0  1.0  0.0\n",
              "3       9262     727        201.0  0.0  1.0  0.0  0.0  0.0  0.0  0.0  0.0  1.0\n",
              "4       8836     693        206.0  1.0  0.0  0.0  0.0  0.0  1.0  0.0  0.0  0.0"
            ]
          },
          "metadata": {
            "tags": []
          },
          "execution_count": 23
        }
      ]
    },
    {
      "cell_type": "markdown",
      "metadata": {
        "id": "PuD7UrCjFyii",
        "colab_type": "text"
      },
      "source": [
        "**Write a function that return Mean Absolute Error**"
      ]
    },
    {
      "cell_type": "code",
      "metadata": {
        "id": "T6j7CCzvFxnH",
        "colab_type": "code",
        "colab": {}
      },
      "source": [
        "def get_score(model, X_train, y_train):\n",
        "  scores = -1 * cross_val_score(model, X_train, y_train, cv=5)\n",
        "  print(scores)\n",
        "  print()\n",
        "  print(\"Average MAE score (across experiments) for this model:\\n\", scores.mean())\n",
        "  "
      ],
      "execution_count": 0,
      "outputs": []
    },
    {
      "cell_type": "markdown",
      "metadata": {
        "id": "ca5FSaNWxkAh",
        "colab_type": "text"
      },
      "source": [
        "**Get the MAE for Linear Regression**"
      ]
    },
    {
      "cell_type": "code",
      "metadata": {
        "id": "O8S8Pm1puSVW",
        "colab_type": "code",
        "colab": {
          "base_uri": "https://localhost:8080/",
          "height": 87
        },
        "outputId": "8972ccb7-4ea8-4e8d-8c2d-ac3b05fa049b"
      },
      "source": [
        "get_score(LinearRegression(), X_train.drop(['Enrollments', 'Clicks'], axis = 1), X_train['Enrollments'])"
      ],
      "execution_count": 25,
      "outputs": [
        {
          "output_type": "stream",
          "text": [
            "[ 0.47149031  0.69110653 -0.53892287  3.18492087 -0.28189369]\n",
            "\n",
            "Average MAE score (across experiments) for this model:\n",
            " 0.7053402310179788\n"
          ],
          "name": "stdout"
        }
      ]
    },
    {
      "cell_type": "markdown",
      "metadata": {
        "id": "wZEzMKSvx628",
        "colab_type": "text"
      },
      "source": [
        "**Get the MAE for Decision Tree Regressor**"
      ]
    },
    {
      "cell_type": "code",
      "metadata": {
        "id": "z5G9BAo_xRPc",
        "colab_type": "code",
        "colab": {
          "base_uri": "https://localhost:8080/",
          "height": 87
        },
        "outputId": "29170332-5263-4b50-f01d-008ca88b9c81"
      },
      "source": [
        "get_score(DecisionTreeRegressor(), X_train.drop(['Enrollments', 'Clicks'], axis = 1), X_train['Enrollments'])"
      ],
      "execution_count": 26,
      "outputs": [
        {
          "output_type": "stream",
          "text": [
            "[ 0.39639421  1.25912067 -0.40850364  1.70048215  0.55242047]\n",
            "\n",
            "Average MAE score (across experiments) for this model:\n",
            " 0.6999827721635812\n"
          ],
          "name": "stdout"
        }
      ]
    },
    {
      "cell_type": "markdown",
      "metadata": {
        "id": "en_Rq55EyNae",
        "colab_type": "text"
      },
      "source": [
        "**Get the MAE for XGBoost Classifer**"
      ]
    },
    {
      "cell_type": "code",
      "metadata": {
        "id": "VW7bOK5zfZlL",
        "colab_type": "code",
        "colab": {}
      },
      "source": [
        "import xgboost as xgb\n",
        "\n",
        "data_dmatrix = xgb.DMatrix(data=X_train.drop(['Enrollments', 'Clicks'], axis = 1), label=X_train['Enrollments'])\n",
        "params = {\"objective\":\"reg:squarederror\",'colsample_bytree': 0.3,'learning_rate': 0.1,'max_depth': 5, 'alpha': 10}\n",
        "\n",
        "cv_results = xgb.cv(dtrain=data_dmatrix, params=params, nfold=5,\n",
        "                    num_boost_round=50,early_stopping_rounds=5,metrics=\"mae\", as_pandas=True, seed=123)"
      ],
      "execution_count": 0,
      "outputs": []
    },
    {
      "cell_type": "markdown",
      "metadata": {
        "id": "eboHM0sw-NnM",
        "colab_type": "text"
      },
      "source": [
        "**cv_results contains train and test RMSE metrics for each boosting round.**"
      ]
    },
    {
      "cell_type": "code",
      "metadata": {
        "id": "f8dIgw26fdH5",
        "colab_type": "code",
        "colab": {
          "base_uri": "https://localhost:8080/",
          "height": 197
        },
        "outputId": "149bbdaf-a687-4dda-e965-d7cfed070306"
      },
      "source": [
        "cv_results.head()"
      ],
      "execution_count": 52,
      "outputs": [
        {
          "output_type": "execute_result",
          "data": {
            "text/html": [
              "<div>\n",
              "<style scoped>\n",
              "    .dataframe tbody tr th:only-of-type {\n",
              "        vertical-align: middle;\n",
              "    }\n",
              "\n",
              "    .dataframe tbody tr th {\n",
              "        vertical-align: top;\n",
              "    }\n",
              "\n",
              "    .dataframe thead th {\n",
              "        text-align: right;\n",
              "    }\n",
              "</style>\n",
              "<table border=\"1\" class=\"dataframe\">\n",
              "  <thead>\n",
              "    <tr style=\"text-align: right;\">\n",
              "      <th></th>\n",
              "      <th>train-mae-mean</th>\n",
              "      <th>train-mae-std</th>\n",
              "      <th>test-mae-mean</th>\n",
              "      <th>test-mae-std</th>\n",
              "    </tr>\n",
              "  </thead>\n",
              "  <tbody>\n",
              "    <tr>\n",
              "      <th>0</th>\n",
              "      <td>141.019198</td>\n",
              "      <td>2.025823</td>\n",
              "      <td>141.070914</td>\n",
              "      <td>9.420555</td>\n",
              "    </tr>\n",
              "    <tr>\n",
              "      <th>1</th>\n",
              "      <td>127.449445</td>\n",
              "      <td>1.918201</td>\n",
              "      <td>127.382872</td>\n",
              "      <td>9.792440</td>\n",
              "    </tr>\n",
              "    <tr>\n",
              "      <th>2</th>\n",
              "      <td>115.120181</td>\n",
              "      <td>1.819767</td>\n",
              "      <td>115.218497</td>\n",
              "      <td>9.603141</td>\n",
              "    </tr>\n",
              "    <tr>\n",
              "      <th>3</th>\n",
              "      <td>103.939212</td>\n",
              "      <td>1.643172</td>\n",
              "      <td>104.037526</td>\n",
              "      <td>9.779716</td>\n",
              "    </tr>\n",
              "    <tr>\n",
              "      <th>4</th>\n",
              "      <td>93.846759</td>\n",
              "      <td>1.483737</td>\n",
              "      <td>93.945074</td>\n",
              "      <td>9.939160</td>\n",
              "    </tr>\n",
              "  </tbody>\n",
              "</table>\n",
              "</div>"
            ],
            "text/plain": [
              "   train-mae-mean  train-mae-std  test-mae-mean  test-mae-std\n",
              "0      141.019198       2.025823     141.070914      9.420555\n",
              "1      127.449445       1.918201     127.382872      9.792440\n",
              "2      115.120181       1.819767     115.218497      9.603141\n",
              "3      103.939212       1.643172     104.037526      9.779716\n",
              "4       93.846759       1.483737      93.945074      9.939160"
            ]
          },
          "metadata": {
            "tags": []
          },
          "execution_count": 52
        }
      ]
    },
    {
      "cell_type": "markdown",
      "metadata": {
        "id": "sFMVDukB9hCQ",
        "colab_type": "text"
      },
      "source": [
        "**Extract and print the final boosting round metric.**"
      ]
    },
    {
      "cell_type": "code",
      "metadata": {
        "id": "obZk2yFj9NlE",
        "colab_type": "code",
        "colab": {
          "base_uri": "https://localhost:8080/",
          "height": 52
        },
        "outputId": "30bad287-b0df-4992-da46-3020ce48fa91"
      },
      "source": [
        "print((cv_results[\"test-mae-mean\"]).tail(1))"
      ],
      "execution_count": 53,
      "outputs": [
        {
          "output_type": "stream",
          "text": [
            "33    24.417876\n",
            "Name: test-mae-mean, dtype: float64\n"
          ],
          "name": "stdout"
        }
      ]
    },
    {
      "cell_type": "markdown",
      "metadata": {
        "id": "pku3nedcsUEz",
        "colab_type": "text"
      },
      "source": [
        "**Visualize Boosting Trees**"
      ]
    },
    {
      "cell_type": "code",
      "metadata": {
        "id": "bBSo8NkX9brN",
        "colab_type": "code",
        "colab": {
          "base_uri": "https://localhost:8080/",
          "height": 205
        },
        "outputId": "881b17f2-affa-49b9-8b3d-56913f86c05e"
      },
      "source": [
        "xg_reg = xgb.train(params=params, dtrain=data_dmatrix, num_boost_round=10)\n",
        "xgb.plot_tree(xg_reg,num_trees=0)\n",
        "plt.rcParams['figure.figsize'] = [10, 10]\n",
        "plt.show()"
      ],
      "execution_count": 54,
      "outputs": [
        {
          "output_type": "display_data",
          "data": {
            "image/png": "[encoded data removed]",
            "text/plain": [
              "<Figure size 720x720 with 1 Axes>"
            ]
          },
          "metadata": {
            "tags": []
          }
        }
      ]
    },
    {
      "cell_type": "code",
      "metadata": {
        "id": "01c6z_Ktszez",
        "colab_type": "code",
        "colab": {
          "base_uri": "https://localhost:8080/",
          "height": 350
        },
        "outputId": "279c4b3c-91d9-4ada-f8a7-8edcf3519312"
      },
      "source": [
        "xgb.plot_importance(xg_reg)\n",
        "#plt.rcParams['figure.figsize'] = [5, 5]\n",
        "plt.show()"
      ],
      "execution_count": 60,
      "outputs": [
        {
          "output_type": "display_data",
          "data": {
            "image/png": "[encoded data removed]",
            "text/plain": [
              "<Figure size 360x360 with 1 Axes>"
            ]
          },
          "metadata": {
            "tags": []
          }
        }
      ]
    },
    {
      "cell_type": "markdown",
      "metadata": {
        "id": "JMdhvW-LCPpV",
        "colab_type": "text"
      },
      "source": [
        "          Pageviews feature is about the most important feature in the XGBoost model."
      ]
    },
    {
      "cell_type": "code",
      "metadata": {
        "id": "Lc_1a-pX96Xt",
        "colab_type": "code",
        "colab": {}
      },
      "source": [
        ""
      ],
      "execution_count": 0,
      "outputs": []
    }
  ]
}